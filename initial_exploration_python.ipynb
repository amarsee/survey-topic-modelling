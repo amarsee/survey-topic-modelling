{
 "cells": [
  {
   "cell_type": "markdown",
   "metadata": {
    "slideshow": {
     "slide_type": "slide"
    }
   },
   "source": [
    "# NLP on the Teacher Educator Survey\n",
    "Goals: <br/>\n",
    "- What are people talking about?\n",
    "    - Topic model\n",
    "- Are there any differences between comments by teachers and admin?\n",
    "- What is the overall sentiment of the comments?\n",
    "    - Does it differ by topic?\n",
    "- Is there a correlation with other survey answers?\n"
   ]
  },
  {
   "cell_type": "markdown",
   "metadata": {
    "slideshow": {
     "slide_type": "slide"
    }
   },
   "source": [
    "## Preliminary Findings"
   ]
  },
  {
   "cell_type": "code",
   "execution_count": 1,
   "metadata": {
    "slideshow": {
     "slide_type": "skip"
    }
   },
   "outputs": [],
   "source": [
    "import pandas as pd\n",
    "import numpy as np\n",
    "import matplotlib.pyplot as plt\n",
    "\n",
    "%matplotlib inline "
   ]
  },
  {
   "cell_type": "code",
   "execution_count": 2,
   "metadata": {
    "slideshow": {
     "slide_type": "skip"
    }
   },
   "outputs": [],
   "source": [
    "import warnings\n",
    "warnings.filterwarnings(\"ignore\",category=DeprecationWarning)\n",
    "warnings.filterwarnings(action='once')\n"
   ]
  },
  {
   "cell_type": "markdown",
   "metadata": {
    "slideshow": {
     "slide_type": "slide"
    }
   },
   "source": [
    "## Importing Survey Data"
   ]
  },
  {
   "cell_type": "code",
   "execution_count": 3,
   "metadata": {
    "slideshow": {
     "slide_type": "subslide"
    }
   },
   "outputs": [],
   "source": [
    "clean_survey_data = pd.read_stata('N:/Research and Policy/ORP_Data/Surveys/TES/Cleaned_Files/2018/2018TNEdSurveyResultsFile_7.7.18_NoDeIdentTchNum_Weights.dta')\n"
   ]
  },
  {
   "cell_type": "code",
   "execution_count": 4,
   "metadata": {
    "slideshow": {
     "slide_type": "subslide"
    }
   },
   "outputs": [
    {
     "data": {
      "text/html": [
       "<div>\n",
       "<style scoped>\n",
       "    .dataframe tbody tr th:only-of-type {\n",
       "        vertical-align: middle;\n",
       "    }\n",
       "\n",
       "    .dataframe tbody tr th {\n",
       "        vertical-align: top;\n",
       "    }\n",
       "\n",
       "    .dataframe thead th {\n",
       "        text-align: right;\n",
       "    }\n",
       "</style>\n",
       "<table border=\"1\" class=\"dataframe\">\n",
       "  <thead>\n",
       "    <tr style=\"text-align: right;\">\n",
       "      <th></th>\n",
       "      <th>tchlic</th>\n",
       "      <th>Email</th>\n",
       "      <th>sch_id</th>\n",
       "      <th>district_no</th>\n",
       "      <th>school_no</th>\n",
       "      <th>district_name</th>\n",
       "      <th>school_name</th>\n",
       "      <th>LastName</th>\n",
       "      <th>FirstName</th>\n",
       "      <th>MiddleName</th>\n",
       "      <th>...</th>\n",
       "      <th>ADM_AM_T_FINWT51</th>\n",
       "      <th>ADM_AM_T_FINWT52</th>\n",
       "      <th>ADM_AM_T_FINWT53</th>\n",
       "      <th>ADM_AM_T_FINWT54</th>\n",
       "      <th>ADM_AM_T_FINWT55</th>\n",
       "      <th>ADM_AM_T_FINWT56</th>\n",
       "      <th>ADM_AM_T_FINWT57</th>\n",
       "      <th>ADM_AM_T_FINWT58</th>\n",
       "      <th>ADM_AM_T_FINWT59</th>\n",
       "      <th>ADM_AM_T_FINWT60</th>\n",
       "    </tr>\n",
       "  </thead>\n",
       "  <tbody>\n",
       "    <tr>\n",
       "      <th>0</th>\n",
       "      <td>17364</td>\n",
       "      <td>tom.zachary@claibornecsd.org</td>\n",
       "      <td>91300035</td>\n",
       "      <td>130</td>\n",
       "      <td>35</td>\n",
       "      <td>Claiborne County</td>\n",
       "      <td>Clairfield Elementary</td>\n",
       "      <td>ZACHARY</td>\n",
       "      <td>THOMAS</td>\n",
       "      <td></td>\n",
       "      <td>...</td>\n",
       "      <td>NaN</td>\n",
       "      <td>NaN</td>\n",
       "      <td>NaN</td>\n",
       "      <td>NaN</td>\n",
       "      <td>NaN</td>\n",
       "      <td>NaN</td>\n",
       "      <td>NaN</td>\n",
       "      <td>NaN</td>\n",
       "      <td>NaN</td>\n",
       "      <td>NaN</td>\n",
       "    </tr>\n",
       "    <tr>\n",
       "      <th>1</th>\n",
       "      <td>17522</td>\n",
       "      <td>mmorrow@mauryk12.org</td>\n",
       "      <td>96000030</td>\n",
       "      <td>600</td>\n",
       "      <td>30</td>\n",
       "      <td>Maury County</td>\n",
       "      <td>Culleoka Unit School</td>\n",
       "      <td>MORROW</td>\n",
       "      <td>MARY</td>\n",
       "      <td></td>\n",
       "      <td>...</td>\n",
       "      <td>NaN</td>\n",
       "      <td>NaN</td>\n",
       "      <td>NaN</td>\n",
       "      <td>NaN</td>\n",
       "      <td>NaN</td>\n",
       "      <td>NaN</td>\n",
       "      <td>NaN</td>\n",
       "      <td>NaN</td>\n",
       "      <td>NaN</td>\n",
       "      <td>NaN</td>\n",
       "    </tr>\n",
       "    <tr>\n",
       "      <th>2</th>\n",
       "      <td>18016</td>\n",
       "      <td>wrightj@wcde.org</td>\n",
       "      <td>99000115</td>\n",
       "      <td>900</td>\n",
       "      <td>115</td>\n",
       "      <td>Washington County</td>\n",
       "      <td>Tennessee Virtual Learning Academy</td>\n",
       "      <td>WRIGHT</td>\n",
       "      <td>JANE</td>\n",
       "      <td>G</td>\n",
       "      <td>...</td>\n",
       "      <td>NaN</td>\n",
       "      <td>NaN</td>\n",
       "      <td>NaN</td>\n",
       "      <td>NaN</td>\n",
       "      <td>NaN</td>\n",
       "      <td>NaN</td>\n",
       "      <td>NaN</td>\n",
       "      <td>NaN</td>\n",
       "      <td>NaN</td>\n",
       "      <td>NaN</td>\n",
       "    </tr>\n",
       "    <tr>\n",
       "      <th>3</th>\n",
       "      <td>20735</td>\n",
       "      <td>eleanorsatterfield@tcschools.org</td>\n",
       "      <td>98500015</td>\n",
       "      <td>850</td>\n",
       "      <td>15</td>\n",
       "      <td>Trousdale County</td>\n",
       "      <td>Jim Satterfield Middle School</td>\n",
       "      <td>SATTERFIELD</td>\n",
       "      <td>ELEANOR</td>\n",
       "      <td>W</td>\n",
       "      <td>...</td>\n",
       "      <td>NaN</td>\n",
       "      <td>NaN</td>\n",
       "      <td>NaN</td>\n",
       "      <td>NaN</td>\n",
       "      <td>NaN</td>\n",
       "      <td>NaN</td>\n",
       "      <td>NaN</td>\n",
       "      <td>NaN</td>\n",
       "      <td>NaN</td>\n",
       "      <td>NaN</td>\n",
       "    </tr>\n",
       "    <tr>\n",
       "      <th>4</th>\n",
       "      <td>32910</td>\n",
       "      <td>glenda.akin@sumnerschools.org</td>\n",
       "      <td>98300120</td>\n",
       "      <td>830</td>\n",
       "      <td>120</td>\n",
       "      <td>Sumner County</td>\n",
       "      <td>Westmoreland High School</td>\n",
       "      <td>AKIN</td>\n",
       "      <td>GLENDA</td>\n",
       "      <td>J</td>\n",
       "      <td>...</td>\n",
       "      <td>NaN</td>\n",
       "      <td>NaN</td>\n",
       "      <td>NaN</td>\n",
       "      <td>NaN</td>\n",
       "      <td>NaN</td>\n",
       "      <td>NaN</td>\n",
       "      <td>NaN</td>\n",
       "      <td>NaN</td>\n",
       "      <td>NaN</td>\n",
       "      <td>NaN</td>\n",
       "    </tr>\n",
       "  </tbody>\n",
       "</table>\n",
       "<p>5 rows × 1495 columns</p>\n",
       "</div>"
      ],
      "text/plain": [
       "   tchlic                             Email    sch_id  district_no  school_no  \\\n",
       "0   17364      tom.zachary@claibornecsd.org  91300035          130         35   \n",
       "1   17522              mmorrow@mauryk12.org  96000030          600         30   \n",
       "2   18016                  wrightj@wcde.org  99000115          900        115   \n",
       "3   20735  eleanorsatterfield@tcschools.org  98500015          850         15   \n",
       "4   32910     glenda.akin@sumnerschools.org  98300120          830        120   \n",
       "\n",
       "       district_name                         school_name     LastName  \\\n",
       "0   Claiborne County               Clairfield Elementary      ZACHARY   \n",
       "1       Maury County                Culleoka Unit School       MORROW   \n",
       "2  Washington County  Tennessee Virtual Learning Academy       WRIGHT   \n",
       "3   Trousdale County       Jim Satterfield Middle School  SATTERFIELD   \n",
       "4      Sumner County            Westmoreland High School         AKIN   \n",
       "\n",
       "  FirstName MiddleName        ...        ADM_AM_T_FINWT51  ADM_AM_T_FINWT52  \\\n",
       "0    THOMAS                   ...                     NaN               NaN   \n",
       "1      MARY                   ...                     NaN               NaN   \n",
       "2      JANE          G        ...                     NaN               NaN   \n",
       "3   ELEANOR          W        ...                     NaN               NaN   \n",
       "4    GLENDA          J        ...                     NaN               NaN   \n",
       "\n",
       "  ADM_AM_T_FINWT53  ADM_AM_T_FINWT54 ADM_AM_T_FINWT55  ADM_AM_T_FINWT56  \\\n",
       "0              NaN               NaN              NaN               NaN   \n",
       "1              NaN               NaN              NaN               NaN   \n",
       "2              NaN               NaN              NaN               NaN   \n",
       "3              NaN               NaN              NaN               NaN   \n",
       "4              NaN               NaN              NaN               NaN   \n",
       "\n",
       "   ADM_AM_T_FINWT57 ADM_AM_T_FINWT58  ADM_AM_T_FINWT59  ADM_AM_T_FINWT60  \n",
       "0               NaN              NaN               NaN               NaN  \n",
       "1               NaN              NaN               NaN               NaN  \n",
       "2               NaN              NaN               NaN               NaN  \n",
       "3               NaN              NaN               NaN               NaN  \n",
       "4               NaN              NaN               NaN               NaN  \n",
       "\n",
       "[5 rows x 1495 columns]"
      ]
     },
     "execution_count": 4,
     "metadata": {},
     "output_type": "execute_result"
    }
   ],
   "source": [
    "clean_survey_data.head()"
   ]
  },
  {
   "cell_type": "code",
   "execution_count": 5,
   "metadata": {
    "slideshow": {
     "slide_type": "skip"
    }
   },
   "outputs": [
    {
     "data": {
      "text/plain": [
       "Index(['tchlic', 'Email', 'sch_id', 'district_no', 'school_no',\n",
       "       'district_name', 'school_name', 'LastName', 'FirstName', 'MiddleName',\n",
       "       ...\n",
       "       'ADM_AM_T_FINWT51', 'ADM_AM_T_FINWT52', 'ADM_AM_T_FINWT53',\n",
       "       'ADM_AM_T_FINWT54', 'ADM_AM_T_FINWT55', 'ADM_AM_T_FINWT56',\n",
       "       'ADM_AM_T_FINWT57', 'ADM_AM_T_FINWT58', 'ADM_AM_T_FINWT59',\n",
       "       'ADM_AM_T_FINWT60'],\n",
       "      dtype='object', length=1495)"
      ]
     },
     "execution_count": 5,
     "metadata": {},
     "output_type": "execute_result"
    }
   ],
   "source": [
    "clean_survey_data.columns"
   ]
  },
  {
   "cell_type": "markdown",
   "metadata": {
    "slideshow": {
     "slide_type": "slide"
    }
   },
   "source": [
    "## Selecting Columns to keep"
   ]
  },
  {
   "cell_type": "code",
   "execution_count": 6,
   "metadata": {
    "slideshow": {
     "slide_type": "subslide"
    }
   },
   "outputs": [],
   "source": [
    "cols_to_keep = ['tchlic', 'district_no', 'district_name', 'school_no', 'school_name','Gender', 'YrsExpr18', 'EdLevel18', \n",
    "                'Role_Compass', 'bestguess_tch', 'bestguess_admin', 'IPI_Sch', 'Tier_Sch', 'StartTime', \n",
    "                'EndTime', 'Responded', 'Q13']"
   ]
  },
  {
   "cell_type": "code",
   "execution_count": 7,
   "metadata": {
    "slideshow": {
     "slide_type": "skip"
    }
   },
   "outputs": [],
   "source": [
    "df_selected_columns = clean_survey_data.loc[:,cols_to_keep]"
   ]
  },
  {
   "cell_type": "code",
   "execution_count": 8,
   "metadata": {
    "slideshow": {
     "slide_type": "subslide"
    }
   },
   "outputs": [
    {
     "name": "stdout",
     "output_type": "stream",
     "text": [
      "<class 'pandas.core.frame.DataFrame'>\n",
      "Int64Index: 71636 entries, 0 to 71635\n",
      "Data columns (total 17 columns):\n",
      "tchlic             71636 non-null int32\n",
      "district_no        71636 non-null int16\n",
      "district_name      71636 non-null object\n",
      "school_no          71636 non-null int16\n",
      "school_name        71636 non-null object\n",
      "Gender             71636 non-null object\n",
      "YrsExpr18          70664 non-null float64\n",
      "EdLevel18          71636 non-null object\n",
      "Role_Compass       71636 non-null object\n",
      "bestguess_tch      71636 non-null int8\n",
      "bestguess_admin    71636 non-null int8\n",
      "IPI_Sch            71636 non-null int8\n",
      "Tier_Sch           71636 non-null category\n",
      "StartTime          40876 non-null datetime64[ns]\n",
      "EndTime            40876 non-null datetime64[ns]\n",
      "Responded          71636 non-null int8\n",
      "Q13                71636 non-null object\n",
      "dtypes: category(1), datetime64[ns](2), float64(1), int16(2), int32(1), int8(4), object(6)\n",
      "memory usage: 6.4+ MB\n"
     ]
    }
   ],
   "source": [
    "df_selected_columns.info()"
   ]
  },
  {
   "cell_type": "code",
   "execution_count": 9,
   "metadata": {
    "scrolled": true,
    "slideshow": {
     "slide_type": "skip"
    }
   },
   "outputs": [
    {
     "data": {
      "text/html": [
       "<div>\n",
       "<style scoped>\n",
       "    .dataframe tbody tr th:only-of-type {\n",
       "        vertical-align: middle;\n",
       "    }\n",
       "\n",
       "    .dataframe tbody tr th {\n",
       "        vertical-align: top;\n",
       "    }\n",
       "\n",
       "    .dataframe thead th {\n",
       "        text-align: right;\n",
       "    }\n",
       "</style>\n",
       "<table border=\"1\" class=\"dataframe\">\n",
       "  <thead>\n",
       "    <tr style=\"text-align: right;\">\n",
       "      <th></th>\n",
       "      <th>tchlic</th>\n",
       "      <th>district_no</th>\n",
       "      <th>district_name</th>\n",
       "      <th>school_no</th>\n",
       "      <th>school_name</th>\n",
       "      <th>Gender</th>\n",
       "      <th>YrsExpr18</th>\n",
       "      <th>EdLevel18</th>\n",
       "      <th>Role_Compass</th>\n",
       "      <th>bestguess_tch</th>\n",
       "      <th>bestguess_admin</th>\n",
       "      <th>IPI_Sch</th>\n",
       "      <th>Tier_Sch</th>\n",
       "      <th>StartTime</th>\n",
       "      <th>EndTime</th>\n",
       "      <th>Responded</th>\n",
       "      <th>Q13</th>\n",
       "    </tr>\n",
       "  </thead>\n",
       "  <tbody>\n",
       "    <tr>\n",
       "      <th>0</th>\n",
       "      <td>17364</td>\n",
       "      <td>130</td>\n",
       "      <td>Claiborne County</td>\n",
       "      <td>35</td>\n",
       "      <td>Clairfield Elementary</td>\n",
       "      <td>M</td>\n",
       "      <td>31.0</td>\n",
       "      <td>MA+</td>\n",
       "      <td>Principal</td>\n",
       "      <td>0</td>\n",
       "      <td>1</td>\n",
       "      <td>0</td>\n",
       "      <td>K-8</td>\n",
       "      <td>2018-03-06 07:40:00</td>\n",
       "      <td>2018-03-06 08:10:00</td>\n",
       "      <td>1</td>\n",
       "      <td>No</td>\n",
       "    </tr>\n",
       "    <tr>\n",
       "      <th>1</th>\n",
       "      <td>17522</td>\n",
       "      <td>600</td>\n",
       "      <td>Maury County</td>\n",
       "      <td>30</td>\n",
       "      <td>Culleoka Unit School</td>\n",
       "      <td>F</td>\n",
       "      <td>NaN</td>\n",
       "      <td>MA+</td>\n",
       "      <td></td>\n",
       "      <td>1</td>\n",
       "      <td>0</td>\n",
       "      <td>0</td>\n",
       "      <td>K-12</td>\n",
       "      <td>NaT</td>\n",
       "      <td>NaT</td>\n",
       "      <td>0</td>\n",
       "      <td></td>\n",
       "    </tr>\n",
       "    <tr>\n",
       "      <th>2</th>\n",
       "      <td>18016</td>\n",
       "      <td>900</td>\n",
       "      <td>Washington County</td>\n",
       "      <td>115</td>\n",
       "      <td>Tennessee Virtual Learning Academy</td>\n",
       "      <td>F</td>\n",
       "      <td>NaN</td>\n",
       "      <td>MA+</td>\n",
       "      <td></td>\n",
       "      <td>1</td>\n",
       "      <td>0</td>\n",
       "      <td>0</td>\n",
       "      <td>9 - 12</td>\n",
       "      <td>2018-03-08 07:43:00</td>\n",
       "      <td>2018-03-08 09:07:00</td>\n",
       "      <td>1</td>\n",
       "      <td></td>\n",
       "    </tr>\n",
       "    <tr>\n",
       "      <th>3</th>\n",
       "      <td>20735</td>\n",
       "      <td>850</td>\n",
       "      <td>Trousdale County</td>\n",
       "      <td>15</td>\n",
       "      <td>Jim Satterfield Middle School</td>\n",
       "      <td>F</td>\n",
       "      <td>46.0</td>\n",
       "      <td>MA</td>\n",
       "      <td>Teacher</td>\n",
       "      <td>1</td>\n",
       "      <td>0</td>\n",
       "      <td>0</td>\n",
       "      <td>5 - 8</td>\n",
       "      <td>2018-03-06 08:28:00</td>\n",
       "      <td>2018-03-06 08:45:00</td>\n",
       "      <td>1</td>\n",
       "      <td></td>\n",
       "    </tr>\n",
       "    <tr>\n",
       "      <th>4</th>\n",
       "      <td>32910</td>\n",
       "      <td>830</td>\n",
       "      <td>Sumner County</td>\n",
       "      <td>120</td>\n",
       "      <td>Westmoreland High School</td>\n",
       "      <td>F</td>\n",
       "      <td>54.0</td>\n",
       "      <td>MA+</td>\n",
       "      <td>Teacher</td>\n",
       "      <td>1</td>\n",
       "      <td>0</td>\n",
       "      <td>0</td>\n",
       "      <td>9 - 12</td>\n",
       "      <td>NaT</td>\n",
       "      <td>NaT</td>\n",
       "      <td>0</td>\n",
       "      <td></td>\n",
       "    </tr>\n",
       "  </tbody>\n",
       "</table>\n",
       "</div>"
      ],
      "text/plain": [
       "   tchlic  district_no      district_name  school_no  \\\n",
       "0   17364          130   Claiborne County         35   \n",
       "1   17522          600       Maury County         30   \n",
       "2   18016          900  Washington County        115   \n",
       "3   20735          850   Trousdale County         15   \n",
       "4   32910          830      Sumner County        120   \n",
       "\n",
       "                          school_name Gender  YrsExpr18 EdLevel18  \\\n",
       "0               Clairfield Elementary      M       31.0       MA+   \n",
       "1                Culleoka Unit School      F        NaN       MA+   \n",
       "2  Tennessee Virtual Learning Academy      F        NaN       MA+   \n",
       "3       Jim Satterfield Middle School      F       46.0        MA   \n",
       "4            Westmoreland High School      F       54.0       MA+   \n",
       "\n",
       "  Role_Compass  bestguess_tch  bestguess_admin  IPI_Sch Tier_Sch  \\\n",
       "0    Principal              0                1        0      K-8   \n",
       "1                           1                0        0     K-12   \n",
       "2                           1                0        0   9 - 12   \n",
       "3      Teacher              1                0        0    5 - 8   \n",
       "4      Teacher              1                0        0   9 - 12   \n",
       "\n",
       "            StartTime             EndTime  Responded Q13  \n",
       "0 2018-03-06 07:40:00 2018-03-06 08:10:00          1  No  \n",
       "1                 NaT                 NaT          0      \n",
       "2 2018-03-08 07:43:00 2018-03-08 09:07:00          1      \n",
       "3 2018-03-06 08:28:00 2018-03-06 08:45:00          1      \n",
       "4                 NaT                 NaT          0      "
      ]
     },
     "execution_count": 9,
     "metadata": {},
     "output_type": "execute_result"
    }
   ],
   "source": [
    "df_selected_columns.head()"
   ]
  },
  {
   "cell_type": "markdown",
   "metadata": {
    "slideshow": {
     "slide_type": "slide"
    }
   },
   "source": [
    "## 71,636 surveys\n",
    "\n",
    "### But how many answered the open ended question (Q13)"
   ]
  },
  {
   "cell_type": "code",
   "execution_count": 10,
   "metadata": {
    "slideshow": {
     "slide_type": "subslide"
    }
   },
   "outputs": [
    {
     "data": {
      "text/plain": [
       "                      56969\n",
       "no                      461\n",
       "No                      376\n",
       "N/A                     201\n",
       "n/a                     118\n",
       "none                     64\n",
       "None                     63\n",
       "Not at this time.        62\n",
       "No.                      59\n",
       "NA                       57\n",
       "na                       41\n",
       "Not at this time         37\n",
       ".                        29\n",
       "None at this time.       24\n",
       "not at this time         23\n",
       "Name: Q13, dtype: int64"
      ]
     },
     "execution_count": 10,
     "metadata": {},
     "output_type": "execute_result"
    }
   ],
   "source": [
    "df_selected_columns.Q13.value_counts().head(15)"
   ]
  },
  {
   "cell_type": "code",
   "execution_count": 11,
   "metadata": {
    "slideshow": {
     "slide_type": "skip"
    }
   },
   "outputs": [],
   "source": [
    "# Remove blank or answers which signify no answer\n",
    "def label_q13 (row):\n",
    "    if row['Q13'] not in ['no', 'NO', 'No', 'na', 'N/A', 'no.', 'No.', 'n/a', 'Na', 'none', 'Nope.', 'None.', '#NAME?', \n",
    "                          'None', 'Not at this time', 'Not at this time.', 'NA', '.', 'nothing', 'Nothing', 'x', \n",
    "                          'not at this time', 'None at this time', 'None at this time.', 'nope',\n",
    "                         'No, thank you.', 'Nothing at this time', 'No thank you', 'No thank you.',\n",
    "                         'No!', 'not at this time.', '-', 'N.A'] and len(row['Q13']) > 50 :\n",
    "          return 1\n",
    "    return 0\n",
    "\n",
    "def length_response (row):\n",
    "    return len(row['Q13'])\n",
    "\n",
    "df_selected_columns['answered_q13'] = df_selected_columns.apply(label_q13, axis=1)\n",
    "df_selected_columns['total_surveys_sent'] = df_selected_columns.shape[0]\n",
    "df_selected_columns['total_number_responses'] = df_selected_columns.Responded.sum()\n",
    "df_selected_columns['total_answered_q13'] = df_selected_columns.answered_q13.sum()\n",
    "df_selected_columns['response_character_length'] = df_selected_columns.apply(length_response, axis = 1)"
   ]
  },
  {
   "cell_type": "code",
   "execution_count": 12,
   "metadata": {
    "slideshow": {
     "slide_type": "subslide"
    }
   },
   "outputs": [
    {
     "data": {
      "text/html": [
       "<div>\n",
       "<style scoped>\n",
       "    .dataframe tbody tr th:only-of-type {\n",
       "        vertical-align: middle;\n",
       "    }\n",
       "\n",
       "    .dataframe tbody tr th {\n",
       "        vertical-align: top;\n",
       "    }\n",
       "\n",
       "    .dataframe thead th {\n",
       "        text-align: right;\n",
       "    }\n",
       "</style>\n",
       "<table border=\"1\" class=\"dataframe\">\n",
       "  <thead>\n",
       "    <tr style=\"text-align: right;\">\n",
       "      <th></th>\n",
       "      <th>tchlic</th>\n",
       "      <th>district_no</th>\n",
       "      <th>district_name</th>\n",
       "      <th>school_no</th>\n",
       "      <th>school_name</th>\n",
       "      <th>Gender</th>\n",
       "      <th>YrsExpr18</th>\n",
       "      <th>EdLevel18</th>\n",
       "      <th>Role_Compass</th>\n",
       "      <th>bestguess_tch</th>\n",
       "      <th>...</th>\n",
       "      <th>Tier_Sch</th>\n",
       "      <th>StartTime</th>\n",
       "      <th>EndTime</th>\n",
       "      <th>Responded</th>\n",
       "      <th>Q13</th>\n",
       "      <th>answered_q13</th>\n",
       "      <th>total_surveys_sent</th>\n",
       "      <th>total_number_responses</th>\n",
       "      <th>total_answered_q13</th>\n",
       "      <th>response_character_length</th>\n",
       "    </tr>\n",
       "  </thead>\n",
       "  <tbody>\n",
       "    <tr>\n",
       "      <th>0</th>\n",
       "      <td>17364</td>\n",
       "      <td>130</td>\n",
       "      <td>Claiborne County</td>\n",
       "      <td>35</td>\n",
       "      <td>Clairfield Elementary</td>\n",
       "      <td>M</td>\n",
       "      <td>31.0</td>\n",
       "      <td>MA+</td>\n",
       "      <td>Principal</td>\n",
       "      <td>0</td>\n",
       "      <td>...</td>\n",
       "      <td>K-8</td>\n",
       "      <td>2018-03-06 07:40:00</td>\n",
       "      <td>2018-03-06 08:10:00</td>\n",
       "      <td>1</td>\n",
       "      <td>No</td>\n",
       "      <td>0</td>\n",
       "      <td>71636</td>\n",
       "      <td>40876</td>\n",
       "      <td>12175</td>\n",
       "      <td>2</td>\n",
       "    </tr>\n",
       "    <tr>\n",
       "      <th>1</th>\n",
       "      <td>17522</td>\n",
       "      <td>600</td>\n",
       "      <td>Maury County</td>\n",
       "      <td>30</td>\n",
       "      <td>Culleoka Unit School</td>\n",
       "      <td>F</td>\n",
       "      <td>NaN</td>\n",
       "      <td>MA+</td>\n",
       "      <td></td>\n",
       "      <td>1</td>\n",
       "      <td>...</td>\n",
       "      <td>K-12</td>\n",
       "      <td>NaT</td>\n",
       "      <td>NaT</td>\n",
       "      <td>0</td>\n",
       "      <td></td>\n",
       "      <td>0</td>\n",
       "      <td>71636</td>\n",
       "      <td>40876</td>\n",
       "      <td>12175</td>\n",
       "      <td>0</td>\n",
       "    </tr>\n",
       "    <tr>\n",
       "      <th>2</th>\n",
       "      <td>18016</td>\n",
       "      <td>900</td>\n",
       "      <td>Washington County</td>\n",
       "      <td>115</td>\n",
       "      <td>Tennessee Virtual Learning Academy</td>\n",
       "      <td>F</td>\n",
       "      <td>NaN</td>\n",
       "      <td>MA+</td>\n",
       "      <td></td>\n",
       "      <td>1</td>\n",
       "      <td>...</td>\n",
       "      <td>9 - 12</td>\n",
       "      <td>2018-03-08 07:43:00</td>\n",
       "      <td>2018-03-08 09:07:00</td>\n",
       "      <td>1</td>\n",
       "      <td></td>\n",
       "      <td>0</td>\n",
       "      <td>71636</td>\n",
       "      <td>40876</td>\n",
       "      <td>12175</td>\n",
       "      <td>0</td>\n",
       "    </tr>\n",
       "    <tr>\n",
       "      <th>3</th>\n",
       "      <td>20735</td>\n",
       "      <td>850</td>\n",
       "      <td>Trousdale County</td>\n",
       "      <td>15</td>\n",
       "      <td>Jim Satterfield Middle School</td>\n",
       "      <td>F</td>\n",
       "      <td>46.0</td>\n",
       "      <td>MA</td>\n",
       "      <td>Teacher</td>\n",
       "      <td>1</td>\n",
       "      <td>...</td>\n",
       "      <td>5 - 8</td>\n",
       "      <td>2018-03-06 08:28:00</td>\n",
       "      <td>2018-03-06 08:45:00</td>\n",
       "      <td>1</td>\n",
       "      <td></td>\n",
       "      <td>0</td>\n",
       "      <td>71636</td>\n",
       "      <td>40876</td>\n",
       "      <td>12175</td>\n",
       "      <td>0</td>\n",
       "    </tr>\n",
       "    <tr>\n",
       "      <th>4</th>\n",
       "      <td>32910</td>\n",
       "      <td>830</td>\n",
       "      <td>Sumner County</td>\n",
       "      <td>120</td>\n",
       "      <td>Westmoreland High School</td>\n",
       "      <td>F</td>\n",
       "      <td>54.0</td>\n",
       "      <td>MA+</td>\n",
       "      <td>Teacher</td>\n",
       "      <td>1</td>\n",
       "      <td>...</td>\n",
       "      <td>9 - 12</td>\n",
       "      <td>NaT</td>\n",
       "      <td>NaT</td>\n",
       "      <td>0</td>\n",
       "      <td></td>\n",
       "      <td>0</td>\n",
       "      <td>71636</td>\n",
       "      <td>40876</td>\n",
       "      <td>12175</td>\n",
       "      <td>0</td>\n",
       "    </tr>\n",
       "    <tr>\n",
       "      <th>5</th>\n",
       "      <td>34347</td>\n",
       "      <td>180</td>\n",
       "      <td>Cumberland County</td>\n",
       "      <td>25</td>\n",
       "      <td>Cumberland County High School</td>\n",
       "      <td>F</td>\n",
       "      <td>52.0</td>\n",
       "      <td>MA</td>\n",
       "      <td>Teacher</td>\n",
       "      <td>1</td>\n",
       "      <td>...</td>\n",
       "      <td>9 - 12</td>\n",
       "      <td>2018-03-06 19:14:00</td>\n",
       "      <td>2018-03-06 20:09:00</td>\n",
       "      <td>1</td>\n",
       "      <td>Each year there seems to be more added to the ...</td>\n",
       "      <td>1</td>\n",
       "      <td>71636</td>\n",
       "      <td>40876</td>\n",
       "      <td>12175</td>\n",
       "      <td>766</td>\n",
       "    </tr>\n",
       "    <tr>\n",
       "      <th>6</th>\n",
       "      <td>35973</td>\n",
       "      <td>500</td>\n",
       "      <td>Lawrence County</td>\n",
       "      <td>40</td>\n",
       "      <td>Lawrence Co High School</td>\n",
       "      <td>F</td>\n",
       "      <td>39.0</td>\n",
       "      <td>MA+</td>\n",
       "      <td>Teacher</td>\n",
       "      <td>1</td>\n",
       "      <td>...</td>\n",
       "      <td>9 - 12</td>\n",
       "      <td>2018-03-13 14:06:00</td>\n",
       "      <td>2018-03-13 14:33:00</td>\n",
       "      <td>1</td>\n",
       "      <td>No</td>\n",
       "      <td>0</td>\n",
       "      <td>71636</td>\n",
       "      <td>40876</td>\n",
       "      <td>12175</td>\n",
       "      <td>2</td>\n",
       "    </tr>\n",
       "    <tr>\n",
       "      <th>7</th>\n",
       "      <td>36435</td>\n",
       "      <td>320</td>\n",
       "      <td>Hamblen County</td>\n",
       "      <td>35</td>\n",
       "      <td>Whitesburg Elementary</td>\n",
       "      <td>M</td>\n",
       "      <td>53.0</td>\n",
       "      <td>MA+</td>\n",
       "      <td>Principal</td>\n",
       "      <td>0</td>\n",
       "      <td>...</td>\n",
       "      <td>K-5</td>\n",
       "      <td>2018-03-06 08:10:00</td>\n",
       "      <td>2018-03-06 08:53:00</td>\n",
       "      <td>1</td>\n",
       "      <td>Give TCAP test in all grades. Give pre- and po...</td>\n",
       "      <td>1</td>\n",
       "      <td>71636</td>\n",
       "      <td>40876</td>\n",
       "      <td>12175</td>\n",
       "      <td>448</td>\n",
       "    </tr>\n",
       "    <tr>\n",
       "      <th>8</th>\n",
       "      <td>37252</td>\n",
       "      <td>420</td>\n",
       "      <td>Houston County</td>\n",
       "      <td>5</td>\n",
       "      <td>Erin Elementary</td>\n",
       "      <td>F</td>\n",
       "      <td>52.0</td>\n",
       "      <td>MA+</td>\n",
       "      <td>Teacher</td>\n",
       "      <td>1</td>\n",
       "      <td>...</td>\n",
       "      <td>K-5</td>\n",
       "      <td>2018-03-07 09:02:00</td>\n",
       "      <td>2018-03-07 09:24:00</td>\n",
       "      <td>1</td>\n",
       "      <td></td>\n",
       "      <td>0</td>\n",
       "      <td>71636</td>\n",
       "      <td>40876</td>\n",
       "      <td>12175</td>\n",
       "      <td>0</td>\n",
       "    </tr>\n",
       "    <tr>\n",
       "      <th>9</th>\n",
       "      <td>38023</td>\n",
       "      <td>150</td>\n",
       "      <td>Cocke County</td>\n",
       "      <td>15</td>\n",
       "      <td>Cocke Co High School</td>\n",
       "      <td>F</td>\n",
       "      <td>51.0</td>\n",
       "      <td>MA</td>\n",
       "      <td>Teacher</td>\n",
       "      <td>1</td>\n",
       "      <td>...</td>\n",
       "      <td>9 - 12</td>\n",
       "      <td>NaT</td>\n",
       "      <td>NaT</td>\n",
       "      <td>0</td>\n",
       "      <td></td>\n",
       "      <td>0</td>\n",
       "      <td>71636</td>\n",
       "      <td>40876</td>\n",
       "      <td>12175</td>\n",
       "      <td>0</td>\n",
       "    </tr>\n",
       "  </tbody>\n",
       "</table>\n",
       "<p>10 rows × 22 columns</p>\n",
       "</div>"
      ],
      "text/plain": [
       "   tchlic  district_no      district_name  school_no  \\\n",
       "0   17364          130   Claiborne County         35   \n",
       "1   17522          600       Maury County         30   \n",
       "2   18016          900  Washington County        115   \n",
       "3   20735          850   Trousdale County         15   \n",
       "4   32910          830      Sumner County        120   \n",
       "5   34347          180  Cumberland County         25   \n",
       "6   35973          500    Lawrence County         40   \n",
       "7   36435          320     Hamblen County         35   \n",
       "8   37252          420     Houston County          5   \n",
       "9   38023          150       Cocke County         15   \n",
       "\n",
       "                          school_name Gender  YrsExpr18 EdLevel18  \\\n",
       "0               Clairfield Elementary      M       31.0       MA+   \n",
       "1                Culleoka Unit School      F        NaN       MA+   \n",
       "2  Tennessee Virtual Learning Academy      F        NaN       MA+   \n",
       "3       Jim Satterfield Middle School      F       46.0        MA   \n",
       "4            Westmoreland High School      F       54.0       MA+   \n",
       "5       Cumberland County High School      F       52.0        MA   \n",
       "6             Lawrence Co High School      F       39.0       MA+   \n",
       "7               Whitesburg Elementary      M       53.0       MA+   \n",
       "8                     Erin Elementary      F       52.0       MA+   \n",
       "9                Cocke Co High School      F       51.0        MA   \n",
       "\n",
       "  Role_Compass  bestguess_tch            ...              Tier_Sch  \\\n",
       "0    Principal              0            ...                   K-8   \n",
       "1                           1            ...                  K-12   \n",
       "2                           1            ...                9 - 12   \n",
       "3      Teacher              1            ...                 5 - 8   \n",
       "4      Teacher              1            ...                9 - 12   \n",
       "5      Teacher              1            ...                9 - 12   \n",
       "6      Teacher              1            ...                9 - 12   \n",
       "7    Principal              0            ...                   K-5   \n",
       "8      Teacher              1            ...                   K-5   \n",
       "9      Teacher              1            ...                9 - 12   \n",
       "\n",
       "            StartTime             EndTime Responded  \\\n",
       "0 2018-03-06 07:40:00 2018-03-06 08:10:00         1   \n",
       "1                 NaT                 NaT         0   \n",
       "2 2018-03-08 07:43:00 2018-03-08 09:07:00         1   \n",
       "3 2018-03-06 08:28:00 2018-03-06 08:45:00         1   \n",
       "4                 NaT                 NaT         0   \n",
       "5 2018-03-06 19:14:00 2018-03-06 20:09:00         1   \n",
       "6 2018-03-13 14:06:00 2018-03-13 14:33:00         1   \n",
       "7 2018-03-06 08:10:00 2018-03-06 08:53:00         1   \n",
       "8 2018-03-07 09:02:00 2018-03-07 09:24:00         1   \n",
       "9                 NaT                 NaT         0   \n",
       "\n",
       "                                                 Q13  answered_q13  \\\n",
       "0                                                 No             0   \n",
       "1                                                                0   \n",
       "2                                                                0   \n",
       "3                                                                0   \n",
       "4                                                                0   \n",
       "5  Each year there seems to be more added to the ...             1   \n",
       "6                                                 No             0   \n",
       "7  Give TCAP test in all grades. Give pre- and po...             1   \n",
       "8                                                                0   \n",
       "9                                                                0   \n",
       "\n",
       "  total_surveys_sent  total_number_responses  total_answered_q13  \\\n",
       "0              71636                   40876               12175   \n",
       "1              71636                   40876               12175   \n",
       "2              71636                   40876               12175   \n",
       "3              71636                   40876               12175   \n",
       "4              71636                   40876               12175   \n",
       "5              71636                   40876               12175   \n",
       "6              71636                   40876               12175   \n",
       "7              71636                   40876               12175   \n",
       "8              71636                   40876               12175   \n",
       "9              71636                   40876               12175   \n",
       "\n",
       "   response_character_length  \n",
       "0                          2  \n",
       "1                          0  \n",
       "2                          0  \n",
       "3                          0  \n",
       "4                          0  \n",
       "5                        766  \n",
       "6                          2  \n",
       "7                        448  \n",
       "8                          0  \n",
       "9                          0  \n",
       "\n",
       "[10 rows x 22 columns]"
      ]
     },
     "execution_count": 12,
     "metadata": {},
     "output_type": "execute_result"
    }
   ],
   "source": [
    "df_selected_columns.head(10)"
   ]
  },
  {
   "cell_type": "markdown",
   "metadata": {
    "slideshow": {
     "slide_type": "subslide"
    }
   },
   "source": [
    "- 71,636 surveys\n",
    "\n",
    "- 40,876 responded \n",
    "\n",
    "- 12,175 answered Q13 (at least 50 characters)"
   ]
  },
  {
   "cell_type": "code",
   "execution_count": 13,
   "metadata": {
    "slideshow": {
     "slide_type": "subslide"
    }
   },
   "outputs": [
    {
     "name": "stdout",
     "output_type": "stream",
     "text": [
      "Number of teachers surveyed: 67483\n",
      "Number of teachers responded: 38665\n",
      "Number of teachers answered Question 13: 11652\n"
     ]
    }
   ],
   "source": [
    "print('Number of teachers surveyed: ' + str(sum(df_selected_columns['bestguess_tch'])))\n",
    "print('Number of teachers responded: ' + str(sum(df_selected_columns.loc[(df_selected_columns.loc[:,'Responded'] == 1) & (df_selected_columns.loc[:,'bestguess_tch'] == 1), 'Responded'])))\n",
    "print('Number of teachers answered Question 13: ' + str(sum(df_selected_columns.loc[(df_selected_columns.loc[:,'answered_q13'] == 1) & (df_selected_columns.loc[:,'bestguess_tch'] == 1), 'answered_q13'])))\n"
   ]
  },
  {
   "cell_type": "code",
   "execution_count": 14,
   "metadata": {
    "slideshow": {
     "slide_type": "subslide"
    }
   },
   "outputs": [
    {
     "name": "stdout",
     "output_type": "stream",
     "text": [
      "Number of admins surveyed: 3113\n",
      "Number of admins responded: 1791\n",
      "Number of admins answered Question 13: 477\n"
     ]
    }
   ],
   "source": [
    "print('Number of admins surveyed: ' + str(sum(df_selected_columns['bestguess_admin'])))\n",
    "print('Number of admins responded: ' + str(sum(df_selected_columns.loc[(df_selected_columns.loc[:,'Responded'] == 1) & (df_selected_columns.loc[:,'bestguess_admin'] == 1), 'Responded'])))\n",
    "print('Number of admins answered Question 13: ' + str(sum(df_selected_columns.loc[(df_selected_columns.loc[:,'answered_q13'] == 1) & (df_selected_columns.loc[:,'bestguess_admin'] == 1), 'answered_q13'])))\n"
   ]
  },
  {
   "cell_type": "markdown",
   "metadata": {
    "slideshow": {
     "slide_type": "slide"
    }
   },
   "source": [
    "## Creating list of comments"
   ]
  },
  {
   "cell_type": "code",
   "execution_count": 15,
   "metadata": {
    "slideshow": {
     "slide_type": "skip"
    }
   },
   "outputs": [],
   "source": [
    "# Converting the column of the DF with answers into a list of answers\n",
    "open_ended_answers = df_selected_columns.loc[df_selected_columns['answered_q13'] == 1,:].Q13.tolist()"
   ]
  },
  {
   "cell_type": "code",
   "execution_count": 16,
   "metadata": {
    "slideshow": {
     "slide_type": "subslide"
    }
   },
   "outputs": [
    {
     "data": {
      "text/plain": [
       "['Each year there seems to be more added to the teachers plate, making it more difficult to focus on teaching.  Teachers seem to be more stressed than ever before.  The constant changing of testing and evaluations have certainly contributed to this stress.  The state testing seems to be unfair in many ways.  Some teachers have never taught a tested subject and have not had the stress that the tested teachers have.  At the same time, their evaluations are determined, in part, by the success or lack of success of other teachers which is unfair to them.  Some tested subjects are scheduled for a full year, allowing sufficient time to cover all of the state standards while other teachers of tested subjects have only a semester to teach a similar set of standards.',\n",
       " 'Give TCAP test in all grades. Give pre- and post in k. Give post in every other grade. This would give a more accurate growth score for all teachers. If growth scores are important then give teachers their OWN SCORES. Giving teachers growth from other grade levels cannot be accurate. Growth scores count 35%of teacher evaluation.If teachers have their  own scores they will work harder and smarter. Portfolios cannot be accurate for growth scores.',\n",
       " 'Testing has replaced learning and teaching. Its stressful to parents,  students and teachers.',\n",
       " 'Testing has become the driving force of education - not educating the student.  I have been in education for 41 years and have seen the student level of learning decrease.  Please consider a means to reverse this.  Thank you.',\n",
       " 'The principal evaluation is too wordy and complex.  There\\'s too much \"evidence\" required. We spend too much time documenting some indicator (for example, 58 pieces of evidence for Standard A). We don\\'t have enough local training on the process.']"
      ]
     },
     "execution_count": 16,
     "metadata": {},
     "output_type": "execute_result"
    }
   ],
   "source": [
    "open_ended_answers[:5]"
   ]
  },
  {
   "cell_type": "code",
   "execution_count": 17,
   "metadata": {
    "slideshow": {
     "slide_type": "skip"
    }
   },
   "outputs": [],
   "source": [
    "# Join all answers into one string\n",
    "joined_answers = ' '.join(open_ended_answers)"
   ]
  },
  {
   "cell_type": "markdown",
   "metadata": {
    "slideshow": {
     "slide_type": "slide"
    }
   },
   "source": [
    "## NLTK Tokenization"
   ]
  },
  {
   "cell_type": "code",
   "execution_count": 18,
   "metadata": {
    "slideshow": {
     "slide_type": "skip"
    }
   },
   "outputs": [
    {
     "name": "stderr",
     "output_type": "stream",
     "text": [
      "C:\\Users\\ca20593\\AppData\\Local\\Continuum\\anaconda3\\lib\\site-packages\\nltk\\decorators.py:68: DeprecationWarning: `formatargspec` is deprecated since Python 3.5. Use `signature` and the `Signature` object directly\n",
      "  regargs, varargs, varkwargs, defaults, formatvalue=lambda value: \"\"\n"
     ]
    }
   ],
   "source": [
    "from nltk.corpus import stopwords\n",
    "from nltk.tokenize import word_tokenize\n",
    "from collections import Counter\n",
    "import nltk"
   ]
  },
  {
   "cell_type": "code",
   "execution_count": 19,
   "metadata": {
    "slideshow": {
     "slide_type": "skip"
    }
   },
   "outputs": [],
   "source": [
    "# Turn string into lowercase\n",
    "# Then tokenize into words\n",
    "tokens = [w for w in word_tokenize(joined_answers.lower()) if w.isalpha()]"
   ]
  },
  {
   "cell_type": "code",
   "execution_count": 20,
   "metadata": {
    "slideshow": {
     "slide_type": "skip"
    }
   },
   "outputs": [
    {
     "data": {
      "text/plain": [
       "['each', 'year', 'there']"
      ]
     },
     "execution_count": 20,
     "metadata": {},
     "output_type": "execute_result"
    }
   ],
   "source": [
    "# Show first 3 tokens (words)\n",
    "tokens[:3]"
   ]
  },
  {
   "cell_type": "code",
   "execution_count": 21,
   "metadata": {
    "slideshow": {
     "slide_type": "skip"
    }
   },
   "outputs": [],
   "source": [
    "# for each word, check if it is in the list of English stop words\n",
    "# Only keep the words that are not in the list of stopwords\n",
    "no_stops = [t for t in tokens\n",
    "           if t not in stopwords.words('english')]"
   ]
  },
  {
   "cell_type": "code",
   "execution_count": 22,
   "metadata": {
    "slideshow": {
     "slide_type": "skip"
    }
   },
   "outputs": [],
   "source": [
    "# Initiate Word Net Lemmatizer\n",
    "# Will create lemmas (word bases)\n",
    "wnl = nltk.WordNetLemmatizer()"
   ]
  },
  {
   "cell_type": "code",
   "execution_count": 23,
   "metadata": {
    "slideshow": {
     "slide_type": "skip"
    }
   },
   "outputs": [],
   "source": [
    "# For each word in no_stops list, lemmatize\n",
    "lemmas =  [wnl.lemmatize(t) for t in no_stops]"
   ]
  },
  {
   "cell_type": "code",
   "execution_count": 24,
   "metadata": {
    "slideshow": {
     "slide_type": "subslide"
    }
   },
   "outputs": [
    {
     "data": {
      "text/plain": [
       "[('student', 16219),\n",
       " ('teacher', 14853),\n",
       " ('school', 10224),\n",
       " ('time', 7900),\n",
       " ('need', 6553),\n",
       " ('year', 5870),\n",
       " ('test', 5406),\n",
       " ('state', 4527),\n",
       " ('testing', 4182),\n",
       " ('feel', 3591),\n",
       " ('would', 3491),\n",
       " ('standard', 3302),\n",
       " ('teaching', 3037),\n",
       " ('many', 2912),\n",
       " ('teach', 2907),\n",
       " ('much', 2883),\n",
       " ('like', 2765),\n",
       " ('work', 2703),\n",
       " ('classroom', 2579),\n",
       " ('one', 2569),\n",
       " ('grade', 2559),\n",
       " ('score', 2518),\n",
       " ('level', 2458),\n",
       " ('education', 2453),\n",
       " ('also', 2397),\n",
       " ('get', 2271),\n",
       " ('day', 2253),\n",
       " ('evaluation', 2218),\n",
       " ('district', 2199),\n",
       " ('way', 2195),\n",
       " ('child', 2071),\n",
       " ('make', 2020),\n",
       " ('u', 1975),\n",
       " ('take', 1908),\n",
       " ('know', 1823)]"
      ]
     },
     "execution_count": 24,
     "metadata": {},
     "output_type": "execute_result"
    }
   ],
   "source": [
    "# Counter object \n",
    "Counter(lemmas).most_common(35)"
   ]
  },
  {
   "cell_type": "markdown",
   "metadata": {
    "slideshow": {
     "slide_type": "slide"
    }
   },
   "source": [
    "## SpaCy Sentiment Exploration"
   ]
  },
  {
   "cell_type": "code",
   "execution_count": 26,
   "metadata": {
    "slideshow": {
     "slide_type": "skip"
    }
   },
   "outputs": [],
   "source": [
    "# Import spacy for different analysis than NLTK can provide\n",
    "import spacy\n",
    "from spacy import displacy"
   ]
  },
  {
   "cell_type": "code",
   "execution_count": 27,
   "metadata": {
    "slideshow": {
     "slide_type": "skip"
    }
   },
   "outputs": [],
   "source": [
    "import en_core_web_sm"
   ]
  },
  {
   "cell_type": "code",
   "execution_count": 28,
   "metadata": {
    "slideshow": {
     "slide_type": "skip"
    }
   },
   "outputs": [],
   "source": [
    "# Load small English \n",
    "nlp = en_core_web_sm.load()"
   ]
  },
  {
   "cell_type": "code",
   "execution_count": 29,
   "metadata": {
    "slideshow": {
     "slide_type": "skip"
    }
   },
   "outputs": [],
   "source": [
    "# Read first response for exploration\n",
    "doc = nlp(open_ended_answers[0])"
   ]
  },
  {
   "cell_type": "code",
   "execution_count": 30,
   "metadata": {
    "slideshow": {
     "slide_type": "skip"
    }
   },
   "outputs": [
    {
     "data": {
      "text/plain": [
       "(Each year, a full year)"
      ]
     },
     "execution_count": 30,
     "metadata": {},
     "output_type": "execute_result"
    }
   ],
   "source": [
    "# Display entities from the first response\n",
    "doc.ents"
   ]
  },
  {
   "cell_type": "code",
   "execution_count": 31,
   "metadata": {
    "slideshow": {
     "slide_type": "skip"
    }
   },
   "outputs": [],
   "source": [
    "# answer_doc_list = [nlp(string) for string in open_ended_answers]"
   ]
  },
  {
   "cell_type": "code",
   "execution_count": 32,
   "metadata": {
    "slideshow": {
     "slide_type": "subslide"
    }
   },
   "outputs": [],
   "source": [
    "# Import AFINN for sentiment analysis\n",
    "from afinn import Afinn\n",
    "af = Afinn()"
   ]
  },
  {
   "cell_type": "code",
   "execution_count": 33,
   "metadata": {
    "slideshow": {
     "slide_type": "skip"
    }
   },
   "outputs": [],
   "source": [
    "# For each reponse, give a sentiment score\n",
    "sentiment_scores = [af.score(answer) for answer in open_ended_answers]"
   ]
  },
  {
   "cell_type": "code",
   "execution_count": 34,
   "metadata": {
    "slideshow": {
     "slide_type": "skip"
    }
   },
   "outputs": [
    {
     "data": {
      "text/plain": [
       "[-5.0, 14.0, 0.0, 3.0, 0.0]"
      ]
     },
     "execution_count": 34,
     "metadata": {},
     "output_type": "execute_result"
    }
   ],
   "source": [
    "# Inspect first five sentiment scores\n",
    "sentiment_scores[:5]"
   ]
  },
  {
   "cell_type": "code",
   "execution_count": 35,
   "metadata": {
    "slideshow": {
     "slide_type": "skip"
    }
   },
   "outputs": [],
   "source": [
    "# Categorize the sentiment scores\n",
    "# Above 0 -> Positive\n",
    "# 0 -> Neutral\n",
    "# Below 0 -> Negative\n",
    "sentiment_category = ['positive' if score > 0 \n",
    "                          else 'negative' if score < 0 \n",
    "                              else 'neutral' \n",
    "                                  for score in sentiment_scores]"
   ]
  },
  {
   "cell_type": "code",
   "execution_count": 36,
   "metadata": {
    "slideshow": {
     "slide_type": "skip"
    }
   },
   "outputs": [
    {
     "data": {
      "text/plain": [
       "['negative', 'positive', 'neutral', 'positive', 'neutral']"
      ]
     },
     "execution_count": 36,
     "metadata": {},
     "output_type": "execute_result"
    }
   ],
   "source": [
    "# Inspect first five sentiment categories\n",
    "sentiment_category[:5]"
   ]
  },
  {
   "cell_type": "code",
   "execution_count": 37,
   "metadata": {
    "slideshow": {
     "slide_type": "skip"
    }
   },
   "outputs": [],
   "source": [
    "# Selecting columns from the base DF where the open ended question was answered\n",
    "df_open_answered = df_selected_columns.loc[df_selected_columns.loc[:,'answered_q13'] == 1, :]#, 'tchlic':'EndTime'] # +  'response_character_length']\n",
    "                                           "
   ]
  },
  {
   "cell_type": "code",
   "execution_count": 38,
   "metadata": {
    "slideshow": {
     "slide_type": "skip"
    }
   },
   "outputs": [
    {
     "data": {
      "text/plain": [
       "(12175, 22)"
      ]
     },
     "execution_count": 38,
     "metadata": {},
     "output_type": "execute_result"
    }
   ],
   "source": [
    "# Inspecting the shape of the DF\n",
    "df_open_answered.shape"
   ]
  },
  {
   "cell_type": "code",
   "execution_count": 39,
   "metadata": {
    "slideshow": {
     "slide_type": "subslide"
    }
   },
   "outputs": [
    {
     "data": {
      "text/html": [
       "<div>\n",
       "<style scoped>\n",
       "    .dataframe tbody tr th:only-of-type {\n",
       "        vertical-align: middle;\n",
       "    }\n",
       "\n",
       "    .dataframe tbody tr th {\n",
       "        vertical-align: top;\n",
       "    }\n",
       "\n",
       "    .dataframe thead th {\n",
       "        text-align: right;\n",
       "    }\n",
       "</style>\n",
       "<table border=\"1\" class=\"dataframe\">\n",
       "  <thead>\n",
       "    <tr style=\"text-align: right;\">\n",
       "      <th></th>\n",
       "      <th>tchlic</th>\n",
       "      <th>district_no</th>\n",
       "      <th>district_name</th>\n",
       "      <th>school_no</th>\n",
       "      <th>school_name</th>\n",
       "      <th>Gender</th>\n",
       "      <th>YrsExpr18</th>\n",
       "      <th>EdLevel18</th>\n",
       "      <th>Role_Compass</th>\n",
       "      <th>bestguess_tch</th>\n",
       "      <th>...</th>\n",
       "      <th>Tier_Sch</th>\n",
       "      <th>StartTime</th>\n",
       "      <th>EndTime</th>\n",
       "      <th>Responded</th>\n",
       "      <th>Q13</th>\n",
       "      <th>answered_q13</th>\n",
       "      <th>total_surveys_sent</th>\n",
       "      <th>total_number_responses</th>\n",
       "      <th>total_answered_q13</th>\n",
       "      <th>response_character_length</th>\n",
       "    </tr>\n",
       "  </thead>\n",
       "  <tbody>\n",
       "    <tr>\n",
       "      <th>5</th>\n",
       "      <td>34347</td>\n",
       "      <td>180</td>\n",
       "      <td>Cumberland County</td>\n",
       "      <td>25</td>\n",
       "      <td>Cumberland County High School</td>\n",
       "      <td>F</td>\n",
       "      <td>52.0</td>\n",
       "      <td>MA</td>\n",
       "      <td>Teacher</td>\n",
       "      <td>1</td>\n",
       "      <td>...</td>\n",
       "      <td>9 - 12</td>\n",
       "      <td>2018-03-06 19:14:00</td>\n",
       "      <td>2018-03-06 20:09:00</td>\n",
       "      <td>1</td>\n",
       "      <td>Each year there seems to be more added to the ...</td>\n",
       "      <td>1</td>\n",
       "      <td>71636</td>\n",
       "      <td>40876</td>\n",
       "      <td>12175</td>\n",
       "      <td>766</td>\n",
       "    </tr>\n",
       "    <tr>\n",
       "      <th>7</th>\n",
       "      <td>36435</td>\n",
       "      <td>320</td>\n",
       "      <td>Hamblen County</td>\n",
       "      <td>35</td>\n",
       "      <td>Whitesburg Elementary</td>\n",
       "      <td>M</td>\n",
       "      <td>53.0</td>\n",
       "      <td>MA+</td>\n",
       "      <td>Principal</td>\n",
       "      <td>0</td>\n",
       "      <td>...</td>\n",
       "      <td>K-5</td>\n",
       "      <td>2018-03-06 08:10:00</td>\n",
       "      <td>2018-03-06 08:53:00</td>\n",
       "      <td>1</td>\n",
       "      <td>Give TCAP test in all grades. Give pre- and po...</td>\n",
       "      <td>1</td>\n",
       "      <td>71636</td>\n",
       "      <td>40876</td>\n",
       "      <td>12175</td>\n",
       "      <td>448</td>\n",
       "    </tr>\n",
       "    <tr>\n",
       "      <th>17</th>\n",
       "      <td>43604</td>\n",
       "      <td>70</td>\n",
       "      <td>Campbell County</td>\n",
       "      <td>75</td>\n",
       "      <td>Jellico High School</td>\n",
       "      <td>F</td>\n",
       "      <td>51.0</td>\n",
       "      <td>BA</td>\n",
       "      <td>Teacher</td>\n",
       "      <td>1</td>\n",
       "      <td>...</td>\n",
       "      <td>9 - 12</td>\n",
       "      <td>2018-03-08 13:23:00</td>\n",
       "      <td>2018-03-08 14:03:00</td>\n",
       "      <td>1</td>\n",
       "      <td>Testing has replaced learning and teaching. It...</td>\n",
       "      <td>1</td>\n",
       "      <td>71636</td>\n",
       "      <td>40876</td>\n",
       "      <td>12175</td>\n",
       "      <td>93</td>\n",
       "    </tr>\n",
       "    <tr>\n",
       "      <th>27</th>\n",
       "      <td>48309</td>\n",
       "      <td>630</td>\n",
       "      <td>Montgomery County</td>\n",
       "      <td>19</td>\n",
       "      <td>Kenwood High</td>\n",
       "      <td>M</td>\n",
       "      <td>39.0</td>\n",
       "      <td>MA+</td>\n",
       "      <td>Teacher</td>\n",
       "      <td>1</td>\n",
       "      <td>...</td>\n",
       "      <td>9 - 12</td>\n",
       "      <td>2018-03-06 05:53:00</td>\n",
       "      <td>2018-03-20 06:09:00</td>\n",
       "      <td>1</td>\n",
       "      <td>Testing has become the driving force of educat...</td>\n",
       "      <td>1</td>\n",
       "      <td>71636</td>\n",
       "      <td>40876</td>\n",
       "      <td>12175</td>\n",
       "      <td>225</td>\n",
       "    </tr>\n",
       "    <tr>\n",
       "      <th>30</th>\n",
       "      <td>49926</td>\n",
       "      <td>80</td>\n",
       "      <td>Cannon County</td>\n",
       "      <td>30</td>\n",
       "      <td>Short Mountain Elementary</td>\n",
       "      <td>M</td>\n",
       "      <td>50.0</td>\n",
       "      <td>MA</td>\n",
       "      <td>Principal</td>\n",
       "      <td>0</td>\n",
       "      <td>...</td>\n",
       "      <td>K-8</td>\n",
       "      <td>2018-03-13 09:53:00</td>\n",
       "      <td>2018-03-13 10:51:00</td>\n",
       "      <td>1</td>\n",
       "      <td>The principal evaluation is too wordy and comp...</td>\n",
       "      <td>1</td>\n",
       "      <td>71636</td>\n",
       "      <td>40876</td>\n",
       "      <td>12175</td>\n",
       "      <td>244</td>\n",
       "    </tr>\n",
       "  </tbody>\n",
       "</table>\n",
       "<p>5 rows × 22 columns</p>\n",
       "</div>"
      ],
      "text/plain": [
       "    tchlic  district_no      district_name  school_no  \\\n",
       "5    34347          180  Cumberland County         25   \n",
       "7    36435          320     Hamblen County         35   \n",
       "17   43604           70    Campbell County         75   \n",
       "27   48309          630  Montgomery County         19   \n",
       "30   49926           80      Cannon County         30   \n",
       "\n",
       "                      school_name Gender  YrsExpr18 EdLevel18 Role_Compass  \\\n",
       "5   Cumberland County High School      F       52.0        MA      Teacher   \n",
       "7           Whitesburg Elementary      M       53.0       MA+    Principal   \n",
       "17            Jellico High School      F       51.0        BA      Teacher   \n",
       "27                   Kenwood High      M       39.0       MA+      Teacher   \n",
       "30      Short Mountain Elementary      M       50.0        MA    Principal   \n",
       "\n",
       "    bestguess_tch            ...              Tier_Sch           StartTime  \\\n",
       "5               1            ...                9 - 12 2018-03-06 19:14:00   \n",
       "7               0            ...                   K-5 2018-03-06 08:10:00   \n",
       "17              1            ...                9 - 12 2018-03-08 13:23:00   \n",
       "27              1            ...                9 - 12 2018-03-06 05:53:00   \n",
       "30              0            ...                   K-8 2018-03-13 09:53:00   \n",
       "\n",
       "               EndTime Responded  \\\n",
       "5  2018-03-06 20:09:00         1   \n",
       "7  2018-03-06 08:53:00         1   \n",
       "17 2018-03-08 14:03:00         1   \n",
       "27 2018-03-20 06:09:00         1   \n",
       "30 2018-03-13 10:51:00         1   \n",
       "\n",
       "                                                  Q13  answered_q13  \\\n",
       "5   Each year there seems to be more added to the ...             1   \n",
       "7   Give TCAP test in all grades. Give pre- and po...             1   \n",
       "17  Testing has replaced learning and teaching. It...             1   \n",
       "27  Testing has become the driving force of educat...             1   \n",
       "30  The principal evaluation is too wordy and comp...             1   \n",
       "\n",
       "   total_surveys_sent  total_number_responses  total_answered_q13  \\\n",
       "5               71636                   40876               12175   \n",
       "7               71636                   40876               12175   \n",
       "17              71636                   40876               12175   \n",
       "27              71636                   40876               12175   \n",
       "30              71636                   40876               12175   \n",
       "\n",
       "    response_character_length  \n",
       "5                         766  \n",
       "7                         448  \n",
       "17                         93  \n",
       "27                        225  \n",
       "30                        244  \n",
       "\n",
       "[5 rows x 22 columns]"
      ]
     },
     "execution_count": 39,
     "metadata": {},
     "output_type": "execute_result"
    }
   ],
   "source": [
    "# Looking at the first 5 rows\n",
    "df_open_answered.head()"
   ]
  },
  {
   "cell_type": "code",
   "execution_count": 40,
   "metadata": {
    "slideshow": {
     "slide_type": "skip"
    }
   },
   "outputs": [],
   "source": [
    "# Creating a DF with sentiment scores and categories\n",
    "sentiment_df = pd.DataFrame({'sentiment_score': sentiment_scores,\n",
    "                            'sentiment_category': sentiment_category})"
   ]
  },
  {
   "cell_type": "code",
   "execution_count": 41,
   "metadata": {
    "slideshow": {
     "slide_type": "skip"
    }
   },
   "outputs": [
    {
     "data": {
      "text/plain": [
       "(12175, 2)"
      ]
     },
     "execution_count": 41,
     "metadata": {},
     "output_type": "execute_result"
    }
   ],
   "source": [
    "# Inspecting shape to make sure it still matches up\n",
    "sentiment_df.shape"
   ]
  },
  {
   "cell_type": "code",
   "execution_count": 42,
   "metadata": {
    "slideshow": {
     "slide_type": "skip"
    }
   },
   "outputs": [
    {
     "data": {
      "text/html": [
       "<div>\n",
       "<style scoped>\n",
       "    .dataframe tbody tr th:only-of-type {\n",
       "        vertical-align: middle;\n",
       "    }\n",
       "\n",
       "    .dataframe tbody tr th {\n",
       "        vertical-align: top;\n",
       "    }\n",
       "\n",
       "    .dataframe thead th {\n",
       "        text-align: right;\n",
       "    }\n",
       "</style>\n",
       "<table border=\"1\" class=\"dataframe\">\n",
       "  <thead>\n",
       "    <tr style=\"text-align: right;\">\n",
       "      <th></th>\n",
       "      <th>sentiment_score</th>\n",
       "      <th>sentiment_category</th>\n",
       "    </tr>\n",
       "  </thead>\n",
       "  <tbody>\n",
       "    <tr>\n",
       "      <th>0</th>\n",
       "      <td>-5.0</td>\n",
       "      <td>negative</td>\n",
       "    </tr>\n",
       "    <tr>\n",
       "      <th>1</th>\n",
       "      <td>14.0</td>\n",
       "      <td>positive</td>\n",
       "    </tr>\n",
       "    <tr>\n",
       "      <th>2</th>\n",
       "      <td>0.0</td>\n",
       "      <td>neutral</td>\n",
       "    </tr>\n",
       "    <tr>\n",
       "      <th>3</th>\n",
       "      <td>3.0</td>\n",
       "      <td>positive</td>\n",
       "    </tr>\n",
       "    <tr>\n",
       "      <th>4</th>\n",
       "      <td>0.0</td>\n",
       "      <td>neutral</td>\n",
       "    </tr>\n",
       "  </tbody>\n",
       "</table>\n",
       "</div>"
      ],
      "text/plain": [
       "   sentiment_score sentiment_category\n",
       "0             -5.0           negative\n",
       "1             14.0           positive\n",
       "2              0.0            neutral\n",
       "3              3.0           positive\n",
       "4              0.0            neutral"
      ]
     },
     "execution_count": 42,
     "metadata": {},
     "output_type": "execute_result"
    }
   ],
   "source": [
    "# Inspecting first 5 rows of sentiment\n",
    "sentiment_df.head()"
   ]
  },
  {
   "cell_type": "code",
   "execution_count": 43,
   "metadata": {
    "slideshow": {
     "slide_type": "skip"
    }
   },
   "outputs": [],
   "source": [
    "# Concatenating the indentification columns with the sentiment dataframe to have\n",
    "# all of the info in one place \n",
    "answers_w_sentiment_df = pd.concat([df_open_answered.reset_index(drop=True), sentiment_df], axis=1)"
   ]
  },
  {
   "cell_type": "code",
   "execution_count": 44,
   "metadata": {
    "slideshow": {
     "slide_type": "skip"
    }
   },
   "outputs": [
    {
     "data": {
      "text/html": [
       "<div>\n",
       "<style scoped>\n",
       "    .dataframe tbody tr th:only-of-type {\n",
       "        vertical-align: middle;\n",
       "    }\n",
       "\n",
       "    .dataframe tbody tr th {\n",
       "        vertical-align: top;\n",
       "    }\n",
       "\n",
       "    .dataframe thead th {\n",
       "        text-align: right;\n",
       "    }\n",
       "</style>\n",
       "<table border=\"1\" class=\"dataframe\">\n",
       "  <thead>\n",
       "    <tr style=\"text-align: right;\">\n",
       "      <th></th>\n",
       "      <th>tchlic</th>\n",
       "      <th>district_no</th>\n",
       "      <th>district_name</th>\n",
       "      <th>school_no</th>\n",
       "      <th>school_name</th>\n",
       "      <th>Gender</th>\n",
       "      <th>YrsExpr18</th>\n",
       "      <th>EdLevel18</th>\n",
       "      <th>Role_Compass</th>\n",
       "      <th>bestguess_tch</th>\n",
       "      <th>...</th>\n",
       "      <th>EndTime</th>\n",
       "      <th>Responded</th>\n",
       "      <th>Q13</th>\n",
       "      <th>answered_q13</th>\n",
       "      <th>total_surveys_sent</th>\n",
       "      <th>total_number_responses</th>\n",
       "      <th>total_answered_q13</th>\n",
       "      <th>response_character_length</th>\n",
       "      <th>sentiment_score</th>\n",
       "      <th>sentiment_category</th>\n",
       "    </tr>\n",
       "  </thead>\n",
       "  <tbody>\n",
       "    <tr>\n",
       "      <th>0</th>\n",
       "      <td>34347</td>\n",
       "      <td>180</td>\n",
       "      <td>Cumberland County</td>\n",
       "      <td>25</td>\n",
       "      <td>Cumberland County High School</td>\n",
       "      <td>F</td>\n",
       "      <td>52.0</td>\n",
       "      <td>MA</td>\n",
       "      <td>Teacher</td>\n",
       "      <td>1</td>\n",
       "      <td>...</td>\n",
       "      <td>2018-03-06 20:09:00</td>\n",
       "      <td>1</td>\n",
       "      <td>Each year there seems to be more added to the ...</td>\n",
       "      <td>1</td>\n",
       "      <td>71636</td>\n",
       "      <td>40876</td>\n",
       "      <td>12175</td>\n",
       "      <td>766</td>\n",
       "      <td>-5.0</td>\n",
       "      <td>negative</td>\n",
       "    </tr>\n",
       "    <tr>\n",
       "      <th>1</th>\n",
       "      <td>36435</td>\n",
       "      <td>320</td>\n",
       "      <td>Hamblen County</td>\n",
       "      <td>35</td>\n",
       "      <td>Whitesburg Elementary</td>\n",
       "      <td>M</td>\n",
       "      <td>53.0</td>\n",
       "      <td>MA+</td>\n",
       "      <td>Principal</td>\n",
       "      <td>0</td>\n",
       "      <td>...</td>\n",
       "      <td>2018-03-06 08:53:00</td>\n",
       "      <td>1</td>\n",
       "      <td>Give TCAP test in all grades. Give pre- and po...</td>\n",
       "      <td>1</td>\n",
       "      <td>71636</td>\n",
       "      <td>40876</td>\n",
       "      <td>12175</td>\n",
       "      <td>448</td>\n",
       "      <td>14.0</td>\n",
       "      <td>positive</td>\n",
       "    </tr>\n",
       "    <tr>\n",
       "      <th>2</th>\n",
       "      <td>43604</td>\n",
       "      <td>70</td>\n",
       "      <td>Campbell County</td>\n",
       "      <td>75</td>\n",
       "      <td>Jellico High School</td>\n",
       "      <td>F</td>\n",
       "      <td>51.0</td>\n",
       "      <td>BA</td>\n",
       "      <td>Teacher</td>\n",
       "      <td>1</td>\n",
       "      <td>...</td>\n",
       "      <td>2018-03-08 14:03:00</td>\n",
       "      <td>1</td>\n",
       "      <td>Testing has replaced learning and teaching. It...</td>\n",
       "      <td>1</td>\n",
       "      <td>71636</td>\n",
       "      <td>40876</td>\n",
       "      <td>12175</td>\n",
       "      <td>93</td>\n",
       "      <td>0.0</td>\n",
       "      <td>neutral</td>\n",
       "    </tr>\n",
       "    <tr>\n",
       "      <th>3</th>\n",
       "      <td>48309</td>\n",
       "      <td>630</td>\n",
       "      <td>Montgomery County</td>\n",
       "      <td>19</td>\n",
       "      <td>Kenwood High</td>\n",
       "      <td>M</td>\n",
       "      <td>39.0</td>\n",
       "      <td>MA+</td>\n",
       "      <td>Teacher</td>\n",
       "      <td>1</td>\n",
       "      <td>...</td>\n",
       "      <td>2018-03-20 06:09:00</td>\n",
       "      <td>1</td>\n",
       "      <td>Testing has become the driving force of educat...</td>\n",
       "      <td>1</td>\n",
       "      <td>71636</td>\n",
       "      <td>40876</td>\n",
       "      <td>12175</td>\n",
       "      <td>225</td>\n",
       "      <td>3.0</td>\n",
       "      <td>positive</td>\n",
       "    </tr>\n",
       "    <tr>\n",
       "      <th>4</th>\n",
       "      <td>49926</td>\n",
       "      <td>80</td>\n",
       "      <td>Cannon County</td>\n",
       "      <td>30</td>\n",
       "      <td>Short Mountain Elementary</td>\n",
       "      <td>M</td>\n",
       "      <td>50.0</td>\n",
       "      <td>MA</td>\n",
       "      <td>Principal</td>\n",
       "      <td>0</td>\n",
       "      <td>...</td>\n",
       "      <td>2018-03-13 10:51:00</td>\n",
       "      <td>1</td>\n",
       "      <td>The principal evaluation is too wordy and comp...</td>\n",
       "      <td>1</td>\n",
       "      <td>71636</td>\n",
       "      <td>40876</td>\n",
       "      <td>12175</td>\n",
       "      <td>244</td>\n",
       "      <td>0.0</td>\n",
       "      <td>neutral</td>\n",
       "    </tr>\n",
       "  </tbody>\n",
       "</table>\n",
       "<p>5 rows × 24 columns</p>\n",
       "</div>"
      ],
      "text/plain": [
       "   tchlic  district_no      district_name  school_no  \\\n",
       "0   34347          180  Cumberland County         25   \n",
       "1   36435          320     Hamblen County         35   \n",
       "2   43604           70    Campbell County         75   \n",
       "3   48309          630  Montgomery County         19   \n",
       "4   49926           80      Cannon County         30   \n",
       "\n",
       "                     school_name Gender  YrsExpr18 EdLevel18 Role_Compass  \\\n",
       "0  Cumberland County High School      F       52.0        MA      Teacher   \n",
       "1          Whitesburg Elementary      M       53.0       MA+    Principal   \n",
       "2            Jellico High School      F       51.0        BA      Teacher   \n",
       "3                   Kenwood High      M       39.0       MA+      Teacher   \n",
       "4      Short Mountain Elementary      M       50.0        MA    Principal   \n",
       "\n",
       "   bestguess_tch         ...                     EndTime  Responded  \\\n",
       "0              1         ...         2018-03-06 20:09:00          1   \n",
       "1              0         ...         2018-03-06 08:53:00          1   \n",
       "2              1         ...         2018-03-08 14:03:00          1   \n",
       "3              1         ...         2018-03-20 06:09:00          1   \n",
       "4              0         ...         2018-03-13 10:51:00          1   \n",
       "\n",
       "                                                 Q13 answered_q13  \\\n",
       "0  Each year there seems to be more added to the ...            1   \n",
       "1  Give TCAP test in all grades. Give pre- and po...            1   \n",
       "2  Testing has replaced learning and teaching. It...            1   \n",
       "3  Testing has become the driving force of educat...            1   \n",
       "4  The principal evaluation is too wordy and comp...            1   \n",
       "\n",
       "  total_surveys_sent  total_number_responses total_answered_q13  \\\n",
       "0              71636                   40876              12175   \n",
       "1              71636                   40876              12175   \n",
       "2              71636                   40876              12175   \n",
       "3              71636                   40876              12175   \n",
       "4              71636                   40876              12175   \n",
       "\n",
       "   response_character_length  sentiment_score  sentiment_category  \n",
       "0                        766             -5.0            negative  \n",
       "1                        448             14.0            positive  \n",
       "2                         93              0.0             neutral  \n",
       "3                        225              3.0            positive  \n",
       "4                        244              0.0             neutral  \n",
       "\n",
       "[5 rows x 24 columns]"
      ]
     },
     "execution_count": 44,
     "metadata": {},
     "output_type": "execute_result"
    }
   ],
   "source": [
    "# Inspecting the first 5 rows\n",
    "answers_w_sentiment_df.head()"
   ]
  },
  {
   "cell_type": "code",
   "execution_count": 45,
   "metadata": {
    "slideshow": {
     "slide_type": "skip"
    }
   },
   "outputs": [
    {
     "name": "stdout",
     "output_type": "stream",
     "text": [
      "<class 'pandas.core.frame.DataFrame'>\n",
      "RangeIndex: 12175 entries, 0 to 12174\n",
      "Data columns (total 24 columns):\n",
      "tchlic                       12175 non-null int32\n",
      "district_no                  12175 non-null int16\n",
      "district_name                12175 non-null object\n",
      "school_no                    12175 non-null int16\n",
      "school_name                  12175 non-null object\n",
      "Gender                       12175 non-null object\n",
      "YrsExpr18                    12121 non-null float64\n",
      "EdLevel18                    12175 non-null object\n",
      "Role_Compass                 12175 non-null object\n",
      "bestguess_tch                12175 non-null int8\n",
      "bestguess_admin              12175 non-null int8\n",
      "IPI_Sch                      12175 non-null int8\n",
      "Tier_Sch                     12175 non-null category\n",
      "StartTime                    12175 non-null datetime64[ns]\n",
      "EndTime                      12175 non-null datetime64[ns]\n",
      "Responded                    12175 non-null int8\n",
      "Q13                          12175 non-null object\n",
      "answered_q13                 12175 non-null int64\n",
      "total_surveys_sent           12175 non-null int64\n",
      "total_number_responses       12175 non-null int64\n",
      "total_answered_q13           12175 non-null int64\n",
      "response_character_length    12175 non-null int64\n",
      "sentiment_score              12175 non-null float64\n",
      "sentiment_category           12175 non-null object\n",
      "dtypes: category(1), datetime64[ns](2), float64(2), int16(2), int32(1), int64(5), int8(4), object(7)\n",
      "memory usage: 1.6+ MB\n"
     ]
    }
   ],
   "source": [
    "# Inspecting characteristics of the DF\n",
    "answers_w_sentiment_df.info()"
   ]
  },
  {
   "cell_type": "code",
   "execution_count": 46,
   "metadata": {
    "slideshow": {
     "slide_type": "subslide"
    }
   },
   "outputs": [
    {
     "data": {
      "text/plain": [
       "positive    7346\n",
       "negative    3072\n",
       "neutral     1757\n",
       "Name: sentiment_category, dtype: int64"
      ]
     },
     "execution_count": 46,
     "metadata": {},
     "output_type": "execute_result"
    }
   ],
   "source": [
    "answers_w_sentiment_df['sentiment_category'].value_counts()"
   ]
  },
  {
   "cell_type": "markdown",
   "metadata": {
    "slideshow": {
     "slide_type": "subslide"
    }
   },
   "source": [
    "- Negative: 3169\n",
    "- Neutral: 2142\n",
    "- Positive: 7612"
   ]
  },
  {
   "cell_type": "markdown",
   "metadata": {
    "slideshow": {
     "slide_type": "slide"
    }
   },
   "source": [
    "## The reviews seem to be pretty positive. But from reading through the responses, the majority seem to be negative\n",
    "- Maybe the context is throwing off the classifier"
   ]
  },
  {
   "cell_type": "code",
   "execution_count": 47,
   "metadata": {
    "slideshow": {
     "slide_type": "skip"
    }
   },
   "outputs": [],
   "source": [
    "# Breaking down the responses into sentences instead of classifying the text from the whole comments\n",
    "# all_sentences = [str(sent) for answer in open_ended_answers for sent  in nlp(answer).sents]"
   ]
  },
  {
   "cell_type": "code",
   "execution_count": 48,
   "metadata": {
    "slideshow": {
     "slide_type": "skip"
    }
   },
   "outputs": [],
   "source": [
    "# Looking at the first 10 sentences\n",
    "# all_sentences[:10]"
   ]
  },
  {
   "cell_type": "code",
   "execution_count": 49,
   "metadata": {
    "slideshow": {
     "slide_type": "skip"
    }
   },
   "outputs": [],
   "source": [
    "# Looking at the length of the sentences list\n",
    "# len(all_sentences)"
   ]
  },
  {
   "cell_type": "markdown",
   "metadata": {
    "slideshow": {
     "slide_type": "skip"
    }
   },
   "source": [
    "- 65,920 sentences across all the reviews"
   ]
  },
  {
   "cell_type": "code",
   "execution_count": 50,
   "metadata": {
    "slideshow": {
     "slide_type": "skip"
    }
   },
   "outputs": [],
   "source": [
    "# Using the first 10 sentences to quickly look at how the sentiment classifier \n",
    "# classifies them\n",
    "# sentiment_first_10_sentences = [af.score(sent) for sent in all_sentences[:10]]"
   ]
  },
  {
   "cell_type": "code",
   "execution_count": 51,
   "metadata": {
    "slideshow": {
     "slide_type": "skip"
    }
   },
   "outputs": [],
   "source": [
    "# Inspecting the score of the first 10 sentences\n",
    "# sentiment_first_10_sentences"
   ]
  },
  {
   "cell_type": "markdown",
   "metadata": {
    "slideshow": {
     "slide_type": "skip"
    }
   },
   "source": [
    "The classification of the sentences appears to be better than the classification of the the whole answers"
   ]
  },
  {
   "cell_type": "code",
   "execution_count": 52,
   "metadata": {
    "slideshow": {
     "slide_type": "skip"
    }
   },
   "outputs": [],
   "source": [
    "# Scoring first 5 responses\n",
    "# sentiment_first_5_answers = [af.score(sent) for sent in open_ended_answers[:5]]"
   ]
  },
  {
   "cell_type": "code",
   "execution_count": 53,
   "metadata": {
    "slideshow": {
     "slide_type": "skip"
    }
   },
   "outputs": [],
   "source": [
    "# Looking at first 5 responses\n",
    "# open_ended_answers[:5]"
   ]
  },
  {
   "cell_type": "code",
   "execution_count": 54,
   "metadata": {
    "scrolled": true,
    "slideshow": {
     "slide_type": "skip"
    }
   },
   "outputs": [],
   "source": [
    "# Looking at the scores for the first 5\n",
    "# sentiment_first_5_answers"
   ]
  },
  {
   "cell_type": "markdown",
   "metadata": {
    "slideshow": {
     "slide_type": "slide"
    }
   },
   "source": [
    "## Gensim Exploration"
   ]
  },
  {
   "cell_type": "markdown",
   "metadata": {
    "slideshow": {
     "slide_type": "skip"
    }
   },
   "source": [
    "#### Bigram creation"
   ]
  },
  {
   "cell_type": "code",
   "execution_count": 55,
   "metadata": {
    "slideshow": {
     "slide_type": "skip"
    }
   },
   "outputs": [
    {
     "name": "stderr",
     "output_type": "stream",
     "text": [
      "C:\\Users\\ca20593\\AppData\\Local\\Continuum\\anaconda3\\lib\\site-packages\\scipy\\sparse\\sparsetools.py:21: DeprecationWarning: `scipy.sparse.sparsetools` is deprecated!\n",
      "scipy.sparse.sparsetools is a private module for scipy.sparse, and should not be used.\n",
      "  _deprecated()\n"
     ]
    }
   ],
   "source": [
    "# Importing the relevant libraries\n",
    "import gensim\n",
    "from gensim import corpora\n",
    "from pprint import pprint\n",
    "from gensim.test.utils import datapath\n",
    "from gensim.models.word2vec import Text8Corpus\n",
    "from gensim.models.phrases import Phrases, Phraser"
   ]
  },
  {
   "cell_type": "code",
   "execution_count": 56,
   "metadata": {
    "slideshow": {
     "slide_type": "skip"
    }
   },
   "outputs": [],
   "source": [
    "# Splitting open_ended_answers list into words\n",
    "# List of lists with words from each answer as elements\n",
    "texts = [[text for text in doc.split()] for doc in open_ended_answers]"
   ]
  },
  {
   "cell_type": "code",
   "execution_count": 57,
   "metadata": {
    "slideshow": {
     "slide_type": "skip"
    }
   },
   "outputs": [],
   "source": [
    "# texts[0]"
   ]
  },
  {
   "cell_type": "code",
   "execution_count": 58,
   "metadata": {
    "slideshow": {
     "slide_type": "skip"
    }
   },
   "outputs": [],
   "source": [
    "# Creating gensim dictionary\n",
    "dictionary = corpora.Dictionary(texts)"
   ]
  },
  {
   "cell_type": "code",
   "execution_count": 59,
   "metadata": {
    "slideshow": {
     "slide_type": "skip"
    }
   },
   "outputs": [
    {
     "name": "stdout",
     "output_type": "stream",
     "text": [
      "Dictionary(38426 unique tokens: ['At', 'Each', 'Some', 'Teachers', 'The']...)\n"
     ]
    }
   ],
   "source": [
    "print(dictionary)"
   ]
  },
  {
   "cell_type": "markdown",
   "metadata": {
    "slideshow": {
     "slide_type": "skip"
    }
   },
   "source": [
    "## 38,426 unique tokens"
   ]
  },
  {
   "cell_type": "code",
   "execution_count": 60,
   "metadata": {
    "slideshow": {
     "slide_type": "skip"
    }
   },
   "outputs": [],
   "source": [
    "# print(dictionary.token2id)"
   ]
  },
  {
   "cell_type": "code",
   "execution_count": 61,
   "metadata": {
    "slideshow": {
     "slide_type": "skip"
    }
   },
   "outputs": [],
   "source": [
    "# Creating corpus\n",
    "# Corpus is unique ID for each word\n",
    "# Tuples with format (word_id, word_frequency)\n",
    "corpus = [dictionary.doc2bow(line) for line in texts]"
   ]
  },
  {
   "cell_type": "code",
   "execution_count": 62,
   "metadata": {
    "slideshow": {
     "slide_type": "skip"
    }
   },
   "outputs": [],
   "source": [
    "# Creating bigram\n",
    "# Min count = minimum number of times bigram must appear\n",
    "# threshold = score threshold for forming the bigrams as scored by the gensim scorer\n",
    "bigram = Phrases(texts, min_count = 3, threshold = 7)"
   ]
  },
  {
   "cell_type": "code",
   "execution_count": 63,
   "metadata": {
    "slideshow": {
     "slide_type": "subslide"
    }
   },
   "outputs": [
    {
     "name": "stdout",
     "output_type": "stream",
     "text": [
      "['Each_year', 'there', 'seems', 'to', 'be', 'more', 'added', 'to', 'the', 'teachers', 'plate,', 'making', 'it', 'more', 'difficult', 'to', 'focus_on', 'teaching.', 'Teachers', 'seem', 'to', 'be', 'more', 'stressed', 'than_ever', 'before.', 'The', 'constant', 'changing', 'of', 'testing', 'and', 'evaluations', 'have', 'certainly', 'contributed', 'to', 'this', 'stress.', 'The', 'state_testing', 'seems', 'to', 'be', 'unfair', 'in', 'many_ways.', 'Some', 'teachers', 'have', 'never_taught', 'a', 'tested_subject', 'and', 'have', 'not', 'had', 'the', 'stress', 'that', 'the', 'tested', 'teachers', 'have.', 'At', 'the_same', 'time,', 'their', 'evaluations', 'are', 'determined,', 'in', 'part,', 'by', 'the', 'success', 'or', 'lack_of', 'success', 'of', 'other', 'teachers', 'which', 'is_unfair', 'to', 'them.', 'Some', 'tested_subjects', 'are', 'scheduled', 'for', 'a', 'full', 'year,', 'allowing', 'sufficient_time', 'to', 'cover_all', 'of', 'the', 'state', 'standards', 'while_other', 'teachers', 'of', 'tested_subjects', 'have', 'only', 'a', 'semester', 'to', 'teach', 'a', 'similar', 'set', 'of', 'standards.']\n"
     ]
    }
   ],
   "source": [
    "# looking at bigram in first answer\n",
    "print(bigram[texts[0]])"
   ]
  },
  {
   "cell_type": "code",
   "execution_count": 64,
   "metadata": {
    "slideshow": {
     "slide_type": "notes"
    }
   },
   "outputs": [],
   "source": [
    "# Creating trigrams\n",
    "trigram = Phrases(bigram[texts], threshold = 8)"
   ]
  },
  {
   "cell_type": "code",
   "execution_count": 65,
   "metadata": {
    "slideshow": {
     "slide_type": "subslide"
    }
   },
   "outputs": [
    {
     "name": "stdout",
     "output_type": "stream",
     "text": [
      "['We_have', 'one', 'of', 'the', 'best', 'principals', 'I', 'have', 'ever_had.', 'I_would_prefer', 'that', 'the', 'stakes', 'of', 'the', 'state_test', 'not', 'be', 'so', 'high.', 'There_is_too_much', 'pressure_on', 'students_who', 'cannot_keep', 'pace', 'in', 'the', 'curriculum.', 'Extended', 'resource', 'would_be', 'very_helpful', 'for', 'those', 'few', 'students_who', 'do_not', 'have', 'the', 'intellectual', 'maturity/capacity', 'to', 'keep_pace', 'with', 'the', 'general_population.', 'Students', 'performing', '2', 'to', '4_years', 'below', 'their_peers', 'need', 'extended', 'time', 'to', 'close', 'the', 'gap', 'in', 'reading', 'and', 'math.']\n"
     ]
    }
   ],
   "source": [
    "# Looking at trigram of random response\n",
    "print(trigram[bigram[texts[750]]])"
   ]
  },
  {
   "cell_type": "markdown",
   "metadata": {
    "slideshow": {
     "slide_type": "slide"
    }
   },
   "source": [
    "## Topic Modeling"
   ]
  },
  {
   "cell_type": "code",
   "execution_count": 66,
   "metadata": {
    "slideshow": {
     "slide_type": "notes"
    }
   },
   "outputs": [],
   "source": [
    "# Loading relevant libraries\n",
    "from gensim.models import LdaModel, LdaMulticore\n",
    "import gensim.downloader as api\n",
    "from gensim.utils import simple_preprocess, lemmatize\n",
    "import re\n",
    "# import logging\n",
    "# logging.basicConfig(format='%(asctime)s : %(levelname)s : %(message)s')\n",
    "# logging.root.setLevel(level=logging.INFO)\n",
    "stop_words = stopwords.words('english')\n",
    "stop_words = stop_words + ['com', 'edu', 'would', 'could', '.', '!', ',', ';', \"n\\'t\", '(', ')', '?', \n",
    "                           'also', 'le', 'thank_you', 'u', 'etc']"
   ]
  },
  {
   "cell_type": "code",
   "execution_count": 67,
   "metadata": {
    "slideshow": {
     "slide_type": "notes"
    }
   },
   "outputs": [],
   "source": [
    "# Make all words lowercase and remove punctuation\n",
    "lower_no_punctuation = [[text for text in word_tokenize(doc.lower()) if text.isalpha()] for doc in open_ended_answers]"
   ]
  },
  {
   "cell_type": "code",
   "execution_count": 68,
   "metadata": {
    "slideshow": {
     "slide_type": "notes"
    }
   },
   "outputs": [],
   "source": [
    "bigram_topics = Phrases(lower_no_punctuation, min_count = 3, threshold = 8)"
   ]
  },
  {
   "cell_type": "code",
   "execution_count": 69,
   "metadata": {
    "slideshow": {
     "slide_type": "skip"
    }
   },
   "outputs": [
    {
     "name": "stdout",
     "output_type": "stream",
     "text": [
      "['each_year', 'there', 'seems', 'to', 'be', 'more', 'added', 'to', 'the', 'teachers', 'plate', 'making', 'it', 'more', 'difficult', 'to', 'focus_on', 'teaching', 'teachers', 'seem', 'to', 'be', 'more', 'stressed', 'than_ever', 'before', 'the', 'constant', 'changing', 'of', 'testing', 'and', 'evaluations', 'have', 'certainly', 'contributed', 'to', 'this', 'stress', 'the', 'state', 'testing', 'seems', 'to', 'be', 'unfair', 'in', 'many', 'ways', 'some', 'teachers', 'have', 'never_taught', 'a', 'tested_subject', 'and', 'have', 'not', 'had', 'the', 'stress', 'that', 'the', 'tested', 'teachers', 'have', 'at', 'the', 'same', 'time', 'their', 'evaluations', 'are', 'determined', 'in', 'part', 'by', 'the', 'success', 'or', 'lack_of', 'success', 'of', 'other', 'teachers', 'which', 'is', 'unfair', 'to', 'them', 'some', 'tested_subjects', 'are', 'scheduled', 'for', 'a', 'full', 'year', 'allowing', 'sufficient', 'time', 'to', 'cover', 'all', 'of', 'the', 'state', 'standards', 'while', 'other', 'teachers', 'of', 'tested_subjects', 'have', 'only', 'a', 'semester', 'to', 'teach', 'a', 'similar', 'set', 'of', 'standards']\n"
     ]
    }
   ],
   "source": [
    "print(bigram_topics[lower_no_punctuation[0]])"
   ]
  },
  {
   "cell_type": "code",
   "execution_count": 70,
   "metadata": {
    "slideshow": {
     "slide_type": "skip"
    }
   },
   "outputs": [],
   "source": [
    "# Creating trigrams\n",
    "trigram_topics = Phrases(bigram_topics[lower_no_punctuation], min_count = 2, threshold = 8)"
   ]
  },
  {
   "cell_type": "code",
   "execution_count": 71,
   "metadata": {
    "slideshow": {
     "slide_type": "skip"
    }
   },
   "outputs": [
    {
     "name": "stdout",
     "output_type": "stream",
     "text": [
      "['each_year', 'there_seems', 'to', 'be', 'more', 'added', 'to', 'the', 'teachers', 'plate', 'making', 'it', 'more', 'difficult', 'to', 'focus_on', 'teaching', 'teachers', 'seem', 'to', 'be', 'more', 'stressed', 'than_ever_before', 'the', 'constant_changing', 'of', 'testing', 'and', 'evaluations', 'have', 'certainly', 'contributed', 'to', 'this', 'stress', 'the', 'state_testing', 'seems', 'to', 'be', 'unfair', 'in', 'many_ways', 'some', 'teachers', 'have_never_taught', 'a_tested_subject', 'and', 'have', 'not', 'had', 'the', 'stress', 'that', 'the', 'tested', 'teachers', 'have', 'at', 'the', 'same', 'time', 'their', 'evaluations', 'are', 'determined', 'in', 'part', 'by', 'the', 'success', 'or', 'lack_of', 'success', 'of', 'other', 'teachers', 'which', 'is', 'unfair', 'to', 'them', 'some', 'tested_subjects', 'are', 'scheduled', 'for', 'a', 'full', 'year', 'allowing', 'sufficient', 'time', 'to', 'cover_all', 'of', 'the', 'state', 'standards', 'while', 'other', 'teachers', 'of', 'tested_subjects', 'have', 'only', 'a', 'semester', 'to', 'teach', 'a', 'similar', 'set', 'of', 'standards']\n"
     ]
    }
   ],
   "source": [
    "print(trigram_topics[bigram_topics[lower_no_punctuation[0]]])"
   ]
  },
  {
   "cell_type": "code",
   "execution_count": 72,
   "metadata": {
    "slideshow": {
     "slide_type": "skip"
    }
   },
   "outputs": [],
   "source": [
    "bigram_mod = Phraser(bigram_topics)\n",
    "trigram_mod = Phraser(trigram_topics)"
   ]
  },
  {
   "cell_type": "code",
   "execution_count": 73,
   "metadata": {
    "slideshow": {
     "slide_type": "skip"
    }
   },
   "outputs": [],
   "source": [
    "def make_bigrams(texts):\n",
    "    return [bigram_mod[doc] for doc in texts]\n",
    "\n",
    "def make_trigrams(texts):\n",
    "    return [trigram_mod[bigram_mod[doc]] for doc in texts]"
   ]
  },
  {
   "cell_type": "code",
   "execution_count": 74,
   "metadata": {
    "slideshow": {
     "slide_type": "skip"
    }
   },
   "outputs": [],
   "source": [
    "topic_trigrams = make_trigrams(lower_no_punctuation)"
   ]
  },
  {
   "cell_type": "code",
   "execution_count": 75,
   "metadata": {
    "slideshow": {
     "slide_type": "skip"
    }
   },
   "outputs": [],
   "source": [
    "topic_trigram_no_stops = [[text for text in doc if text not in stop_words] for doc in topic_trigrams]"
   ]
  },
  {
   "cell_type": "code",
   "execution_count": 76,
   "metadata": {
    "slideshow": {
     "slide_type": "skip"
    }
   },
   "outputs": [],
   "source": [
    "topic_lemmatized = [[wnl.lemmatize(text) for text in doc] for doc in topic_trigram_no_stops]"
   ]
  },
  {
   "cell_type": "code",
   "execution_count": 77,
   "metadata": {
    "slideshow": {
     "slide_type": "subslide"
    }
   },
   "outputs": [
    {
     "data": {
      "text/plain": [
       "['testing_has_become',\n",
       " 'driving_force',\n",
       " 'education',\n",
       " 'educating',\n",
       " 'student',\n",
       " 'have_been',\n",
       " 'education',\n",
       " 'year',\n",
       " 'have_seen',\n",
       " 'student',\n",
       " 'level',\n",
       " 'learning',\n",
       " 'decrease',\n",
       " 'please_consider',\n",
       " 'mean',\n",
       " 'reverse']"
      ]
     },
     "execution_count": 77,
     "metadata": {},
     "output_type": "execute_result"
    }
   ],
   "source": [
    "topic_lemmatized[3]"
   ]
  },
  {
   "cell_type": "code",
   "execution_count": 78,
   "metadata": {
    "slideshow": {
     "slide_type": "notes"
    }
   },
   "outputs": [],
   "source": [
    "# create dictionary\n",
    "id2word = corpora.Dictionary(topic_lemmatized)"
   ]
  },
  {
   "cell_type": "code",
   "execution_count": 79,
   "metadata": {
    "slideshow": {
     "slide_type": "skip"
    }
   },
   "outputs": [],
   "source": [
    "# Create Corpus\n",
    "texts = topic_lemmatized\n",
    "\n",
    "# Term Document Frequency\n",
    "corpus = [id2word.doc2bow(text) for text in texts]"
   ]
  },
  {
   "cell_type": "code",
   "execution_count": 80,
   "metadata": {
    "slideshow": {
     "slide_type": "notes"
    }
   },
   "outputs": [
    {
     "name": "stdout",
     "output_type": "stream",
     "text": [
      "[[(0, 1), (1, 1), (2, 1), (3, 1), (4, 1), (5, 1), (6, 1), (7, 1), (8, 1), (9, 1), (10, 2), (11, 1), (12, 1), (13, 1), (14, 1), (15, 1), (16, 1), (17, 1), (18, 1), (19, 1), (20, 1), (21, 1), (22, 1), (23, 1), (24, 1), (25, 2), (26, 1), (27, 1), (28, 2), (29, 1), (30, 2), (31, 1), (32, 1), (33, 6), (34, 1), (35, 1), (36, 2), (37, 1), (38, 1), (39, 1), (40, 2), (41, 2), (42, 1)]]\n"
     ]
    }
   ],
   "source": [
    "print(corpus[:1])"
   ]
  },
  {
   "cell_type": "code",
   "execution_count": 81,
   "metadata": {
    "slideshow": {
     "slide_type": "skip"
    }
   },
   "outputs": [],
   "source": [
    "lda_model = gensim.models.ldamodel.LdaModel(corpus=corpus,\n",
    "                                           id2word=id2word,\n",
    "                                           num_topics=8, \n",
    "                                           random_state=100,\n",
    "                                           update_every=1,\n",
    "                                           chunksize=300,\n",
    "                                           passes=10,\n",
    "                                           alpha='auto',\n",
    "                                           per_word_topics=True)"
   ]
  },
  {
   "cell_type": "code",
   "execution_count": 82,
   "metadata": {
    "slideshow": {
     "slide_type": "subslide"
    }
   },
   "outputs": [
    {
     "name": "stdout",
     "output_type": "stream",
     "text": [
      "[(0,\n",
      "  '0.098*\"student\" + 0.033*\"need\" + 0.019*\"test\" + 0.018*\"standard\" + '\n",
      "  '0.018*\"teach\" + 0.014*\"testing\" + 0.012*\"time\" + 0.010*\"class\" + '\n",
      "  '0.009*\"year\" + 0.008*\"get\"'),\n",
      " (1,\n",
      "  '0.030*\"rti\" + 0.027*\"i_feel_like\" + 0.024*\"minute\" + 0.016*\"run\" + '\n",
      "  '0.015*\"science\" + 0.013*\"social_studies\" + 0.011*\"group\" + 0.011*\"master\" + '\n",
      "  '0.009*\"past\" + 0.009*\"instructional\"'),\n",
      " (2,\n",
      "  '0.058*\"time\" + 0.022*\"work\" + 0.017*\"portfolio\" + 0.017*\"new\" + 0.015*\"day\" '\n",
      "  '+ 0.015*\"this_year\" + 0.014*\"required\" + 0.014*\"training\" + '\n",
      "  '0.013*\"expectation\" + 0.012*\"plan\"'),\n",
      " (3,\n",
      "  '0.039*\"beneficial\" + 0.022*\"general_education\" + 0.019*\"changing\" + '\n",
      "  '0.016*\"team_rubric\" + 0.013*\"business\" + 0.013*\"student_behavior\" + '\n",
      "  '0.012*\"open\" + 0.011*\"disciplinary\" + 0.010*\"possibly\" + 0.009*\"same_way\"'),\n",
      " (4,\n",
      "  '0.131*\"school\" + 0.034*\"district\" + 0.019*\"administration\" + '\n",
      "  '0.017*\"support\" + 0.016*\"need\" + 0.014*\"work\" + 0.014*\"parent\" + '\n",
      "  '0.013*\"help\" + 0.010*\"administrator\" + 0.009*\"often\"'),\n",
      " (5,\n",
      "  '0.051*\"principal\" + 0.029*\"staff\" + 0.017*\"leadership\" + 0.014*\"community\" '\n",
      "  '+ 0.012*\"attend\" + 0.011*\"leader\" + 0.010*\"communication\" + 0.010*\"culture\" '\n",
      "  '+ 0.010*\"mentor\" + 0.009*\"amazing\"'),\n",
      " (6,\n",
      "  '0.105*\"teacher\" + 0.020*\"i_am\" + 0.018*\"state\" + 0.014*\"classroom\" + '\n",
      "  '0.010*\"make\" + 0.010*\"education\" + 0.009*\"teaching\" + 0.009*\"score\" + '\n",
      "  '0.009*\"i_feel\" + 0.009*\"level\"'),\n",
      " (7,\n",
      "  '0.023*\"supply\" + 0.015*\"semester\" + 0.013*\"greater\" + 0.012*\"scheduled\" + '\n",
      "  '0.012*\"assigned\" + 0.011*\"attitude\" + 0.011*\"inconsistency\" + '\n",
      "  '0.011*\"remember\" + 0.010*\"feel_as_though\" + 0.010*\"support_from\"')]\n"
     ]
    }
   ],
   "source": [
    "pprint(lda_model.print_topics())"
   ]
  },
  {
   "cell_type": "code",
   "execution_count": 83,
   "metadata": {
    "slideshow": {
     "slide_type": "skip"
    }
   },
   "outputs": [],
   "source": [
    "from gensim import similarities"
   ]
  },
  {
   "cell_type": "code",
   "execution_count": 84,
   "metadata": {
    "slideshow": {
     "slide_type": "skip"
    }
   },
   "outputs": [],
   "source": [
    "lda_index = similarities.MatrixSimilarity(corpus, num_features=len(id2word))"
   ]
  },
  {
   "cell_type": "code",
   "execution_count": 85,
   "metadata": {
    "slideshow": {
     "slide_type": "skip"
    }
   },
   "outputs": [],
   "source": [
    "# similarities = lda_index[lda_model[id2word]]"
   ]
  },
  {
   "cell_type": "code",
   "execution_count": 86,
   "metadata": {
    "scrolled": true,
    "slideshow": {
     "slide_type": "skip"
    }
   },
   "outputs": [],
   "source": [
    "# vectorizer = CountVectorizer(min_df=5, max_df=0.9, stop_words='english', lowercase=True, token_pattern='[a-zA-Z\\-][a-zA-Z\\-]{2,}')\n"
   ]
  },
  {
   "cell_type": "code",
   "execution_count": 87,
   "metadata": {
    "slideshow": {
     "slide_type": "skip"
    }
   },
   "outputs": [],
   "source": [
    "from gensim import models\n",
    "tfidf = models.TfidfModel(corpus)"
   ]
  },
  {
   "cell_type": "code",
   "execution_count": 88,
   "metadata": {
    "slideshow": {
     "slide_type": "skip"
    }
   },
   "outputs": [
    {
     "data": {
      "text/plain": [
       "<gensim.models.tfidfmodel.TfidfModel at 0x1abc16b0668>"
      ]
     },
     "execution_count": 88,
     "metadata": {},
     "output_type": "execute_result"
    }
   ],
   "source": [
    "tfidf"
   ]
  },
  {
   "cell_type": "code",
   "execution_count": 89,
   "metadata": {
    "slideshow": {
     "slide_type": "skip"
    }
   },
   "outputs": [],
   "source": [
    "import pyLDAvis.gensim"
   ]
  },
  {
   "cell_type": "code",
   "execution_count": 90,
   "metadata": {
    "slideshow": {
     "slide_type": "skip"
    }
   },
   "outputs": [],
   "source": [
    "#lda_display = pyLDAvis.gensim.prepare(lda_model, corpus, id2word, sort_topics=False)"
   ]
  },
  {
   "cell_type": "code",
   "execution_count": 91,
   "metadata": {
    "slideshow": {
     "slide_type": "skip"
    }
   },
   "outputs": [],
   "source": [
    "# pyLDAvis.display(lda_display)"
   ]
  },
  {
   "cell_type": "code",
   "execution_count": 92,
   "metadata": {
    "slideshow": {
     "slide_type": "notes"
    }
   },
   "outputs": [],
   "source": [
    "def make_bigrams(texts):\n",
    "    return [bigram_mod[doc] for doc in texts]\n",
    "\n",
    "def make_trigrams(texts):\n",
    "    return [trigram_mod[bigram_mod[doc]] for doc in texts]\n",
    "\n",
    "def make_trigrams_mod(texts, trigram_model, bigram_model):\n",
    "    return [trigram_model[bigram_model[doc]] for doc in texts]"
   ]
  },
  {
   "cell_type": "code",
   "execution_count": 93,
   "metadata": {
    "slideshow": {
     "slide_type": "notes"
    }
   },
   "outputs": [],
   "source": [
    "# Outputs list of lists with trigrams for each answer in a list\n",
    "def preprocess_responses(text_list, bigram_min_count = 3, bigram_threshold = 8, trigram_min_count = 2, trigram_threshold = 8):\n",
    "    # Make all words lowercase and remove punctuation\n",
    "    lower_no_punctuation = [[text for text in word_tokenize(doc.lower()) if text.isalpha()] for doc in text_list]\n",
    "    # Establish stop words\n",
    "    # Needs stopwords from nltk.corpus\n",
    "    stop_words = stopwords.words('english')\n",
    "    stop_words = stop_words + ['would', 'could', 'also', 'le', 'thank_you', 'u', 'etc', 't',\n",
    "                              'the', 'and', 'are', 'of', 'for', 'that']\n",
    "    # remove stop words\n",
    "    text_no_stops = [[text for text in doc if text not in stop_words] for doc in lower_no_punctuation]\n",
    "    # Lemmatize\n",
    "    text_lemmatized = [[wnl.lemmatize(text) for text in doc] for doc in text_no_stops]\n",
    "    # models for trigrams and bigrams\n",
    "    bigram_topics = Phrases(text_lemmatized, min_count = bigram_min_count, threshold = bigram_threshold)\n",
    "    trigram_topics = Phrases(bigram_topics[text_lemmatized], min_count = trigram_min_count, threshold = trigram_threshold)\n",
    "    # Phraser for better performance\n",
    "    bigram_mod = Phraser(bigram_topics)\n",
    "    trigram_mod = Phraser(trigram_topics)\n",
    "    # Make trigrams (also forms bigrams in the process)\n",
    "    topic_trigrams = make_trigrams_mod(text_lemmatized, trigram_mod, bigram_mod)\n",
    "    return topic_trigrams\n",
    "    "
   ]
  },
  {
   "cell_type": "code",
   "execution_count": 94,
   "metadata": {
    "slideshow": {
     "slide_type": "notes"
    }
   },
   "outputs": [],
   "source": [
    "def make_lda_topic_model(preprocessed_list, num_topics = 10, chunksize = 200, passes = 10):\n",
    "    # create dictionary\n",
    "    id2word = corpora.Dictionary(preprocessed_list)\n",
    "    # Create Corpus\n",
    "    texts = preprocessed_list\n",
    "    corpus = [id2word.doc2bow(text) for text in texts] # Term Document Frequency\n",
    "    # Created model with gensim LDA model\n",
    "    lda_model = gensim.models.ldamodel.LdaModel(corpus=corpus,\n",
    "                                           id2word=id2word,\n",
    "                                           num_topics=num_topics, \n",
    "                                           random_state=100,\n",
    "                                           update_every=1,\n",
    "                                           chunksize=chunksize,\n",
    "                                           passes=passes,\n",
    "                                           alpha='auto',\n",
    "                                           per_word_topics=True)\n",
    "    return id2word, corpus, lda_model"
   ]
  },
  {
   "cell_type": "code",
   "execution_count": 95,
   "metadata": {
    "slideshow": {
     "slide_type": "notes"
    }
   },
   "outputs": [],
   "source": [
    "def make_topic_visual(model, corpus, dictionary):\n",
    "    lda_display = pyLDAvis.gensim.prepare(model, corpus, dictionary, sort_topics=False)\n",
    "    return pyLDAvis.display(lda_display)"
   ]
  },
  {
   "cell_type": "code",
   "execution_count": 96,
   "metadata": {
    "slideshow": {
     "slide_type": "skip"
    }
   },
   "outputs": [],
   "source": [
    "answers = preprocess_responses(open_ended_answers, \n",
    "                               bigram_min_count = 3, bigram_threshold = 8, \n",
    "                               trigram_min_count = 2, trigram_threshold = 3)"
   ]
  },
  {
   "cell_type": "code",
   "execution_count": 97,
   "metadata": {
    "slideshow": {
     "slide_type": "skip"
    }
   },
   "outputs": [],
   "source": [
    "dictionary, corpus, lda_model = make_lda_topic_model(answers)"
   ]
  },
  {
   "cell_type": "code",
   "execution_count": 98,
   "metadata": {
    "slideshow": {
     "slide_type": "subslide"
    }
   },
   "outputs": [
    {
     "name": "stdout",
     "output_type": "stream",
     "text": [
      "[(0,\n",
      "  '0.028*\"child\" + 0.018*\"training\" + 0.017*\"lot\" + 0.015*\"plan\" + '\n",
      "  '0.013*\"special_education\" + 0.012*\"pay\" + 0.011*\"show\" + '\n",
      "  '0.011*\"opportunity\" + 0.010*\"academic\" + 0.008*\"team\"'),\n",
      " (1,\n",
      "  '0.037*\"counselor\" + 0.022*\"school_counselor\" + 0.018*\"beneficial\" + '\n",
      "  '0.017*\"mentor\" + 0.016*\"next_year\" + 0.015*\"model\" + 0.012*\"came\" + '\n",
      "  '0.012*\"struggling\" + 0.011*\"absolutely\" + 0.011*\"need_support\"'),\n",
      " (2,\n",
      "  '0.034*\"truly\" + 0.023*\"career\" + 0.021*\"certain\" + 0.015*\"outside\" + '\n",
      "  '0.015*\"within_school\" + 0.014*\"social_study\" + 0.012*\"supported\" + '\n",
      "  '0.012*\"art\" + 0.011*\"considered\" + 0.011*\"pulled\"'),\n",
      " (3,\n",
      "  '0.041*\"portfolio\" + 0.024*\"lesson\" + 0.020*\"back\" + 0.019*\"hour\" + '\n",
      "  '0.017*\"planning_time\" + 0.011*\"book\" + 0.010*\"amazing\" + '\n",
      "  '0.010*\"love_school\" + 0.009*\"run\" + 0.009*\"nice\"'),\n",
      " (4,\n",
      "  '0.052*\"county\" + 0.040*\"fair\" + 0.038*\"pd\" + 0.034*\"another\" + '\n",
      "  '0.022*\"completely\" + 0.018*\"reflect\" + 0.014*\"whether\" + 0.013*\"cause\" + '\n",
      "  '0.012*\"rule\" + 0.011*\"consider\"'),\n",
      " (5,\n",
      "  '0.055*\"student\" + 0.050*\"teacher\" + 0.029*\"school\" + 0.019*\"need\" + '\n",
      "  '0.014*\"time\" + 0.010*\"year\" + 0.009*\"classroom\" + 0.009*\"feel\" + '\n",
      "  '0.009*\"teaching\" + 0.009*\"teach\"'),\n",
      " (6,\n",
      "  '0.043*\"working\" + 0.021*\"helpful\" + 0.019*\"high\" + 0.018*\"look\" + '\n",
      "  '0.018*\"survey\" + 0.018*\"simply\" + 0.014*\"quality\" + 0.013*\"student_growth\" '\n",
      "  '+ 0.013*\"leader\" + 0.012*\"trust\"'),\n",
      " (7,\n",
      "  '0.062*\"testing\" + 0.022*\"assessment\" + 0.021*\"data\" + 0.018*\"planning\" + '\n",
      "  '0.018*\"week\" + 0.013*\"result\" + 0.013*\"care\" + 0.012*\"standardized_test\" + '\n",
      "  '0.012*\"order\" + 0.011*\"start\"'),\n",
      " (8,\n",
      "  '0.116*\"test\" + 0.022*\"state_testing\" + 0.019*\"ability\" + 0.018*\"skill\" + '\n",
      "  '0.017*\"state_test\" + 0.012*\"specific\" + 0.010*\"learned\" + 0.009*\"month\" + '\n",
      "  '0.008*\"topic\" + 0.008*\"science\"'),\n",
      " (9,\n",
      "  '0.034*\"communication\" + 0.025*\"student_behavior\" + 0.018*\"class_size\" + '\n",
      "  '0.018*\"live\" + 0.017*\"negative\" + 0.016*\"real\" + 0.015*\"teacher_pay\" + '\n",
      "  '0.013*\"state_level\" + 0.013*\"teacher_effectiveness\" + 0.012*\"priority\"')]\n"
     ]
    }
   ],
   "source": [
    "pprint(lda_model.print_topics())"
   ]
  },
  {
   "cell_type": "code",
   "execution_count": 99,
   "metadata": {
    "slideshow": {
     "slide_type": "skip"
    }
   },
   "outputs": [],
   "source": [
    "# make_topic_visual(lda_model, corpus, dictionary)"
   ]
  },
  {
   "cell_type": "code",
   "execution_count": 100,
   "metadata": {
    "slideshow": {
     "slide_type": "subslide"
    }
   },
   "outputs": [],
   "source": [
    "def total_lda_vis(response_list, \n",
    "                  bigram_min_count = 3, bigram_threshold = 8, \n",
    "                  trigram_min_count = 2, trigram_threshold = 3,\n",
    "                  num_topics = 7, topic_chunksize = 200, passes = 10\n",
    "                 ):\n",
    "    trigram_list = preprocess_responses(response_list, \n",
    "                                        bigram_min_count = bigram_min_count, bigram_threshold = bigram_threshold, \n",
    "                                        trigram_min_count = trigram_min_count, trigram_threshold = trigram_threshold)\n",
    "    dictionary, corpus, lda_model = make_lda_topic_model(trigram_list, \n",
    "                                                         num_topics = num_topics, chunksize = topic_chunksize, passes = passes)\n",
    "    return make_topic_visual(lda_model, corpus, dictionary)"
   ]
  },
  {
   "cell_type": "code",
   "execution_count": 101,
   "metadata": {
    "scrolled": false,
    "slideshow": {
     "slide_type": "slide"
    }
   },
   "outputs": [],
   "source": [
    "# total_lda_vis(open_ended_answers, \n",
    "#                   bigram_min_count = 3, bigram_threshold = 3, \n",
    "#                   trigram_min_count = 2, trigram_threshold = 3,\n",
    "#                   num_topics = 6, topic_chunksize = 300, passes = 8\n",
    "#                  )"
   ]
  },
  {
   "cell_type": "markdown",
   "metadata": {
    "slideshow": {
     "slide_type": "slide"
    }
   },
   "source": [
    "## Compare Different groups in survey"
   ]
  },
  {
   "cell_type": "code",
   "execution_count": 102,
   "metadata": {
    "slideshow": {
     "slide_type": "skip"
    }
   },
   "outputs": [],
   "source": [
    "# df_selected_columns['Role_Compass'].value_counts()"
   ]
  },
  {
   "cell_type": "code",
   "execution_count": 103,
   "metadata": {
    "slideshow": {
     "slide_type": "subslide"
    }
   },
   "outputs": [],
   "source": [
    "def teacher_admin(row):\n",
    "    if row['bestguess_tch'] == 1:\n",
    "        return 'Teacher'\n",
    "    else:\n",
    "        return 'Admin'"
   ]
  },
  {
   "cell_type": "code",
   "execution_count": 104,
   "metadata": {
    "slideshow": {
     "slide_type": "skip"
    }
   },
   "outputs": [
    {
     "name": "stderr",
     "output_type": "stream",
     "text": [
      "C:\\Users\\ca20593\\AppData\\Local\\Continuum\\anaconda3\\lib\\site-packages\\pandas\\core\\indexing.py:362: SettingWithCopyWarning: \n",
      "A value is trying to be set on a copy of a slice from a DataFrame.\n",
      "Try using .loc[row_indexer,col_indexer] = value instead\n",
      "\n",
      "See the caveats in the documentation: http://pandas.pydata.org/pandas-docs/stable/indexing.html#indexing-view-versus-copy\n",
      "  self.obj[key] = _infer_fill_value(value)\n"
     ]
    }
   ],
   "source": [
    "df_open_answered.loc[:,'teacher_admin'] = df_open_answered.apply(teacher_admin, axis = 1)"
   ]
  },
  {
   "cell_type": "code",
   "execution_count": 105,
   "metadata": {
    "slideshow": {
     "slide_type": "subslide"
    }
   },
   "outputs": [
    {
     "data": {
      "text/html": [
       "<div>\n",
       "<style scoped>\n",
       "    .dataframe tbody tr th:only-of-type {\n",
       "        vertical-align: middle;\n",
       "    }\n",
       "\n",
       "    .dataframe tbody tr th {\n",
       "        vertical-align: top;\n",
       "    }\n",
       "\n",
       "    .dataframe thead th {\n",
       "        text-align: right;\n",
       "    }\n",
       "</style>\n",
       "<table border=\"1\" class=\"dataframe\">\n",
       "  <thead>\n",
       "    <tr style=\"text-align: right;\">\n",
       "      <th></th>\n",
       "      <th>tchlic</th>\n",
       "      <th>district_no</th>\n",
       "      <th>district_name</th>\n",
       "      <th>school_no</th>\n",
       "      <th>school_name</th>\n",
       "      <th>Gender</th>\n",
       "      <th>YrsExpr18</th>\n",
       "      <th>EdLevel18</th>\n",
       "      <th>Role_Compass</th>\n",
       "      <th>bestguess_tch</th>\n",
       "      <th>...</th>\n",
       "      <th>StartTime</th>\n",
       "      <th>EndTime</th>\n",
       "      <th>Responded</th>\n",
       "      <th>Q13</th>\n",
       "      <th>answered_q13</th>\n",
       "      <th>total_surveys_sent</th>\n",
       "      <th>total_number_responses</th>\n",
       "      <th>total_answered_q13</th>\n",
       "      <th>response_character_length</th>\n",
       "      <th>teacher_admin</th>\n",
       "    </tr>\n",
       "  </thead>\n",
       "  <tbody>\n",
       "    <tr>\n",
       "      <th>5</th>\n",
       "      <td>34347</td>\n",
       "      <td>180</td>\n",
       "      <td>Cumberland County</td>\n",
       "      <td>25</td>\n",
       "      <td>Cumberland County High School</td>\n",
       "      <td>F</td>\n",
       "      <td>52.0</td>\n",
       "      <td>MA</td>\n",
       "      <td>Teacher</td>\n",
       "      <td>1</td>\n",
       "      <td>...</td>\n",
       "      <td>2018-03-06 19:14:00</td>\n",
       "      <td>2018-03-06 20:09:00</td>\n",
       "      <td>1</td>\n",
       "      <td>Each year there seems to be more added to the ...</td>\n",
       "      <td>1</td>\n",
       "      <td>71636</td>\n",
       "      <td>40876</td>\n",
       "      <td>12175</td>\n",
       "      <td>766</td>\n",
       "      <td>Teacher</td>\n",
       "    </tr>\n",
       "    <tr>\n",
       "      <th>7</th>\n",
       "      <td>36435</td>\n",
       "      <td>320</td>\n",
       "      <td>Hamblen County</td>\n",
       "      <td>35</td>\n",
       "      <td>Whitesburg Elementary</td>\n",
       "      <td>M</td>\n",
       "      <td>53.0</td>\n",
       "      <td>MA+</td>\n",
       "      <td>Principal</td>\n",
       "      <td>0</td>\n",
       "      <td>...</td>\n",
       "      <td>2018-03-06 08:10:00</td>\n",
       "      <td>2018-03-06 08:53:00</td>\n",
       "      <td>1</td>\n",
       "      <td>Give TCAP test in all grades. Give pre- and po...</td>\n",
       "      <td>1</td>\n",
       "      <td>71636</td>\n",
       "      <td>40876</td>\n",
       "      <td>12175</td>\n",
       "      <td>448</td>\n",
       "      <td>Admin</td>\n",
       "    </tr>\n",
       "    <tr>\n",
       "      <th>17</th>\n",
       "      <td>43604</td>\n",
       "      <td>70</td>\n",
       "      <td>Campbell County</td>\n",
       "      <td>75</td>\n",
       "      <td>Jellico High School</td>\n",
       "      <td>F</td>\n",
       "      <td>51.0</td>\n",
       "      <td>BA</td>\n",
       "      <td>Teacher</td>\n",
       "      <td>1</td>\n",
       "      <td>...</td>\n",
       "      <td>2018-03-08 13:23:00</td>\n",
       "      <td>2018-03-08 14:03:00</td>\n",
       "      <td>1</td>\n",
       "      <td>Testing has replaced learning and teaching. It...</td>\n",
       "      <td>1</td>\n",
       "      <td>71636</td>\n",
       "      <td>40876</td>\n",
       "      <td>12175</td>\n",
       "      <td>93</td>\n",
       "      <td>Teacher</td>\n",
       "    </tr>\n",
       "    <tr>\n",
       "      <th>27</th>\n",
       "      <td>48309</td>\n",
       "      <td>630</td>\n",
       "      <td>Montgomery County</td>\n",
       "      <td>19</td>\n",
       "      <td>Kenwood High</td>\n",
       "      <td>M</td>\n",
       "      <td>39.0</td>\n",
       "      <td>MA+</td>\n",
       "      <td>Teacher</td>\n",
       "      <td>1</td>\n",
       "      <td>...</td>\n",
       "      <td>2018-03-06 05:53:00</td>\n",
       "      <td>2018-03-20 06:09:00</td>\n",
       "      <td>1</td>\n",
       "      <td>Testing has become the driving force of educat...</td>\n",
       "      <td>1</td>\n",
       "      <td>71636</td>\n",
       "      <td>40876</td>\n",
       "      <td>12175</td>\n",
       "      <td>225</td>\n",
       "      <td>Teacher</td>\n",
       "    </tr>\n",
       "    <tr>\n",
       "      <th>30</th>\n",
       "      <td>49926</td>\n",
       "      <td>80</td>\n",
       "      <td>Cannon County</td>\n",
       "      <td>30</td>\n",
       "      <td>Short Mountain Elementary</td>\n",
       "      <td>M</td>\n",
       "      <td>50.0</td>\n",
       "      <td>MA</td>\n",
       "      <td>Principal</td>\n",
       "      <td>0</td>\n",
       "      <td>...</td>\n",
       "      <td>2018-03-13 09:53:00</td>\n",
       "      <td>2018-03-13 10:51:00</td>\n",
       "      <td>1</td>\n",
       "      <td>The principal evaluation is too wordy and comp...</td>\n",
       "      <td>1</td>\n",
       "      <td>71636</td>\n",
       "      <td>40876</td>\n",
       "      <td>12175</td>\n",
       "      <td>244</td>\n",
       "      <td>Admin</td>\n",
       "    </tr>\n",
       "  </tbody>\n",
       "</table>\n",
       "<p>5 rows × 23 columns</p>\n",
       "</div>"
      ],
      "text/plain": [
       "    tchlic  district_no      district_name  school_no  \\\n",
       "5    34347          180  Cumberland County         25   \n",
       "7    36435          320     Hamblen County         35   \n",
       "17   43604           70    Campbell County         75   \n",
       "27   48309          630  Montgomery County         19   \n",
       "30   49926           80      Cannon County         30   \n",
       "\n",
       "                      school_name Gender  YrsExpr18 EdLevel18 Role_Compass  \\\n",
       "5   Cumberland County High School      F       52.0        MA      Teacher   \n",
       "7           Whitesburg Elementary      M       53.0       MA+    Principal   \n",
       "17            Jellico High School      F       51.0        BA      Teacher   \n",
       "27                   Kenwood High      M       39.0       MA+      Teacher   \n",
       "30      Short Mountain Elementary      M       50.0        MA    Principal   \n",
       "\n",
       "    bestguess_tch      ...                 StartTime             EndTime  \\\n",
       "5               1      ...       2018-03-06 19:14:00 2018-03-06 20:09:00   \n",
       "7               0      ...       2018-03-06 08:10:00 2018-03-06 08:53:00   \n",
       "17              1      ...       2018-03-08 13:23:00 2018-03-08 14:03:00   \n",
       "27              1      ...       2018-03-06 05:53:00 2018-03-20 06:09:00   \n",
       "30              0      ...       2018-03-13 09:53:00 2018-03-13 10:51:00   \n",
       "\n",
       "   Responded                                                Q13 answered_q13  \\\n",
       "5          1  Each year there seems to be more added to the ...            1   \n",
       "7          1  Give TCAP test in all grades. Give pre- and po...            1   \n",
       "17         1  Testing has replaced learning and teaching. It...            1   \n",
       "27         1  Testing has become the driving force of educat...            1   \n",
       "30         1  The principal evaluation is too wordy and comp...            1   \n",
       "\n",
       "    total_surveys_sent total_number_responses  total_answered_q13  \\\n",
       "5                71636                  40876               12175   \n",
       "7                71636                  40876               12175   \n",
       "17               71636                  40876               12175   \n",
       "27               71636                  40876               12175   \n",
       "30               71636                  40876               12175   \n",
       "\n",
       "    response_character_length  teacher_admin  \n",
       "5                         766        Teacher  \n",
       "7                         448          Admin  \n",
       "17                         93        Teacher  \n",
       "27                        225        Teacher  \n",
       "30                        244          Admin  \n",
       "\n",
       "[5 rows x 23 columns]"
      ]
     },
     "execution_count": 105,
     "metadata": {},
     "output_type": "execute_result"
    }
   ],
   "source": [
    "df_open_answered.head()"
   ]
  },
  {
   "cell_type": "code",
   "execution_count": 106,
   "metadata": {
    "slideshow": {
     "slide_type": "subslide"
    }
   },
   "outputs": [
    {
     "data": {
      "text/plain": [
       "Teacher    11652\n",
       "Admin        523\n",
       "Name: teacher_admin, dtype: int64"
      ]
     },
     "execution_count": 106,
     "metadata": {},
     "output_type": "execute_result"
    }
   ],
   "source": [
    "df_open_answered.teacher_admin.value_counts()"
   ]
  },
  {
   "cell_type": "code",
   "execution_count": 107,
   "metadata": {
    "slideshow": {
     "slide_type": "skip"
    }
   },
   "outputs": [],
   "source": [
    "teacher_answered_df = df_open_answered.loc[(df_open_answered['teacher_admin'] == 'Teacher'), :]"
   ]
  },
  {
   "cell_type": "code",
   "execution_count": 108,
   "metadata": {
    "slideshow": {
     "slide_type": "skip"
    }
   },
   "outputs": [],
   "source": [
    "admin_answered_df = df_open_answered.loc[(df_open_answered['teacher_admin'] == 'Admin'), :]"
   ]
  },
  {
   "cell_type": "code",
   "execution_count": 109,
   "metadata": {
    "slideshow": {
     "slide_type": "subslide"
    }
   },
   "outputs": [
    {
     "name": "stdout",
     "output_type": "stream",
     "text": [
      "Number of Teachers answering Q13: 11652\n"
     ]
    }
   ],
   "source": [
    "print('Number of Teachers answering Q13: ' + str(teacher_answered_df.shape[0]))"
   ]
  },
  {
   "cell_type": "code",
   "execution_count": 110,
   "metadata": {
    "slideshow": {
     "slide_type": "subslide"
    }
   },
   "outputs": [
    {
     "name": "stdout",
     "output_type": "stream",
     "text": [
      "Number of Admins answering Q13: 523\n"
     ]
    }
   ],
   "source": [
    "print('Number of Admins answering Q13: ' + str(admin_answered_df.shape[0]))"
   ]
  },
  {
   "cell_type": "code",
   "execution_count": 111,
   "metadata": {
    "slideshow": {
     "slide_type": "skip"
    }
   },
   "outputs": [],
   "source": [
    "teacher_comment_list = teacher_answered_df.Q13.tolist()"
   ]
  },
  {
   "cell_type": "code",
   "execution_count": 112,
   "metadata": {
    "slideshow": {
     "slide_type": "skip"
    }
   },
   "outputs": [],
   "source": [
    "admin_comment_list = admin_answered_df.Q13.tolist()"
   ]
  },
  {
   "cell_type": "code",
   "execution_count": 113,
   "metadata": {
    "slideshow": {
     "slide_type": "skip"
    }
   },
   "outputs": [
    {
     "data": {
      "text/plain": [
       "['Give TCAP test in all grades. Give pre- and post in k. Give post in every other grade. This would give a more accurate growth score for all teachers. If growth scores are important then give teachers their OWN SCORES. Giving teachers growth from other grade levels cannot be accurate. Growth scores count 35%of teacher evaluation.If teachers have their  own scores they will work harder and smarter. Portfolios cannot be accurate for growth scores.',\n",
       " 'The principal evaluation is too wordy and complex.  There\\'s too much \"evidence\" required. We spend too much time documenting some indicator (for example, 58 pieces of evidence for Standard A). We don\\'t have enough local training on the process.',\n",
       " 'If schools are to be graded on state standards then why is there not a state-wide curriculum that teachers are expected to teach instead of having 135 + school systems design their own  plus their own pacing guides.  The changes that have taken place over the last four years in testing at the state level have been more disorganized than at any time in my educational career.  This  sounds as if I am a very negative person which is totally not my trait at all.  Teachers are working so hard and the good teachers can do very little more and then the state changes testing format or creates new standards and teachers spend hours searching for materials to teach these new standards.']"
      ]
     },
     "execution_count": 113,
     "metadata": {},
     "output_type": "execute_result"
    }
   ],
   "source": [
    "admin_comment_list[:3]"
   ]
  },
  {
   "cell_type": "markdown",
   "metadata": {
    "slideshow": {
     "slide_type": "slide"
    }
   },
   "source": [
    "## Admin Topic Model"
   ]
  },
  {
   "cell_type": "code",
   "execution_count": 114,
   "metadata": {
    "scrolled": false,
    "slideshow": {
     "slide_type": "slide"
    }
   },
   "outputs": [],
   "source": [
    "# total_lda_vis(admin_comment_list, \n",
    "#                   bigram_min_count = 3, bigram_threshold = 8, \n",
    "#                   trigram_min_count = 2, trigram_threshold = 3,\n",
    "#                   num_topics = 5, topic_chunksize = 75, passes = 8\n",
    "#                  )"
   ]
  },
  {
   "cell_type": "markdown",
   "metadata": {
    "slideshow": {
     "slide_type": "slide"
    }
   },
   "source": [
    "## Teacher Topic Model"
   ]
  },
  {
   "cell_type": "code",
   "execution_count": 115,
   "metadata": {
    "slideshow": {
     "slide_type": "slide"
    }
   },
   "outputs": [],
   "source": [
    "# total_lda_vis(teacher_comment_list, \n",
    "#                   bigram_min_count = 3, bigram_threshold = 8, \n",
    "#                   trigram_min_count = 2, trigram_threshold = 3,\n",
    "#                   num_topics = 5, topic_chunksize = 75, passes = 8\n",
    "#                  )"
   ]
  },
  {
   "cell_type": "markdown",
   "metadata": {
    "slideshow": {
     "slide_type": "skip"
    }
   },
   "source": [
    "## Textblob Sentiment Analysis"
   ]
  },
  {
   "cell_type": "code",
   "execution_count": 116,
   "metadata": {
    "slideshow": {
     "slide_type": "skip"
    }
   },
   "outputs": [],
   "source": [
    "from textblob import TextBlob\n",
    "from textblob.sentiments import NaiveBayesAnalyzer"
   ]
  },
  {
   "cell_type": "code",
   "execution_count": 117,
   "metadata": {
    "slideshow": {
     "slide_type": "skip"
    }
   },
   "outputs": [],
   "source": [
    "blob_list = [TextBlob(doc) for doc in open_ended_answers]"
   ]
  },
  {
   "cell_type": "code",
   "execution_count": 118,
   "metadata": {
    "slideshow": {
     "slide_type": "skip"
    }
   },
   "outputs": [],
   "source": [
    "answer_sentiments = [blob.sentiment.polarity for blob in blob_list]"
   ]
  },
  {
   "cell_type": "code",
   "execution_count": 119,
   "metadata": {
    "slideshow": {
     "slide_type": "skip"
    }
   },
   "outputs": [
    {
     "data": {
      "text/plain": [
       "[0.06931216931216931, 0.29500000000000004, 0.0, 0.0, 0.016666666666666673]"
      ]
     },
     "execution_count": 119,
     "metadata": {},
     "output_type": "execute_result"
    }
   ],
   "source": [
    "answer_sentiments[:5]"
   ]
  },
  {
   "cell_type": "code",
   "execution_count": 120,
   "metadata": {
    "slideshow": {
     "slide_type": "skip"
    }
   },
   "outputs": [
    {
     "name": "stdout",
     "output_type": "stream",
     "text": [
      "Average sentiment: 0.13773875368173114\n"
     ]
    }
   ],
   "source": [
    "print('Average sentiment: ' + str(np.mean(answer_sentiments)))"
   ]
  },
  {
   "cell_type": "markdown",
   "metadata": {
    "slideshow": {
     "slide_type": "skip"
    }
   },
   "source": [
    "The average sentiment seems to indicate that the reviews are positive overall"
   ]
  },
  {
   "cell_type": "code",
   "execution_count": 121,
   "metadata": {
    "slideshow": {
     "slide_type": "skip"
    }
   },
   "outputs": [],
   "source": [
    "sent_category = ['positive' if sent > 0 else 'neutral' if sent == 0 else 'negative' for sent in answer_sentiments]"
   ]
  },
  {
   "cell_type": "code",
   "execution_count": 122,
   "metadata": {
    "slideshow": {
     "slide_type": "skip"
    }
   },
   "outputs": [
    {
     "data": {
      "text/plain": [
       "12175"
      ]
     },
     "execution_count": 122,
     "metadata": {},
     "output_type": "execute_result"
    }
   ],
   "source": [
    "len(sent_category)"
   ]
  },
  {
   "cell_type": "code",
   "execution_count": 123,
   "metadata": {
    "slideshow": {
     "slide_type": "skip"
    }
   },
   "outputs": [],
   "source": [
    "neg_inds = [True if sent < 0 else False for sent in answer_sentiments]"
   ]
  },
  {
   "cell_type": "code",
   "execution_count": 124,
   "metadata": {
    "slideshow": {
     "slide_type": "skip"
    }
   },
   "outputs": [],
   "source": [
    "from itertools import compress"
   ]
  },
  {
   "cell_type": "code",
   "execution_count": 125,
   "metadata": {
    "slideshow": {
     "slide_type": "skip"
    }
   },
   "outputs": [],
   "source": [
    "# Reviews marked as negative\n",
    "negative_comment_list = list(compress(open_ended_answers, neg_inds))"
   ]
  },
  {
   "cell_type": "code",
   "execution_count": 126,
   "metadata": {
    "slideshow": {
     "slide_type": "skip"
    }
   },
   "outputs": [],
   "source": [
    "textblob_sentiments_df = pd.DataFrame({'sentiment_polarity': answer_sentiments,\n",
    "                                      'sentiment_category': sent_category})"
   ]
  },
  {
   "cell_type": "code",
   "execution_count": 127,
   "metadata": {
    "slideshow": {
     "slide_type": "skip"
    }
   },
   "outputs": [],
   "source": [
    "textblob_total_df =  pd.concat([df_open_answered.reset_index(drop=True), textblob_sentiments_df], axis=1)"
   ]
  },
  {
   "cell_type": "code",
   "execution_count": 128,
   "metadata": {
    "slideshow": {
     "slide_type": "skip"
    }
   },
   "outputs": [
    {
     "data": {
      "text/html": [
       "<div>\n",
       "<style scoped>\n",
       "    .dataframe tbody tr th:only-of-type {\n",
       "        vertical-align: middle;\n",
       "    }\n",
       "\n",
       "    .dataframe tbody tr th {\n",
       "        vertical-align: top;\n",
       "    }\n",
       "\n",
       "    .dataframe thead th {\n",
       "        text-align: right;\n",
       "    }\n",
       "</style>\n",
       "<table border=\"1\" class=\"dataframe\">\n",
       "  <thead>\n",
       "    <tr style=\"text-align: right;\">\n",
       "      <th></th>\n",
       "      <th>tchlic</th>\n",
       "      <th>district_no</th>\n",
       "      <th>district_name</th>\n",
       "      <th>school_no</th>\n",
       "      <th>school_name</th>\n",
       "      <th>Gender</th>\n",
       "      <th>YrsExpr18</th>\n",
       "      <th>EdLevel18</th>\n",
       "      <th>Role_Compass</th>\n",
       "      <th>bestguess_tch</th>\n",
       "      <th>...</th>\n",
       "      <th>Responded</th>\n",
       "      <th>Q13</th>\n",
       "      <th>answered_q13</th>\n",
       "      <th>total_surveys_sent</th>\n",
       "      <th>total_number_responses</th>\n",
       "      <th>total_answered_q13</th>\n",
       "      <th>response_character_length</th>\n",
       "      <th>teacher_admin</th>\n",
       "      <th>sentiment_polarity</th>\n",
       "      <th>sentiment_category</th>\n",
       "    </tr>\n",
       "  </thead>\n",
       "  <tbody>\n",
       "    <tr>\n",
       "      <th>0</th>\n",
       "      <td>34347</td>\n",
       "      <td>180</td>\n",
       "      <td>Cumberland County</td>\n",
       "      <td>25</td>\n",
       "      <td>Cumberland County High School</td>\n",
       "      <td>F</td>\n",
       "      <td>52.0</td>\n",
       "      <td>MA</td>\n",
       "      <td>Teacher</td>\n",
       "      <td>1</td>\n",
       "      <td>...</td>\n",
       "      <td>1</td>\n",
       "      <td>Each year there seems to be more added to the ...</td>\n",
       "      <td>1</td>\n",
       "      <td>71636</td>\n",
       "      <td>40876</td>\n",
       "      <td>12175</td>\n",
       "      <td>766</td>\n",
       "      <td>Teacher</td>\n",
       "      <td>0.069312</td>\n",
       "      <td>positive</td>\n",
       "    </tr>\n",
       "    <tr>\n",
       "      <th>1</th>\n",
       "      <td>36435</td>\n",
       "      <td>320</td>\n",
       "      <td>Hamblen County</td>\n",
       "      <td>35</td>\n",
       "      <td>Whitesburg Elementary</td>\n",
       "      <td>M</td>\n",
       "      <td>53.0</td>\n",
       "      <td>MA+</td>\n",
       "      <td>Principal</td>\n",
       "      <td>0</td>\n",
       "      <td>...</td>\n",
       "      <td>1</td>\n",
       "      <td>Give TCAP test in all grades. Give pre- and po...</td>\n",
       "      <td>1</td>\n",
       "      <td>71636</td>\n",
       "      <td>40876</td>\n",
       "      <td>12175</td>\n",
       "      <td>448</td>\n",
       "      <td>Admin</td>\n",
       "      <td>0.295000</td>\n",
       "      <td>positive</td>\n",
       "    </tr>\n",
       "    <tr>\n",
       "      <th>2</th>\n",
       "      <td>43604</td>\n",
       "      <td>70</td>\n",
       "      <td>Campbell County</td>\n",
       "      <td>75</td>\n",
       "      <td>Jellico High School</td>\n",
       "      <td>F</td>\n",
       "      <td>51.0</td>\n",
       "      <td>BA</td>\n",
       "      <td>Teacher</td>\n",
       "      <td>1</td>\n",
       "      <td>...</td>\n",
       "      <td>1</td>\n",
       "      <td>Testing has replaced learning and teaching. It...</td>\n",
       "      <td>1</td>\n",
       "      <td>71636</td>\n",
       "      <td>40876</td>\n",
       "      <td>12175</td>\n",
       "      <td>93</td>\n",
       "      <td>Teacher</td>\n",
       "      <td>0.000000</td>\n",
       "      <td>neutral</td>\n",
       "    </tr>\n",
       "    <tr>\n",
       "      <th>3</th>\n",
       "      <td>48309</td>\n",
       "      <td>630</td>\n",
       "      <td>Montgomery County</td>\n",
       "      <td>19</td>\n",
       "      <td>Kenwood High</td>\n",
       "      <td>M</td>\n",
       "      <td>39.0</td>\n",
       "      <td>MA+</td>\n",
       "      <td>Teacher</td>\n",
       "      <td>1</td>\n",
       "      <td>...</td>\n",
       "      <td>1</td>\n",
       "      <td>Testing has become the driving force of educat...</td>\n",
       "      <td>1</td>\n",
       "      <td>71636</td>\n",
       "      <td>40876</td>\n",
       "      <td>12175</td>\n",
       "      <td>225</td>\n",
       "      <td>Teacher</td>\n",
       "      <td>0.000000</td>\n",
       "      <td>neutral</td>\n",
       "    </tr>\n",
       "    <tr>\n",
       "      <th>4</th>\n",
       "      <td>49926</td>\n",
       "      <td>80</td>\n",
       "      <td>Cannon County</td>\n",
       "      <td>30</td>\n",
       "      <td>Short Mountain Elementary</td>\n",
       "      <td>M</td>\n",
       "      <td>50.0</td>\n",
       "      <td>MA</td>\n",
       "      <td>Principal</td>\n",
       "      <td>0</td>\n",
       "      <td>...</td>\n",
       "      <td>1</td>\n",
       "      <td>The principal evaluation is too wordy and comp...</td>\n",
       "      <td>1</td>\n",
       "      <td>71636</td>\n",
       "      <td>40876</td>\n",
       "      <td>12175</td>\n",
       "      <td>244</td>\n",
       "      <td>Admin</td>\n",
       "      <td>0.016667</td>\n",
       "      <td>positive</td>\n",
       "    </tr>\n",
       "  </tbody>\n",
       "</table>\n",
       "<p>5 rows × 25 columns</p>\n",
       "</div>"
      ],
      "text/plain": [
       "   tchlic  district_no      district_name  school_no  \\\n",
       "0   34347          180  Cumberland County         25   \n",
       "1   36435          320     Hamblen County         35   \n",
       "2   43604           70    Campbell County         75   \n",
       "3   48309          630  Montgomery County         19   \n",
       "4   49926           80      Cannon County         30   \n",
       "\n",
       "                     school_name Gender  YrsExpr18 EdLevel18 Role_Compass  \\\n",
       "0  Cumberland County High School      F       52.0        MA      Teacher   \n",
       "1          Whitesburg Elementary      M       53.0       MA+    Principal   \n",
       "2            Jellico High School      F       51.0        BA      Teacher   \n",
       "3                   Kenwood High      M       39.0       MA+      Teacher   \n",
       "4      Short Mountain Elementary      M       50.0        MA    Principal   \n",
       "\n",
       "   bestguess_tch         ...          Responded  \\\n",
       "0              1         ...                  1   \n",
       "1              0         ...                  1   \n",
       "2              1         ...                  1   \n",
       "3              1         ...                  1   \n",
       "4              0         ...                  1   \n",
       "\n",
       "                                                 Q13 answered_q13  \\\n",
       "0  Each year there seems to be more added to the ...            1   \n",
       "1  Give TCAP test in all grades. Give pre- and po...            1   \n",
       "2  Testing has replaced learning and teaching. It...            1   \n",
       "3  Testing has become the driving force of educat...            1   \n",
       "4  The principal evaluation is too wordy and comp...            1   \n",
       "\n",
       "  total_surveys_sent total_number_responses  total_answered_q13  \\\n",
       "0              71636                  40876               12175   \n",
       "1              71636                  40876               12175   \n",
       "2              71636                  40876               12175   \n",
       "3              71636                  40876               12175   \n",
       "4              71636                  40876               12175   \n",
       "\n",
       "  response_character_length  teacher_admin  sentiment_polarity  \\\n",
       "0                       766        Teacher            0.069312   \n",
       "1                       448          Admin            0.295000   \n",
       "2                        93        Teacher            0.000000   \n",
       "3                       225        Teacher            0.000000   \n",
       "4                       244          Admin            0.016667   \n",
       "\n",
       "   sentiment_category  \n",
       "0            positive  \n",
       "1            positive  \n",
       "2             neutral  \n",
       "3             neutral  \n",
       "4            positive  \n",
       "\n",
       "[5 rows x 25 columns]"
      ]
     },
     "execution_count": 128,
     "metadata": {},
     "output_type": "execute_result"
    }
   ],
   "source": [
    "textblob_total_df.head()"
   ]
  },
  {
   "cell_type": "code",
   "execution_count": 129,
   "metadata": {
    "slideshow": {
     "slide_type": "skip"
    }
   },
   "outputs": [
    {
     "data": {
      "text/html": [
       "<div>\n",
       "<style scoped>\n",
       "    .dataframe tbody tr th:only-of-type {\n",
       "        vertical-align: middle;\n",
       "    }\n",
       "\n",
       "    .dataframe tbody tr th {\n",
       "        vertical-align: top;\n",
       "    }\n",
       "\n",
       "    .dataframe thead th {\n",
       "        text-align: right;\n",
       "    }\n",
       "</style>\n",
       "<table border=\"1\" class=\"dataframe\">\n",
       "  <thead>\n",
       "    <tr style=\"text-align: right;\">\n",
       "      <th></th>\n",
       "      <th></th>\n",
       "      <th>tchlic</th>\n",
       "    </tr>\n",
       "    <tr>\n",
       "      <th>teacher_admin</th>\n",
       "      <th>sentiment_category</th>\n",
       "      <th></th>\n",
       "    </tr>\n",
       "  </thead>\n",
       "  <tbody>\n",
       "    <tr>\n",
       "      <th rowspan=\"3\" valign=\"top\">Admin</th>\n",
       "      <th>negative</th>\n",
       "      <td>72</td>\n",
       "    </tr>\n",
       "    <tr>\n",
       "      <th>neutral</th>\n",
       "      <td>38</td>\n",
       "    </tr>\n",
       "    <tr>\n",
       "      <th>positive</th>\n",
       "      <td>413</td>\n",
       "    </tr>\n",
       "    <tr>\n",
       "      <th rowspan=\"3\" valign=\"top\">Teacher</th>\n",
       "      <th>negative</th>\n",
       "      <td>2154</td>\n",
       "    </tr>\n",
       "    <tr>\n",
       "      <th>neutral</th>\n",
       "      <td>763</td>\n",
       "    </tr>\n",
       "    <tr>\n",
       "      <th>positive</th>\n",
       "      <td>8735</td>\n",
       "    </tr>\n",
       "  </tbody>\n",
       "</table>\n",
       "</div>"
      ],
      "text/plain": [
       "                                  tchlic\n",
       "teacher_admin sentiment_category        \n",
       "Admin         negative                72\n",
       "              neutral                 38\n",
       "              positive               413\n",
       "Teacher       negative              2154\n",
       "              neutral                763\n",
       "              positive              8735"
      ]
     },
     "execution_count": 129,
     "metadata": {},
     "output_type": "execute_result"
    }
   ],
   "source": [
    "textblob_total_df[['teacher_admin', 'sentiment_category', 'tchlic']].groupby(['teacher_admin', 'sentiment_category']).count()"
   ]
  },
  {
   "cell_type": "code",
   "execution_count": 130,
   "metadata": {
    "slideshow": {
     "slide_type": "skip"
    }
   },
   "outputs": [
    {
     "data": {
      "text/html": [
       "<div>\n",
       "<style scoped>\n",
       "    .dataframe tbody tr th:only-of-type {\n",
       "        vertical-align: middle;\n",
       "    }\n",
       "\n",
       "    .dataframe tbody tr th {\n",
       "        vertical-align: top;\n",
       "    }\n",
       "\n",
       "    .dataframe thead th {\n",
       "        text-align: right;\n",
       "    }\n",
       "</style>\n",
       "<table border=\"1\" class=\"dataframe\">\n",
       "  <thead>\n",
       "    <tr style=\"text-align: right;\">\n",
       "      <th></th>\n",
       "      <th></th>\n",
       "      <th>response_character_length</th>\n",
       "    </tr>\n",
       "    <tr>\n",
       "      <th>teacher_admin</th>\n",
       "      <th>sentiment_category</th>\n",
       "      <th></th>\n",
       "    </tr>\n",
       "  </thead>\n",
       "  <tbody>\n",
       "    <tr>\n",
       "      <th rowspan=\"3\" valign=\"top\">Admin</th>\n",
       "      <th>negative</th>\n",
       "      <td>403.85</td>\n",
       "    </tr>\n",
       "    <tr>\n",
       "      <th>neutral</th>\n",
       "      <td>139.29</td>\n",
       "    </tr>\n",
       "    <tr>\n",
       "      <th>positive</th>\n",
       "      <td>498.52</td>\n",
       "    </tr>\n",
       "    <tr>\n",
       "      <th rowspan=\"3\" valign=\"top\">Teacher</th>\n",
       "      <th>negative</th>\n",
       "      <td>444.12</td>\n",
       "    </tr>\n",
       "    <tr>\n",
       "      <th>neutral</th>\n",
       "      <td>146.25</td>\n",
       "    </tr>\n",
       "    <tr>\n",
       "      <th>positive</th>\n",
       "      <td>548.02</td>\n",
       "    </tr>\n",
       "  </tbody>\n",
       "</table>\n",
       "</div>"
      ],
      "text/plain": [
       "                                  response_character_length\n",
       "teacher_admin sentiment_category                           \n",
       "Admin         negative                               403.85\n",
       "              neutral                                139.29\n",
       "              positive                               498.52\n",
       "Teacher       negative                               444.12\n",
       "              neutral                                146.25\n",
       "              positive                               548.02"
      ]
     },
     "execution_count": 130,
     "metadata": {},
     "output_type": "execute_result"
    }
   ],
   "source": [
    "textblob_total_df[['teacher_admin', 'sentiment_category', 'response_character_length']]\\\n",
    "                .groupby(['teacher_admin', 'sentiment_category']).mean().round(2)\n"
   ]
  },
  {
   "cell_type": "markdown",
   "metadata": {
    "slideshow": {
     "slide_type": "skip"
    }
   },
   "source": [
    "- Neutral comments are much shorter on average than positive or negative\n"
   ]
  },
  {
   "cell_type": "code",
   "execution_count": 131,
   "metadata": {
    "slideshow": {
     "slide_type": "skip"
    }
   },
   "outputs": [],
   "source": [
    "district_grouping = textblob_total_df[['district_no', 'district_name', 'sentiment_category', 'tchlic']]\\\n",
    "                            .groupby(['district_no', 'district_name', 'sentiment_category']).count()\n",
    "district_grouping.columns = ['count']\n",
    "district_grouping_pct = district_grouping.groupby(level=0).apply(lambda x:\n",
    "                                                 100 * x / float(x.sum())).round(2)\n",
    "district_grouping_pct.columns = ['pct']"
   ]
  },
  {
   "cell_type": "code",
   "execution_count": 132,
   "metadata": {
    "slideshow": {
     "slide_type": "skip"
    }
   },
   "outputs": [
    {
     "data": {
      "text/html": [
       "<div>\n",
       "<style scoped>\n",
       "    .dataframe tbody tr th:only-of-type {\n",
       "        vertical-align: middle;\n",
       "    }\n",
       "\n",
       "    .dataframe tbody tr th {\n",
       "        vertical-align: top;\n",
       "    }\n",
       "\n",
       "    .dataframe thead th {\n",
       "        text-align: right;\n",
       "    }\n",
       "</style>\n",
       "<table border=\"1\" class=\"dataframe\">\n",
       "  <thead>\n",
       "    <tr style=\"text-align: right;\">\n",
       "      <th></th>\n",
       "      <th></th>\n",
       "      <th></th>\n",
       "      <th>count</th>\n",
       "    </tr>\n",
       "    <tr>\n",
       "      <th>district_no</th>\n",
       "      <th>district_name</th>\n",
       "      <th>sentiment_category</th>\n",
       "      <th></th>\n",
       "    </tr>\n",
       "  </thead>\n",
       "  <tbody>\n",
       "    <tr>\n",
       "      <th rowspan=\"3\" valign=\"top\">10</th>\n",
       "      <th rowspan=\"3\" valign=\"top\">Anderson County</th>\n",
       "      <th>negative</th>\n",
       "      <td>14</td>\n",
       "    </tr>\n",
       "    <tr>\n",
       "      <th>neutral</th>\n",
       "      <td>5</td>\n",
       "    </tr>\n",
       "    <tr>\n",
       "      <th>positive</th>\n",
       "      <td>72</td>\n",
       "    </tr>\n",
       "    <tr>\n",
       "      <th rowspan=\"2\" valign=\"top\">11</th>\n",
       "      <th rowspan=\"2\" valign=\"top\">Clinton City</th>\n",
       "      <th>negative</th>\n",
       "      <td>5</td>\n",
       "    </tr>\n",
       "    <tr>\n",
       "      <th>positive</th>\n",
       "      <td>24</td>\n",
       "    </tr>\n",
       "    <tr>\n",
       "      <th rowspan=\"3\" valign=\"top\">12</th>\n",
       "      <th rowspan=\"3\" valign=\"top\">Oak Ridge City</th>\n",
       "      <th>negative</th>\n",
       "      <td>7</td>\n",
       "    </tr>\n",
       "    <tr>\n",
       "      <th>neutral</th>\n",
       "      <td>5</td>\n",
       "    </tr>\n",
       "    <tr>\n",
       "      <th>positive</th>\n",
       "      <td>53</td>\n",
       "    </tr>\n",
       "    <tr>\n",
       "      <th rowspan=\"2\" valign=\"top\">20</th>\n",
       "      <th rowspan=\"2\" valign=\"top\">Bedford County</th>\n",
       "      <th>negative</th>\n",
       "      <td>24</td>\n",
       "    </tr>\n",
       "    <tr>\n",
       "      <th>neutral</th>\n",
       "      <td>9</td>\n",
       "    </tr>\n",
       "  </tbody>\n",
       "</table>\n",
       "</div>"
      ],
      "text/plain": [
       "                                                count\n",
       "district_no district_name   sentiment_category       \n",
       "10          Anderson County negative               14\n",
       "                            neutral                 5\n",
       "                            positive               72\n",
       "11          Clinton City    negative                5\n",
       "                            positive               24\n",
       "12          Oak Ridge City  negative                7\n",
       "                            neutral                 5\n",
       "                            positive               53\n",
       "20          Bedford County  negative               24\n",
       "                            neutral                 9"
      ]
     },
     "execution_count": 132,
     "metadata": {},
     "output_type": "execute_result"
    }
   ],
   "source": [
    "district_grouping.head(10)"
   ]
  },
  {
   "cell_type": "code",
   "execution_count": 133,
   "metadata": {
    "slideshow": {
     "slide_type": "skip"
    }
   },
   "outputs": [
    {
     "data": {
      "text/html": [
       "<div>\n",
       "<style scoped>\n",
       "    .dataframe tbody tr th:only-of-type {\n",
       "        vertical-align: middle;\n",
       "    }\n",
       "\n",
       "    .dataframe tbody tr th {\n",
       "        vertical-align: top;\n",
       "    }\n",
       "\n",
       "    .dataframe thead th {\n",
       "        text-align: right;\n",
       "    }\n",
       "</style>\n",
       "<table border=\"1\" class=\"dataframe\">\n",
       "  <thead>\n",
       "    <tr style=\"text-align: right;\">\n",
       "      <th></th>\n",
       "      <th></th>\n",
       "      <th></th>\n",
       "      <th>pct</th>\n",
       "    </tr>\n",
       "    <tr>\n",
       "      <th>district_no</th>\n",
       "      <th>district_name</th>\n",
       "      <th>sentiment_category</th>\n",
       "      <th></th>\n",
       "    </tr>\n",
       "  </thead>\n",
       "  <tbody>\n",
       "    <tr>\n",
       "      <th rowspan=\"3\" valign=\"top\">10</th>\n",
       "      <th rowspan=\"3\" valign=\"top\">Anderson County</th>\n",
       "      <th>negative</th>\n",
       "      <td>15.38</td>\n",
       "    </tr>\n",
       "    <tr>\n",
       "      <th>neutral</th>\n",
       "      <td>5.49</td>\n",
       "    </tr>\n",
       "    <tr>\n",
       "      <th>positive</th>\n",
       "      <td>79.12</td>\n",
       "    </tr>\n",
       "    <tr>\n",
       "      <th rowspan=\"2\" valign=\"top\">11</th>\n",
       "      <th rowspan=\"2\" valign=\"top\">Clinton City</th>\n",
       "      <th>negative</th>\n",
       "      <td>17.24</td>\n",
       "    </tr>\n",
       "    <tr>\n",
       "      <th>positive</th>\n",
       "      <td>82.76</td>\n",
       "    </tr>\n",
       "    <tr>\n",
       "      <th rowspan=\"3\" valign=\"top\">12</th>\n",
       "      <th rowspan=\"3\" valign=\"top\">Oak Ridge City</th>\n",
       "      <th>negative</th>\n",
       "      <td>10.77</td>\n",
       "    </tr>\n",
       "    <tr>\n",
       "      <th>neutral</th>\n",
       "      <td>7.69</td>\n",
       "    </tr>\n",
       "    <tr>\n",
       "      <th>positive</th>\n",
       "      <td>81.54</td>\n",
       "    </tr>\n",
       "    <tr>\n",
       "      <th rowspan=\"2\" valign=\"top\">20</th>\n",
       "      <th rowspan=\"2\" valign=\"top\">Bedford County</th>\n",
       "      <th>negative</th>\n",
       "      <td>19.20</td>\n",
       "    </tr>\n",
       "    <tr>\n",
       "      <th>neutral</th>\n",
       "      <td>7.20</td>\n",
       "    </tr>\n",
       "  </tbody>\n",
       "</table>\n",
       "</div>"
      ],
      "text/plain": [
       "                                                  pct\n",
       "district_no district_name   sentiment_category       \n",
       "10          Anderson County negative            15.38\n",
       "                            neutral              5.49\n",
       "                            positive            79.12\n",
       "11          Clinton City    negative            17.24\n",
       "                            positive            82.76\n",
       "12          Oak Ridge City  negative            10.77\n",
       "                            neutral              7.69\n",
       "                            positive            81.54\n",
       "20          Bedford County  negative            19.20\n",
       "                            neutral              7.20"
      ]
     },
     "execution_count": 133,
     "metadata": {},
     "output_type": "execute_result"
    }
   ],
   "source": [
    "district_grouping_pct.head(10)"
   ]
  },
  {
   "cell_type": "markdown",
   "metadata": {
    "slideshow": {
     "slide_type": "slide"
    }
   },
   "source": [
    "# Training classifier to see if the sentiments change"
   ]
  },
  {
   "cell_type": "code",
   "execution_count": 134,
   "metadata": {
    "slideshow": {
     "slide_type": "skip"
    }
   },
   "outputs": [
    {
     "data": {
      "text/plain": [
       "['The amount of time for testing to reach the actual student testing day for TCAP is absurd and harmful to all involved. Data never arrives that can be effectively used.  Students and parents see the state testing as ridiculous and an unnecessary stressor to children.   A better system must be developed soon or the state of public education will collapse as funding for testing seems to precede funding for special education needs and improving school infrastructure.   We are losing the children in public education and democracy is failing.',\n",
       " 'Instructional coaching is new to our district this year and new to me and our teachers. I am working a 100 day contract. We have worked hard to define and communicate the role of the instructional coach and have made some progress.  The NW Tennessee CORE office has organized a Coaching Collaborative.  Sessions have been helpful on curricular issues but I would like to see more focus on coaching models and the challenge of working with adult learners.',\n",
       " 'I am excited that TN is coming out in support of testing not being a school counselor role.  Unfortunately, I am concerned about how that will be implemented/enforced on an individual school system level.',\n",
       " 'EL is not a good reading curriculum for primary grades..  No time to teach reading.  Too much testing for all grades.',\n",
       " \"All of the testing needs to STOP!! Instructional time is valuable and being taken away from the teacher. Not all students will be going to college so let's go back and teach life skills. I have high school students that do NOT know how many days are in a year...common information isn't covered. Let's teach them about how to prepare a budget, complete applications and provide for their families. Why is a SPED student required to pass the same test as the Valedictorian? When you require something of a school district, FUND IT 100%!!!!!!\",\n",
       " 'Foreign Language teachers need more PD opportunities geared towards their particular needs.',\n",
       " 'the evaluation format that we use is not very good.',\n",
       " 'Most teachers lead very busy lives.  We spend a great deal of time teaching, planning, grading, etc., and it is difficult to meet for much one-on-one time.',\n",
       " 'Our principal stresses that as teachers we need to know our students, make personal connections with them and provide them with positive support. I agree that we need to do all of those things. We need to provide a positive caring environment for our students.  The environment for our faculty is different. We know not to questions any of the administrative policies and decisions. I take into consideration that many factors, some of which we may not know, influence the decision making process. Many of our faculty feel stressed over the amount of extra paperwork required  that is not required at other schools. I do not know of any other school in our district that assigns some of the teachers to work at athletics events during the fall and spring breaks. I have worked at other schools and for other administrators in my teaching career.  I try to have a positive attitude every day I come to school. My students are the reason I teach!',\n",
       " 'There is too much testing!! Teachers are constantly preparing for the test, having pretests, so many assessments...way too  many! There are so many things our future needs to be taught that there is no time for. Life skills, respect, manners, appreciation, less entitlement. So many of our teaching methods have become just skimming the surface with so much necessary test material. Subjects need to be taught and practiced by digging deeper. Pre K and kindergarten need to teach children how to play together...give and take. Students need to be taught multiplication(from memory not tricks) and emphasize cursive handwriting!']"
      ]
     },
     "execution_count": 134,
     "metadata": {},
     "output_type": "execute_result"
    }
   ],
   "source": [
    "open_ended_answers[90:100]"
   ]
  },
  {
   "cell_type": "markdown",
   "metadata": {
    "slideshow": {
     "slide_type": "slide"
    }
   },
   "source": [
    "## Topics for constructive compared with topics for destructive"
   ]
  },
  {
   "cell_type": "code",
   "execution_count": 162,
   "metadata": {
    "slideshow": {
     "slide_type": "skip"
    }
   },
   "outputs": [],
   "source": [
    "const_comments = textblob_df_with_class.loc[textblob_df_with_class['classification'] == 'constructive', 'Q13'].tolist()"
   ]
  },
  {
   "cell_type": "code",
   "execution_count": 163,
   "metadata": {
    "slideshow": {
     "slide_type": "skip"
    }
   },
   "outputs": [
    {
     "data": {
      "text/plain": [
       "7094"
      ]
     },
     "execution_count": 163,
     "metadata": {},
     "output_type": "execute_result"
    }
   ],
   "source": [
    "len(const_comments)"
   ]
  },
  {
   "cell_type": "code",
   "execution_count": 164,
   "metadata": {
    "slideshow": {
     "slide_type": "skip"
    }
   },
   "outputs": [],
   "source": [
    "dest_comments = textblob_df_with_class.loc[textblob_df_with_class['classification'] == 'destructive', 'Q13'].tolist()"
   ]
  },
  {
   "cell_type": "code",
   "execution_count": 165,
   "metadata": {
    "slideshow": {
     "slide_type": "skip"
    }
   },
   "outputs": [
    {
     "data": {
      "text/plain": [
       "3971"
      ]
     },
     "execution_count": 165,
     "metadata": {},
     "output_type": "execute_result"
    }
   ],
   "source": [
    "len(dest_comments)"
   ]
  },
  {
   "cell_type": "code",
   "execution_count": 166,
   "metadata": {
    "slideshow": {
     "slide_type": "subslide"
    }
   },
   "outputs": [],
   "source": [
    "# # Topics for comments labeled as Constructive\n",
    "# total_lda_vis(const_comments, \n",
    "#                   bigram_min_count = 3, bigram_threshold = 7, \n",
    "#                   trigram_min_count = 2, trigram_threshold = 3,\n",
    "#                   num_topics = 6, topic_chunksize = 100, passes = 8\n",
    "#                  )"
   ]
  },
  {
   "cell_type": "code",
   "execution_count": 167,
   "metadata": {
    "slideshow": {
     "slide_type": "subslide"
    }
   },
   "outputs": [],
   "source": [
    "# # Topics for comments labeled as Destructive\n",
    "# total_lda_vis(dest_comments, \n",
    "#                   bigram_min_count = 3, bigram_threshold = 7, \n",
    "#                   trigram_min_count = 2, trigram_threshold = 3,\n",
    "#                   num_topics = 5, topic_chunksize = 100, passes = 8\n",
    "#                  )"
   ]
  },
  {
   "cell_type": "markdown",
   "metadata": {
    "slideshow": {
     "slide_type": "subslide"
    }
   },
   "source": [
    "## Notes\n",
    "- Similar topics between the categories\n",
    "- Portfolio occurs much more frequently in comments labeled as destructive\n",
    "- Professional Development and Curriculum show up more in constructive comments\n",
    "    - Request for state wide curriculum\n",
    "    - Desire additional PD opportunities\n",
    "- RTI appears in the constructive comments"
   ]
  },
  {
   "cell_type": "markdown",
   "metadata": {
    "slideshow": {
     "slide_type": "skip"
    }
   },
   "source": [
    "## Constructive/destructive by district and school"
   ]
  },
  {
   "cell_type": "markdown",
   "metadata": {
    "slideshow": {
     "slide_type": "skip"
    }
   },
   "source": [
    "### By District"
   ]
  },
  {
   "cell_type": "code",
   "execution_count": 168,
   "metadata": {
    "slideshow": {
     "slide_type": "skip"
    }
   },
   "outputs": [],
   "source": [
    "district_class_grouping = textblob_df_with_class[['district_no', 'district_name', 'classification', 'tchlic']]\\\n",
    "                            .groupby(['district_no', 'district_name', 'classification']).count()\n",
    "district_class_grouping.columns = ['count']\n",
    "district_class_grouping_pct = district_class_grouping.groupby(level=0).apply(lambda x:\n",
    "                                                 100 * x / float(x.sum())).round(2)\n",
    "district_class_grouping_pct.columns = ['pct']\n",
    "district_class_grouping_pct = district_class_grouping_pct.reset_index()"
   ]
  },
  {
   "cell_type": "code",
   "execution_count": 169,
   "metadata": {
    "slideshow": {
     "slide_type": "skip"
    }
   },
   "outputs": [],
   "source": [
    "# district_class_grouping"
   ]
  },
  {
   "cell_type": "code",
   "execution_count": 170,
   "metadata": {
    "slideshow": {
     "slide_type": "skip"
    }
   },
   "outputs": [
    {
     "data": {
      "text/html": [
       "<div>\n",
       "<style scoped>\n",
       "    .dataframe tbody tr th:only-of-type {\n",
       "        vertical-align: middle;\n",
       "    }\n",
       "\n",
       "    .dataframe tbody tr th {\n",
       "        vertical-align: top;\n",
       "    }\n",
       "\n",
       "    .dataframe thead th {\n",
       "        text-align: right;\n",
       "    }\n",
       "</style>\n",
       "<table border=\"1\" class=\"dataframe\">\n",
       "  <thead>\n",
       "    <tr style=\"text-align: right;\">\n",
       "      <th></th>\n",
       "      <th>district_no</th>\n",
       "      <th>district_name</th>\n",
       "      <th>classification</th>\n",
       "      <th>pct</th>\n",
       "    </tr>\n",
       "  </thead>\n",
       "  <tbody>\n",
       "    <tr>\n",
       "      <th>130</th>\n",
       "      <td>274</td>\n",
       "      <td>Bradford</td>\n",
       "      <td>destructive</td>\n",
       "      <td>75.00</td>\n",
       "    </tr>\n",
       "    <tr>\n",
       "      <th>345</th>\n",
       "      <td>810</td>\n",
       "      <td>Stewart County</td>\n",
       "      <td>destructive</td>\n",
       "      <td>55.56</td>\n",
       "    </tr>\n",
       "    <tr>\n",
       "      <th>166</th>\n",
       "      <td>371</td>\n",
       "      <td>Rogersville City</td>\n",
       "      <td>destructive</td>\n",
       "      <td>53.85</td>\n",
       "    </tr>\n",
       "    <tr>\n",
       "      <th>271</th>\n",
       "      <td>660</td>\n",
       "      <td>Obion County</td>\n",
       "      <td>destructive</td>\n",
       "      <td>52.50</td>\n",
       "    </tr>\n",
       "    <tr>\n",
       "      <th>50</th>\n",
       "      <td>97</td>\n",
       "      <td>West Carroll SSD</td>\n",
       "      <td>destructive</td>\n",
       "      <td>50.00</td>\n",
       "    </tr>\n",
       "    <tr>\n",
       "      <th>231</th>\n",
       "      <td>542</td>\n",
       "      <td>Etowah</td>\n",
       "      <td>destructive</td>\n",
       "      <td>50.00</td>\n",
       "    </tr>\n",
       "    <tr>\n",
       "      <th>183</th>\n",
       "      <td>410</td>\n",
       "      <td>Hickman County</td>\n",
       "      <td>destructive</td>\n",
       "      <td>48.98</td>\n",
       "    </tr>\n",
       "    <tr>\n",
       "      <th>277</th>\n",
       "      <td>670</td>\n",
       "      <td>Overton County</td>\n",
       "      <td>destructive</td>\n",
       "      <td>47.50</td>\n",
       "    </tr>\n",
       "    <tr>\n",
       "      <th>171</th>\n",
       "      <td>390</td>\n",
       "      <td>Henderson County</td>\n",
       "      <td>destructive</td>\n",
       "      <td>47.17</td>\n",
       "    </tr>\n",
       "    <tr>\n",
       "      <th>75</th>\n",
       "      <td>160</td>\n",
       "      <td>Coffee County</td>\n",
       "      <td>destructive</td>\n",
       "      <td>47.14</td>\n",
       "    </tr>\n",
       "    <tr>\n",
       "      <th>62</th>\n",
       "      <td>120</td>\n",
       "      <td>Chester County</td>\n",
       "      <td>destructive</td>\n",
       "      <td>46.67</td>\n",
       "    </tr>\n",
       "    <tr>\n",
       "      <th>233</th>\n",
       "      <td>550</td>\n",
       "      <td>McNairy County</td>\n",
       "      <td>destructive</td>\n",
       "      <td>46.43</td>\n",
       "    </tr>\n",
       "    <tr>\n",
       "      <th>37</th>\n",
       "      <td>80</td>\n",
       "      <td>Cannon County</td>\n",
       "      <td>destructive</td>\n",
       "      <td>45.83</td>\n",
       "    </tr>\n",
       "    <tr>\n",
       "      <th>295</th>\n",
       "      <td>721</td>\n",
       "      <td>Dayton City</td>\n",
       "      <td>destructive</td>\n",
       "      <td>45.00</td>\n",
       "    </tr>\n",
       "    <tr>\n",
       "      <th>206</th>\n",
       "      <td>490</td>\n",
       "      <td>Lauderdale County</td>\n",
       "      <td>destructive</td>\n",
       "      <td>44.44</td>\n",
       "    </tr>\n",
       "    <tr>\n",
       "      <th>409</th>\n",
       "      <td>963</td>\n",
       "      <td>Tennessee School for Blind</td>\n",
       "      <td>destructive</td>\n",
       "      <td>44.44</td>\n",
       "    </tr>\n",
       "    <tr>\n",
       "      <th>84</th>\n",
       "      <td>170</td>\n",
       "      <td>Crockett County</td>\n",
       "      <td>destructive</td>\n",
       "      <td>44.00</td>\n",
       "    </tr>\n",
       "    <tr>\n",
       "      <th>189</th>\n",
       "      <td>430</td>\n",
       "      <td>Humphreys County</td>\n",
       "      <td>destructive</td>\n",
       "      <td>43.75</td>\n",
       "    </tr>\n",
       "    <tr>\n",
       "      <th>53</th>\n",
       "      <td>100</td>\n",
       "      <td>Carter County</td>\n",
       "      <td>destructive</td>\n",
       "      <td>42.86</td>\n",
       "    </tr>\n",
       "    <tr>\n",
       "      <th>146</th>\n",
       "      <td>310</td>\n",
       "      <td>Grundy County</td>\n",
       "      <td>destructive</td>\n",
       "      <td>42.50</td>\n",
       "    </tr>\n",
       "    <tr>\n",
       "      <th>101</th>\n",
       "      <td>210</td>\n",
       "      <td>DeKalb County</td>\n",
       "      <td>destructive</td>\n",
       "      <td>42.31</td>\n",
       "    </tr>\n",
       "    <tr>\n",
       "      <th>157</th>\n",
       "      <td>350</td>\n",
       "      <td>Hardeman County Schools</td>\n",
       "      <td>destructive</td>\n",
       "      <td>41.98</td>\n",
       "    </tr>\n",
       "    <tr>\n",
       "      <th>300</th>\n",
       "      <td>740</td>\n",
       "      <td>Robertson County</td>\n",
       "      <td>destructive</td>\n",
       "      <td>41.92</td>\n",
       "    </tr>\n",
       "    <tr>\n",
       "      <th>109</th>\n",
       "      <td>231</td>\n",
       "      <td>Dyersburg City</td>\n",
       "      <td>destructive</td>\n",
       "      <td>41.86</td>\n",
       "    </tr>\n",
       "    <tr>\n",
       "      <th>360</th>\n",
       "      <td>840</td>\n",
       "      <td>Tipton County</td>\n",
       "      <td>destructive</td>\n",
       "      <td>41.83</td>\n",
       "    </tr>\n",
       "    <tr>\n",
       "      <th>68</th>\n",
       "      <td>140</td>\n",
       "      <td>Clay County</td>\n",
       "      <td>destructive</td>\n",
       "      <td>41.67</td>\n",
       "    </tr>\n",
       "    <tr>\n",
       "      <th>315</th>\n",
       "      <td>770</td>\n",
       "      <td>Sequatchie County</td>\n",
       "      <td>destructive</td>\n",
       "      <td>41.03</td>\n",
       "    </tr>\n",
       "    <tr>\n",
       "      <th>10</th>\n",
       "      <td>20</td>\n",
       "      <td>Bedford County</td>\n",
       "      <td>destructive</td>\n",
       "      <td>40.80</td>\n",
       "    </tr>\n",
       "    <tr>\n",
       "      <th>375</th>\n",
       "      <td>890</td>\n",
       "      <td>Warren County</td>\n",
       "      <td>destructive</td>\n",
       "      <td>40.40</td>\n",
       "    </tr>\n",
       "    <tr>\n",
       "      <th>65</th>\n",
       "      <td>130</td>\n",
       "      <td>Claiborne County</td>\n",
       "      <td>destructive</td>\n",
       "      <td>40.38</td>\n",
       "    </tr>\n",
       "    <tr>\n",
       "      <th>...</th>\n",
       "      <td>...</td>\n",
       "      <td>...</td>\n",
       "      <td>...</td>\n",
       "      <td>...</td>\n",
       "    </tr>\n",
       "    <tr>\n",
       "      <th>141</th>\n",
       "      <td>300</td>\n",
       "      <td>Greene County</td>\n",
       "      <td>destructive</td>\n",
       "      <td>26.58</td>\n",
       "    </tr>\n",
       "    <tr>\n",
       "      <th>118</th>\n",
       "      <td>260</td>\n",
       "      <td>Franklin County</td>\n",
       "      <td>destructive</td>\n",
       "      <td>26.51</td>\n",
       "    </tr>\n",
       "    <tr>\n",
       "      <th>81</th>\n",
       "      <td>162</td>\n",
       "      <td>Tullahoma City</td>\n",
       "      <td>destructive</td>\n",
       "      <td>26.19</td>\n",
       "    </tr>\n",
       "    <tr>\n",
       "      <th>306</th>\n",
       "      <td>751</td>\n",
       "      <td>Murfreesboro City</td>\n",
       "      <td>destructive</td>\n",
       "      <td>25.68</td>\n",
       "    </tr>\n",
       "    <tr>\n",
       "      <th>405</th>\n",
       "      <td>960</td>\n",
       "      <td>West Tennessee School for the Deaf</td>\n",
       "      <td>destructive</td>\n",
       "      <td>25.00</td>\n",
       "    </tr>\n",
       "    <tr>\n",
       "      <th>256</th>\n",
       "      <td>620</td>\n",
       "      <td>Monroe County</td>\n",
       "      <td>destructive</td>\n",
       "      <td>24.74</td>\n",
       "    </tr>\n",
       "    <tr>\n",
       "      <th>31</th>\n",
       "      <td>61</td>\n",
       "      <td>Cleveland City</td>\n",
       "      <td>destructive</td>\n",
       "      <td>24.53</td>\n",
       "    </tr>\n",
       "    <tr>\n",
       "      <th>259</th>\n",
       "      <td>621</td>\n",
       "      <td>Sweetwater City</td>\n",
       "      <td>destructive</td>\n",
       "      <td>24.24</td>\n",
       "    </tr>\n",
       "    <tr>\n",
       "      <th>351</th>\n",
       "      <td>821</td>\n",
       "      <td>Bristol City</td>\n",
       "      <td>destructive</td>\n",
       "      <td>23.81</td>\n",
       "    </tr>\n",
       "    <tr>\n",
       "      <th>363</th>\n",
       "      <td>850</td>\n",
       "      <td>Trousdale County</td>\n",
       "      <td>destructive</td>\n",
       "      <td>23.81</td>\n",
       "    </tr>\n",
       "    <tr>\n",
       "      <th>121</th>\n",
       "      <td>271</td>\n",
       "      <td>Humboldt City Schools</td>\n",
       "      <td>destructive</td>\n",
       "      <td>23.53</td>\n",
       "    </tr>\n",
       "    <tr>\n",
       "      <th>215</th>\n",
       "      <td>520</td>\n",
       "      <td>Lincoln County</td>\n",
       "      <td>destructive</td>\n",
       "      <td>23.53</td>\n",
       "    </tr>\n",
       "    <tr>\n",
       "      <th>127</th>\n",
       "      <td>273</td>\n",
       "      <td>Trenton</td>\n",
       "      <td>destructive</td>\n",
       "      <td>23.08</td>\n",
       "    </tr>\n",
       "    <tr>\n",
       "      <th>330</th>\n",
       "      <td>795</td>\n",
       "      <td>Collierville</td>\n",
       "      <td>destructive</td>\n",
       "      <td>22.89</td>\n",
       "    </tr>\n",
       "    <tr>\n",
       "      <th>245</th>\n",
       "      <td>581</td>\n",
       "      <td>Richard City</td>\n",
       "      <td>destructive</td>\n",
       "      <td>22.22</td>\n",
       "    </tr>\n",
       "    <tr>\n",
       "      <th>280</th>\n",
       "      <td>680</td>\n",
       "      <td>Perry County</td>\n",
       "      <td>destructive</td>\n",
       "      <td>22.22</td>\n",
       "    </tr>\n",
       "    <tr>\n",
       "      <th>135</th>\n",
       "      <td>280</td>\n",
       "      <td>Giles County</td>\n",
       "      <td>destructive</td>\n",
       "      <td>21.74</td>\n",
       "    </tr>\n",
       "    <tr>\n",
       "      <th>7</th>\n",
       "      <td>12</td>\n",
       "      <td>Oak Ridge City</td>\n",
       "      <td>destructive</td>\n",
       "      <td>21.54</td>\n",
       "    </tr>\n",
       "    <tr>\n",
       "      <th>396</th>\n",
       "      <td>941</td>\n",
       "      <td>Franklin SSD</td>\n",
       "      <td>destructive</td>\n",
       "      <td>20.24</td>\n",
       "    </tr>\n",
       "    <tr>\n",
       "      <th>336</th>\n",
       "      <td>797</td>\n",
       "      <td>Lakeland</td>\n",
       "      <td>destructive</td>\n",
       "      <td>20.00</td>\n",
       "    </tr>\n",
       "    <tr>\n",
       "      <th>56</th>\n",
       "      <td>101</td>\n",
       "      <td>Elizabethton City</td>\n",
       "      <td>destructive</td>\n",
       "      <td>19.05</td>\n",
       "    </tr>\n",
       "    <tr>\n",
       "      <th>239</th>\n",
       "      <td>570</td>\n",
       "      <td>Madison County</td>\n",
       "      <td>destructive</td>\n",
       "      <td>17.92</td>\n",
       "    </tr>\n",
       "    <tr>\n",
       "      <th>268</th>\n",
       "      <td>650</td>\n",
       "      <td>Morgan County</td>\n",
       "      <td>destructive</td>\n",
       "      <td>17.65</td>\n",
       "    </tr>\n",
       "    <tr>\n",
       "      <th>90</th>\n",
       "      <td>172</td>\n",
       "      <td>Bells City</td>\n",
       "      <td>destructive</td>\n",
       "      <td>16.67</td>\n",
       "    </tr>\n",
       "    <tr>\n",
       "      <th>274</th>\n",
       "      <td>661</td>\n",
       "      <td>Union City</td>\n",
       "      <td>destructive</td>\n",
       "      <td>16.67</td>\n",
       "    </tr>\n",
       "    <tr>\n",
       "      <th>372</th>\n",
       "      <td>880</td>\n",
       "      <td>Van Buren County</td>\n",
       "      <td>destructive</td>\n",
       "      <td>16.67</td>\n",
       "    </tr>\n",
       "    <tr>\n",
       "      <th>124</th>\n",
       "      <td>272</td>\n",
       "      <td>Milan SSD</td>\n",
       "      <td>destructive</td>\n",
       "      <td>15.79</td>\n",
       "    </tr>\n",
       "    <tr>\n",
       "      <th>416</th>\n",
       "      <td>985</td>\n",
       "      <td>Achievement School District</td>\n",
       "      <td>destructive</td>\n",
       "      <td>15.00</td>\n",
       "    </tr>\n",
       "    <tr>\n",
       "      <th>155</th>\n",
       "      <td>340</td>\n",
       "      <td>Hancock County</td>\n",
       "      <td>destructive</td>\n",
       "      <td>14.29</td>\n",
       "    </tr>\n",
       "    <tr>\n",
       "      <th>204</th>\n",
       "      <td>480</td>\n",
       "      <td>Lake County</td>\n",
       "      <td>destructive</td>\n",
       "      <td>12.50</td>\n",
       "    </tr>\n",
       "  </tbody>\n",
       "</table>\n",
       "<p>144 rows × 4 columns</p>\n",
       "</div>"
      ],
      "text/plain": [
       "     district_no                       district_name classification    pct\n",
       "130          274                            Bradford    destructive  75.00\n",
       "345          810                      Stewart County    destructive  55.56\n",
       "166          371                    Rogersville City    destructive  53.85\n",
       "271          660                        Obion County    destructive  52.50\n",
       "50            97                    West Carroll SSD    destructive  50.00\n",
       "231          542                              Etowah    destructive  50.00\n",
       "183          410                      Hickman County    destructive  48.98\n",
       "277          670                      Overton County    destructive  47.50\n",
       "171          390                    Henderson County    destructive  47.17\n",
       "75           160                       Coffee County    destructive  47.14\n",
       "62           120                      Chester County    destructive  46.67\n",
       "233          550                      McNairy County    destructive  46.43\n",
       "37            80                       Cannon County    destructive  45.83\n",
       "295          721                         Dayton City    destructive  45.00\n",
       "206          490                   Lauderdale County    destructive  44.44\n",
       "409          963          Tennessee School for Blind    destructive  44.44\n",
       "84           170                     Crockett County    destructive  44.00\n",
       "189          430                    Humphreys County    destructive  43.75\n",
       "53           100                       Carter County    destructive  42.86\n",
       "146          310                       Grundy County    destructive  42.50\n",
       "101          210                       DeKalb County    destructive  42.31\n",
       "157          350             Hardeman County Schools    destructive  41.98\n",
       "300          740                    Robertson County    destructive  41.92\n",
       "109          231                      Dyersburg City    destructive  41.86\n",
       "360          840                       Tipton County    destructive  41.83\n",
       "68           140                         Clay County    destructive  41.67\n",
       "315          770                   Sequatchie County    destructive  41.03\n",
       "10            20                      Bedford County    destructive  40.80\n",
       "375          890                       Warren County    destructive  40.40\n",
       "65           130                    Claiborne County    destructive  40.38\n",
       "..           ...                                 ...            ...    ...\n",
       "141          300                       Greene County    destructive  26.58\n",
       "118          260                     Franklin County    destructive  26.51\n",
       "81           162                      Tullahoma City    destructive  26.19\n",
       "306          751                   Murfreesboro City    destructive  25.68\n",
       "405          960  West Tennessee School for the Deaf    destructive  25.00\n",
       "256          620                       Monroe County    destructive  24.74\n",
       "31            61                      Cleveland City    destructive  24.53\n",
       "259          621                     Sweetwater City    destructive  24.24\n",
       "351          821                        Bristol City    destructive  23.81\n",
       "363          850                    Trousdale County    destructive  23.81\n",
       "121          271               Humboldt City Schools    destructive  23.53\n",
       "215          520                      Lincoln County    destructive  23.53\n",
       "127          273                             Trenton    destructive  23.08\n",
       "330          795                        Collierville    destructive  22.89\n",
       "245          581                        Richard City    destructive  22.22\n",
       "280          680                        Perry County    destructive  22.22\n",
       "135          280                        Giles County    destructive  21.74\n",
       "7             12                      Oak Ridge City    destructive  21.54\n",
       "396          941                        Franklin SSD    destructive  20.24\n",
       "336          797                            Lakeland    destructive  20.00\n",
       "56           101                   Elizabethton City    destructive  19.05\n",
       "239          570                      Madison County    destructive  17.92\n",
       "268          650                       Morgan County    destructive  17.65\n",
       "90           172                          Bells City    destructive  16.67\n",
       "274          661                          Union City    destructive  16.67\n",
       "372          880                    Van Buren County    destructive  16.67\n",
       "124          272                           Milan SSD    destructive  15.79\n",
       "416          985         Achievement School District    destructive  15.00\n",
       "155          340                      Hancock County    destructive  14.29\n",
       "204          480                         Lake County    destructive  12.50\n",
       "\n",
       "[144 rows x 4 columns]"
      ]
     },
     "execution_count": 170,
     "metadata": {},
     "output_type": "execute_result"
    }
   ],
   "source": [
    "district_class_grouping_pct[district_class_grouping_pct['classification'] == 'destructive']\\\n",
    "        .sort_values(by = ['classification', 'pct'], ascending = False)"
   ]
  },
  {
   "cell_type": "code",
   "execution_count": 171,
   "metadata": {
    "scrolled": true,
    "slideshow": {
     "slide_type": "skip"
    }
   },
   "outputs": [
    {
     "data": {
      "text/plain": [
       "['RTI seems to be perhaps a waste of time. Salary increases need to show up in teacher paychecks.',\n",
       " 'RTI needs less paperwork, more supply funds, and more teacher training.',\n",
       " 'I think we need to get back to the basics in education.  Money is wasted on testing, testing, and more testing. Many people that make decisions that relate to classroom teaching have never even taught in a classroom. I feel instead of helping education all of the changes are actually hurting our public school systems. Teacher morale is lower, and student morale is lower.   It seems to me that things change about every 4-5 years in our education system, but instead of helping the changes are only hurting.  We need to make sure our students can read, write, and have work ethics but also create an atmosphere that they enjoy coming to learn instead of focusing on just being TEST ready!!',\n",
       " 'RTI at the high school level is not effective. They are often the ones who lack motivation. They are embarrassed by the process. High school teachers are expected to have the training of elementary reading teachers, which is not feasible. Too testing is causing burnout for teachers and students. Testing needs to correlate more with ACT. Some of the testing is not preparing the students for college-readiness skills.',\n",
       " \"I feel that students, parents, and teachers have lost faith in the validity of standardized testing due to the problems in recent years. Students don't feel it matters and therefore will not try their best. Also. some students simply don't try on the test due to the fact that they don't like a specific teacher. I feel that holding teachers completely responsible for student performance when students aren't held responsible is ridiculous. There are so many factors involved in that student's performance that may go above what the classroom teacher can change. If a person develops a cavity in their tooth, do we say it is their dentist's fault? Or would we look beyond the dentist to the other factors which may be responsible for the decay. If schools and teachers are to be held to such a high standard, we need more resources and ability to change other factors involved.\",\n",
       " 'I feel my school does not have the resources needed for students and teachers to be as successful as they could be.  This mostly technology that we are lacking.',\n",
       " \"Evaluations are just a method for administration and politics to bulldoze teachers to do their jobs and threaten them with their jobs. Testing is also a way to threaten teachers with their jobs. The testing doesn't match what students need to learn to prepare them for college or other post-secondary training. The ACT and SAT preparation is more beneficial to student's educational future. The majority of teachers do their jobs effectively without evaluations. Short drop-ins work more effectively. I have worked in a school system other than the one I work in now.  The drop-ins are effective to motivate teacher morale, not destroy it.  I felt very effective and successful earlier in my teaching career. It's no longer like that. I feel like I have to perform like an actor. I think the evaluations we are having to do will destroy the teaching profession in Tennessee. Who would want to be a teacher if they are being threatened with their jobs? Or they can't act to be a 4 or 5 teacher.  It's not easy managing a class of students who don't want to learn your subject area. Managing behavior is like managing employees to do their job, but we deal with children, not adults.  They need guidance to be a successful adult. Guidance in life as well as academics.\",\n",
       " 'Please stop using test scores as a part of evaluation in the manner that they are done now',\n",
       " 'RTI seems to be a waste of time, The paperwork is crazy for it.  The standardized test is a bad thing for teachers.  It is not accurate.   They need to be given a pre-test at the beginning of the year and a post-test at the end of the year to show growth.  Judging growth on the previous year leads to hard feeling and attitudes between teachers and it is totally unfair since the content changes each year.   Our students are being pushed too early on advanced standards and are growing up lacking basic skills that I learned growing up!',\n",
       " 'I believe the teachers are very supportive of each other.  The principal is effective and the vice-principal is very effective.  However, I do believe that is where the support and effectiveness ends.  Teachers are not provided with effective staff development or mentoring.  Nor, are teachers provided with textbooks and materials to meet the rigorous standards.',\n",
       " 'Take a pre- test at the beginning of each school year that covers the years content .  This  should be the base line for the students knowledge of the subject.  Then another test at the END of the school year covering the given information they should have learned. (not a month before school is out)  These scores should be used instead of the TCAP score we use now!   The content that is required to be mastered is different from year to year.  However, teachers are told it is all worked out in an equation!    The way it is done now is not fair to the teaching profession.  Salaries are not worth the ordeals one must go through in this profession.',\n",
       " \"My planning time is insufficient because of all the paper work I have to do for my special education work.   One of the reasons my teacher evaluation process is unfair to me is the fact that I am a resource teacher.  I don't think that teachers who mainly work with students with disabilities should have the same evaluation process as the regular classroom teachers.  I may have a student in the third grade who can only read a few words our has poor language skills. If by the end of the year, this student has become a better reader and writer that child has made significant progress that is not truly identified on state testing.  I believe the question about whether or not my teaching goals are consistent or not consistent with state standards is on fair.  I must teach the standards regardless of whether or not I agree that is what is must beneficial for my students.  The standards in my opinion need to be reevaluated.  Our standards need to include more life skills especially in the lower grades.   Our school staff strive to be educational partners with parents and do an excellent job at trying to include parents.  However, most parents have no interest it seems in partnering with us.  It is very difficult to get parents to attend meetings and use the resources we provide.  In my opinion must parents don't care or have a bad attitude towards teachers and education.  We do have some parents who use are services and work with us to help meet the needs of their child and the other students.\",\n",
       " 'RTI takes a lot of time out of normal classroom instruction, it has benefits that can be seen - however, we have essentially taken students out of a combined classroom and separated them by ability. Students receiving Special Education services are grouped into \"enrichment\" which is unfair, considering they do not function on the same level as their grade level classmates. I feel as if the school day has become more about RTI than a day of learning at school. Related Arts or Specials could be better utilized to serve the meeting of academic standards - as well as more of a focus being placed on the curriculum that they are offered to work with.',\n",
       " 'The state need to make sure all of the schools have the same resources available for teaching and testing.',\n",
       " \"1. I am currently an unlicensed math teacher teaching on a permit. I feel that I am fully capable of teaching my algebra 1 content with my freshmen, yet I am bending over backwards to pass a mathematics praxis test that pushes content on me that I do not need to teach personally. The required math score could be a bit lower given that the test is so insanely difficult. However, I am confident in my ability to pass on my next attempt. And I cannot begin a licensure program until I pass the test, and it is just frustrating that I am fighting so hard to teach in a field that is in desperate need of more teachers in Tennessee.   2. These standardized tests are a little nuts. I am told of my standards I should teach, and given such a minimal number of example problems to assist in covering my standards. We do not have a textbook in existence that accurately covers all of Tennessee's math standards, and there are almost no resources that give us access to questions in the same format that will appear on the TNReady test for me this spring. If I had that it would be significantly easier to teach the content properly. If these tests are to be taken so seriously, we should be given proper resources to so, not just a sudden Questar practice test and a PDF of the same example questions we have had for multiple years in a row. Our Chemistry teacher has had the exact same set of sample questions for her test for so many years now that she has the answers memorized, and then those exact same questions were the ones on her practice Questar test. If these are to be such an important pillar of our education, we should be given more. We are expected to be top-notch, which is a fair expectation, but I feel that in return the supplies/methods from your end should also be top-notch. I love this profession. I need help doing it well if I am going to do it the way I am asked to.\"]"
      ]
     },
     "execution_count": 171,
     "metadata": {},
     "output_type": "execute_result"
    }
   ],
   "source": [
    "textblob_df_with_class.loc[textblob_df_with_class['district_no'] == 690, 'Q13'].tolist()"
   ]
  },
  {
   "cell_type": "code",
   "execution_count": 172,
   "metadata": {
    "slideshow": {
     "slide_type": "skip"
    }
   },
   "outputs": [
    {
     "data": {
      "text/html": [
       "<div>\n",
       "<style scoped>\n",
       "    .dataframe tbody tr th:only-of-type {\n",
       "        vertical-align: middle;\n",
       "    }\n",
       "\n",
       "    .dataframe tbody tr th {\n",
       "        vertical-align: top;\n",
       "    }\n",
       "\n",
       "    .dataframe thead th {\n",
       "        text-align: right;\n",
       "    }\n",
       "</style>\n",
       "<table border=\"1\" class=\"dataframe\">\n",
       "  <thead>\n",
       "    <tr style=\"text-align: right;\">\n",
       "      <th></th>\n",
       "      <th>district_no</th>\n",
       "      <th>district_name</th>\n",
       "      <th>classification</th>\n",
       "      <th>pct</th>\n",
       "    </tr>\n",
       "  </thead>\n",
       "  <tbody>\n",
       "    <tr>\n",
       "      <th>39</th>\n",
       "      <td>90</td>\n",
       "      <td>Carroll County</td>\n",
       "      <td>constructive</td>\n",
       "      <td>100.00</td>\n",
       "    </tr>\n",
       "    <tr>\n",
       "      <th>48</th>\n",
       "      <td>95</td>\n",
       "      <td>South Carroll SSD</td>\n",
       "      <td>constructive</td>\n",
       "      <td>100.00</td>\n",
       "    </tr>\n",
       "    <tr>\n",
       "      <th>203</th>\n",
       "      <td>480</td>\n",
       "      <td>Lake County</td>\n",
       "      <td>constructive</td>\n",
       "      <td>87.50</td>\n",
       "    </tr>\n",
       "    <tr>\n",
       "      <th>154</th>\n",
       "      <td>340</td>\n",
       "      <td>Hancock County</td>\n",
       "      <td>constructive</td>\n",
       "      <td>85.71</td>\n",
       "    </tr>\n",
       "    <tr>\n",
       "      <th>89</th>\n",
       "      <td>172</td>\n",
       "      <td>Bells City</td>\n",
       "      <td>constructive</td>\n",
       "      <td>83.33</td>\n",
       "    </tr>\n",
       "    <tr>\n",
       "      <th>244</th>\n",
       "      <td>581</td>\n",
       "      <td>Richard City</td>\n",
       "      <td>constructive</td>\n",
       "      <td>77.78</td>\n",
       "    </tr>\n",
       "    <tr>\n",
       "      <th>404</th>\n",
       "      <td>960</td>\n",
       "      <td>West Tennessee School for the Deaf</td>\n",
       "      <td>constructive</td>\n",
       "      <td>75.00</td>\n",
       "    </tr>\n",
       "    <tr>\n",
       "      <th>238</th>\n",
       "      <td>570</td>\n",
       "      <td>Madison County</td>\n",
       "      <td>constructive</td>\n",
       "      <td>73.58</td>\n",
       "    </tr>\n",
       "    <tr>\n",
       "      <th>279</th>\n",
       "      <td>680</td>\n",
       "      <td>Perry County</td>\n",
       "      <td>constructive</td>\n",
       "      <td>72.22</td>\n",
       "    </tr>\n",
       "    <tr>\n",
       "      <th>55</th>\n",
       "      <td>101</td>\n",
       "      <td>Elizabethton City</td>\n",
       "      <td>constructive</td>\n",
       "      <td>71.43</td>\n",
       "    </tr>\n",
       "    <tr>\n",
       "      <th>350</th>\n",
       "      <td>821</td>\n",
       "      <td>Bristol City</td>\n",
       "      <td>constructive</td>\n",
       "      <td>71.43</td>\n",
       "    </tr>\n",
       "    <tr>\n",
       "      <th>362</th>\n",
       "      <td>850</td>\n",
       "      <td>Trousdale County</td>\n",
       "      <td>constructive</td>\n",
       "      <td>71.43</td>\n",
       "    </tr>\n",
       "    <tr>\n",
       "      <th>415</th>\n",
       "      <td>985</td>\n",
       "      <td>Achievement School District</td>\n",
       "      <td>constructive</td>\n",
       "      <td>70.00</td>\n",
       "    </tr>\n",
       "    <tr>\n",
       "      <th>6</th>\n",
       "      <td>12</td>\n",
       "      <td>Oak Ridge City</td>\n",
       "      <td>constructive</td>\n",
       "      <td>69.23</td>\n",
       "    </tr>\n",
       "    <tr>\n",
       "      <th>222</th>\n",
       "      <td>531</td>\n",
       "      <td>Lenoir City</td>\n",
       "      <td>constructive</td>\n",
       "      <td>68.97</td>\n",
       "    </tr>\n",
       "    <tr>\n",
       "      <th>214</th>\n",
       "      <td>520</td>\n",
       "      <td>Lincoln County</td>\n",
       "      <td>constructive</td>\n",
       "      <td>68.63</td>\n",
       "    </tr>\n",
       "    <tr>\n",
       "      <th>267</th>\n",
       "      <td>650</td>\n",
       "      <td>Morgan County</td>\n",
       "      <td>constructive</td>\n",
       "      <td>68.63</td>\n",
       "    </tr>\n",
       "    <tr>\n",
       "      <th>335</th>\n",
       "      <td>797</td>\n",
       "      <td>Lakeland</td>\n",
       "      <td>constructive</td>\n",
       "      <td>68.00</td>\n",
       "    </tr>\n",
       "    <tr>\n",
       "      <th>329</th>\n",
       "      <td>795</td>\n",
       "      <td>Collierville</td>\n",
       "      <td>constructive</td>\n",
       "      <td>67.47</td>\n",
       "    </tr>\n",
       "    <tr>\n",
       "      <th>18</th>\n",
       "      <td>50</td>\n",
       "      <td>Blount County</td>\n",
       "      <td>constructive</td>\n",
       "      <td>67.03</td>\n",
       "    </tr>\n",
       "    <tr>\n",
       "      <th>191</th>\n",
       "      <td>440</td>\n",
       "      <td>Jackson County</td>\n",
       "      <td>constructive</td>\n",
       "      <td>66.67</td>\n",
       "    </tr>\n",
       "    <tr>\n",
       "      <th>273</th>\n",
       "      <td>661</td>\n",
       "      <td>Union City</td>\n",
       "      <td>constructive</td>\n",
       "      <td>66.67</td>\n",
       "    </tr>\n",
       "    <tr>\n",
       "      <th>353</th>\n",
       "      <td>822</td>\n",
       "      <td>Kingsport City</td>\n",
       "      <td>constructive</td>\n",
       "      <td>66.67</td>\n",
       "    </tr>\n",
       "    <tr>\n",
       "      <th>406</th>\n",
       "      <td>961</td>\n",
       "      <td>Alvin C York Institute</td>\n",
       "      <td>constructive</td>\n",
       "      <td>66.67</td>\n",
       "    </tr>\n",
       "    <tr>\n",
       "      <th>410</th>\n",
       "      <td>964</td>\n",
       "      <td>Tennessee School for the Deaf</td>\n",
       "      <td>constructive</td>\n",
       "      <td>66.67</td>\n",
       "    </tr>\n",
       "    <tr>\n",
       "      <th>140</th>\n",
       "      <td>300</td>\n",
       "      <td>Greene County</td>\n",
       "      <td>constructive</td>\n",
       "      <td>65.82</td>\n",
       "    </tr>\n",
       "    <tr>\n",
       "      <th>176</th>\n",
       "      <td>400</td>\n",
       "      <td>Henry County</td>\n",
       "      <td>constructive</td>\n",
       "      <td>65.71</td>\n",
       "    </tr>\n",
       "    <tr>\n",
       "      <th>134</th>\n",
       "      <td>280</td>\n",
       "      <td>Giles County</td>\n",
       "      <td>constructive</td>\n",
       "      <td>65.22</td>\n",
       "    </tr>\n",
       "    <tr>\n",
       "      <th>148</th>\n",
       "      <td>320</td>\n",
       "      <td>Hamblen County</td>\n",
       "      <td>constructive</td>\n",
       "      <td>65.12</td>\n",
       "    </tr>\n",
       "    <tr>\n",
       "      <th>46</th>\n",
       "      <td>94</td>\n",
       "      <td>McKenzie SSD</td>\n",
       "      <td>constructive</td>\n",
       "      <td>65.00</td>\n",
       "    </tr>\n",
       "    <tr>\n",
       "      <th>...</th>\n",
       "      <td>...</td>\n",
       "      <td>...</td>\n",
       "      <td>...</td>\n",
       "      <td>...</td>\n",
       "    </tr>\n",
       "    <tr>\n",
       "      <th>230</th>\n",
       "      <td>542</td>\n",
       "      <td>Etowah</td>\n",
       "      <td>constructive</td>\n",
       "      <td>50.00</td>\n",
       "    </tr>\n",
       "    <tr>\n",
       "      <th>299</th>\n",
       "      <td>740</td>\n",
       "      <td>Robertson County</td>\n",
       "      <td>constructive</td>\n",
       "      <td>50.00</td>\n",
       "    </tr>\n",
       "    <tr>\n",
       "      <th>371</th>\n",
       "      <td>880</td>\n",
       "      <td>Van Buren County</td>\n",
       "      <td>constructive</td>\n",
       "      <td>50.00</td>\n",
       "    </tr>\n",
       "    <tr>\n",
       "      <th>383</th>\n",
       "      <td>910</td>\n",
       "      <td>Wayne County</td>\n",
       "      <td>constructive</td>\n",
       "      <td>50.00</td>\n",
       "    </tr>\n",
       "    <tr>\n",
       "      <th>374</th>\n",
       "      <td>890</td>\n",
       "      <td>Warren County</td>\n",
       "      <td>constructive</td>\n",
       "      <td>49.49</td>\n",
       "    </tr>\n",
       "    <tr>\n",
       "      <th>246</th>\n",
       "      <td>590</td>\n",
       "      <td>Marshall County</td>\n",
       "      <td>constructive</td>\n",
       "      <td>49.43</td>\n",
       "    </tr>\n",
       "    <tr>\n",
       "      <th>386</th>\n",
       "      <td>920</td>\n",
       "      <td>Weakley County</td>\n",
       "      <td>constructive</td>\n",
       "      <td>49.38</td>\n",
       "    </tr>\n",
       "    <tr>\n",
       "      <th>401</th>\n",
       "      <td>951</td>\n",
       "      <td>Lebanon</td>\n",
       "      <td>constructive</td>\n",
       "      <td>49.06</td>\n",
       "    </tr>\n",
       "    <tr>\n",
       "      <th>359</th>\n",
       "      <td>840</td>\n",
       "      <td>Tipton County</td>\n",
       "      <td>constructive</td>\n",
       "      <td>49.02</td>\n",
       "    </tr>\n",
       "    <tr>\n",
       "      <th>156</th>\n",
       "      <td>350</td>\n",
       "      <td>Hardeman County Schools</td>\n",
       "      <td>constructive</td>\n",
       "      <td>48.15</td>\n",
       "    </tr>\n",
       "    <tr>\n",
       "      <th>205</th>\n",
       "      <td>490</td>\n",
       "      <td>Lauderdale County</td>\n",
       "      <td>constructive</td>\n",
       "      <td>47.22</td>\n",
       "    </tr>\n",
       "    <tr>\n",
       "      <th>9</th>\n",
       "      <td>20</td>\n",
       "      <td>Bedford County</td>\n",
       "      <td>constructive</td>\n",
       "      <td>47.20</td>\n",
       "    </tr>\n",
       "    <tr>\n",
       "      <th>188</th>\n",
       "      <td>430</td>\n",
       "      <td>Humphreys County</td>\n",
       "      <td>constructive</td>\n",
       "      <td>46.88</td>\n",
       "    </tr>\n",
       "    <tr>\n",
       "      <th>232</th>\n",
       "      <td>550</td>\n",
       "      <td>McNairy County</td>\n",
       "      <td>constructive</td>\n",
       "      <td>46.43</td>\n",
       "    </tr>\n",
       "    <tr>\n",
       "      <th>165</th>\n",
       "      <td>371</td>\n",
       "      <td>Rogersville City</td>\n",
       "      <td>constructive</td>\n",
       "      <td>46.15</td>\n",
       "    </tr>\n",
       "    <tr>\n",
       "      <th>314</th>\n",
       "      <td>770</td>\n",
       "      <td>Sequatchie County</td>\n",
       "      <td>constructive</td>\n",
       "      <td>46.15</td>\n",
       "    </tr>\n",
       "    <tr>\n",
       "      <th>111</th>\n",
       "      <td>240</td>\n",
       "      <td>Fayette County Public Schools</td>\n",
       "      <td>constructive</td>\n",
       "      <td>45.90</td>\n",
       "    </tr>\n",
       "    <tr>\n",
       "      <th>74</th>\n",
       "      <td>160</td>\n",
       "      <td>Coffee County</td>\n",
       "      <td>constructive</td>\n",
       "      <td>45.71</td>\n",
       "    </tr>\n",
       "    <tr>\n",
       "      <th>270</th>\n",
       "      <td>660</td>\n",
       "      <td>Obion County</td>\n",
       "      <td>constructive</td>\n",
       "      <td>45.00</td>\n",
       "    </tr>\n",
       "    <tr>\n",
       "      <th>182</th>\n",
       "      <td>410</td>\n",
       "      <td>Hickman County</td>\n",
       "      <td>constructive</td>\n",
       "      <td>44.90</td>\n",
       "    </tr>\n",
       "    <tr>\n",
       "      <th>77</th>\n",
       "      <td>161</td>\n",
       "      <td>Manchester City</td>\n",
       "      <td>constructive</td>\n",
       "      <td>44.44</td>\n",
       "    </tr>\n",
       "    <tr>\n",
       "      <th>311</th>\n",
       "      <td>761</td>\n",
       "      <td>Oneida SSD</td>\n",
       "      <td>constructive</td>\n",
       "      <td>44.44</td>\n",
       "    </tr>\n",
       "    <tr>\n",
       "      <th>170</th>\n",
       "      <td>390</td>\n",
       "      <td>Henderson County</td>\n",
       "      <td>constructive</td>\n",
       "      <td>43.40</td>\n",
       "    </tr>\n",
       "    <tr>\n",
       "      <th>276</th>\n",
       "      <td>670</td>\n",
       "      <td>Overton County</td>\n",
       "      <td>constructive</td>\n",
       "      <td>42.50</td>\n",
       "    </tr>\n",
       "    <tr>\n",
       "      <th>83</th>\n",
       "      <td>170</td>\n",
       "      <td>Crockett County</td>\n",
       "      <td>constructive</td>\n",
       "      <td>40.00</td>\n",
       "    </tr>\n",
       "    <tr>\n",
       "      <th>412</th>\n",
       "      <td>970</td>\n",
       "      <td>Department of Childrens Services</td>\n",
       "      <td>constructive</td>\n",
       "      <td>40.00</td>\n",
       "    </tr>\n",
       "    <tr>\n",
       "      <th>344</th>\n",
       "      <td>810</td>\n",
       "      <td>Stewart County</td>\n",
       "      <td>constructive</td>\n",
       "      <td>38.89</td>\n",
       "    </tr>\n",
       "    <tr>\n",
       "      <th>61</th>\n",
       "      <td>120</td>\n",
       "      <td>Chester County</td>\n",
       "      <td>constructive</td>\n",
       "      <td>36.67</td>\n",
       "    </tr>\n",
       "    <tr>\n",
       "      <th>49</th>\n",
       "      <td>97</td>\n",
       "      <td>West Carroll SSD</td>\n",
       "      <td>constructive</td>\n",
       "      <td>31.25</td>\n",
       "    </tr>\n",
       "    <tr>\n",
       "      <th>129</th>\n",
       "      <td>274</td>\n",
       "      <td>Bradford</td>\n",
       "      <td>constructive</td>\n",
       "      <td>25.00</td>\n",
       "    </tr>\n",
       "  </tbody>\n",
       "</table>\n",
       "<p>147 rows × 4 columns</p>\n",
       "</div>"
      ],
      "text/plain": [
       "     district_no                       district_name classification     pct\n",
       "39            90                      Carroll County   constructive  100.00\n",
       "48            95                   South Carroll SSD   constructive  100.00\n",
       "203          480                         Lake County   constructive   87.50\n",
       "154          340                      Hancock County   constructive   85.71\n",
       "89           172                          Bells City   constructive   83.33\n",
       "244          581                        Richard City   constructive   77.78\n",
       "404          960  West Tennessee School for the Deaf   constructive   75.00\n",
       "238          570                      Madison County   constructive   73.58\n",
       "279          680                        Perry County   constructive   72.22\n",
       "55           101                   Elizabethton City   constructive   71.43\n",
       "350          821                        Bristol City   constructive   71.43\n",
       "362          850                    Trousdale County   constructive   71.43\n",
       "415          985         Achievement School District   constructive   70.00\n",
       "6             12                      Oak Ridge City   constructive   69.23\n",
       "222          531                         Lenoir City   constructive   68.97\n",
       "214          520                      Lincoln County   constructive   68.63\n",
       "267          650                       Morgan County   constructive   68.63\n",
       "335          797                            Lakeland   constructive   68.00\n",
       "329          795                        Collierville   constructive   67.47\n",
       "18            50                       Blount County   constructive   67.03\n",
       "191          440                      Jackson County   constructive   66.67\n",
       "273          661                          Union City   constructive   66.67\n",
       "353          822                      Kingsport City   constructive   66.67\n",
       "406          961              Alvin C York Institute   constructive   66.67\n",
       "410          964       Tennessee School for the Deaf   constructive   66.67\n",
       "140          300                       Greene County   constructive   65.82\n",
       "176          400                        Henry County   constructive   65.71\n",
       "134          280                        Giles County   constructive   65.22\n",
       "148          320                      Hamblen County   constructive   65.12\n",
       "46            94                        McKenzie SSD   constructive   65.00\n",
       "..           ...                                 ...            ...     ...\n",
       "230          542                              Etowah   constructive   50.00\n",
       "299          740                    Robertson County   constructive   50.00\n",
       "371          880                    Van Buren County   constructive   50.00\n",
       "383          910                        Wayne County   constructive   50.00\n",
       "374          890                       Warren County   constructive   49.49\n",
       "246          590                     Marshall County   constructive   49.43\n",
       "386          920                      Weakley County   constructive   49.38\n",
       "401          951                             Lebanon   constructive   49.06\n",
       "359          840                       Tipton County   constructive   49.02\n",
       "156          350             Hardeman County Schools   constructive   48.15\n",
       "205          490                   Lauderdale County   constructive   47.22\n",
       "9             20                      Bedford County   constructive   47.20\n",
       "188          430                    Humphreys County   constructive   46.88\n",
       "232          550                      McNairy County   constructive   46.43\n",
       "165          371                    Rogersville City   constructive   46.15\n",
       "314          770                   Sequatchie County   constructive   46.15\n",
       "111          240       Fayette County Public Schools   constructive   45.90\n",
       "74           160                       Coffee County   constructive   45.71\n",
       "270          660                        Obion County   constructive   45.00\n",
       "182          410                      Hickman County   constructive   44.90\n",
       "77           161                     Manchester City   constructive   44.44\n",
       "311          761                          Oneida SSD   constructive   44.44\n",
       "170          390                    Henderson County   constructive   43.40\n",
       "276          670                      Overton County   constructive   42.50\n",
       "83           170                     Crockett County   constructive   40.00\n",
       "412          970    Department of Childrens Services   constructive   40.00\n",
       "344          810                      Stewart County   constructive   38.89\n",
       "61           120                      Chester County   constructive   36.67\n",
       "49            97                    West Carroll SSD   constructive   31.25\n",
       "129          274                            Bradford   constructive   25.00\n",
       "\n",
       "[147 rows x 4 columns]"
      ]
     },
     "execution_count": 172,
     "metadata": {},
     "output_type": "execute_result"
    }
   ],
   "source": [
    "district_class_grouping_pct[district_class_grouping_pct['classification'] == 'constructive']\\\n",
    "        .sort_values(by = ['classification', 'pct'], ascending = False)"
   ]
  },
  {
   "cell_type": "markdown",
   "metadata": {
    "slideshow": {
     "slide_type": "skip"
    }
   },
   "source": [
    "## Mallet"
   ]
  },
  {
   "cell_type": "code",
   "execution_count": 173,
   "metadata": {
    "slideshow": {
     "slide_type": "skip"
    }
   },
   "outputs": [],
   "source": [
    "import os\n",
    "from gensim.models.wrappers import LdaMallet\n",
    "\n",
    "os.environ['MALLET_HOME'] = 'C:\\\\Users\\\\ca20593\\\\mallet'"
   ]
  },
  {
   "cell_type": "code",
   "execution_count": 174,
   "metadata": {
    "slideshow": {
     "slide_type": "skip"
    }
   },
   "outputs": [],
   "source": [
    "from gensim.models import CoherenceModel"
   ]
  },
  {
   "cell_type": "code",
   "execution_count": 175,
   "metadata": {
    "slideshow": {
     "slide_type": "skip"
    }
   },
   "outputs": [],
   "source": [
    "mallet_path = 'C:/Users/ca20593/mallet/mallet-2.0.8/bin/' # update this path\n",
    "# dictionary, corpus, lda_model\n",
    "#ldamallet = gensim.models.wrappers.LdaMallet(mallet_path, corpus=corpus, num_topics=20, id2word=dictionary)"
   ]
  },
  {
   "cell_type": "code",
   "execution_count": 176,
   "metadata": {
    "slideshow": {
     "slide_type": "skip"
    }
   },
   "outputs": [
    {
     "ename": "CalledProcessError",
     "evalue": "Command 'C:/Users/ca20593/mallet/mallet-2.0.8/bin/ import-file --preserve-case --keep-sequence --remove-stopwords --token-regex \"\\S+\" --input C:\\Users\\ca20593\\AppData\\Local\\Temp\\783f14_corpus.txt --output C:\\Users\\ca20593\\AppData\\Local\\Temp\\783f14_corpus.mallet' returned non-zero exit status 1.",
     "output_type": "error",
     "traceback": [
      "\u001b[1;31m---------------------------------------------------------------------------\u001b[0m",
      "\u001b[1;31mCalledProcessError\u001b[0m                        Traceback (most recent call last)",
      "\u001b[1;32m<ipython-input-176-405495daa50b>\u001b[0m in \u001b[0;36m<module>\u001b[1;34m\u001b[0m\n\u001b[1;32m----> 1\u001b[1;33m \u001b[0mldamallet\u001b[0m \u001b[1;33m=\u001b[0m \u001b[0mgensim\u001b[0m\u001b[1;33m.\u001b[0m\u001b[0mmodels\u001b[0m\u001b[1;33m.\u001b[0m\u001b[0mwrappers\u001b[0m\u001b[1;33m.\u001b[0m\u001b[0mLdaMallet\u001b[0m\u001b[1;33m(\u001b[0m\u001b[0mmallet_path\u001b[0m\u001b[1;33m,\u001b[0m \u001b[0mcorpus\u001b[0m\u001b[1;33m=\u001b[0m\u001b[0mcorpus\u001b[0m\u001b[1;33m,\u001b[0m \u001b[0mnum_topics\u001b[0m\u001b[1;33m=\u001b[0m\u001b[1;36m20\u001b[0m\u001b[1;33m,\u001b[0m \u001b[0mid2word\u001b[0m\u001b[1;33m=\u001b[0m\u001b[0mdictionary\u001b[0m\u001b[1;33m)\u001b[0m\u001b[1;33m\u001b[0m\u001b[1;33m\u001b[0m\u001b[0m\n\u001b[0m",
      "\u001b[1;32m~\\AppData\\Local\\Continuum\\anaconda3\\lib\\site-packages\\gensim\\models\\wrappers\\ldamallet.py\u001b[0m in \u001b[0;36m__init__\u001b[1;34m(self, mallet_path, corpus, num_topics, alpha, id2word, workers, prefix, optimize_interval, iterations, topic_threshold, random_seed)\u001b[0m\n\u001b[0;32m    130\u001b[0m         \u001b[0mself\u001b[0m\u001b[1;33m.\u001b[0m\u001b[0mrandom_seed\u001b[0m \u001b[1;33m=\u001b[0m \u001b[0mrandom_seed\u001b[0m\u001b[1;33m\u001b[0m\u001b[1;33m\u001b[0m\u001b[0m\n\u001b[0;32m    131\u001b[0m         \u001b[1;32mif\u001b[0m \u001b[0mcorpus\u001b[0m \u001b[1;32mis\u001b[0m \u001b[1;32mnot\u001b[0m \u001b[1;32mNone\u001b[0m\u001b[1;33m:\u001b[0m\u001b[1;33m\u001b[0m\u001b[1;33m\u001b[0m\u001b[0m\n\u001b[1;32m--> 132\u001b[1;33m             \u001b[0mself\u001b[0m\u001b[1;33m.\u001b[0m\u001b[0mtrain\u001b[0m\u001b[1;33m(\u001b[0m\u001b[0mcorpus\u001b[0m\u001b[1;33m)\u001b[0m\u001b[1;33m\u001b[0m\u001b[1;33m\u001b[0m\u001b[0m\n\u001b[0m\u001b[0;32m    133\u001b[0m \u001b[1;33m\u001b[0m\u001b[0m\n\u001b[0;32m    134\u001b[0m     \u001b[1;32mdef\u001b[0m \u001b[0mfinferencer\u001b[0m\u001b[1;33m(\u001b[0m\u001b[0mself\u001b[0m\u001b[1;33m)\u001b[0m\u001b[1;33m:\u001b[0m\u001b[1;33m\u001b[0m\u001b[1;33m\u001b[0m\u001b[0m\n",
      "\u001b[1;32m~\\AppData\\Local\\Continuum\\anaconda3\\lib\\site-packages\\gensim\\models\\wrappers\\ldamallet.py\u001b[0m in \u001b[0;36mtrain\u001b[1;34m(self, corpus)\u001b[0m\n\u001b[0;32m    271\u001b[0m \u001b[1;33m\u001b[0m\u001b[0m\n\u001b[0;32m    272\u001b[0m         \"\"\"\n\u001b[1;32m--> 273\u001b[1;33m         \u001b[0mself\u001b[0m\u001b[1;33m.\u001b[0m\u001b[0mconvert_input\u001b[0m\u001b[1;33m(\u001b[0m\u001b[0mcorpus\u001b[0m\u001b[1;33m,\u001b[0m \u001b[0minfer\u001b[0m\u001b[1;33m=\u001b[0m\u001b[1;32mFalse\u001b[0m\u001b[1;33m)\u001b[0m\u001b[1;33m\u001b[0m\u001b[1;33m\u001b[0m\u001b[0m\n\u001b[0m\u001b[0;32m    274\u001b[0m         \u001b[0mcmd\u001b[0m \u001b[1;33m=\u001b[0m \u001b[0mself\u001b[0m\u001b[1;33m.\u001b[0m\u001b[0mmallet_path\u001b[0m \u001b[1;33m+\u001b[0m \u001b[1;34m' train-topics --input %s --num-topics %s  --alpha %s --optimize-interval %s '\u001b[0m\u001b[0;31m\\\u001b[0m\u001b[1;33m\u001b[0m\u001b[1;33m\u001b[0m\u001b[0m\n\u001b[0;32m    275\u001b[0m             \u001b[1;34m'--num-threads %s --output-state %s --output-doc-topics %s --output-topic-keys %s '\u001b[0m\u001b[0;31m\\\u001b[0m\u001b[1;33m\u001b[0m\u001b[1;33m\u001b[0m\u001b[0m\n",
      "\u001b[1;32m~\\AppData\\Local\\Continuum\\anaconda3\\lib\\site-packages\\gensim\\models\\wrappers\\ldamallet.py\u001b[0m in \u001b[0;36mconvert_input\u001b[1;34m(self, corpus, infer, serialize_corpus)\u001b[0m\n\u001b[0;32m    260\u001b[0m             \u001b[0mcmd\u001b[0m \u001b[1;33m=\u001b[0m \u001b[0mcmd\u001b[0m \u001b[1;33m%\u001b[0m \u001b[1;33m(\u001b[0m\u001b[0mself\u001b[0m\u001b[1;33m.\u001b[0m\u001b[0mfcorpustxt\u001b[0m\u001b[1;33m(\u001b[0m\u001b[1;33m)\u001b[0m\u001b[1;33m,\u001b[0m \u001b[0mself\u001b[0m\u001b[1;33m.\u001b[0m\u001b[0mfcorpusmallet\u001b[0m\u001b[1;33m(\u001b[0m\u001b[1;33m)\u001b[0m\u001b[1;33m)\u001b[0m\u001b[1;33m\u001b[0m\u001b[1;33m\u001b[0m\u001b[0m\n\u001b[0;32m    261\u001b[0m         \u001b[0mlogger\u001b[0m\u001b[1;33m.\u001b[0m\u001b[0minfo\u001b[0m\u001b[1;33m(\u001b[0m\u001b[1;34m\"converting temporary corpus to MALLET format with %s\"\u001b[0m\u001b[1;33m,\u001b[0m \u001b[0mcmd\u001b[0m\u001b[1;33m)\u001b[0m\u001b[1;33m\u001b[0m\u001b[1;33m\u001b[0m\u001b[0m\n\u001b[1;32m--> 262\u001b[1;33m         \u001b[0mcheck_output\u001b[0m\u001b[1;33m(\u001b[0m\u001b[0margs\u001b[0m\u001b[1;33m=\u001b[0m\u001b[0mcmd\u001b[0m\u001b[1;33m,\u001b[0m \u001b[0mshell\u001b[0m\u001b[1;33m=\u001b[0m\u001b[1;32mTrue\u001b[0m\u001b[1;33m)\u001b[0m\u001b[1;33m\u001b[0m\u001b[1;33m\u001b[0m\u001b[0m\n\u001b[0m\u001b[0;32m    263\u001b[0m \u001b[1;33m\u001b[0m\u001b[0m\n\u001b[0;32m    264\u001b[0m     \u001b[1;32mdef\u001b[0m \u001b[0mtrain\u001b[0m\u001b[1;33m(\u001b[0m\u001b[0mself\u001b[0m\u001b[1;33m,\u001b[0m \u001b[0mcorpus\u001b[0m\u001b[1;33m)\u001b[0m\u001b[1;33m:\u001b[0m\u001b[1;33m\u001b[0m\u001b[1;33m\u001b[0m\u001b[0m\n",
      "\u001b[1;32m~\\AppData\\Local\\Continuum\\anaconda3\\lib\\site-packages\\gensim\\utils.py\u001b[0m in \u001b[0;36mcheck_output\u001b[1;34m(stdout, *popenargs, **kwargs)\u001b[0m\n\u001b[0;32m   1916\u001b[0m             \u001b[0merror\u001b[0m \u001b[1;33m=\u001b[0m \u001b[0msubprocess\u001b[0m\u001b[1;33m.\u001b[0m\u001b[0mCalledProcessError\u001b[0m\u001b[1;33m(\u001b[0m\u001b[0mretcode\u001b[0m\u001b[1;33m,\u001b[0m \u001b[0mcmd\u001b[0m\u001b[1;33m)\u001b[0m\u001b[1;33m\u001b[0m\u001b[1;33m\u001b[0m\u001b[0m\n\u001b[0;32m   1917\u001b[0m             \u001b[0merror\u001b[0m\u001b[1;33m.\u001b[0m\u001b[0moutput\u001b[0m \u001b[1;33m=\u001b[0m \u001b[0moutput\u001b[0m\u001b[1;33m\u001b[0m\u001b[1;33m\u001b[0m\u001b[0m\n\u001b[1;32m-> 1918\u001b[1;33m             \u001b[1;32mraise\u001b[0m \u001b[0merror\u001b[0m\u001b[1;33m\u001b[0m\u001b[1;33m\u001b[0m\u001b[0m\n\u001b[0m\u001b[0;32m   1919\u001b[0m         \u001b[1;32mreturn\u001b[0m \u001b[0moutput\u001b[0m\u001b[1;33m\u001b[0m\u001b[1;33m\u001b[0m\u001b[0m\n\u001b[0;32m   1920\u001b[0m     \u001b[1;32mexcept\u001b[0m \u001b[0mKeyboardInterrupt\u001b[0m\u001b[1;33m:\u001b[0m\u001b[1;33m\u001b[0m\u001b[1;33m\u001b[0m\u001b[0m\n",
      "\u001b[1;31mCalledProcessError\u001b[0m: Command 'C:/Users/ca20593/mallet/mallet-2.0.8/bin/ import-file --preserve-case --keep-sequence --remove-stopwords --token-regex \"\\S+\" --input C:\\Users\\ca20593\\AppData\\Local\\Temp\\783f14_corpus.txt --output C:\\Users\\ca20593\\AppData\\Local\\Temp\\783f14_corpus.mallet' returned non-zero exit status 1."
     ]
    }
   ],
   "source": [
    "ldamallet = gensim.models.wrappers.LdaMallet(mallet_path, corpus=corpus, num_topics=20, id2word=dictionary)"
   ]
  },
  {
   "cell_type": "code",
   "execution_count": null,
   "metadata": {
    "slideshow": {
     "slide_type": "skip"
    }
   },
   "outputs": [],
   "source": [
    "pprint(ldamallet.show_topics(formatted=False))"
   ]
  },
  {
   "cell_type": "code",
   "execution_count": null,
   "metadata": {
    "slideshow": {
     "slide_type": "skip"
    }
   },
   "outputs": [],
   "source": [
    "coherence_model_ldamallet = CoherenceModel(model=ldamallet, texts=answers, dictionary=dictionary, coherence='c_v')\n",
    "coherence_ldamallet = coherence_model_ldamallet.get_coherence()\n",
    "print('\\nCoherence Score: ', round(coherence_ldamallet, 2))"
   ]
  },
  {
   "cell_type": "code",
   "execution_count": null,
   "metadata": {
    "slideshow": {
     "slide_type": "skip"
    }
   },
   "outputs": [],
   "source": [
    "def compute_coherence_values(dictionary, corpus, texts, limit, start=2, step=3):\n",
    "    \"\"\"\n",
    "    Compute c_v coherence for various number of topics\n",
    "\n",
    "    Parameters:\n",
    "    ----------\n",
    "    dictionary : Gensim dictionary\n",
    "    corpus : Gensim corpus\n",
    "    texts : List of input texts\n",
    "    limit : Max num of topics\n",
    "\n",
    "    Returns:\n",
    "    -------\n",
    "    model_list : List of LDA topic models\n",
    "    coherence_values : Coherence values corresponding to the LDA model with respective number of topics\n",
    "    \"\"\"\n",
    "    coherence_values = []\n",
    "    model_list = []\n",
    "    for num_topics in range(start, limit, step):\n",
    "        model = gensim.models.wrappers.LdaMallet(mallet_path, corpus=corpus, num_topics=num_topics, id2word=dictionary)\n",
    "        model_list.append(model)\n",
    "        coherencemodel = CoherenceModel(model=model, texts=texts, dictionary=dictionary, coherence='c_v')\n",
    "        coherence_values.append(coherencemodel.get_coherence())\n",
    "\n",
    "    return model_list, coherence_values"
   ]
  },
  {
   "cell_type": "code",
   "execution_count": null,
   "metadata": {
    "slideshow": {
     "slide_type": "skip"
    }
   },
   "outputs": [],
   "source": [
    "model_list, coherence_values = compute_coherence_values(dictionary=dictionary, corpus=corpus, \n",
    "                                                        texts=answers, start=5, limit=20, step=1)\n",
    "\n"
   ]
  },
  {
   "cell_type": "code",
   "execution_count": null,
   "metadata": {
    "slideshow": {
     "slide_type": "skip"
    }
   },
   "outputs": [],
   "source": [
    "# Show graph\n",
    "limit=20; start=5; step=1;\n",
    "x = range(start, limit, step)\n",
    "plt.plot(x, coherence_values)\n",
    "plt.xlabel(\"Num Topics\")\n",
    "plt.ylabel(\"Coherence score\")\n",
    "plt.legend((\"coherence_values\"), loc='best')\n",
    "#plt.show()\n"
   ]
  },
  {
   "cell_type": "code",
   "execution_count": null,
   "metadata": {
    "slideshow": {
     "slide_type": "skip"
    }
   },
   "outputs": [],
   "source": [
    "coherence_values"
   ]
  },
  {
   "cell_type": "markdown",
   "metadata": {
    "slideshow": {
     "slide_type": "skip"
    }
   },
   "source": [
    "## Years of experience comparison"
   ]
  },
  {
   "cell_type": "code",
   "execution_count": 177,
   "metadata": {},
   "outputs": [],
   "source": [
    "def over_years_exp(yrs_exp):\n",
    "    return textblob_df_with_class.loc[textblob_df_with_class['YrsExpr18'] >= yrs_exp, 'Q13'].tolist()\n",
    "    \n",
    "def under_years_exp(yrs_exp):\n",
    "    return textblob_df_with_class.loc[textblob_df_with_class['YrsExpr18'] <= yrs_exp, 'Q13'].tolist()"
   ]
  },
  {
   "cell_type": "code",
   "execution_count": 178,
   "metadata": {},
   "outputs": [],
   "source": [
    "over_25_answers = textblob_df_with_class.loc[textblob_df_with_class['YrsExpr18'] >= 25, 'Q13'].tolist()"
   ]
  },
  {
   "cell_type": "code",
   "execution_count": 179,
   "metadata": {},
   "outputs": [
    {
     "data": {
      "text/plain": [
       "1612"
      ]
     },
     "execution_count": 179,
     "metadata": {},
     "output_type": "execute_result"
    }
   ],
   "source": [
    "len(over_25_answers)"
   ]
  },
  {
   "cell_type": "code",
   "execution_count": 180,
   "metadata": {},
   "outputs": [],
   "source": [
    "# total_lda_vis(over_25_answers, \n",
    "#                   bigram_min_count = 3, bigram_threshold = 7, \n",
    "#                   trigram_min_count = 2, trigram_threshold = 3,\n",
    "#                   num_topics = 5, topic_chunksize = 100, passes = 8\n",
    "#                  )"
   ]
  },
  {
   "cell_type": "code",
   "execution_count": 181,
   "metadata": {},
   "outputs": [],
   "source": [
    "under_5_years = under_years_exp(5)"
   ]
  },
  {
   "cell_type": "code",
   "execution_count": 182,
   "metadata": {},
   "outputs": [
    {
     "data": {
      "text/plain": [
       "3317"
      ]
     },
     "execution_count": 182,
     "metadata": {},
     "output_type": "execute_result"
    }
   ],
   "source": [
    "len(under_5_years)"
   ]
  },
  {
   "cell_type": "code",
   "execution_count": 183,
   "metadata": {},
   "outputs": [],
   "source": [
    "# total_lda_vis(under_5_years, \n",
    "#                   bigram_min_count = 3, bigram_threshold = 7, \n",
    "#                   trigram_min_count = 2, trigram_threshold = 3,\n",
    "#                   num_topics = 5, topic_chunksize = 100, passes = 8\n",
    "#                  )"
   ]
  },
  {
   "cell_type": "markdown",
   "metadata": {},
   "source": [
    "## Sci Kit Learn TF-IDF"
   ]
  },
  {
   "cell_type": "code",
   "execution_count": 184,
   "metadata": {},
   "outputs": [],
   "source": [
    "from sklearn.feature_extraction.text import TfidfVectorizer\n",
    "from sklearn.decomposition import NMF\n",
    "from sklearn.preprocessing import normalize\n",
    "from sklearn.pipeline import make_pipeline"
   ]
  },
  {
   "cell_type": "code",
   "execution_count": 185,
   "metadata": {},
   "outputs": [],
   "source": [
    "tfidf = TfidfVectorizer(stop_words=stopwords.words('english'), max_df = 0.85)"
   ]
  },
  {
   "cell_type": "code",
   "execution_count": 186,
   "metadata": {},
   "outputs": [
    {
     "name": "stderr",
     "output_type": "stream",
     "text": [
      "C:\\Users\\ca20593\\AppData\\Local\\Continuum\\anaconda3\\lib\\site-packages\\numpy\\matrixlib\\defmatrix.py:68: PendingDeprecationWarning: the matrix subclass is not the recommended way to represent matrices or deal with linear algebra (see https://docs.scipy.org/doc/numpy/user/numpy-for-matlab-users.html). Please adjust your code to use regular ndarray.\n",
      "  return matrix(data, dtype=dtype, copy=False)\n"
     ]
    }
   ],
   "source": [
    "responses = tfidf.fit_transform(open_ended_answers)"
   ]
  },
  {
   "cell_type": "code",
   "execution_count": 187,
   "metadata": {},
   "outputs": [],
   "source": [
    "words = tfidf.get_feature_names()"
   ]
  },
  {
   "cell_type": "code",
   "execution_count": 188,
   "metadata": {},
   "outputs": [],
   "source": [
    "model = NMF(n_components=6)"
   ]
  },
  {
   "cell_type": "code",
   "execution_count": 189,
   "metadata": {},
   "outputs": [
    {
     "data": {
      "text/plain": [
       "NMF(alpha=0.0, beta_loss='frobenius', init=None, l1_ratio=0.0, max_iter=200,\n",
       "  n_components=6, random_state=None, shuffle=False, solver='cd',\n",
       "  tol=0.0001, verbose=0)"
      ]
     },
     "execution_count": 189,
     "metadata": {},
     "output_type": "execute_result"
    }
   ],
   "source": [
    "model.fit(responses)"
   ]
  },
  {
   "cell_type": "code",
   "execution_count": 190,
   "metadata": {},
   "outputs": [],
   "source": [
    "nmf_features = model.transform(responses)"
   ]
  },
  {
   "cell_type": "code",
   "execution_count": 191,
   "metadata": {},
   "outputs": [],
   "source": [
    "df_features = pd.DataFrame(nmf_features)"
   ]
  },
  {
   "cell_type": "code",
   "execution_count": 192,
   "metadata": {},
   "outputs": [
    {
     "data": {
      "text/html": [
       "<div>\n",
       "<style scoped>\n",
       "    .dataframe tbody tr th:only-of-type {\n",
       "        vertical-align: middle;\n",
       "    }\n",
       "\n",
       "    .dataframe tbody tr th {\n",
       "        vertical-align: top;\n",
       "    }\n",
       "\n",
       "    .dataframe thead th {\n",
       "        text-align: right;\n",
       "    }\n",
       "</style>\n",
       "<table border=\"1\" class=\"dataframe\">\n",
       "  <thead>\n",
       "    <tr style=\"text-align: right;\">\n",
       "      <th></th>\n",
       "      <th>0</th>\n",
       "      <th>1</th>\n",
       "      <th>2</th>\n",
       "      <th>3</th>\n",
       "      <th>4</th>\n",
       "      <th>5</th>\n",
       "    </tr>\n",
       "  </thead>\n",
       "  <tbody>\n",
       "    <tr>\n",
       "      <th>0</th>\n",
       "      <td>0.000042</td>\n",
       "      <td>0.037974</td>\n",
       "      <td>0.023696</td>\n",
       "      <td>0.049943</td>\n",
       "      <td>0.025681</td>\n",
       "      <td>0.031519</td>\n",
       "    </tr>\n",
       "    <tr>\n",
       "      <th>1</th>\n",
       "      <td>0.000000</td>\n",
       "      <td>0.040950</td>\n",
       "      <td>0.000000</td>\n",
       "      <td>0.001481</td>\n",
       "      <td>0.074911</td>\n",
       "      <td>0.013166</td>\n",
       "    </tr>\n",
       "    <tr>\n",
       "      <th>2</th>\n",
       "      <td>0.000000</td>\n",
       "      <td>0.050798</td>\n",
       "      <td>0.000000</td>\n",
       "      <td>0.000000</td>\n",
       "      <td>0.002171</td>\n",
       "      <td>0.067886</td>\n",
       "    </tr>\n",
       "    <tr>\n",
       "      <th>3</th>\n",
       "      <td>0.000000</td>\n",
       "      <td>0.028419</td>\n",
       "      <td>0.000000</td>\n",
       "      <td>0.000000</td>\n",
       "      <td>0.000000</td>\n",
       "      <td>0.039809</td>\n",
       "    </tr>\n",
       "    <tr>\n",
       "      <th>4</th>\n",
       "      <td>0.000000</td>\n",
       "      <td>0.006281</td>\n",
       "      <td>0.039661</td>\n",
       "      <td>0.000000</td>\n",
       "      <td>0.042445</td>\n",
       "      <td>0.000000</td>\n",
       "    </tr>\n",
       "  </tbody>\n",
       "</table>\n",
       "</div>"
      ],
      "text/plain": [
       "          0         1         2         3         4         5\n",
       "0  0.000042  0.037974  0.023696  0.049943  0.025681  0.031519\n",
       "1  0.000000  0.040950  0.000000  0.001481  0.074911  0.013166\n",
       "2  0.000000  0.050798  0.000000  0.000000  0.002171  0.067886\n",
       "3  0.000000  0.028419  0.000000  0.000000  0.000000  0.039809\n",
       "4  0.000000  0.006281  0.039661  0.000000  0.042445  0.000000"
      ]
     },
     "execution_count": 192,
     "metadata": {},
     "output_type": "execute_result"
    }
   ],
   "source": [
    "df_features.head()"
   ]
  },
  {
   "cell_type": "code",
   "execution_count": 193,
   "metadata": {},
   "outputs": [
    {
     "data": {
      "text/plain": [
       "(12175, 6)"
      ]
     },
     "execution_count": 193,
     "metadata": {},
     "output_type": "execute_result"
    }
   ],
   "source": [
    "df_features.shape"
   ]
  },
  {
   "cell_type": "code",
   "execution_count": 194,
   "metadata": {},
   "outputs": [],
   "source": [
    "components_df = pd.DataFrame(model.components_, columns = words)"
   ]
  },
  {
   "cell_type": "code",
   "execution_count": 195,
   "metadata": {},
   "outputs": [
    {
     "data": {
      "text/plain": [
       "(6, 14581)"
      ]
     },
     "execution_count": 195,
     "metadata": {},
     "output_type": "execute_result"
    }
   ],
   "source": [
    "components_df.shape"
   ]
  },
  {
   "cell_type": "code",
   "execution_count": 196,
   "metadata": {},
   "outputs": [
    {
     "name": "stdout",
     "output_type": "stream",
     "text": [
      "time             2.266682\n",
      "planning         1.054926\n",
      "much             0.521203\n",
      "day              0.387277\n",
      "meetings         0.371132\n",
      "away             0.340419\n",
      "spend            0.334770\n",
      "plan             0.328954\n",
      "spent            0.304794\n",
      "instructional    0.300805\n",
      "Name: 2, dtype: float64\n"
     ]
    }
   ],
   "source": [
    "component = components_df.iloc[2,:]\n",
    "print(component.nlargest(10))"
   ]
  },
  {
   "cell_type": "code",
   "execution_count": 197,
   "metadata": {},
   "outputs": [],
   "source": [
    "norm_features = normalize(nmf_features)"
   ]
  },
  {
   "cell_type": "code",
   "execution_count": 198,
   "metadata": {},
   "outputs": [],
   "source": [
    "norm_df = pd.DataFrame(norm_features)"
   ]
  },
  {
   "cell_type": "code",
   "execution_count": 199,
   "metadata": {},
   "outputs": [
    {
     "data": {
      "text/html": [
       "<div>\n",
       "<style scoped>\n",
       "    .dataframe tbody tr th:only-of-type {\n",
       "        vertical-align: middle;\n",
       "    }\n",
       "\n",
       "    .dataframe tbody tr th {\n",
       "        vertical-align: top;\n",
       "    }\n",
       "\n",
       "    .dataframe thead th {\n",
       "        text-align: right;\n",
       "    }\n",
       "</style>\n",
       "<table border=\"1\" class=\"dataframe\">\n",
       "  <thead>\n",
       "    <tr style=\"text-align: right;\">\n",
       "      <th></th>\n",
       "      <th>0</th>\n",
       "      <th>1</th>\n",
       "      <th>2</th>\n",
       "      <th>3</th>\n",
       "      <th>4</th>\n",
       "      <th>5</th>\n",
       "    </tr>\n",
       "  </thead>\n",
       "  <tbody>\n",
       "    <tr>\n",
       "      <th>0</th>\n",
       "      <td>0.000541</td>\n",
       "      <td>0.484200</td>\n",
       "      <td>0.302146</td>\n",
       "      <td>0.636811</td>\n",
       "      <td>0.327444</td>\n",
       "      <td>0.401883</td>\n",
       "    </tr>\n",
       "    <tr>\n",
       "      <th>1</th>\n",
       "      <td>0.000000</td>\n",
       "      <td>0.473983</td>\n",
       "      <td>0.000000</td>\n",
       "      <td>0.017139</td>\n",
       "      <td>0.867077</td>\n",
       "      <td>0.152396</td>\n",
       "    </tr>\n",
       "    <tr>\n",
       "      <th>2</th>\n",
       "      <td>0.000000</td>\n",
       "      <td>0.598923</td>\n",
       "      <td>0.000000</td>\n",
       "      <td>0.000000</td>\n",
       "      <td>0.025599</td>\n",
       "      <td>0.800398</td>\n",
       "    </tr>\n",
       "    <tr>\n",
       "      <th>3</th>\n",
       "      <td>0.000000</td>\n",
       "      <td>0.581017</td>\n",
       "      <td>0.000000</td>\n",
       "      <td>0.000000</td>\n",
       "      <td>0.000000</td>\n",
       "      <td>0.813891</td>\n",
       "    </tr>\n",
       "    <tr>\n",
       "      <th>4</th>\n",
       "      <td>0.000000</td>\n",
       "      <td>0.107491</td>\n",
       "      <td>0.678786</td>\n",
       "      <td>0.000000</td>\n",
       "      <td>0.726427</td>\n",
       "      <td>0.000000</td>\n",
       "    </tr>\n",
       "  </tbody>\n",
       "</table>\n",
       "</div>"
      ],
      "text/plain": [
       "          0         1         2         3         4         5\n",
       "0  0.000541  0.484200  0.302146  0.636811  0.327444  0.401883\n",
       "1  0.000000  0.473983  0.000000  0.017139  0.867077  0.152396\n",
       "2  0.000000  0.598923  0.000000  0.000000  0.025599  0.800398\n",
       "3  0.000000  0.581017  0.000000  0.000000  0.000000  0.813891\n",
       "4  0.000000  0.107491  0.678786  0.000000  0.726427  0.000000"
      ]
     },
     "execution_count": 199,
     "metadata": {},
     "output_type": "execute_result"
    }
   ],
   "source": [
    "norm_df.head()"
   ]
  },
  {
   "cell_type": "code",
   "execution_count": 200,
   "metadata": {},
   "outputs": [
    {
     "data": {
      "text/plain": [
       "(12175, 6)"
      ]
     },
     "execution_count": 200,
     "metadata": {},
     "output_type": "execute_result"
    }
   ],
   "source": [
    "norm_df.shape"
   ]
  },
  {
   "cell_type": "code",
   "execution_count": 201,
   "metadata": {},
   "outputs": [],
   "source": [
    "rand_response = norm_df.iloc[8000]"
   ]
  },
  {
   "cell_type": "code",
   "execution_count": 202,
   "metadata": {},
   "outputs": [],
   "source": [
    "similarities = norm_df.dot(rand_response)"
   ]
  },
  {
   "cell_type": "code",
   "execution_count": 203,
   "metadata": {},
   "outputs": [
    {
     "data": {
      "text/plain": [
       "8000     1.000000\n",
       "11466    0.999542\n",
       "11167    0.998364\n",
       "10764    0.998089\n",
       "3433     0.998007\n",
       "7984     0.997892\n",
       "10744    0.997710\n",
       "8922     0.997561\n",
       "9106     0.995727\n",
       "5299     0.995473\n",
       "6819     0.994592\n",
       "dtype: float64"
      ]
     },
     "execution_count": 203,
     "metadata": {},
     "output_type": "execute_result"
    }
   ],
   "source": [
    "similarities.sort_values(ascending = False).head(11)"
   ]
  },
  {
   "cell_type": "code",
   "execution_count": 204,
   "metadata": {},
   "outputs": [
    {
     "data": {
      "text/plain": [
       "[11466, 11167, 10764, 3433, 7984, 10744, 8922, 9106, 5299, 6819]"
      ]
     },
     "execution_count": 204,
     "metadata": {},
     "output_type": "execute_result"
    }
   ],
   "source": [
    "similarities.sort_values(ascending = False).head(11).index.tolist()[1:]"
   ]
  },
  {
   "cell_type": "code",
   "execution_count": 205,
   "metadata": {},
   "outputs": [
    {
     "name": "stdout",
     "output_type": "stream",
     "text": [
      "8000     1.000000\n",
      "11466    0.999542\n",
      "11167    0.998364\n",
      "10764    0.998089\n",
      "3433     0.998007\n",
      "dtype: float64\n"
     ]
    }
   ],
   "source": [
    "print(similarities.nlargest())"
   ]
  },
  {
   "cell_type": "code",
   "execution_count": 206,
   "metadata": {},
   "outputs": [
    {
     "data": {
      "text/plain": [
       "'The \"PDP\" and \"PLC\" times required by the schools in our district seems to vary from school to school, and from district to district. It also remains unclear which activities fall under which heading. I need clear, concise guidelines for what is required. I find them to be a confusing mess.'"
      ]
     },
     "execution_count": 206,
     "metadata": {},
     "output_type": "execute_result"
    }
   ],
   "source": [
    "open_ended_answers[8000]"
   ]
  },
  {
   "cell_type": "code",
   "execution_count": 207,
   "metadata": {},
   "outputs": [
    {
     "data": {
      "text/plain": [
       "'For our roles as school counselors, at each level, to be more defined and concrete. In addition to doing completely away with the term \"guidance\".'"
      ]
     },
     "execution_count": 207,
     "metadata": {},
     "output_type": "execute_result"
    }
   ],
   "source": [
    "open_ended_answers[11466]"
   ]
  },
  {
   "cell_type": "code",
   "execution_count": 208,
   "metadata": {},
   "outputs": [],
   "source": [
    "def find_similar_responses(initial_ind,  answer_list, num_similar = 10, num_topics = 6):\n",
    "    tfidf = TfidfVectorizer(stop_words=stopwords.words('english'), max_df = 0.80)\n",
    "    responses = tfidf.fit_transform(answer_list)\n",
    "    model = NMF(n_components=num_topics)\n",
    "    nmf_features = model.fit_transform(responses)\n",
    "    norm_features = normalize(nmf_features)\n",
    "    normalized_df = pd.DataFrame(norm_features)\n",
    "    response = normalized_df.iloc[initial_ind]\n",
    "    similar = normalized_df.dot(response)\n",
    "    similar_ind_list = similar.sort_values(ascending = False).index.tolist()[0:num_similar+1]\n",
    "    return [answer_list[ind] for ind in similar_ind_list]"
   ]
  },
  {
   "cell_type": "code",
   "execution_count": 209,
   "metadata": {},
   "outputs": [
    {
     "name": "stderr",
     "output_type": "stream",
     "text": [
      "C:\\Users\\ca20593\\AppData\\Local\\Continuum\\anaconda3\\lib\\site-packages\\numpy\\matrixlib\\defmatrix.py:68: PendingDeprecationWarning: the matrix subclass is not the recommended way to represent matrices or deal with linear algebra (see https://docs.scipy.org/doc/numpy/user/numpy-for-matlab-users.html). Please adjust your code to use regular ndarray.\n",
      "  return matrix(data, dtype=dtype, copy=False)\n"
     ]
    },
    {
     "data": {
      "text/plain": [
       "['Teacher evaluations should not be linked to standardized testing.',\n",
       " 'TOO MUCH TESTING!!! TCAP testing this year is spread over a three week period and scores are going to be terrible. The students are tired of testing as it is and will shut down. I do not feel that this will be a fair reflection of my teaching but I will be held responsible as it will reflect in my growth score. Please do something to change the testing process.',\n",
       " 'The current way we conduct EOC testing is seriously flawed. If you want to test student Growth then you need a pre and post test. Administer a test in September and another one at the end of the year. Compare those scores. That will show true growth.',\n",
       " 'State testing is not effective to either the teacher nor the student.']"
      ]
     },
     "execution_count": 209,
     "metadata": {},
     "output_type": "execute_result"
    }
   ],
   "source": [
    "find_similar_responses(4657, open_ended_answers, num_similar = 3)"
   ]
  },
  {
   "cell_type": "code",
   "execution_count": 210,
   "metadata": {},
   "outputs": [],
   "source": [
    "def show_topic_words(text_list, num_topics, num_words = 10):\n",
    "    tfidf = TfidfVectorizer(stop_words=stopwords.words('english'), max_df = 0.80, ngram_range = (1,1))\n",
    "    responses = tfidf.fit_transform(text_list)\n",
    "    words = tfidf.get_feature_names()\n",
    "    model = NMF(n_components=num_topics)\n",
    "    nmf_features = model.fit_transform(responses)\n",
    "    norm_features = normalize(nmf_features)\n",
    "    components_df = pd.DataFrame(model.components_, columns = words)\n",
    "    for i in range(num_topics):\n",
    "        component = components_df.iloc[i,:]\n",
    "        print(component.nlargest(num_words))\n",
    "        print('\\n')\n",
    "    normalized_df = pd.DataFrame(norm_features)\n",
    "    return normalized_df"
   ]
  },
  {
   "cell_type": "code",
   "execution_count": 211,
   "metadata": {},
   "outputs": [
    {
     "name": "stderr",
     "output_type": "stream",
     "text": [
      "C:\\Users\\ca20593\\AppData\\Local\\Continuum\\anaconda3\\lib\\site-packages\\numpy\\matrixlib\\defmatrix.py:68: PendingDeprecationWarning: the matrix subclass is not the recommended way to represent matrices or deal with linear algebra (see https://docs.scipy.org/doc/numpy/user/numpy-for-matlab-users.html). Please adjust your code to use regular ndarray.\n",
      "  return matrix(data, dtype=dtype, copy=False)\n"
     ]
    },
    {
     "name": "stdout",
     "output_type": "stream",
     "text": [
      "school            2.583833\n",
      "district          0.703513\n",
      "administration    0.635292\n",
      "principal         0.602883\n",
      "feel              0.543723\n",
      "staff             0.529662\n",
      "would             0.528359\n",
      "like              0.490054\n",
      "work              0.485041\n",
      "year              0.476969\n",
      "Name: 0, dtype: float64\n",
      "\n",
      "\n",
      "testing         1.625615\n",
      "test            1.357972\n",
      "state           0.710178\n",
      "tests           0.641387\n",
      "much            0.617745\n",
      "scores          0.460736\n",
      "standardized    0.451074\n",
      "year            0.405998\n",
      "students        0.389972\n",
      "act             0.318562\n",
      "Name: 1, dtype: float64\n",
      "\n",
      "\n",
      "time             2.325598\n",
      "planning         1.128552\n",
      "much             0.516198\n",
      "day              0.414653\n",
      "meetings         0.402015\n",
      "spend            0.349627\n",
      "plan             0.347304\n",
      "away             0.315902\n",
      "instructional    0.301159\n",
      "spent            0.297191\n",
      "Name: 2, dtype: float64\n",
      "\n",
      "\n",
      "standards      1.868959\n",
      "teach          0.636659\n",
      "grade          0.611109\n",
      "social         0.457163\n",
      "studies        0.447330\n",
      "math           0.370557\n",
      "curriculum     0.357800\n",
      "appropriate    0.322551\n",
      "level          0.316272\n",
      "state          0.313048\n",
      "Name: 3, dtype: float64\n",
      "\n",
      "\n",
      "teachers       2.037678\n",
      "teacher        0.914759\n",
      "evaluation     0.695460\n",
      "system         0.386829\n",
      "evaluations    0.311835\n",
      "scores         0.310747\n",
      "classroom      0.296876\n",
      "pay            0.287625\n",
      "teaching       0.275594\n",
      "education      0.266143\n",
      "Name: 4, dtype: float64\n",
      "\n",
      "\n",
      "students     2.045931\n",
      "need         0.677564\n",
      "education    0.565644\n",
      "needs        0.480507\n",
      "special      0.377683\n",
      "learning     0.351601\n",
      "student      0.322726\n",
      "behavior     0.278185\n",
      "parents      0.265501\n",
      "classroom    0.261959\n",
      "Name: 5, dtype: float64\n",
      "\n",
      "\n",
      "portfolio          1.910385\n",
      "kindergarten       1.237090\n",
      "process            0.729099\n",
      "year               0.701528\n",
      "growth             0.390306\n",
      "appropriate        0.370027\n",
      "portfolios         0.364234\n",
      "training           0.363423\n",
      "rubric             0.300749\n",
      "developmentally    0.287756\n",
      "Name: 6, dtype: float64\n",
      "\n",
      "\n"
     ]
    }
   ],
   "source": [
    "normalized_df = show_topic_words(open_ended_answers, 7, num_words = 10)"
   ]
  },
  {
   "cell_type": "code",
   "execution_count": 212,
   "metadata": {},
   "outputs": [],
   "source": [
    "topic_2_list = norm_df.sort_values(by = 2, ascending = False).index.tolist()[:30]"
   ]
  },
  {
   "cell_type": "code",
   "execution_count": 213,
   "metadata": {},
   "outputs": [
    {
     "data": {
      "text/plain": [
       "['The schedule shows adequate planning time, but because of meetings, PLC, data meetings, IEP meetings, parent meetings, etc. we have very little actual planning time.',\n",
       " 'Planning time should be planning time. IEP Meetings along with other meetings should not occur during this time.',\n",
       " 'More money, more planning time, money for instructional supplies',\n",
       " 'RTI takes up a lot of my time.  It could be more beneficial for me to spend more time on actual coaching.',\n",
       " 'Too much time spent on paperwork, planning, lesson plans and not enough time working on objectives.',\n",
       " 'I think that planning time should be set aside as just that \"planning time.\" Teachers use planning time for meetings, to make copies, etc. and the true lesson planning is done on our own time.',\n",
       " 'I think instructional time should be protected. I have a difficult time with missed instructional time.',\n",
       " 'TIme is a big issue.  RTI takes away from my curriculum.  Planning time is  with my lunch time so it is sufficient.',\n",
       " 'Completing this survey gave me even more insufficient planning time.',\n",
       " 'Planning time should be more protected with less meetings and PLCs. Some weeks I only have an hour and fourty-five minutes to plan.',\n",
       " 'My individual and uninterrupted planning time is not protected.',\n",
       " 'We need more planning time!! There is too much time spent on paperwork and useless meetings! The weekly PLC we have to have are absolutely a waste of time!',\n",
       " \"I feel that planning time, not plc's, collaboration, pre/post conferences, just planning time is not protected. Teachers are not given the required amount in the manner that the state requires. I should not have to spend my lunch break/planning time/ or time outside of my contract time, having PLC's.\",\n",
       " 'We could use more individual planning time.  Most of our planning time is with other teachers and coaches.',\n",
       " 'We are always in meetings and have very little planning time during the week,. Most of the time, planning is done at home in the evening.',\n",
       " 'I am given a good amount of individual planning time; however, I do not always get that time.  Meetings are scheduled during that time and trainings are sometimes scheduled during that time.',\n",
       " 'Our planning time is regularly used for meetings such that some weeks we get no individual planning time at all.',\n",
       " 'Protected planning time is vital to being able to implement incredible lessons.  It takes lots of time to put amazing activities into action.',\n",
       " 'Planning and collaboration time needs to be protected.',\n",
       " 'Too much collaborative planning that takes away from individual planning time resulting in less than 60 minutes of individual planning time in an average week.',\n",
       " 'Our planning time is always taken for meetings with instructional coaches or others supervisors.  We do not have adequate time to plan.',\n",
       " 'OUR PLANNING TIME IS TAKEN UP WITH DATA MEETINGS AT LEAST HALF THE TIME.',\n",
       " 'We need more planning time and time to communicate with other teachers. We get 30 minutes of planning time each day and most of our planning time is either used for parent meetings, data team meeting, etc.',\n",
       " 'time alotted throughout the day for teaching various subjects is not fair along with planning time. THERE IS NOT ENOUGH TIME IN THE DAY TO DO WHAT IS ASKED OF US!!!!!!!!!!!!',\n",
       " 'Too much time spent over analyzing lessons by \"coaches\" and not enough time spent on planning for quality instruction.',\n",
       " 'I consistently miss my planning period to attend IEP/504 meetings.',\n",
       " 'The only thing I have to say is that there is more to do than I have time to do.',\n",
       " 'Too much of my \"planning\" time is spent sitting through lengthy IEP meetings.',\n",
       " 'RTI is a waste of precious instructional time and it should be a pull out service. We have too much to teach already and not enough time to do it and RTI takes away from whole group instruction time when there is already not enough.',\n",
       " 'We need more time to collaborate and meet with parents. Time other than our personal planning time!']"
      ]
     },
     "execution_count": 213,
     "metadata": {},
     "output_type": "execute_result"
    }
   ],
   "source": [
    "[open_ended_answers[i] for i in topic_2_list]"
   ]
  },
  {
   "cell_type": "code",
   "execution_count": 214,
   "metadata": {},
   "outputs": [],
   "source": [
    "topic_0_list = norm_df.sort_values(by = 5, ascending = False).index.tolist()[:30]"
   ]
  },
  {
   "cell_type": "code",
   "execution_count": 215,
   "metadata": {},
   "outputs": [
    {
     "data": {
      "text/plain": [
       "['I think Tennessee is beginning to move in the right direction by raising the expectations for all students.  I am concerned about Special Education students only having two paths  1) regular ed diploma 2) special ed diploma.  Many of our sped students need a third option that falls in between.',\n",
       " 'Class sizes should not be higher in special education classroom than regular education classrooms.',\n",
       " 'There is almost no parental support for the students or teachers.  My parents or students do not appreciate the value of education.',\n",
       " 'We need to be allowed to discipline students regardless of their background to discourage acting out and being disrespectful.',\n",
       " \"I'm not sure current inclusion practices of including certain special education and ELL students benefit anyone, especially the students.  Vocational classes need to be increased since not everyone will be attending college.\",\n",
       " 'Parents should be held as accountable for their children as the teachers are.',\n",
       " 'Improved pay scales will draw more qualified and able applicants to education.',\n",
       " 'Only evaluators familiar with special education should observe special education teachers.',\n",
       " 'More information about special education (e.g. the basics, list of disabilities with symptoms) needs to be addressed with general education teachers in schools.',\n",
       " 'All teachers should be respected equally, just as all students are respected equally.',\n",
       " 'Our general education classes have a lot of behaviors that are not addressed because the behavior specialists we have are for SPED. We need more supports or individuals to help with general education behaviors.',\n",
       " 'Not today. Thank you for all you do for our teachers and students!',\n",
       " 'Special Education should be addressed in this survey separately.',\n",
       " \"I have concerns about inclusion and its research.  I also have concerns with regular classroom education with inclusion students.  How does inclusion effect regular ed students' learning especially when there are behavior issues to consider\",\n",
       " 'I wish that we had more help with the special needs students. Inclusion is very difficult with assistance.',\n",
       " 'There is less and less communication between the regular education teachers and the the special education teachers.  Special education teachers are rarely, if ever, brought into a discussion with regular education teachers about an inclusion student, until there is a behavioral or discipline problem. In other words, the special education teachers are being over-looked when it comes to their inclusions students.',\n",
       " 'Schedules should be based off of Special education students',\n",
       " 'Students need to be more responsible for their behavior.',\n",
       " 'Students are very disrespectful to teachers and it happens on a daily basis.',\n",
       " 'We are not complaint with a lot of the expectations for Special Education students or EL students.',\n",
       " 'Provide administrators with knowledge of the difference between RTI and special education, and that the above 10% does not mean that a student can not be provided special education services',\n",
       " 'The Tennessee Department of Education needs to address classroom practices for general education teachers and special needs teachers in the area of Inclusion and Co-teaching. The emphasis is always on State Dept. guidelines for IEPs and compliance issues and not what will truly benefit our special needs population.',\n",
       " \"The population of special education students between the ages of 18-22 needs to be offered some type of job/work training program. We can't currently offer these students what they need in a CDC classroom.\",\n",
       " 'Refocus ... parents and their offspring are 90% of the problem in the educational setting of today.',\n",
       " 'Disruptive behavior is a major problem.  Students are not held responsible for their behavior.',\n",
       " 'Develop policies that remove the disruption of cell phones in classrooms.',\n",
       " 'More understand for sped students having to attend regular academic classes.',\n",
       " 'The special education system is not meeting the needs of the students. The good special education teachers are overworked and are getting burnt out. We are given minimal financial and emotional support to help these students.',\n",
       " 'Special Education students should be given more opportunities to participate in general populations',\n",
       " 'Special education teachers need more support Special education teachers need a different way to be evaluated Special education teachers need more money Special education teachers should be thought about and included in survey questions and responses']"
      ]
     },
     "execution_count": 215,
     "metadata": {},
     "output_type": "execute_result"
    }
   ],
   "source": [
    "[open_ended_answers[i] for i in topic_0_list]"
   ]
  },
  {
   "cell_type": "code",
   "execution_count": 216,
   "metadata": {},
   "outputs": [],
   "source": [
    "def answers_from_topic(answer_list,normalized_df, topic_num, answer_count = 10, topic_prop = 1):\n",
    "    df_topics = normalized_df.loc[normalized_df.max(axis = 1) < topic_prop]\n",
    "    topic_list = df_topics.sort_values(by = topic_num, ascending = False).index.tolist()[:answer_count]\n",
    "    return [answer_list[i] for i in topic_list]"
   ]
  },
  {
   "cell_type": "markdown",
   "metadata": {},
   "source": [
    "# Widget Testing"
   ]
  },
  {
   "cell_type": "code",
   "execution_count": 217,
   "metadata": {},
   "outputs": [],
   "source": [
    "from ipywidgets import Button, Layout, Box, interactive, fixed, HBox, Label"
   ]
  },
  {
   "cell_type": "code",
   "execution_count": 218,
   "metadata": {},
   "outputs": [],
   "source": [
    "import ipywidgets as widgets"
   ]
  },
  {
   "cell_type": "code",
   "execution_count": 219,
   "metadata": {},
   "outputs": [
    {
     "data": {
      "application/vnd.jupyter.widget-view+json": {
       "model_id": "ce177e15c6d740d8a3b6bbe46391dd51",
       "version_major": 2,
       "version_minor": 0
      },
      "text/plain": [
       "Button(description='(50% width, 80px height) button', layout=Layout(height='80px', width='50%'), style=ButtonS…"
      ]
     },
     "metadata": {},
     "output_type": "display_data"
    }
   ],
   "source": [
    "b = Button(description='(50% width, 80px height) button',\n",
    "           layout=Layout(width='50%', height='80px'))\n",
    "b\n"
   ]
  },
  {
   "cell_type": "code",
   "execution_count": 220,
   "metadata": {},
   "outputs": [
    {
     "data": {
      "application/vnd.jupyter.widget-view+json": {
       "model_id": "5608394c598e4d9b8c4754208f056925",
       "version_major": 2,
       "version_minor": 0
      },
      "text/plain": [
       "IntSlider(value=0)"
      ]
     },
     "metadata": {},
     "output_type": "display_data"
    }
   ],
   "source": [
    "w = widgets.IntSlider()\n",
    "display(w)"
   ]
  },
  {
   "cell_type": "code",
   "execution_count": 221,
   "metadata": {},
   "outputs": [
    {
     "data": {
      "text/plain": [
       "0"
      ]
     },
     "execution_count": 221,
     "metadata": {},
     "output_type": "execute_result"
    }
   ],
   "source": [
    "w.value"
   ]
  },
  {
   "cell_type": "code",
   "execution_count": 222,
   "metadata": {},
   "outputs": [
    {
     "data": {
      "application/vnd.jupyter.widget-view+json": {
       "model_id": "c363c1b05203417a870e0331c5b2f656",
       "version_major": 2,
       "version_minor": 0
      },
      "text/plain": [
       "Dropdown(description='Number:', index=2, options=(0, 1, 2, 3, 4, 5, 6, 7, 8, 9, 10, 11, 12, 13, 14, 15, 16, 17…"
      ]
     },
     "metadata": {},
     "output_type": "display_data"
    }
   ],
   "source": [
    "widgets.Dropdown(\n",
    "    options=range(20),\n",
    "    value=2,\n",
    "    description='Number:',\n",
    "    disabled=False,\n",
    ")"
   ]
  },
  {
   "cell_type": "code",
   "execution_count": 223,
   "metadata": {},
   "outputs": [],
   "source": [
    "# show_topic_words(text_list, num_topics, num_words = 10)\n",
    "# show_topic_words(open_ended_answers, 7, num_words = 10)\n",
    "y = interactive(show_topic_words, text_list = fixed(open_ended_answers),\n",
    "                num_topics = range(1,21), num_words = range(5,16))"
   ]
  },
  {
   "cell_type": "code",
   "execution_count": 224,
   "metadata": {
    "scrolled": false
   },
   "outputs": [
    {
     "data": {
      "application/vnd.jupyter.widget-view+json": {
       "model_id": "6fb0a44520d34149aa5739eb8b2d4c91",
       "version_major": 2,
       "version_minor": 0
      },
      "text/plain": [
       "interactive(children=(Dropdown(description='num_topics', options=(1, 2, 3, 4, 5, 6, 7, 8, 9, 10, 11, 12, 13, 1…"
      ]
     },
     "metadata": {},
     "output_type": "display_data"
    }
   ],
   "source": [
    "display(y)"
   ]
  },
  {
   "cell_type": "code",
   "execution_count": 230,
   "metadata": {
    "scrolled": false
   },
   "outputs": [
    {
     "name": "stderr",
     "output_type": "stream",
     "text": [
      "C:\\Users\\ca20593\\AppData\\Local\\Continuum\\anaconda3\\lib\\site-packages\\numpy\\matrixlib\\defmatrix.py:68: PendingDeprecationWarning: the matrix subclass is not the recommended way to represent matrices or deal with linear algebra (see https://docs.scipy.org/doc/numpy/user/numpy-for-matlab-users.html). Please adjust your code to use regular ndarray.\n",
      "  return matrix(data, dtype=dtype, copy=False)\n"
     ]
    },
    {
     "name": "stdout",
     "output_type": "stream",
     "text": [
      "school            2.585341\n",
      "district          0.703922\n",
      "administration    0.635661\n",
      "principal         0.603234\n",
      "feel              0.544036\n",
      "staff             0.529971\n",
      "would             0.528667\n",
      "like              0.490338\n",
      "work              0.485320\n",
      "year              0.477245\n",
      "love              0.461502\n",
      "schools           0.448626\n",
      "great             0.417684\n",
      "Name: 0, dtype: float64\n",
      "\n",
      "\n",
      "testing         1.625954\n",
      "test            1.358256\n",
      "state           0.710326\n",
      "tests           0.641523\n",
      "much            0.617874\n",
      "scores          0.460833\n",
      "standardized    0.451168\n",
      "year            0.406082\n",
      "students        0.390071\n",
      "act             0.318629\n",
      "student         0.257939\n",
      "results         0.247611\n",
      "end             0.246816\n",
      "Name: 1, dtype: float64\n",
      "\n",
      "\n",
      "time             2.329260\n",
      "planning         1.130328\n",
      "much             0.517011\n",
      "day              0.415305\n",
      "meetings         0.402648\n",
      "spend            0.350178\n",
      "plan             0.347850\n",
      "away             0.316399\n",
      "instructional    0.301633\n",
      "spent            0.297659\n",
      "enough           0.295068\n",
      "takes            0.275085\n",
      "need             0.267613\n",
      "Name: 2, dtype: float64\n",
      "\n",
      "\n",
      "standards      1.875123\n",
      "teach          0.638759\n",
      "grade          0.613129\n",
      "social         0.458671\n",
      "studies        0.448806\n",
      "math           0.371781\n",
      "curriculum     0.358980\n",
      "appropriate    0.323616\n",
      "level          0.317319\n",
      "state          0.314079\n",
      "many           0.301024\n",
      "would          0.286282\n",
      "materials      0.283183\n",
      "Name: 3, dtype: float64\n",
      "\n",
      "\n",
      "teachers       2.036937\n",
      "teacher        0.914412\n",
      "evaluation     0.695197\n",
      "system         0.386681\n",
      "evaluations    0.311720\n",
      "scores         0.310632\n",
      "classroom      0.296760\n",
      "pay            0.287521\n",
      "teaching       0.275496\n",
      "education      0.266002\n",
      "job            0.249841\n",
      "evaluated      0.248720\n",
      "process        0.243601\n",
      "Name: 4, dtype: float64\n",
      "\n",
      "\n",
      "students     2.048135\n",
      "need         0.678297\n",
      "education    0.566300\n",
      "needs        0.481038\n",
      "special      0.378127\n",
      "learning     0.351980\n",
      "student      0.323079\n",
      "behavior     0.278489\n",
      "parents      0.265790\n",
      "classroom    0.262250\n",
      "level        0.257645\n",
      "help         0.252558\n",
      "class        0.240256\n",
      "Name: 5, dtype: float64\n",
      "\n",
      "\n",
      "portfolio          1.928734\n",
      "kindergarten       1.248972\n",
      "process            0.736105\n",
      "year               0.708266\n",
      "growth             0.394056\n",
      "appropriate        0.373581\n",
      "portfolios         0.367732\n",
      "training           0.366914\n",
      "rubric             0.303641\n",
      "developmentally    0.290520\n",
      "hours              0.263460\n",
      "away               0.256232\n",
      "assessment         0.254635\n",
      "Name: 6, dtype: float64\n",
      "\n",
      "\n"
     ]
    }
   ],
   "source": [
    "norm_df = show_topic_words(open_ended_answers, y.children[0].value, num_words = y.children[1].value);"
   ]
  },
  {
   "cell_type": "code",
   "execution_count": 231,
   "metadata": {},
   "outputs": [
    {
     "data": {
      "text/plain": [
       "7"
      ]
     },
     "execution_count": 231,
     "metadata": {},
     "output_type": "execute_result"
    }
   ],
   "source": [
    "y.children[0].value"
   ]
  },
  {
   "cell_type": "code",
   "execution_count": 227,
   "metadata": {},
   "outputs": [],
   "source": [
    "def answers_from_topic_widget(answer_list,normalized_df, topic_num, answer_count = 10, topic_prop = 1):\n",
    "    # df_topics = normalized_df.loc[normalized_df.max(axis = 1) < topic_prop]\n",
    "    df_topics = normalized_df.loc[normalized_df.iloc[:,topic_num] < topic_prop]\n",
    "    topic_list = df_topics.sort_values(by = topic_num, ascending = False).index.tolist()[:answer_count]\n",
    "    display( [answer_list[i] for i in topic_list] )"
   ]
  },
  {
   "cell_type": "code",
   "execution_count": 228,
   "metadata": {},
   "outputs": [],
   "source": [
    "# answers_from_topic(answer_list,normalized_df, topic_num, answer_count = 10, topic_prop = 1)\n",
    "z = interactive(answers_from_topic_widget,normalized_df = fixed(norm_df), answer_list = fixed(open_ended_answers),\n",
    "                topic_num = range(0,y.children[0].value), answer_count = range(2,21), \n",
    "                topic_prop = [0,0.1,0.2,0.3,0.4,0.5,0.6,0.7,0.8,0.9,1])"
   ]
  },
  {
   "cell_type": "code",
   "execution_count": 229,
   "metadata": {},
   "outputs": [
    {
     "data": {
      "application/vnd.jupyter.widget-view+json": {
       "model_id": "d4439526032b4bea826f2ed977a38ef6",
       "version_major": 2,
       "version_minor": 0
      },
      "text/plain": [
       "interactive(children=(Dropdown(description='topic_num', options=(0, 1, 2, 3, 4, 5, 6), value=0), Dropdown(desc…"
      ]
     },
     "metadata": {},
     "output_type": "display_data"
    }
   ],
   "source": [
    "display(z)\n",
    "# z.result"
   ]
  },
  {
   "cell_type": "code",
   "execution_count": null,
   "metadata": {},
   "outputs": [],
   "source": []
  }
 ],
 "metadata": {
  "hide_input": false,
  "kernelspec": {
   "display_name": "Python 3",
   "language": "python",
   "name": "python3"
  },
  "language_info": {
   "codemirror_mode": {
    "name": "ipython",
    "version": 3
   },
   "file_extension": ".py",
   "mimetype": "text/x-python",
   "name": "python",
   "nbconvert_exporter": "python",
   "pygments_lexer": "ipython3",
   "version": "3.7.1"
  }
 },
 "nbformat": 4,
 "nbformat_minor": 2
}
