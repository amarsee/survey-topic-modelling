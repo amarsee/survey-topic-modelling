{
 "cells": [
  {
   "cell_type": "markdown",
   "metadata": {
    "slideshow": {
     "slide_type": "slide"
    }
   },
   "source": [
    "# NLP on the Teacher Educator Survey\n",
    "Goals: <br/>\n",
    "- What are people talking about?\n",
    "    - Topic model\n",
    "- Are there any differences between comments by teachers and admin?\n",
    "- What is the overall sentiment of the comments?\n",
    "    - Does it differ by topic?\n",
    "- Is there a correlation with other survey answers?"
   ]
  },
  {
   "cell_type": "markdown",
   "metadata": {
    "slideshow": {
     "slide_type": "slide"
    }
   },
   "source": [
    "## Preliminary Findings"
   ]
  },
  {
   "cell_type": "code",
   "execution_count": 31,
   "metadata": {
    "slideshow": {
     "slide_type": "skip"
    }
   },
   "outputs": [],
   "source": [
    "import pandas as pd\n",
    "import numpy as np\n",
    "import matplotlib.pyplot as plt\n",
    "\n",
    "%matplotlib inline \n",
    "# Increasing default figure size of the notebook\n",
    "plt.rcParams['figure.figsize'] = [12, 8]\n",
    "plt.rcParams['font.size'] = 18"
   ]
  },
  {
   "cell_type": "code",
   "execution_count": 2,
   "metadata": {
    "slideshow": {
     "slide_type": "skip"
    }
   },
   "outputs": [],
   "source": [
    "import warnings\n",
    "warnings.filterwarnings(\"ignore\",category=DeprecationWarning)\n",
    "warnings.filterwarnings(action='once')"
   ]
  },
  {
   "cell_type": "markdown",
   "metadata": {
    "slideshow": {
     "slide_type": "skip"
    }
   },
   "source": [
    "## Importing Survey Data"
   ]
  },
  {
   "cell_type": "code",
   "execution_count": 3,
   "metadata": {
    "slideshow": {
     "slide_type": "skip"
    }
   },
   "outputs": [],
   "source": [
    "clean_survey_data = pd.read_stata('N:/Research and Policy/ORP_Data/Surveys/TES/Cleaned_Files/2018/2018TNEdSurveyResultsFile_7.7.18_NoDeIdentTchNum_Weights.dta')\n"
   ]
  },
  {
   "cell_type": "code",
   "execution_count": 4,
   "metadata": {},
   "outputs": [
    {
     "data": {
      "text/plain": [
       "['tchlic',\n",
       " 'Email',\n",
       " 'sch_id',\n",
       " 'district_no',\n",
       " 'school_no',\n",
       " 'district_name',\n",
       " 'school_name',\n",
       " 'LastName',\n",
       " 'FirstName',\n",
       " 'MiddleName']"
      ]
     },
     "execution_count": 4,
     "metadata": {},
     "output_type": "execute_result"
    }
   ],
   "source": [
    "list(clean_survey_data.columns)[:10]"
   ]
  },
  {
   "cell_type": "markdown",
   "metadata": {
    "slideshow": {
     "slide_type": "skip"
    }
   },
   "source": [
    "## Selecting Columns to keep"
   ]
  },
  {
   "cell_type": "code",
   "execution_count": 5,
   "metadata": {
    "slideshow": {
     "slide_type": "skip"
    }
   },
   "outputs": [],
   "source": [
    "cols_to_keep = ['tchlic', 'district_no', 'district_name', 'school_no', 'school_name','Gender', 'YrsExpr18', 'EdLevel18', \n",
    "                'Role_Compass', 'bestguess_tch', 'bestguess_admin', 'IPI_Sch', 'Tier_Sch', 'StartTime', \n",
    "                'EndTime', 'Responded', 'Q13', 'TC_01d','TC_02c', 'TC_16b']"
   ]
  },
  {
   "cell_type": "code",
   "execution_count": 6,
   "metadata": {
    "slideshow": {
     "slide_type": "skip"
    }
   },
   "outputs": [],
   "source": [
    "df_selected_columns = clean_survey_data.loc[:,cols_to_keep]"
   ]
  },
  {
   "cell_type": "code",
   "execution_count": 7,
   "metadata": {
    "slideshow": {
     "slide_type": "skip"
    }
   },
   "outputs": [
    {
     "data": {
      "text/plain": [
       "(71636, 20)"
      ]
     },
     "execution_count": 7,
     "metadata": {},
     "output_type": "execute_result"
    }
   ],
   "source": [
    "df_selected_columns.shape"
   ]
  },
  {
   "cell_type": "markdown",
   "metadata": {
    "slideshow": {
     "slide_type": "skip"
    }
   },
   "source": [
    "## 71,636 surveys\n",
    "\n",
    "### But how many answered the open ended question (Q13)"
   ]
  },
  {
   "cell_type": "markdown",
   "metadata": {},
   "source": [
    "Negative Nancies\n",
    "- Are they more likely to leave a comment if they answer the following questions negatively\n",
    "\n",
    "    -\tTC01d: The staff at this school like being here; I would describe us as a satisfied group. \n",
    "        - 1: strongly agree, 2: Disagree, 3: Agree, 4: Strongly Agree\n",
    "    -\tTC02c: I like the way things are run at this school.\n",
    "        - 1: strongly agree, 2: Disagree, 3: Agree, 4: Strongly Agree\n",
    "    -\tTC16b: In general, the teacher evaluation process used in my school has led to improvements in my teaching. \n",
    "        - 1: strongly agree, 2: Disagree, 3: Agree, 4: Strongly Agree\n"
   ]
  },
  {
   "cell_type": "code",
   "execution_count": 8,
   "metadata": {},
   "outputs": [
    {
     "data": {
      "text/plain": [
       "3.0    18091\n",
       "4.0    10970\n",
       "2.0     5362\n",
       "1.0     1510\n",
       "Name: TC_01d, dtype: int64"
      ]
     },
     "execution_count": 8,
     "metadata": {},
     "output_type": "execute_result"
    }
   ],
   "source": [
    "df_selected_columns.TC_01d.value_counts()"
   ]
  },
  {
   "cell_type": "code",
   "execution_count": 9,
   "metadata": {},
   "outputs": [
    {
     "data": {
      "text/plain": [
       "3.0    17041\n",
       "4.0    10294\n",
       "2.0     6320\n",
       "1.0     2117\n",
       "Name: TC_02c, dtype: int64"
      ]
     },
     "execution_count": 9,
     "metadata": {},
     "output_type": "execute_result"
    }
   ],
   "source": [
    "df_selected_columns.TC_02c.value_counts()"
   ]
  },
  {
   "cell_type": "code",
   "execution_count": 10,
   "metadata": {},
   "outputs": [
    {
     "data": {
      "text/plain": [
       "3.0    19847\n",
       "2.0     7376\n",
       "4.0     6151\n",
       "1.0     2037\n",
       "Name: TC_16b, dtype: int64"
      ]
     },
     "execution_count": 10,
     "metadata": {},
     "output_type": "execute_result"
    }
   ],
   "source": [
    "df_selected_columns.TC_16b.value_counts()"
   ]
  },
  {
   "cell_type": "markdown",
   "metadata": {
    "slideshow": {
     "slide_type": "subslide"
    }
   },
   "source": [
    "## How many people answered Q13"
   ]
  },
  {
   "cell_type": "code",
   "execution_count": 11,
   "metadata": {
    "slideshow": {
     "slide_type": "subslide"
    }
   },
   "outputs": [
    {
     "data": {
      "text/plain": [
       "                      56969\n",
       "no                      461\n",
       "No                      376\n",
       "N/A                     201\n",
       "n/a                     118\n",
       "none                     64\n",
       "None                     63\n",
       "Not at this time.        62\n",
       "No.                      59\n",
       "NA                       57\n",
       "na                       41\n",
       "Not at this time         37\n",
       ".                        29\n",
       "None at this time.       24\n",
       "not at this time         23\n",
       "Name: Q13, dtype: int64"
      ]
     },
     "execution_count": 11,
     "metadata": {},
     "output_type": "execute_result"
    }
   ],
   "source": [
    "# Many ways in which people say no\n",
    "df_selected_columns.Q13.value_counts().head(15)"
   ]
  },
  {
   "cell_type": "markdown",
   "metadata": {
    "slideshow": {
     "slide_type": "subslide"
    }
   },
   "source": [
    "## Remove the ways in which people say no"
   ]
  },
  {
   "cell_type": "code",
   "execution_count": 12,
   "metadata": {
    "slideshow": {
     "slide_type": "subslide"
    }
   },
   "outputs": [],
   "source": [
    "# Remove blank or answers which signify no answer\n",
    "def label_q13 (row):\n",
    "    ans_str = row['Q13']\n",
    "#     if 'at this time' in ans_str:\n",
    "#         print(ans_str)\n",
    "#         return 0\n",
    "    if len(row['Q13']) > 23 : # Only keep over 23 characters\n",
    "          return 1\n",
    "    return 0\n",
    "\n",
    "def length_response (row):\n",
    "    return len(row['Q13'])\n",
    "\n",
    "df_selected_columns['answered_q13'] = df_selected_columns.apply(label_q13, axis=1)\n",
    "df_selected_columns['total_surveys_sent'] = df_selected_columns.shape[0]\n",
    "df_selected_columns['total_number_responses'] = df_selected_columns.Responded.sum()\n",
    "df_selected_columns['total_answered_q13'] = df_selected_columns.answered_q13.sum()\n",
    "df_selected_columns['response_character_length'] = df_selected_columns.apply(length_response, axis = 1)"
   ]
  },
  {
   "cell_type": "code",
   "execution_count": 13,
   "metadata": {},
   "outputs": [
    {
     "data": {
      "text/html": [
       "<div>\n",
       "<style scoped>\n",
       "    .dataframe tbody tr th:only-of-type {\n",
       "        vertical-align: middle;\n",
       "    }\n",
       "\n",
       "    .dataframe tbody tr th {\n",
       "        vertical-align: top;\n",
       "    }\n",
       "\n",
       "    .dataframe thead th {\n",
       "        text-align: right;\n",
       "    }\n",
       "</style>\n",
       "<table border=\"1\" class=\"dataframe\">\n",
       "  <thead>\n",
       "    <tr style=\"text-align: right;\">\n",
       "      <th></th>\n",
       "      <th>tchlic</th>\n",
       "      <th>district_no</th>\n",
       "      <th>district_name</th>\n",
       "      <th>school_no</th>\n",
       "      <th>school_name</th>\n",
       "      <th>Gender</th>\n",
       "      <th>YrsExpr18</th>\n",
       "      <th>EdLevel18</th>\n",
       "      <th>Role_Compass</th>\n",
       "      <th>bestguess_tch</th>\n",
       "      <th>...</th>\n",
       "      <th>Responded</th>\n",
       "      <th>Q13</th>\n",
       "      <th>TC_01d</th>\n",
       "      <th>TC_02c</th>\n",
       "      <th>TC_16b</th>\n",
       "      <th>answered_q13</th>\n",
       "      <th>total_surveys_sent</th>\n",
       "      <th>total_number_responses</th>\n",
       "      <th>total_answered_q13</th>\n",
       "      <th>response_character_length</th>\n",
       "    </tr>\n",
       "  </thead>\n",
       "  <tbody>\n",
       "    <tr>\n",
       "      <th>0</th>\n",
       "      <td>17364</td>\n",
       "      <td>130</td>\n",
       "      <td>Claiborne County</td>\n",
       "      <td>35</td>\n",
       "      <td>Clairfield Elementary</td>\n",
       "      <td>M</td>\n",
       "      <td>31.0</td>\n",
       "      <td>MA+</td>\n",
       "      <td>Principal</td>\n",
       "      <td>0</td>\n",
       "      <td>...</td>\n",
       "      <td>1</td>\n",
       "      <td>No</td>\n",
       "      <td>NaN</td>\n",
       "      <td>NaN</td>\n",
       "      <td>NaN</td>\n",
       "      <td>0</td>\n",
       "      <td>71636</td>\n",
       "      <td>40876</td>\n",
       "      <td>12640</td>\n",
       "      <td>2</td>\n",
       "    </tr>\n",
       "    <tr>\n",
       "      <th>1</th>\n",
       "      <td>17522</td>\n",
       "      <td>600</td>\n",
       "      <td>Maury County</td>\n",
       "      <td>30</td>\n",
       "      <td>Culleoka Unit School</td>\n",
       "      <td>F</td>\n",
       "      <td>NaN</td>\n",
       "      <td>MA+</td>\n",
       "      <td></td>\n",
       "      <td>1</td>\n",
       "      <td>...</td>\n",
       "      <td>0</td>\n",
       "      <td></td>\n",
       "      <td>NaN</td>\n",
       "      <td>NaN</td>\n",
       "      <td>NaN</td>\n",
       "      <td>0</td>\n",
       "      <td>71636</td>\n",
       "      <td>40876</td>\n",
       "      <td>12640</td>\n",
       "      <td>0</td>\n",
       "    </tr>\n",
       "    <tr>\n",
       "      <th>2</th>\n",
       "      <td>18016</td>\n",
       "      <td>900</td>\n",
       "      <td>Washington County</td>\n",
       "      <td>115</td>\n",
       "      <td>Tennessee Virtual Learning Academy</td>\n",
       "      <td>F</td>\n",
       "      <td>NaN</td>\n",
       "      <td>MA+</td>\n",
       "      <td></td>\n",
       "      <td>1</td>\n",
       "      <td>...</td>\n",
       "      <td>1</td>\n",
       "      <td></td>\n",
       "      <td>4.0</td>\n",
       "      <td>4.0</td>\n",
       "      <td>3.0</td>\n",
       "      <td>0</td>\n",
       "      <td>71636</td>\n",
       "      <td>40876</td>\n",
       "      <td>12640</td>\n",
       "      <td>0</td>\n",
       "    </tr>\n",
       "    <tr>\n",
       "      <th>3</th>\n",
       "      <td>20735</td>\n",
       "      <td>850</td>\n",
       "      <td>Trousdale County</td>\n",
       "      <td>15</td>\n",
       "      <td>Jim Satterfield Middle School</td>\n",
       "      <td>F</td>\n",
       "      <td>46.0</td>\n",
       "      <td>MA</td>\n",
       "      <td>Teacher</td>\n",
       "      <td>1</td>\n",
       "      <td>...</td>\n",
       "      <td>1</td>\n",
       "      <td></td>\n",
       "      <td>3.0</td>\n",
       "      <td>4.0</td>\n",
       "      <td>NaN</td>\n",
       "      <td>0</td>\n",
       "      <td>71636</td>\n",
       "      <td>40876</td>\n",
       "      <td>12640</td>\n",
       "      <td>0</td>\n",
       "    </tr>\n",
       "    <tr>\n",
       "      <th>4</th>\n",
       "      <td>32910</td>\n",
       "      <td>830</td>\n",
       "      <td>Sumner County</td>\n",
       "      <td>120</td>\n",
       "      <td>Westmoreland High School</td>\n",
       "      <td>F</td>\n",
       "      <td>54.0</td>\n",
       "      <td>MA+</td>\n",
       "      <td>Teacher</td>\n",
       "      <td>1</td>\n",
       "      <td>...</td>\n",
       "      <td>0</td>\n",
       "      <td></td>\n",
       "      <td>NaN</td>\n",
       "      <td>NaN</td>\n",
       "      <td>NaN</td>\n",
       "      <td>0</td>\n",
       "      <td>71636</td>\n",
       "      <td>40876</td>\n",
       "      <td>12640</td>\n",
       "      <td>0</td>\n",
       "    </tr>\n",
       "  </tbody>\n",
       "</table>\n",
       "<p>5 rows × 25 columns</p>\n",
       "</div>"
      ],
      "text/plain": [
       "   tchlic  district_no      district_name  school_no  \\\n",
       "0   17364          130   Claiborne County         35   \n",
       "1   17522          600       Maury County         30   \n",
       "2   18016          900  Washington County        115   \n",
       "3   20735          850   Trousdale County         15   \n",
       "4   32910          830      Sumner County        120   \n",
       "\n",
       "                          school_name Gender  YrsExpr18 EdLevel18  \\\n",
       "0               Clairfield Elementary      M       31.0       MA+   \n",
       "1                Culleoka Unit School      F        NaN       MA+   \n",
       "2  Tennessee Virtual Learning Academy      F        NaN       MA+   \n",
       "3       Jim Satterfield Middle School      F       46.0        MA   \n",
       "4            Westmoreland High School      F       54.0       MA+   \n",
       "\n",
       "  Role_Compass  bestguess_tch            ...              Responded  Q13  \\\n",
       "0    Principal              0            ...                      1   No   \n",
       "1                           1            ...                      0        \n",
       "2                           1            ...                      1        \n",
       "3      Teacher              1            ...                      1        \n",
       "4      Teacher              1            ...                      0        \n",
       "\n",
       "  TC_01d TC_02c TC_16b  answered_q13 total_surveys_sent  \\\n",
       "0    NaN    NaN    NaN             0              71636   \n",
       "1    NaN    NaN    NaN             0              71636   \n",
       "2    4.0    4.0    3.0             0              71636   \n",
       "3    3.0    4.0    NaN             0              71636   \n",
       "4    NaN    NaN    NaN             0              71636   \n",
       "\n",
       "   total_number_responses  total_answered_q13  response_character_length  \n",
       "0                   40876               12640                          2  \n",
       "1                   40876               12640                          0  \n",
       "2                   40876               12640                          0  \n",
       "3                   40876               12640                          0  \n",
       "4                   40876               12640                          0  \n",
       "\n",
       "[5 rows x 25 columns]"
      ]
     },
     "execution_count": 13,
     "metadata": {},
     "output_type": "execute_result"
    }
   ],
   "source": [
    "df_selected_columns.head()"
   ]
  },
  {
   "cell_type": "code",
   "execution_count": 14,
   "metadata": {},
   "outputs": [
    {
     "data": {
      "text/plain": [
       "This survey is too long.                                                                                                                                                                                                                                                                                                                                                                                                                                                                                                                                                                                                                                                                                                                                                                                                                                                                                                                                                                                                                                                                                                                                                                                                                                                                                                                                                                                                                                                                                                                                                                                                                                                                                                                                                                                                                                                                                                                                                                   4\n",
       "Not at this time, thank you.                                                                                                                                                                                                                                                                                                                                                                                                                                                                                                                                                                                                                                                                                                                                                                                                                                                                                                                                                                                                                                                                                                                                                                                                                                                                                                                                                                                                                                                                                                                                                                                                                                                                                                                                                                                                                                                                                                                                                               2\n",
       "Teachers need more planning time.                                                                                                                                                                                                                                                                                                                                                                                                                                                                                                                                                                                                                                                                                                                                                                                                                                                                                                                                                                                                                                                                                                                                                                                                                                                                                                                                                                                                                                                                                                                                                                                                                                                                                                                                                                                                                                                                                                                                                          2\n",
       "Thank you for all you do.                                                                                                                                                                                                                                                                                                                                                                                                                                                                                                                                                                                                                                                                                                                                                                                                                                                                                                                                                                                                                                                                                                                                                                                                                                                                                                                                                                                                                                                                                                                                                                                                                                                                                                                                                                                                                                                                                                                                                                  2\n",
       "This survey was too long.                                                                                                                                                                                                                                                                                                                                                                                                                                                                                                                                                                                                                                                                                                                                                                                                                                                                                                                                                                                                                                                                                                                                                                                                                                                                                                                                                                                                                                                                                                                                                                                                                                                                                                                                                                                                                                                                                                                                                                  2\n",
       "Shared read and IRA having to be content related all the time is not beneficial to children.  They are missing out on fictional stories.                                                                                                                                                                                                                                                                                                                                                                                                                                                                                                                                                                                                                                                                                                                                                                                                                                                                                                                                                                                                                                                                                                                                                                                                                                                                                                                                                                                                                                                                                                                                                                                                                                                                                                                                                                                                                                                   1\n",
       "I think that Specialists should be observed by people in their respective fields.                                                                                                                                                                                                                                                                                                                                                                                                                                                                                                                                                                                                                                                                                                                                                                                                                                                                                                                                                                                                                                                                                                                                                                                                                                                                                                                                                                                                                                                                                                                                                                                                                                                                                                                                                                                                                                                                                                          1\n",
       "It is imperative leaders need to communicate clearly and be supportive of staff.  All the extra requirements have made this job so stressful, especially for those who teach math and English.  I would not recommend teaching to anyone I care about the way it has evolved.  The children are exhausted.  The teachers are exhausted.                                                                                                                                                                                                                                                                                                                                                                                                                                                                                                                                                                                                                                                                                                                                                                                                                                                                                                                                                                                                                                                                                                                                                                                                                                                                                                                                                                                                                                                                                                                                                                                                                                                    1\n",
       "I believe I work at the best school in the district, with the best leadership, and the best faculty.  I am very happy in my position.  I wish we had less testing and more teaching time.                                                                                                                                                                                                                                                                                                                                                                                                                                                                                                                                                                                                                                                                                                                                                                                                                                                                                                                                                                                                                                                                                                                                                                                                                                                                                                                                                                                                                                                                                                                                                                                                                                                                                                                                                                                                  1\n",
       "There is a significant shortage with regards to staffing in my district, specifically with the roles of bus drivers and substitute teachers.  This creates a very heavy burden to be shouldered by the teachers.  Teachers are sacrificing their planning time due to a shortage of substitutes and teachers on bus duty are waiting an extra thirty minutes after school each day due to a shortage of bus drivers.                                                                                                                                                                                                                                                                                                                                                                                                                                                                                                                                                                                                                                                                                                                                                                                                                                                                                                                                                                                                                                                                                                                                                                                                                                                                                                                                                                                                                                                                                                                                                                       1\n",
       "As an educator,  I appreciate the fact that teachers are given an opportunity to provide feedback at some level.  Often times it seems that our concerns go unheard.  One of my biggest concerns is the lack of support for teachers by parents, administrators, and even from the school district.  My colleague has decided to resign after teaching for 14 years because of this very reason.  This really saddens me and a teacher should never feel that their best option is to quit.  We need strong leaders in our schools who try to build teachers up and not tear them down. Parents in our school have more privileges and rights than the teachers do.  Our school  is used as a social gathering place. Members of the PTA hang out all day in our workroom, their friends come and hang out and they even bring their small kids. It seems like our school is sometimes a daycare center.  Teachers have even walked into the workroom hearing parents talking negatively about other teachers.  This just should not be tolerated in a school. The parents decide whose classroom their child is in each year and they make sure their friends are in there too.  When teachers try to hold students accountable for behavior there is no support by administration, in fact, if a parent gets upset with a teacher and complains the parent is always going to get more support than the teacher and this is just not right.  Teachers need to be valued and supported and this is lacking!  This is why teachers are walking away from this profession. I love teaching but this can be a very difficult job and I believe that more can be done to support teachers.                                                                                                                                                                                                                                                                                                    1\n",
       "Before I give my opinions on our educational system, let me say that I am only 29 years old and have only taught for seven years now. I am not ready to retire. I have done some research into Finland's educational system. We are far from being number one in the world and the way we do things is not helping, it's only hurting. I personally believe that our expectations for our students is not developmentally appropriate. There is way too much testing done with these students. The learning environment is not conducive to young students' learning, especially boys. I am getting out of teaching in public education due to too much testing and high, unreasonable behavioral expectations for young students. First of all, these poor kids have to sit still and quiet for hours while taking tests that do not accurately reflect what they actually know. Secondly, kids should not have to stay indoors, sitting at a desk, quietly for hours while trying to learn. That is not the appropriate way to learn anything. Children are not allowed to be kids anymore. They are tired and ready to move and play by half way through the day. Our country has to learn a better way to get these kids learning without unintentionally teaching them to hate reading and learning. That can start at the state level. There are better ways and better answers. Restricting and regulating more is not the answer. We need better quality college education for teachers, which does not mean more paperwork. It means better educators and more relevant classes/curriculum for these college students. We also need less testing and more hands on experiences for these students. One field trip a year, especially for poor students, is nowhere near enough. Letting our highly trained professionals (teachers) decide schedules inside their classrooms will help. We also need, more than anything else almost, a much smaller teacher to student ratio.    1\n",
       "The leadership team at the school has been very helpful and supportive.  The atmosphere is very warm and inviting.  I truly like the culture.                                                                                                                                                                                                                                                                                                                                                                                                                                                                                                                                                                                                                                                                                                                                                                                                                                                                                                                                                                                                                                                                                                                                                                                                                                                                                                                                                                                                                                                                                                                                                                                                                                                                                                                                                                                                                                              1\n",
       "We need better access to complex texts that students are required to read.                                                                                                                                                                                                                                                                                                                                                                                                                                                                                                                                                                                                                                                                                                                                                                                                                                                                                                                                                                                                                                                                                                                                                                                                                                                                                                                                                                                                                                                                                                                                                                                                                                                                                                                                                                                                                                                                                                                 1\n",
       "My administration has issues with picking favorites. If you are in their \"clique\", you can do no wrong. These teachers are in the hallways talking well past the bell, have near perfect TEAM evaluations, do not get written up for anything, and do not get questioned about anything occurring in their classroom. If you are not a part of this group, you are written up for every little thing, medical issues are not considered, TEAM evaluations are always less than what the teacher expected without true reasoning, and the parents are always right about what is occurring in your classroom.  We have an instructional coach who has an insufficient amount of experience and graduate work. She offers very outdated and ineffective solutions, does not focus on the things that need to be focused on, and rarely follows through with what is asked of her.  Our SPED department does not get enough support when it comes to students who are emotionally/behaviorally disturbed. Students whose LRE is in an alternative school have been placed back in the regular schools just to appease the state grade on students who are zoned for a certain school but not attending.                                                                                                                                                                                                                                                                                                                                                                                                                                                                                                                                                                                                                                                                                                                                                                                       1\n",
       "Too much time is put into standardized testing and preparing for these tests.  The ACT has proven to be an accurate testing source.  Why do we waste so much time, money, and energy on standardized tests?  They have proven year after year to be ineffective.  If teachers were allowed to teach and not worry about tests so much, students were learn more and teachers would probably teach more and actually be satisfied with their jobs.  Tennessee is losing excellent teachers and the state department has to see this.  If not, they will eventually see it, but it will be too late.  It's sad to see all of the excellent teachers that we have who hate their job.                                                                                                                                                                                                                                                                                                                                                                                                                                                                                                                                                                                                                                                                                                                                                                                                                                                                                                                                                                                                                                                                                                                                                                                                                                                                                                         1\n",
       "There are too many standardized tests. It's asinine. We teach children not tests. We need more time to explore ideas through other ways like projects not bubbling in sheets.                                                                                                                                                                                                                                                                                                                                                                                                                                                                                                                                                                                                                                                                                                                                                                                                                                                                                                                                                                                                                                                                                                                                                                                                                                                                                                                                                                                                                                                                                                                                                                                                                                                                                                                                                                                                              1\n",
       "My school or rather the administration in my school does not share information with teachers.  Example;  My father died and she didn't inform any of the staff.  Example:  someone on the office staff was in the hospital and no one knew.  We might have an assembly and find out about it about 15 minutes before it is to take place.  During evaluations, the main focus is if you have the essential questions posted correctly.                                                                                                                                                                                                                                                                                                                                                                                                                                                                                                                                                                                                                                                                                                                                                                                                                                                                                                                                                                                                                                                                                                                                                                                                                                                                                                                                                                                                                                                                                                                                                     1\n",
       "None that I would like to disclose at this time.                                                                                                                                                                                                                                                                                                                                                                                                                                                                                                                                                                                                                                                                                                                                                                                                                                                                                                                                                                                                                                                                                                                                                                                                                                                                                                                                                                                                                                                                                                                                                                                                                                                                                                                                                                                                                                                                                                                                           1\n",
       "Teachers are leaving college unprepared for the demands of teaching.   All teachers are burdened with more responsibility each year, but teachers at high needs schools are asked to work miracles with their students.  A seven-hour school day cannot make up for the unmet needs of students who come from poverty with little or no support or educational experience prior to kindergarten.  Many children are hopelessly behind when they arrive at school.  Inner city teachers are expected to take students who are extremely unprepared, unsupported, unhealthy and traumatized by life experiences and help those students reach the same academic level as students without the same needs.                                                                                                                                                                                                                                                                                                                                                                                                                                                                                                                                                                                                                                                                                                                                                                                                                                                                                                                                                                                                                                                                                                                                                                                                                                                                                    1\n",
       "Name: Q13, dtype: int64"
      ]
     },
     "execution_count": 14,
     "metadata": {},
     "output_type": "execute_result"
    }
   ],
   "source": [
    "df_selected_columns.loc[df_selected_columns['answered_q13'] == 1,:].Q13.value_counts().head(20)"
   ]
  },
  {
   "cell_type": "code",
   "execution_count": 15,
   "metadata": {
    "slideshow": {
     "slide_type": "subslide"
    }
   },
   "outputs": [
    {
     "name": "stdout",
     "output_type": "stream",
     "text": [
      "Number of teachers surveyed: 67483\n",
      "Number of teachers responded: 38665\n",
      "Number of teachers answered Question 13: 12095\n"
     ]
    }
   ],
   "source": [
    "print('Number of teachers surveyed: ' + str(sum(df_selected_columns['bestguess_tch'])))\n",
    "print('Number of teachers responded: ' + str(sum(df_selected_columns.loc[(df_selected_columns.loc[:,'Responded'] == 1) & (df_selected_columns.loc[:,'bestguess_tch'] == 1), 'Responded'])))\n",
    "print('Number of teachers answered Question 13: ' + str(sum(df_selected_columns.loc[(df_selected_columns.loc[:,'answered_q13'] == 1) & (df_selected_columns.loc[:,'bestguess_tch'] == 1), 'answered_q13'])))\n"
   ]
  },
  {
   "cell_type": "code",
   "execution_count": 16,
   "metadata": {
    "slideshow": {
     "slide_type": "subslide"
    }
   },
   "outputs": [
    {
     "name": "stdout",
     "output_type": "stream",
     "text": [
      "Number of admins surveyed: 3113\n",
      "Number of admins responded: 1791\n",
      "Number of admins answered Question 13: 496\n"
     ]
    }
   ],
   "source": [
    "print('Number of admins surveyed: ' + str(sum(df_selected_columns['bestguess_admin'])))\n",
    "print('Number of admins responded: ' + str(sum(df_selected_columns.loc[(df_selected_columns.loc[:,'Responded'] == 1) & (df_selected_columns.loc[:,'bestguess_admin'] == 1), 'Responded'])))\n",
    "print('Number of admins answered Question 13: ' + str(sum(df_selected_columns.loc[(df_selected_columns.loc[:,'answered_q13'] == 1) & (df_selected_columns.loc[:,'bestguess_admin'] == 1), 'answered_q13'])))\n"
   ]
  },
  {
   "cell_type": "code",
   "execution_count": 17,
   "metadata": {},
   "outputs": [
    {
     "data": {
      "text/plain": [
       "This survey is too long.                                                                                                                                                                                                                                                                                                                                                                                                                                                                                                                                                                                                                                                                                                                                                                                                                                                                                                                                                                                                                                                                                                                                                                                                                                                                                                                                                                                                                                                                                                                                                                                                                                                                                                                                                                                                                                                                                                                                                                                                                                                         4\n",
       "Not at this time, thank you.                                                                                                                                                                                                                                                                                                                                                                                                                                                                                                                                                                                                                                                                                                                                                                                                                                                                                                                                                                                                                                                                                                                                                                                                                                                                                                                                                                                                                                                                                                                                                                                                                                                                                                                                                                                                                                                                                                                                                                                                                                                     2\n",
       "Teachers need more planning time.                                                                                                                                                                                                                                                                                                                                                                                                                                                                                                                                                                                                                                                                                                                                                                                                                                                                                                                                                                                                                                                                                                                                                                                                                                                                                                                                                                                                                                                                                                                                                                                                                                                                                                                                                                                                                                                                                                                                                                                                                                                2\n",
       "Thank you for all you do.                                                                                                                                                                                                                                                                                                                                                                                                                                                                                                                                                                                                                                                                                                                                                                                                                                                                                                                                                                                                                                                                                                                                                                                                                                                                                                                                                                                                                                                                                                                                                                                                                                                                                                                                                                                                                                                                                                                                                                                                                                                        2\n",
       "This survey was too long.                                                                                                                                                                                                                                                                                                                                                                                                                                                                                                                                                                                                                                                                                                                                                                                                                                                                                                                                                                                                                                                                                                                                                                                                                                                                                                                                                                                                                                                                                                                                                                                                                                                                                                                                                                                                                                                                                                                                                                                                                                                        2\n",
       "Shared read and IRA having to be content related all the time is not beneficial to children.  They are missing out on fictional stories.                                                                                                                                                                                                                                                                                                                                                                                                                                                                                                                                                                                                                                                                                                                                                                                                                                                                                                                                                                                                                                                                                                                                                                                                                                                                                                                                                                                                                                                                                                                                                                                                                                                                                                                                                                                                                                                                                                                                         1\n",
       "I think that Specialists should be observed by people in their respective fields.                                                                                                                                                                                                                                                                                                                                                                                                                                                                                                                                                                                                                                                                                                                                                                                                                                                                                                                                                                                                                                                                                                                                                                                                                                                                                                                                                                                                                                                                                                                                                                                                                                                                                                                                                                                                                                                                                                                                                                                                1\n",
       "It is imperative leaders need to communicate clearly and be supportive of staff.  All the extra requirements have made this job so stressful, especially for those who teach math and English.  I would not recommend teaching to anyone I care about the way it has evolved.  The children are exhausted.  The teachers are exhausted.                                                                                                                                                                                                                                                                                                                                                                                                                                                                                                                                                                                                                                                                                                                                                                                                                                                                                                                                                                                                                                                                                                                                                                                                                                                                                                                                                                                                                                                                                                                                                                                                                                                                                                                                          1\n",
       "I believe I work at the best school in the district, with the best leadership, and the best faculty.  I am very happy in my position.  I wish we had less testing and more teaching time.                                                                                                                                                                                                                                                                                                                                                                                                                                                                                                                                                                                                                                                                                                                                                                                                                                                                                                                                                                                                                                                                                                                                                                                                                                                                                                                                                                                                                                                                                                                                                                                                                                                                                                                                                                                                                                                                                        1\n",
       "There is a significant shortage with regards to staffing in my district, specifically with the roles of bus drivers and substitute teachers.  This creates a very heavy burden to be shouldered by the teachers.  Teachers are sacrificing their planning time due to a shortage of substitutes and teachers on bus duty are waiting an extra thirty minutes after school each day due to a shortage of bus drivers.                                                                                                                                                                                                                                                                                                                                                                                                                                                                                                                                                                                                                                                                                                                                                                                                                                                                                                                                                                                                                                                                                                                                                                                                                                                                                                                                                                                                                                                                                                                                                                                                                                                             1\n",
       "As an educator,  I appreciate the fact that teachers are given an opportunity to provide feedback at some level.  Often times it seems that our concerns go unheard.  One of my biggest concerns is the lack of support for teachers by parents, administrators, and even from the school district.  My colleague has decided to resign after teaching for 14 years because of this very reason.  This really saddens me and a teacher should never feel that their best option is to quit.  We need strong leaders in our schools who try to build teachers up and not tear them down. Parents in our school have more privileges and rights than the teachers do.  Our school  is used as a social gathering place. Members of the PTA hang out all day in our workroom, their friends come and hang out and they even bring their small kids. It seems like our school is sometimes a daycare center.  Teachers have even walked into the workroom hearing parents talking negatively about other teachers.  This just should not be tolerated in a school. The parents decide whose classroom their child is in each year and they make sure their friends are in there too.  When teachers try to hold students accountable for behavior there is no support by administration, in fact, if a parent gets upset with a teacher and complains the parent is always going to get more support than the teacher and this is just not right.  Teachers need to be valued and supported and this is lacking!  This is why teachers are walking away from this profession. I love teaching but this can be a very difficult job and I believe that more can be done to support teachers.                                                                                                                                                                                                                                                                                                                                                                                          1\n",
       "Before I give my opinions on our educational system, let me say that I am only 29 years old and have only taught for seven years now. I am not ready to retire. I have done some research into Finland's educational system. We are far from being number one in the world and the way we do things is not helping, it's only hurting. I personally believe that our expectations for our students is not developmentally appropriate. There is way too much testing done with these students. The learning environment is not conducive to young students' learning, especially boys. I am getting out of teaching in public education due to too much testing and high, unreasonable behavioral expectations for young students. First of all, these poor kids have to sit still and quiet for hours while taking tests that do not accurately reflect what they actually know. Secondly, kids should not have to stay indoors, sitting at a desk, quietly for hours while trying to learn. That is not the appropriate way to learn anything. Children are not allowed to be kids anymore. They are tired and ready to move and play by half way through the day. Our country has to learn a better way to get these kids learning without unintentionally teaching them to hate reading and learning. That can start at the state level. There are better ways and better answers. Restricting and regulating more is not the answer. We need better quality college education for teachers, which does not mean more paperwork. It means better educators and more relevant classes/curriculum for these college students. We also need less testing and more hands on experiences for these students. One field trip a year, especially for poor students, is nowhere near enough. Letting our highly trained professionals (teachers) decide schedules inside their classrooms will help. We also need, more than anything else almost, a much smaller teacher to student ratio.                                                                                          1\n",
       "The leadership team at the school has been very helpful and supportive.  The atmosphere is very warm and inviting.  I truly like the culture.                                                                                                                                                                                                                                                                                                                                                                                                                                                                                                                                                                                                                                                                                                                                                                                                                                                                                                                                                                                                                                                                                                                                                                                                                                                                                                                                                                                                                                                                                                                                                                                                                                                                                                                                                                                                                                                                                                                                    1\n",
       "We need better access to complex texts that students are required to read.                                                                                                                                                                                                                                                                                                                                                                                                                                                                                                                                                                                                                                                                                                                                                                                                                                                                                                                                                                                                                                                                                                                                                                                                                                                                                                                                                                                                                                                                                                                                                                                                                                                                                                                                                                                                                                                                                                                                                                                                       1\n",
       "My administration has issues with picking favorites. If you are in their \"clique\", you can do no wrong. These teachers are in the hallways talking well past the bell, have near perfect TEAM evaluations, do not get written up for anything, and do not get questioned about anything occurring in their classroom. If you are not a part of this group, you are written up for every little thing, medical issues are not considered, TEAM evaluations are always less than what the teacher expected without true reasoning, and the parents are always right about what is occurring in your classroom.  We have an instructional coach who has an insufficient amount of experience and graduate work. She offers very outdated and ineffective solutions, does not focus on the things that need to be focused on, and rarely follows through with what is asked of her.  Our SPED department does not get enough support when it comes to students who are emotionally/behaviorally disturbed. Students whose LRE is in an alternative school have been placed back in the regular schools just to appease the state grade on students who are zoned for a certain school but not attending.                                                                                                                                                                                                                                                                                                                                                                                                                                                                                                                                                                                                                                                                                                                                                                                                                                                                             1\n",
       "Too much time is put into standardized testing and preparing for these tests.  The ACT has proven to be an accurate testing source.  Why do we waste so much time, money, and energy on standardized tests?  They have proven year after year to be ineffective.  If teachers were allowed to teach and not worry about tests so much, students were learn more and teachers would probably teach more and actually be satisfied with their jobs.  Tennessee is losing excellent teachers and the state department has to see this.  If not, they will eventually see it, but it will be too late.  It's sad to see all of the excellent teachers that we have who hate their job.                                                                                                                                                                                                                                                                                                                                                                                                                                                                                                                                                                                                                                                                                                                                                                                                                                                                                                                                                                                                                                                                                                                                                                                                                                                                                                                                                                                               1\n",
       "There are too many standardized tests. It's asinine. We teach children not tests. We need more time to explore ideas through other ways like projects not bubbling in sheets.                                                                                                                                                                                                                                                                                                                                                                                                                                                                                                                                                                                                                                                                                                                                                                                                                                                                                                                                                                                                                                                                                                                                                                                                                                                                                                                                                                                                                                                                                                                                                                                                                                                                                                                                                                                                                                                                                                    1\n",
       "My school or rather the administration in my school does not share information with teachers.  Example;  My father died and she didn't inform any of the staff.  Example:  someone on the office staff was in the hospital and no one knew.  We might have an assembly and find out about it about 15 minutes before it is to take place.  During evaluations, the main focus is if you have the essential questions posted correctly.                                                                                                                                                                                                                                                                                                                                                                                                                                                                                                                                                                                                                                                                                                                                                                                                                                                                                                                                                                                                                                                                                                                                                                                                                                                                                                                                                                                                                                                                                                                                                                                                                                           1\n",
       "None that I would like to disclose at this time.                                                                                                                                                                                                                                                                                                                                                                                                                                                                                                                                                                                                                                                                                                                                                                                                                                                                                                                                                                                                                                                                                                                                                                                                                                                                                                                                                                                                                                                                                                                                                                                                                                                                                                                                                                                                                                                                                                                                                                                                                                 1\n",
       "Teachers are leaving college unprepared for the demands of teaching.   All teachers are burdened with more responsibility each year, but teachers at high needs schools are asked to work miracles with their students.  A seven-hour school day cannot make up for the unmet needs of students who come from poverty with little or no support or educational experience prior to kindergarten.  Many children are hopelessly behind when they arrive at school.  Inner city teachers are expected to take students who are extremely unprepared, unsupported, unhealthy and traumatized by life experiences and help those students reach the same academic level as students without the same needs.                                                                                                                                                                                                                                                                                                                                                                                                                                                                                                                                                                                                                                                                                                                                                                                                                                                                                                                                                                                                                                                                                                                                                                                                                                                                                                                                                                          1\n",
       "I was told how helpful collaborative time would be for teachers when offered during the school day, but then was never offered time to collaborate.                                                                                                                                                                                                                                                                                                                                                                                                                                                                                                                                                                                                                                                                                                                                                                                                                                                                                                                                                                                                                                                                                                                                                                                                                                                                                                                                                                                                                                                                                                                                                                                                                                                                                                                                                                                                                                                                                                                              1\n",
       "When the state mandates items such as RTI2, please fund these supports. Schools need a lot more personnel support, but especially student with mental, SPED, or behavior challenges                                                                                                                                                                                                                                                                                                                                                                                                                                                                                                                                                                                                                                                                                                                                                                                                                                                                                                                                                                                                                                                                                                                                                                                                                                                                                                                                                                                                                                                                                                                                                                                                                                                                                                                                                                                                                                                                                              1\n",
       "We need to remember that a child is not a test score.  Students need to feel successful regardless of their academic ability.                                                                                                                                                                                                                                                                                                                                                                                                                                                                                                                                                                                                                                                                                                                                                                                                                                                                                                                                                                                                                                                                                                                                                                                                                                                                                                                                                                                                                                                                                                                                                                                                                                                                                                                                                                                                                                                                                                                                                    1\n",
       "I disagree with how we test struggling students. We are required as teachers to modify assignments, tests, etc., but there are no modifications on the state test. When a child cannot read or struggles with reading and we modify on a lower level, but we then expect them to take a state test and read on grade level and be timed. As a teacher in the classroom, we see first hand how these students feel, and then we are evaluated on how well they do on their test. The state doesn\u0019 t see how much this student may have progressed through the year because they are expected to take the same test as others.  I also think that the test is not based on how well they know the skills. It is based on how fast they can do a test and whether or not they are good listeners. Not all students learn the same way, but we test them like they do.                                                                                                                                                                                                                                                                                                                                                                                                                                                                                                                                                                                                                                                                                                                                                                                                                                                                                                                                                                                                                                                                                                                                                                                                               1\n",
       "Teacher evaluations eat up much valuable teaching and adminstration time.  I am judged on an evaluation that normal classroom teachers are evaluated on, yet I work with small groups strengthening skills that have nothing to do with standards.  Each year I am marked lower on questioning, however I am operating at a lower level, where higher level questioning just don't apply.  Very frustrating.                                                                                                                                                                                                                                                                                                                                                                                                                                                                                                                                                                                                                                                                                                                                                                                                                                                                                                                                                                                                                                                                                                                                                                                                                                                                                                                                                                                                                                                                                                                                                                                                                                                                     1\n",
       "We have to stop this testing madness. Year after year, teachers push \"the test,\" \"the test,\" \"the test,\"; and year after year, the state fails in some way to either deliver the tests in the format they planned or the time period they planned, or they fail to return test scores to students and faculty within the promised timeline--scores in which teachers are held accountable for. It's extremely unfair to students and to teachers. Teachers look like liars when they convey information to the students about testing and then that information is not true. The teachers are CONSTANTLY HELD ACCOUNTABLE and the state department is NEVER held accountable. It's time for this to stop. Let's get a handle on it, please.                                                                                                                                                                                                                                                                                                                                                                                                                                                                                                                                                                                                                                                                                                                                                                                                                                                                                                                                                                                                                                                                                                                                                                                                                                                                                                                                      1\n",
       "About 25% of my students are special education students. They cannot read, write, comprehend spoken words, or complete any of my standards. They could be learning life skills and learning to transition into adult life but they are not. They are in my classroom for 75% of the day. Most of my time is spent with them. It is not fair to general education students or special education students. This is the norm for all teachers in my district. These students also take the ACT and state standardized tests, and do poorly on them. This affects funding, teacher evaluation and pay, and school rating.                                                                                                                                                                                                                                                                                                                                                                                                                                                                                                                                                                                                                                                                                                                                                                                                                                                                                                                                                                                                                                                                                                                                                                                                                                                                                                                                                                                                                                                            1\n",
       "I love teaching. I love working with students and am committed to guiding them to reach their fullest potential. Education is the only profession I want to be a part of.  I hate what standardized testing has done to teachers and students in the profession that I care so deeply about. I feel like there was no accountability for the problems with testing in years past as we transitioned to TNReady and I feel there is no transparency as to how those scores that affect my 'rating' as an educator are calculated. This has diminished my confidence in the ability of the state to have both teachers' and students' best interests at heart. I hope the Tennessee Department of Education uses the data gathered in this survey to enact REAL change for us as teachers, but more importantly, the kids we serve.                                                                                                                                                                                                                                                                                                                                                                                                                                                                                                                                                                                                                                                                                                                                                                                                                                                                                                                                                                                                                                                                                                                                                                                                                                                1\n",
       "Tennessee is constantly changing. We get used to one new idea, and then they switch again.  As a third grade teacher, I do not see how a tested grade can accomplish all required of read to be ready and properly prepare kids for the tnready test.  I have kids who have no idea what states are in the US, but the standards are having them identify countries in the continents.  They can't count money, identify multiplication facts, or determine how many days are in each month.  We are hurting our kids.                                                                                                                                                                                                                                                                                                                                                                                                                                                                                                                                                                                                                                                                                                                                                                                                                                                                                                                                                                                                                                                                                                                                                                                                                                                                                                                                                                                                                                                                                                                                                           1\n",
       "There are no consequences for student misbehavior, no parental support, and very little admin support. We are given administrative tasks (ie attendance, etc) while the office staff plans their vacation or looks at the latest 31 bags online. We need smaller classroom and more support. NOT GUNS!                                                                                                                                                                                                                                                                                                                                                                                                                                                                                                                                                                                                                                                                                                                                                                                                                                                                                                                                                                                                                                                                                                                                                                                                                                                                                                                                                                                                                                                                                                                                                                                                                                                                                                                                                                           1\n",
       "                                                                                                                                                                                                                                                                                                                                                                                                                                                                                                                                                                                                                                                                                                                                                                                                                                                                                                                                                                                                                                                                                                                                                                                                                                                                                                                                                                                                                                                                                                                                                                                                                                                                                                                                                                                                                                                                                                                                                                                                                                                                                ..\n",
       "Yes, as teachers we are frustrated and are wanting to walk away from teaching or at the least leave this building. We have a principal who makes mistakes weekly and is not held accountable, she makes decisions based on adults and not students. I hurt for our students and its heartbreaking as an educator. Their is no RTI, No PLC's, no data meetings, observations arent done properly and people are given all 4's and 5's if you are liked, children are not showing growth,  people show up late daily, attendance is poor, moral is low, there is no urgency, there is no stress ti improve. We have some of the lowest scores in the state and we don't discuss data. We have no improvement plan or focus. We don't have post conferences after our evals we are just to look at TNcompass for our scores. I mean I feel like I could go on and on honestly. I have reached out to supervisors and superiors etc. This school has went so far down hill that I'm afraid of a mass exodus of some of our better teachers due to their frustration with the administration. Their is no discipline and behavior is getting worse and worse because the students have realized that there are no consequences. I went to Ralph Askins Elementary as a child and was so happy to be able to come back here and teach and I hate to see my school in the situation it is. I hate is for the students, its just not fair to them. Honestly I feel we have hit rock bottom but administration doesn't see if and we keep doing the same thing with no change in sight. Its a sad situation that breaks my heart.                                                                                                                                                                                                                                                                                                                                                                                                                                                         1\n",
       "If we are being asked to implement technology and digital resources with traditional practices, we should also have a coach that has expertise in those tech areas. We need a technology coach in each building that can be easily accessed- not just once a week. Someone who has experience in best practices, as well as innovative technology we can use to enhance student learning and success.                                                                                                                                                                                                                                                                                                                                                                                                                                                                                                                                                                                                                                                                                                                                                                                                                                                                                                                                                                                                                                                                                                                                                                                                                                                                                                                                                                                                                                                                                                                                                                                                                                                                            1\n",
       "More time to teach. I am struggling to hit all my standards with the amount of time I have been given to teach. RTI takes too much time.                                                                                                                                                                                                                                                                                                                                                                                                                                                                                                                                                                                                                                                                                                                                                                                                                                                                                                                                                                                                                                                                                                                                                                                                                                                                                                                                                                                                                                                                                                                                                                                                                                                                                                                                                                                                                                                                                                                                         1\n",
       "The TEAM evaluation model represents 0.05% of the time that I am with children, and is not a valid picture of my ability to teach, motivate, or inspire.  The 19 indicators required are impossible to put into every lesson and render the rubric false.  The spectre of that rubric hanging over one's head, even for very experienced teachers, makes every day nerve-wracking.                                                                                                                                                                                                                                                                                                                                                                                                                                                                                                                                                                                                                                                                                                                                                                                                                                                                                                                                                                                                                                                                                                                                                                                                                                                                                                                                                                                                                                                                                                                                                                                                                                                                                               1\n",
       "We are limited as what to teach by the subject curriculum guides which may or may not meet the individual needs of our students. We dare not stay from the curriculum guide for fear of being off task! We are professionals who should be given the responsibilities of teaching our students with what they need and not fear straying off the curriculum guides!! They guides do not meet their needs!                                                                                                                                                                                                                                                                                                                                                                                                                                                                                                                                                                                                                                                                                                                                                                                                                                                                                                                                                                                                                                                                                                                                                                                                                                                                                                                                                                                                                                                                                                                                                                                                                                                                        1\n",
       "My school has an excellent administrative team and staff. I am proud to be apart of this school district and working at this particular school.  Thank you for the opportunity to give back to the students what a wonderful teacher gave me.                                                                                                                                                                                                                                                                                                                                                                                                                                                                                                                                                                                                                                                                                                                                                                                                                                                                                                                                                                                                                                                                                                                                                                                                                                                                                                                                                                                                                                                                                                                                                                                                                                                                                                                                                                                                                                    1\n",
       "I can value data, but the Aimsweb writing assessment that requires me to count every word, every word chain, etc is a total waste of time.  I have been very active in reviewing student work and am unaware of the valuable data coming from a 3 minute timed test that I am forced to interrupt the thinking of the writer half way through. Not to mention, the drain it caused on my planning and course work student feedback that I needed to provide.                                                                                                                                                                                                                                                                                                                                                                                                                                                                                                                                                                                                                                                                                                                                                                                                                                                                                                                                                                                                                                                                                                                                                                                                                                                                                                                                                                                                                                                                                                                                                                                                                     1\n",
       "I feel that TCAP high stakes testing is going in the wrong direction for our teachers and students.  We spend so much time preparing, with money spent to buy the tests.  We are taking the humanity out of our students.  They deserve better than this.                                                                                                                                                                                                                                                                                                                                                                                                                                                                                                                                                                                                                                                                                                                                                                                                                                                                                                                                                                                                                                                                                                                                                                                                                                                                                                                                                                                                                                                                                                                                                                                                                                                                                                                                                                                                                        1\n",
       "It is time for the state department to get its act together. The old standards were very clear and easy to teach.We as teachers have to make our own interpretation of the standards and guess what the questions will be like on the state test. Why can't the state provide some sample items for each standard for each subject. Some standards are in more than one level. It needs to be clearer how it is tested at each level. There needs to be more transparency for teachers and students so they know the expectations. When someone tells me they are thinking about going into education, I try to discourage them now. The state department has no appreciation whatsoever for what classroom teachers are doing and are expected to do. We will teach if you will tell us what we need to teach. Why do you have to make our job ten times harder than it already is? I'm hoping for some big inheritance so that I can leave the profession. At this rate, the state is going to have a severe teacher shortage. I know some excellent teachers who have retired early just because they did not want to deal with this mess anymore.                                                                                                                                                                                                                                                                                                                                                                                                                                                                                                                                                                                                                                                                                                                                                                                                                                                                                                                            1\n",
       "there needs to be less focus on testing and more on developing students to have basic needs before being passed through grades for passing one test, and then show up at high school and they can not read, write, or do basic math.  Our school administration is horrible. There is no trust in either direction. I have gotten more lies than truth from the administration. It is extremely unfair at our school with two sets of rules depending on who you or if you are a basic suck up. People who speak out are thrown aside. It is one sided and if you are not in full agreement with that side you are treated like a 5 year old. I have never been talked too in such a degrading manner having taught a great number of years along with other colleagues that have many years of great service to be forced to teach and talk to in ways to say the very least is not professional.                                                                                                                                                                                                                                                                                                                                                                                                                                                                                                                                                                                                                                                                                                                                                                                                                                                                                                                                                                                                                                                                                                                                                                               1\n",
       "Please make the standards more user friendly for teachers and students.  It is difficult to understand what is expected at each grade level.  Also, there are far too many standards to adequately cover and for students to master during a school year.                                                                                                                                                                                                                                                                                                                                                                                                                                                                                                                                                                                                                                                                                                                                                                                                                                                                                                                                                                                                                                                                                                                                                                                                                                                                                                                                                                                                                                                                                                                                                                                                                                                                                                                                                                                                                        1\n",
       "The testing system is broken. The resources the state provides are always poor, sorry excuses for instruction resources to give kids and are never available early enough. The online access to state standards is laughable. It is confusing and difficult to navigate. There is not a way to see ALL standards at the same time. It's jumbled and because of this, near impossible to understand as a whole. It is not teacher friendly. There is ZERO consistency from year to year when it comes to testing and standards. THE TEST NEVER COUNTS, SO STUDENTS NEVER TAKE IT SERIOUSLY. The way Tennessee has created its testing and evaluating culture is embarrassing. It never works. It's never helpful. It's ALWAYS A FAILURE.                                                                                                                                                                                                                                                                                                                                                                                                                                                                                                                                                                                                                                                                                                                                                                                                                                                                                                                                                                                                                                                                                                                                                                                                                                                                                                                                          1\n",
       "I believe testing is a waste of instructional time. I am having to teach students to use a computer system not focusing on my standards.                                                                                                                                                                                                                                                                                                                                                                                                                                                                                                                                                                                                                                                                                                                                                                                                                                                                                                                                                                                                                                                                                                                                                                                                                                                                                                                                                                                                                                                                                                                                                                                                                                                                                                                                                                                                                                                                                                                                         1\n",
       "Please think about our children and what we are expecting from 4 year olds who are under privileged.. We absolutely work miracles during the school year.                                                                                                                                                                                                                                                                                                                                                                                                                                                                                                                                                                                                                                                                                                                                                                                                                                                                                                                                                                                                                                                                                                                                                                                                                                                                                                                                                                                                                                                                                                                                                                                                                                                                                                                                                                                                                                                                                                                        1\n",
       "I feel that more sample assessment items are needed for teachers to know what will be expected of our students at test time.                                                                                                                                                                                                                                                                                                                                                                                                                                                                                                                                                                                                                                                                                                                                                                                                                                                                                                                                                                                                                                                                                                                                                                                                                                                                                                                                                                                                                                                                                                                                                                                                                                                                                                                                                                                                                                                                                                                                                     1\n",
       "Administration does not support regular education in our school- only coaches or people personal friends with principal                                                                                                                                                                                                                                                                                                                                                                                                                                                                                                                                                                                                                                                                                                                                                                                                                                                                                                                                                                                                                                                                                                                                                                                                                                                                                                                                                                                                                                                                                                                                                                                                                                                                                                                                                                                                                                                                                                                                                          1\n",
       "I do not think it is fair to count attendance part of our overall score. We live in a low socioeconomic area where some students miss constantly. We give them incentives to come to school, that doesn't always work in this type of environment these kids live in. If there were a better way, we need to come up with it, but we should not be scored based off of attendance. The blame is on the parents for not getting them here, not the teachers fault nor can we do anything about it.                                                                                                                                                                                                                                                                                                                                                                                                                                                                                                                                                                                                                                                                                                                                                                                                                                                                                                                                                                                                                                                                                                                                                                                                                                                                                                                                                                                                                                                                                                                                                                                1\n",
       "Students are not always defined by their test scores... teachers are not always defined by their test scores...We are real people with real-world issues...There are many facets of a students life that affect what goes on in the classroom...have they eaten recently, what are their living conditions, what are their relationships like with their guardians/teachers...are they about to be a parent...are they engaging in drug/alcohol use... do they have emotional problems...... These are just a FEW of the issues that students face today, especially students in the secondary setting.  When you feel that test scores should define how much a student has learned or how effective a teacher is... these are just a few of the things that need to be considered.  Poverty, socio-economic status and ethnic culture/background have a great deal to do with how a student learns and performs in the classroom.  Teachers can be a great asset in the success of students, but they can only do much.  Students and parents must work even harder for their child's success.  Sometimes parents and/or students don't or CAN'T put this high on their list of greater priorities. MOST teachers TRULY love and care about their students and strongly desire to see them be successful in life, whether that be in a post-secondary learning institution or in the working job force.  All students do not have to be college graduates.... we need students to learn trades as well.  They are NOT meant to all be treated the same, just be the best that they can be to the BEST of their ability.  We should provide that mentoring along the way.                                                                                                                                                                                                                                                                                                                                                                                                       1\n",
       "More than likely, no one will read what these say or if they do, they will focus solely on feedback that praises the TDE. However, I think the TDE does not have a real grasp of the level of most students' ability to perform well on standardized assessments. I think the standardized assessments are a true waste of time fraught with errors and not a true measure of student learning or success. Assessments are meant to gauge what a student has learned and then address academic areas in which students struggle. The fact that teachers have no *actual* idea of what will appear on the test is mind-boggling; no teacher would give an assessment to students without first knowing what was being tested -- seriously, teachers are taught to \"begin with the end in mind\" in terms of planning. The idea of evaluating teachers effectiveness based on students' scores is absurd and is, frankly, outdated as it is a poor practice that was ushered in with NCLB (which EVERYONE knows was a complete and utter failure that never had any chance of plausibility). Furthermore, colleges do not care how students performed on these tests (they look at ACT scores and GPAs). Also, why the TDE thinks it is a good idea to grade schools on EOC scores and ACT scores when the preparation for each of these is completely different is another brainless idea. Unfortunately, it seems that most decisions for the state are made based on what goes on in Williamson, Davidson, and Rutherford counties. The rural counties' demographics are entirely different and as such, the students' abilities should not be expected to be the same. Therefore, if we are forced to have a measure of \"standardized achievement,\" it would be wise for the TDE to eliminate state testing and only utilize the ACT as it is given nationally without error multiple times per year. ACT releases their tests which allows students to prepare for the ACT using the old tests; it's a wild idea, but it seems like ACT actually wants students to succeed!    1\n",
       "Both district and school level administrators need a better understanding of the role that a school counselor has the potential to fill. All too often, we are seen as superfluous staff and used to fill gaps.                                                                                                                                                                                                                                                                                                                                                                                                                                                                                                                                                                                                                                                                                                                                                                                                                                                                                                                                                                                                                                                                                                                                                                                                                                                                                                                                                                                                                                                                                                                                                                                                                                                                                                                                                                                                                                                                  1\n",
       "The current standards are not age-appropriate in many cases. The testing is too extreme and takes far too much time away from instruction.                                                                                                                                                                                                                                                                                                                                                                                                                                                                                                                                                                                                                                                                                                                                                                                                                                                                                                                                                                                                                                                                                                                                                                                                                                                                                                                                                                                                                                                                                                                                                                                                                                                                                                                                                                                                                                                                                                                                       1\n",
       "I transferred from MNPS to Rutherford County Schools this year, and I can't say enough about the drastic difference in the quality and passion in the two districts.  I'm so thankful to be here!                                                                                                                                                                                                                                                                                                                                                                                                                                                                                                                                                                                                                                                                                                                                                                                                                                                                                                                                                                                                                                                                                                                                                                                                                                                                                                                                                                                                                                                                                                                                                                                                                                                                                                                                                                                                                                                                                1\n",
       "Until TN-Ready is made part of students' report cards, they will not care about it the way teachers do.  Because we spend so much time giving assessments of all kinds to prepare them for this one end-of-the-year test, they have become desensitized to testing.  It's not a big deal to them like it is to us.  The accountability for teachers is strong but the accountability for students is not.  That must change.                                                                                                                                                                                                                                                                                                                                                                                                                                                                                                                                                                                                                                                                                                                                                                                                                                                                                                                                                                                                                                                                                                                                                                                                                                                                                                                                                                                                                                                                                                                                                                                                                                                     1\n",
       "I think that there could be some positive changes in the education department for teachers and students. The first thing is that our standardized tests do not always coincide with what and how we teach children to solve problems. Our standards are very clear, but the test items on the actual given assessment go beyond the standards that we have practiced all year in our classrooms. It stresses our students and hurts teachers in the process. I also feel that some of the ongoing decisions should be more student focused and matched to the actual age development of children. Our plates are very full and we wear many hats each and every day, so I think the next push should be one to make a school day efficient and more focused on our students. Let's encourage learning in a way that brings joy to teachers and students instead of worry, confusion, and unnecessary tasks. We have been professionally trained and spend many hours in our classrooms getting to know our students and what strategies help them succeed. Instead of adding more legislation, assessments, and portfolios, help us have the resources and time to help our children grow! We go to school each day to teach, encourage, empower, and build our future society, so let's be efficient about this and stop adding more and more when we can teach more and more! Thank you for your time! If you want to make a difference, don't let politics or other agendas make the decisions, ask the teachers.                                                                                                                                                                                                                                                                                                                                                                                                                                                                                                                                                             1\n",
       "If PK and Kindergarten teachers have to do the portfolio, we need proper training on how to test properly and score student work with the rubric.   We also need proper technology to video or record our students.  By pulling students one by one, it takes away from teaching time in the classroom plus there are many distractions for those being tested since the teacher can not leave the classroom.  PK and Kindergarten teachers have been very stressed and very disappointed with the portfolio process.  Another thing.  Since PK is not mandatory, why do we have to give the portfolio and First Grade is not testing at all?!!!!                                                                                                                                                                                                                                                                                                                                                                                                                                                                                                                                                                                                                                                                                                                                                                                                                                                                                                                                                                                                                                                                                                                                                                                                                                                                                                                                                                                                                                1\n",
       "Timely communication on all levels would help tremendously.  Providing time to be prepared.  Having a curriculum or material provided that meets standards in math, writing, and grammar. Rural schools are having to rely on community for monetary help and man-power.  Our communities are dying out as society shifts and moves to areas that can support health care needs, provide better incomes, and the list goes on.  Our schools are expected to provide the same quality of education with far less help.  Rural schools are still receiving an inferior experience with technology, text books, supplies, and teacher pay.  When will we see the needs of children and the teaching profession as equal across the state instead of only in certain areas?  Isn't it time for TN to show other states how to provide a quality education for ALL students and how to provide equal pay for ALL teachers?  Big request, but if we want to provide the work force and colleges with students that are well prepared for life, we are going to have to think outside the box.  Looking at each county to provide a quality education is not working.  Someone needs to step up and close the gap.                                                                                                                                                                                                                                                                                                                                                                                                                                                                                                                                                                                                                                                                                                                                                                                                                                                                      1\n",
       "I feel the hounding over state testing has decreased my enthusiasm for teaching.  I am having to rush topics that students need to learn.  I feel too rushed in a year, and I feel making the education meaningful has been lost due to state testing.  Please go back to days of having checks at the end of certain grades and lets put our eggs in the ACT basket.                                                                                                                                                                                                                                                                                                                                                                                                                                                                                                                                                                                                                                                                                                                                                                                                                                                                                                                                                                                                                                                                                                                                                                                                                                                                                                                                                                                                                                                                                                                                                                                                                                                                                                            1\n",
       "Our school system is very teacher oriented. They allow us to create the textbooks we use, training we attend, and strategies we want to use in our classroom. It makes all the difference when you feel appreciated and respected in your career and I thoroughly love working for Tullahoma City Schools.                                                                                                                                                                                                                                                                                                                                                                                                                                                                                                                                                                                                                                                                                                                                                                                                                                                                                                                                                                                                                                                                                                                                                                                                                                                                                                                                                                                                                                                                                                                                                                                                                                                                                                                                                                       1\n",
       "It would be helpful for teachers, admin, parents, etc. if we had test scores available in a much more timely fashion.                                                                                                                                                                                                                                                                                                                                                                                                                                                                                                                                                                                                                                                                                                                                                                                                                                                                                                                                                                                                                                                                                                                                                                                                                                                                                                                                                                                                                                                                                                                                                                                                                                                                                                                                                                                                                                                                                                                                                            1\n",
       "The test is one measure of one day. It seems that some standards, especially Social Studies, have just been concocted with very little thought of how old students are. 8 year olds are being asked to know people & places all over the world & really need to focus on what they can see in their own continent/country. It seems like whoever comes up with the standards 1) has never been in a classroom and 2) has no idea of the comprehension or maturity of an 8 year old. Standards are being beat down their throat & ours & the simple idea that learning is FUN has been thrown out the window. I didn't choose this job to create robots I wanted to TEACH. Enrich lives. Many many many of our students don't have mothers or fathers in their home. They don't eat at a table & don't get tucked in at night. They come to school to be loved. There is no balance & our kids are suffering. OUr materials aren't always supplied to us. We pay for our own supplies. It's ridiculous. A surgeon doesn't buy his own tools. A business man doesn't buy his own desk/computer. We do many jobs besides teach & get NO REWARD from the state level.                                                                                                                                                                                                                                                                                                                                                                                                                                                                                                                                                                                                                                                                                                                                                                                                                                                                                                                1\n",
       "Name: Q13, Length: 12633, dtype: int64"
      ]
     },
     "execution_count": 17,
     "metadata": {},
     "output_type": "execute_result"
    }
   ],
   "source": [
    "df_selected_columns.loc[df_selected_columns['answered_q13'] == 1,:].Q13.value_counts()"
   ]
  },
  {
   "cell_type": "markdown",
   "metadata": {},
   "source": [
    "## Seeing if people who answer those questions negatively are more likely to leave a comment"
   ]
  },
  {
   "cell_type": "code",
   "execution_count": 18,
   "metadata": {},
   "outputs": [
    {
     "data": {
      "text/html": [
       "<div>\n",
       "<style scoped>\n",
       "    .dataframe tbody tr th:only-of-type {\n",
       "        vertical-align: middle;\n",
       "    }\n",
       "\n",
       "    .dataframe tbody tr th {\n",
       "        vertical-align: top;\n",
       "    }\n",
       "\n",
       "    .dataframe thead tr th {\n",
       "        text-align: left;\n",
       "    }\n",
       "\n",
       "    .dataframe thead tr:last-of-type th {\n",
       "        text-align: right;\n",
       "    }\n",
       "</style>\n",
       "<table border=\"1\" class=\"dataframe\">\n",
       "  <thead>\n",
       "    <tr>\n",
       "      <th></th>\n",
       "      <th>count</th>\n",
       "      <th>TC_01d_mean</th>\n",
       "      <th>TC_02c_mean</th>\n",
       "      <th>TC_16b_mean</th>\n",
       "    </tr>\n",
       "    <tr>\n",
       "      <th></th>\n",
       "      <th>size</th>\n",
       "      <th>mean</th>\n",
       "      <th>mean</th>\n",
       "      <th>mean</th>\n",
       "    </tr>\n",
       "    <tr>\n",
       "      <th>answered_q13</th>\n",
       "      <th></th>\n",
       "      <th></th>\n",
       "      <th></th>\n",
       "      <th></th>\n",
       "    </tr>\n",
       "  </thead>\n",
       "  <tbody>\n",
       "    <tr>\n",
       "      <th>0</th>\n",
       "      <td>28236</td>\n",
       "      <td>3.116550</td>\n",
       "      <td>3.053082</td>\n",
       "      <td>2.932639</td>\n",
       "    </tr>\n",
       "    <tr>\n",
       "      <th>1</th>\n",
       "      <td>12640</td>\n",
       "      <td>2.974632</td>\n",
       "      <td>2.860757</td>\n",
       "      <td>2.672791</td>\n",
       "    </tr>\n",
       "  </tbody>\n",
       "</table>\n",
       "</div>"
      ],
      "text/plain": [
       "              count TC_01d_mean TC_02c_mean TC_16b_mean\n",
       "               size        mean        mean        mean\n",
       "answered_q13                                           \n",
       "0             28236    3.116550    3.053082    2.932639\n",
       "1             12640    2.974632    2.860757    2.672791"
      ]
     },
     "execution_count": 18,
     "metadata": {},
     "output_type": "execute_result"
    }
   ],
   "source": [
    "df_selected_columns.loc[df_selected_columns['Responded'] == 1,:]\\\n",
    "            [['tchlic', 'answered_q13', 'TC_01d','TC_02c', 'TC_16b']].groupby(['answered_q13'])\\\n",
    "            .agg({'tchlic':'size', 'TC_01d': ['mean'], 'TC_02c': ['mean'], 'TC_16b': ['mean']})\\\n",
    "            .rename(columns={'tchlic':'count', 'TC_01d':'TC_01d_mean', 'TC_02c':'TC_02c_mean', 'TC_16b':'TC_16b_mean'})"
   ]
  },
  {
   "cell_type": "code",
   "execution_count": 19,
   "metadata": {},
   "outputs": [],
   "source": [
    "df_responded = df_selected_columns.loc[df_selected_columns.loc[:,'Responded'] == 1,:]"
   ]
  },
  {
   "cell_type": "code",
   "execution_count": 20,
   "metadata": {
    "scrolled": false
   },
   "outputs": [
    {
     "name": "stderr",
     "output_type": "stream",
     "text": [
      "C:\\Users\\ca20593\\AppData\\Local\\Continuum\\anaconda3\\lib\\site-packages\\numpy\\lib\\histograms.py:754: RuntimeWarning: invalid value encountered in greater_equal\n",
      "  keep = (tmp_a >= first_edge)\n",
      "C:\\Users\\ca20593\\AppData\\Local\\Continuum\\anaconda3\\lib\\site-packages\\numpy\\lib\\histograms.py:755: RuntimeWarning: invalid value encountered in less_equal\n",
      "  keep &= (tmp_a <= last_edge)\n"
     ]
    },
    {
     "data": {
      "image/png": "[encoded data removed]",
      "text/plain": [
       "<Figure size 1008x1440 with 3 Axes>"
      ]
     },
     "metadata": {
      "needs_background": "light"
     },
     "output_type": "display_data"
    }
   ],
   "source": [
    "fig, axes = plt.subplots(3, 1, figsize=(14,20))\n",
    "bins = 4\n",
    "row = 0\n",
    "for quest in ['TC_01d','TC_02c', 'TC_16b']:\n",
    "    x = df_responded.loc[(df_responded['answered_q13'] == 0), quest].values\n",
    "    #print(type(x))\n",
    "    y = df_responded.loc[(df_responded['answered_q13'] == 1), quest].values\n",
    "    axes[row].set_title(quest)\n",
    "    axes[row].set_xlabel('Likert Score')\n",
    "    axes[row].hist(x, bins, alpha=0.2, label='Did not leave a comment', density = True, color = 'red')\n",
    "    axes[row].hist(y, bins, alpha=0.2, label='Left a comment', density = True, color = 'blue')\n",
    "    axes[row].legend(loc=\"upper left\")\n",
    "    axes[row].grid(axis = 'y', alpha = 0.6)\n",
    "    plt.subplots_adjust(hspace=.25)\n",
    "    row+=1\n",
    "    "
   ]
  },
  {
   "cell_type": "markdown",
   "metadata": {
    "slideshow": {
     "slide_type": "skip"
    }
   },
   "source": [
    "## Creating list of comments"
   ]
  },
  {
   "cell_type": "code",
   "execution_count": 21,
   "metadata": {
    "slideshow": {
     "slide_type": "skip"
    }
   },
   "outputs": [],
   "source": [
    "# Converting the column of the DF with answers into a list of answers\n",
    "open_ended_answers = df_selected_columns.loc[df_selected_columns['answered_q13'] == 1,:].Q13.tolist()"
   ]
  },
  {
   "cell_type": "code",
   "execution_count": 22,
   "metadata": {
    "slideshow": {
     "slide_type": "skip"
    }
   },
   "outputs": [
    {
     "data": {
      "text/plain": [
       "['Each year there seems to be more added to the teachers plate, making it more difficult to focus on teaching.  Teachers seem to be more stressed than ever before.  The constant changing of testing and evaluations have certainly contributed to this stress.  The state testing seems to be unfair in many ways.  Some teachers have never taught a tested subject and have not had the stress that the tested teachers have.  At the same time, their evaluations are determined, in part, by the success or lack of success of other teachers which is unfair to them.  Some tested subjects are scheduled for a full year, allowing sufficient time to cover all of the state standards while other teachers of tested subjects have only a semester to teach a similar set of standards.',\n",
       " 'Give TCAP test in all grades. Give pre- and post in k. Give post in every other grade. This would give a more accurate growth score for all teachers. If growth scores are important then give teachers their OWN SCORES. Giving teachers growth from other grade levels cannot be accurate. Growth scores count 35%of teacher evaluation.If teachers have their  own scores they will work harder and smarter. Portfolios cannot be accurate for growth scores.',\n",
       " 'Testing has replaced learning and teaching. Its stressful to parents,  students and teachers.',\n",
       " 'Testing has become the driving force of education - not educating the student.  I have been in education for 41 years and have seen the student level of learning decrease.  Please consider a means to reverse this.  Thank you.',\n",
       " 'The principal evaluation is too wordy and complex.  There\\'s too much \"evidence\" required. We spend too much time documenting some indicator (for example, 58 pieces of evidence for Standard A). We don\\'t have enough local training on the process.']"
      ]
     },
     "execution_count": 22,
     "metadata": {},
     "output_type": "execute_result"
    }
   ],
   "source": [
    "open_ended_answers[:5]"
   ]
  },
  {
   "cell_type": "code",
   "execution_count": 23,
   "metadata": {
    "slideshow": {
     "slide_type": "skip"
    }
   },
   "outputs": [],
   "source": [
    "# Join all answers into one string\n",
    "joined_answers = ' '.join(open_ended_answers)"
   ]
  },
  {
   "cell_type": "markdown",
   "metadata": {},
   "source": [
    "# Words per comment\n"
   ]
  },
  {
   "cell_type": "code",
   "execution_count": 27,
   "metadata": {},
   "outputs": [],
   "source": [
    "from nltk.corpus import stopwords\n",
    "from nltk.tokenize import word_tokenize, sent_tokenize"
   ]
  },
  {
   "cell_type": "code",
   "execution_count": 28,
   "metadata": {},
   "outputs": [],
   "source": [
    "open_ended_answers_any_length = df_selected_columns.loc[df_selected_columns['response_character_length'] >= 1,:].Q13.tolist()"
   ]
  },
  {
   "cell_type": "code",
   "execution_count": 29,
   "metadata": {},
   "outputs": [],
   "source": [
    "words_list = [word_tokenize(comment) for comment in open_ended_answers_any_length]\n",
    "words_list_no_punct = [[token for token in token_list if token.isalpha()] for token_list in words_list]\n",
    "comment_word_counts = [len(word_list) for word_list in words_list_no_punct]"
   ]
  },
  {
   "cell_type": "code",
   "execution_count": 34,
   "metadata": {},
   "outputs": [
    {
     "data": {
      "text/plain": [
       "72.0"
      ]
     },
     "execution_count": 34,
     "metadata": {},
     "output_type": "execute_result"
    }
   ],
   "source": [
    "round(np.mean(comment_word_counts),0)"
   ]
  },
  {
   "cell_type": "code",
   "execution_count": 48,
   "metadata": {},
   "outputs": [
    {
     "data": {
      "image/png": "[encoded data removed]",
      "text/plain": [
       "<Figure size 864x576 with 1 Axes>"
      ]
     },
     "metadata": {
      "needs_background": "light"
     },
     "output_type": "display_data"
    }
   ],
   "source": [
    "f, ax = plt.subplots()\n",
    "ax.hist(comment_word_counts, bins = 100)\n",
    "# ax.axvline(20, color='yellow', linestyle='dashed', linewidth=2)\n",
    "ax.axvline(round(np.mean(comment_word_counts), 0), color='red', linestyle='dashed', linewidth=2)\n",
    "# ax.axhline(0.5, color='red', linestyle='dashed', linewidth=2)\n",
    "ax.grid()\n",
    "# plt.xticks([0,20,40,60,80,100,120,140,160,180,200,220,240,260,280,300,320,34,360,380])\n",
    "ax.set_xlabel('Word Count')\n",
    "ax.set_ylabel('Proportion of Comments')\n",
    "ax.set_title('Cumulative Distribution of Word Counts in Open Ended Comments');"
   ]
  },
  {
   "cell_type": "markdown",
   "metadata": {},
   "source": [
    "# Sentences per comment"
   ]
  },
  {
   "cell_type": "code",
   "execution_count": 36,
   "metadata": {},
   "outputs": [],
   "source": [
    "sent_list = [sent_tokenize(comment) for comment in open_ended_answers_any_length]"
   ]
  },
  {
   "cell_type": "code",
   "execution_count": 41,
   "metadata": {},
   "outputs": [],
   "source": [
    "comment_sent_counts = [len(sents) for sents in sent_list if len(sents) != 73]"
   ]
  },
  {
   "cell_type": "code",
   "execution_count": 42,
   "metadata": {},
   "outputs": [
    {
     "data": {
      "text/plain": [
       "36"
      ]
     },
     "execution_count": 42,
     "metadata": {},
     "output_type": "execute_result"
    }
   ],
   "source": [
    "max(comment_sent_counts)"
   ]
  },
  {
   "cell_type": "code",
   "execution_count": 43,
   "metadata": {},
   "outputs": [
    {
     "data": {
      "text/plain": [
       "4.48"
      ]
     },
     "execution_count": 43,
     "metadata": {},
     "output_type": "execute_result"
    }
   ],
   "source": [
    "round(np.mean(comment_sent_counts), 2)"
   ]
  },
  {
   "cell_type": "code",
   "execution_count": 49,
   "metadata": {},
   "outputs": [
    {
     "data": {
      "image/png": "[encoded data removed]",
      "text/plain": [
       "<Figure size 864x576 with 1 Axes>"
      ]
     },
     "metadata": {
      "needs_background": "light"
     },
     "output_type": "display_data"
    }
   ],
   "source": [
    "f, ax = plt.subplots()\n",
    "ax.hist(comment_sent_counts, bins = 36)\n",
    "# ax.axvline(20, color='red', linestyle='dashed', linewidth=2)\n",
    "ax.axvline(round(np.mean(comment_sent_counts), 0), color='red', linestyle='dashed', linewidth=2)\n",
    "# ax.axhline(0.5, color='red', linestyle='dashed', linewidth=2)\n",
    "ax.grid()\n",
    "# plt.xticks([0,20,40,60,80,100,120,140,160,180,200,220,240,260,280,300,320,34,360,380])\n",
    "ax.set_xlabel('Sentence Count')\n",
    "ax.set_ylabel('Proportion of Comments')\n",
    "ax.set_title('Cumulative Distribution of Sentence Counts in Open Ended Comments');"
   ]
  },
  {
   "cell_type": "markdown",
   "metadata": {
    "slideshow": {
     "slide_type": "slide"
    }
   },
   "source": [
    "## Most common words\n",
    "- NLTK Tokenization"
   ]
  },
  {
   "cell_type": "code",
   "execution_count": 23,
   "metadata": {
    "slideshow": {
     "slide_type": "skip"
    }
   },
   "outputs": [
    {
     "name": "stderr",
     "output_type": "stream",
     "text": [
      "C:\\Users\\ca20593\\AppData\\Local\\Continuum\\anaconda3\\lib\\importlib\\_bootstrap.py:219: RuntimeWarning: numpy.ufunc size changed, may indicate binary incompatibility. Expected 192 from C header, got 216 from PyObject\n",
      "  return f(*args, **kwds)\n",
      "C:\\Users\\ca20593\\AppData\\Local\\Continuum\\anaconda3\\lib\\site-packages\\nltk\\decorators.py:68: DeprecationWarning: `formatargspec` is deprecated since Python 3.5. Use `signature` and the `Signature` object directly\n",
      "  regargs, varargs, varkwargs, defaults, formatvalue=lambda value: \"\"\n",
      "C:\\Users\\ca20593\\AppData\\Local\\Continuum\\anaconda3\\lib\\importlib\\_bootstrap.py:219: RuntimeWarning: numpy.ufunc size changed, may indicate binary incompatibility. Expected 192 from C header, got 216 from PyObject\n",
      "  return f(*args, **kwds)\n",
      "C:\\Users\\ca20593\\AppData\\Local\\Continuum\\anaconda3\\lib\\importlib\\_bootstrap.py:219: RuntimeWarning: numpy.ufunc size changed, may indicate binary incompatibility. Expected 192 from C header, got 216 from PyObject\n",
      "  return f(*args, **kwds)\n",
      "C:\\Users\\ca20593\\AppData\\Local\\Continuum\\anaconda3\\lib\\importlib\\_bootstrap.py:219: RuntimeWarning: numpy.ufunc size changed, may indicate binary incompatibility. Expected 192 from C header, got 216 from PyObject\n",
      "  return f(*args, **kwds)\n"
     ]
    }
   ],
   "source": [
    "from nltk.corpus import stopwords\n",
    "from nltk.tokenize import word_tokenize\n",
    "from collections import Counter\n",
    "import nltk"
   ]
  },
  {
   "cell_type": "code",
   "execution_count": 24,
   "metadata": {
    "slideshow": {
     "slide_type": "skip"
    }
   },
   "outputs": [],
   "source": [
    "# Turn string into lowercase\n",
    "# Then tokenize into words\n",
    "tokens = [w for w in word_tokenize(joined_answers.lower()) if w.isalpha()]"
   ]
  },
  {
   "cell_type": "code",
   "execution_count": 25,
   "metadata": {
    "slideshow": {
     "slide_type": "skip"
    }
   },
   "outputs": [],
   "source": [
    "# for each word, check if it is in the list of English stop words\n",
    "# Only keep the words that are not in the list of stopwords\n",
    "no_stops = [t for t in tokens\n",
    "           if t not in stopwords.words('english')]"
   ]
  },
  {
   "cell_type": "code",
   "execution_count": 26,
   "metadata": {
    "slideshow": {
     "slide_type": "skip"
    }
   },
   "outputs": [],
   "source": [
    "# Initiate Word Net Lemmatizer\n",
    "# Will create lemmas (word bases)\n",
    "wnl = nltk.WordNetLemmatizer()"
   ]
  },
  {
   "cell_type": "code",
   "execution_count": 27,
   "metadata": {
    "slideshow": {
     "slide_type": "skip"
    }
   },
   "outputs": [],
   "source": [
    "# For each word in no_stops list, lemmatize\n",
    "lemmas =  [wnl.lemmatize(t) for t in no_stops]"
   ]
  },
  {
   "cell_type": "code",
   "execution_count": 28,
   "metadata": {
    "slideshow": {
     "slide_type": "subslide"
    }
   },
   "outputs": [
    {
     "data": {
      "text/plain": [
       "[('student', 16246),\n",
       " ('teacher', 14896),\n",
       " ('school', 10301),\n",
       " ('time', 7967),\n",
       " ('need', 6604),\n",
       " ('year', 5880),\n",
       " ('test', 5421),\n",
       " ('state', 4544),\n",
       " ('testing', 4239),\n",
       " ('feel', 3598),\n",
       " ('would', 3507),\n",
       " ('standard', 3314),\n",
       " ('teaching', 3050),\n",
       " ('teach', 2921),\n",
       " ('many', 2916),\n",
       " ('much', 2912),\n",
       " ('like', 2778),\n",
       " ('work', 2720),\n",
       " ('classroom', 2582),\n",
       " ('one', 2574),\n",
       " ('grade', 2565),\n",
       " ('score', 2525),\n",
       " ('level', 2461),\n",
       " ('education', 2458),\n",
       " ('also', 2397),\n",
       " ('get', 2281),\n",
       " ('day', 2255),\n",
       " ('evaluation', 2235),\n",
       " ('district', 2209),\n",
       " ('way', 2205),\n",
       " ('child', 2071),\n",
       " ('make', 2023),\n",
       " ('u', 1981),\n",
       " ('take', 1911),\n",
       " ('know', 1824)]"
      ]
     },
     "execution_count": 28,
     "metadata": {},
     "output_type": "execute_result"
    }
   ],
   "source": [
    "# Counter object \n",
    "Counter(lemmas).most_common(35)"
   ]
  },
  {
   "cell_type": "markdown",
   "metadata": {
    "slideshow": {
     "slide_type": "slide"
    }
   },
   "source": [
    "## Topic Modeling"
   ]
  },
  {
   "cell_type": "code",
   "execution_count": 29,
   "metadata": {
    "slideshow": {
     "slide_type": "skip"
    }
   },
   "outputs": [
    {
     "name": "stderr",
     "output_type": "stream",
     "text": [
      "C:\\Users\\ca20593\\AppData\\Local\\Continuum\\anaconda3\\lib\\site-packages\\socks.py:58: DeprecationWarning: Using or importing the ABCs from 'collections' instead of from 'collections.abc' is deprecated, and in 3.8 it will stop working\n",
      "  from collections import Callable\n",
      "C:\\Users\\ca20593\\AppData\\Local\\Continuum\\anaconda3\\lib\\importlib\\_bootstrap.py:219: RuntimeWarning: numpy.ufunc size changed, may indicate binary incompatibility. Expected 192 from C header, got 216 from PyObject\n",
      "  return f(*args, **kwds)\n",
      "C:\\Users\\ca20593\\AppData\\Local\\Continuum\\anaconda3\\lib\\site-packages\\scipy\\sparse\\sparsetools.py:21: DeprecationWarning: `scipy.sparse.sparsetools` is deprecated!\n",
      "scipy.sparse.sparsetools is a private module for scipy.sparse, and should not be used.\n",
      "  _deprecated()\n"
     ]
    }
   ],
   "source": [
    "# Importing the relevant libraries\n",
    "import gensim\n",
    "from gensim import corpora\n",
    "from pprint import pprint\n",
    "from gensim.test.utils import datapath\n",
    "from gensim.models.word2vec import Text8Corpus\n",
    "from gensim.models.phrases import Phrases, Phraser"
   ]
  },
  {
   "cell_type": "code",
   "execution_count": 30,
   "metadata": {
    "slideshow": {
     "slide_type": "skip"
    }
   },
   "outputs": [
    {
     "name": "stderr",
     "output_type": "stream",
     "text": [
      "C:\\Users\\ca20593\\AppData\\Local\\Continuum\\anaconda3\\lib\\importlib\\_bootstrap.py:219: RuntimeWarning: numpy.ufunc size changed, may indicate binary incompatibility. Expected 192 from C header, got 216 from PyObject\n",
      "  return f(*args, **kwds)\n"
     ]
    }
   ],
   "source": [
    "# Loading relevant libraries\n",
    "from gensim.models import LdaModel, LdaMulticore\n",
    "import gensim.downloader as api\n",
    "from gensim.utils import simple_preprocess, lemmatize\n",
    "import re\n",
    "import pyLDAvis.gensim\n",
    "# import logging\n",
    "# logging.basicConfig(format='%(asctime)s : %(levelname)s : %(message)s')\n",
    "# logging.root.setLevel(level=logging.INFO)\n",
    "stop_words = stopwords.words('english')\n",
    "stop_words = stop_words + ['com', 'edu', 'would', 'could', 'also', 'le', 'thank_you', 'u', 'etc']"
   ]
  },
  {
   "cell_type": "code",
   "execution_count": 31,
   "metadata": {
    "slideshow": {
     "slide_type": "skip"
    }
   },
   "outputs": [],
   "source": [
    "def make_trigrams_mod(texts, trigram_model, bigram_model):\n",
    "    return [trigram_model[bigram_model[doc]] for doc in texts]"
   ]
  },
  {
   "cell_type": "code",
   "execution_count": 32,
   "metadata": {
    "slideshow": {
     "slide_type": "skip"
    }
   },
   "outputs": [],
   "source": [
    "# Outputs list of lists with trigrams for each answer in a list\n",
    "def preprocess_responses(text_list, bigram_min_count = 3, bigram_threshold = 8, trigram_min_count = 2, trigram_threshold = 8):\n",
    "    # Make all words lowercase and remove punctuation\n",
    "    lower_no_punctuation = [[text for text in word_tokenize(doc.lower()) if text.isalpha()] for doc in text_list]\n",
    "    # Establish stop words\n",
    "    # Needs stopwords from nltk.corpus\n",
    "    stop_words = stopwords.words('english')\n",
    "    stop_words = stop_words + ['would', 'could', 'also', 'le', 'thank_you', 'u', 'etc', 't',\n",
    "                              'the', 'and', 'are', 'of', 'for', 'that']\n",
    "    # remove stop words\n",
    "    text_no_stops = [[text for text in doc if text not in stop_words] for doc in lower_no_punctuation]\n",
    "    # Lemmatize\n",
    "    text_lemmatized = [[wnl.lemmatize(text) for text in doc] for doc in text_no_stops]\n",
    "    # models for trigrams and bigrams\n",
    "    bigram_topics = Phrases(text_lemmatized, min_count = bigram_min_count, threshold = bigram_threshold)\n",
    "    trigram_topics = Phrases(bigram_topics[text_lemmatized], min_count = trigram_min_count, threshold = trigram_threshold)\n",
    "    # Phraser for better performance\n",
    "    bigram_mod = Phraser(bigram_topics)\n",
    "    trigram_mod = Phraser(trigram_topics)\n",
    "    # Make trigrams (also forms bigrams in the process)\n",
    "    topic_trigrams = make_trigrams_mod(text_lemmatized, trigram_mod, bigram_mod)\n",
    "    return topic_trigrams\n",
    "    "
   ]
  },
  {
   "cell_type": "code",
   "execution_count": 33,
   "metadata": {
    "slideshow": {
     "slide_type": "skip"
    }
   },
   "outputs": [],
   "source": [
    "def make_lda_topic_model(preprocessed_list, num_topics = 10, chunksize = 200, passes = 10):\n",
    "    # create dictionary\n",
    "    id2word = corpora.Dictionary(preprocessed_list)\n",
    "    # Create Corpus\n",
    "    texts = preprocessed_list\n",
    "    corpus = [id2word.doc2bow(text) for text in texts] # Term Document Frequency\n",
    "    # Created model with gensim LDA model\n",
    "    lda_model = gensim.models.ldamodel.LdaModel(corpus=corpus,\n",
    "                                           id2word=id2word,\n",
    "                                           num_topics=num_topics, \n",
    "                                           random_state=100,\n",
    "                                           update_every=1,\n",
    "                                           chunksize=chunksize,\n",
    "                                           passes=passes,\n",
    "                                           alpha='auto',\n",
    "                                           per_word_topics=True)\n",
    "    return id2word, corpus, lda_model"
   ]
  },
  {
   "cell_type": "code",
   "execution_count": 34,
   "metadata": {
    "slideshow": {
     "slide_type": "skip"
    }
   },
   "outputs": [],
   "source": [
    "def make_topic_visual(model, corpus, dictionary):\n",
    "    lda_display = pyLDAvis.gensim.prepare(model, corpus, dictionary, sort_topics=False)\n",
    "    return pyLDAvis.display(lda_display)"
   ]
  },
  {
   "cell_type": "code",
   "execution_count": 35,
   "metadata": {
    "slideshow": {
     "slide_type": "skip"
    }
   },
   "outputs": [],
   "source": [
    "answers = preprocess_responses(open_ended_answers, \n",
    "                               bigram_min_count = 3, bigram_threshold = 8, \n",
    "                               trigram_min_count = 2, trigram_threshold = 3)"
   ]
  },
  {
   "cell_type": "code",
   "execution_count": 36,
   "metadata": {
    "slideshow": {
     "slide_type": "skip"
    }
   },
   "outputs": [],
   "source": [
    "dictionary, corpus, lda_model = make_lda_topic_model(answers)"
   ]
  },
  {
   "cell_type": "code",
   "execution_count": 37,
   "metadata": {
    "slideshow": {
     "slide_type": "subslide"
    }
   },
   "outputs": [
    {
     "name": "stdout",
     "output_type": "stream",
     "text": [
      "[(0,\n",
      "  '0.038*\"child\" + 0.030*\"education\" + 0.029*\"feel_like\" + 0.020*\"issue\" + '\n",
      "  '0.015*\"plan\" + 0.015*\"back\" + 0.013*\"idea\" + 0.012*\"others\" + '\n",
      "  '0.011*\"everything\" + 0.010*\"sometimes\"'),\n",
      " (1,\n",
      "  '0.027*\"portfolio\" + 0.020*\"process\" + 0.019*\"planning\" + 0.018*\"wish\" + '\n",
      "  '0.017*\"every\" + 0.016*\"lesson\" + 0.013*\"admin\" + 0.013*\"hour\" + 0.012*\"pd\" '\n",
      "  '+ 0.012*\"another\"'),\n",
      " (2,\n",
      "  '0.108*\"student\" + 0.039*\"need\" + 0.018*\"test\" + 0.016*\"state\" + '\n",
      "  '0.013*\"testing\" + 0.012*\"year\" + 0.012*\"class\" + 0.009*\"curriculum\" + '\n",
      "  '0.009*\"believe\" + 0.009*\"take\"'),\n",
      " (3,\n",
      "  '0.019*\"guess\" + 0.018*\"correct\" + 0.017*\"student_behavior\" + 0.017*\"book\" + '\n",
      "  '0.014*\"scholar\" + 0.014*\"online\" + 0.013*\"art\" + 0.013*\"ela\" + '\n",
      "  '0.012*\"although\" + 0.011*\"instructor\"'),\n",
      " (4,\n",
      "  '0.024*\"email\" + 0.022*\"finally\" + 0.021*\"develop\" + 0.020*\"heard\" + '\n",
      "  '0.019*\"algebra\" + 0.019*\"rtii\" + 0.016*\"many_standard\" + 0.015*\"check\" + '\n",
      "  '0.014*\"way_much\" + 0.014*\"prep\"'),\n",
      " (5,\n",
      "  '0.087*\"standard\" + 0.043*\"grade\" + 0.023*\"skill\" + 0.022*\"expectation\" + '\n",
      "  '0.021*\"question\" + 0.014*\"math\" + 0.011*\"communication\" + 0.009*\"run\" + '\n",
      "  '0.009*\"reading\" + 0.009*\"specific\"'),\n",
      " (6,\n",
      "  '0.021*\"discus\" + 0.021*\"teacher_evaluation\" + 0.019*\"act\" + 0.018*\"certain\" '\n",
      "  '+ 0.017*\"worth\" + 0.016*\"profession\" + 0.011*\"cause\" + 0.010*\"term\" + '\n",
      "  '0.010*\"hire\" + 0.009*\"wrong\"'),\n",
      " (7,\n",
      "  '0.088*\"teacher\" + 0.054*\"school\" + 0.020*\"time\" + 0.016*\"classroom\" + '\n",
      "  '0.016*\"feel\" + 0.014*\"work\" + 0.014*\"district\" + 0.012*\"teaching\" + '\n",
      "  '0.011*\"one\" + 0.011*\"teach\"'),\n",
      " (8,\n",
      "  '0.026*\"training\" + 0.023*\"counselor\" + 0.020*\"county\" + 0.017*\"rti\" + '\n",
      "  '0.016*\"professional_development\" + 0.013*\"lost\" + 0.011*\"every_day\" + '\n",
      "  '0.011*\"team\" + 0.010*\"funding\" + 0.010*\"environment\"'),\n",
      " (9,\n",
      "  '0.047*\"enough_time\" + 0.033*\"first_year\" + 0.025*\"observe\" + 0.024*\"gain\" + '\n",
      "  '0.020*\"attempt\" + 0.018*\"excited\" + 0.017*\"many_thing\" + 0.016*\"addressing\" '\n",
      "  '+ 0.015*\"factor\" + 0.015*\"two_year\"')]\n"
     ]
    }
   ],
   "source": [
    "# Words composing topics with 10 topics created\n",
    "pprint(lda_model.print_topics())"
   ]
  },
  {
   "cell_type": "code",
   "execution_count": 38,
   "metadata": {
    "slideshow": {
     "slide_type": "skip"
    }
   },
   "outputs": [],
   "source": [
    "def total_lda_vis(response_list, \n",
    "                  bigram_min_count = 3, bigram_threshold = 8, \n",
    "                  trigram_min_count = 2, trigram_threshold = 3,\n",
    "                  num_topics = 7, topic_chunksize = 200, passes = 10\n",
    "                 ):\n",
    "    trigram_list = preprocess_responses(response_list, \n",
    "                                        bigram_min_count = bigram_min_count, bigram_threshold = bigram_threshold, \n",
    "                                        trigram_min_count = trigram_min_count, trigram_threshold = trigram_threshold)\n",
    "    dictionary, corpus, lda_model = make_lda_topic_model(trigram_list, \n",
    "                                                         num_topics = num_topics, chunksize = topic_chunksize, passes = passes)\n",
    "    return make_topic_visual(lda_model, corpus, dictionary)"
   ]
  },
  {
   "cell_type": "markdown",
   "metadata": {
    "slideshow": {
     "slide_type": "subslide"
    }
   },
   "source": [
    "## Visualize topics and word counts"
   ]
  },
  {
   "cell_type": "code",
   "execution_count": 39,
   "metadata": {
    "slideshow": {
     "slide_type": "subslide"
    }
   },
   "outputs": [],
   "source": [
    "# total_lda_vis(open_ended_answers, \n",
    "#                   bigram_min_count = 3, bigram_threshold = 5, \n",
    "#                   trigram_min_count = 2, trigram_threshold = 4,\n",
    "#                   num_topics = 7, topic_chunksize = 300, passes = 8\n",
    "#                  )"
   ]
  },
  {
   "cell_type": "markdown",
   "metadata": {
    "slideshow": {
     "slide_type": "slide"
    }
   },
   "source": [
    "## Compare topics for admin and teachers"
   ]
  },
  {
   "cell_type": "code",
   "execution_count": 40,
   "metadata": {
    "slideshow": {
     "slide_type": "skip"
    }
   },
   "outputs": [],
   "source": [
    "def teacher_admin(row):\n",
    "    if row['bestguess_tch'] == 1:\n",
    "        return 'Teacher'\n",
    "    else:\n",
    "        return 'Admin'"
   ]
  },
  {
   "cell_type": "code",
   "execution_count": 41,
   "metadata": {
    "slideshow": {
     "slide_type": "skip"
    }
   },
   "outputs": [],
   "source": [
    "# Selecting columns from the base DF where the open ended question was answered\n",
    "df_open_answered = df_selected_columns.loc[df_selected_columns.loc[:,'answered_q13'] == 1, :]"
   ]
  },
  {
   "cell_type": "code",
   "execution_count": 42,
   "metadata": {
    "slideshow": {
     "slide_type": "skip"
    }
   },
   "outputs": [
    {
     "name": "stderr",
     "output_type": "stream",
     "text": [
      "C:\\Users\\ca20593\\AppData\\Local\\Continuum\\anaconda3\\lib\\site-packages\\pandas\\core\\indexing.py:362: SettingWithCopyWarning: \n",
      "A value is trying to be set on a copy of a slice from a DataFrame.\n",
      "Try using .loc[row_indexer,col_indexer] = value instead\n",
      "\n",
      "See the caveats in the documentation: http://pandas.pydata.org/pandas-docs/stable/indexing.html#indexing-view-versus-copy\n",
      "  self.obj[key] = _infer_fill_value(value)\n"
     ]
    }
   ],
   "source": [
    "df_open_answered.loc[:,'teacher_admin'] = df_open_answered.apply(teacher_admin, axis = 1)"
   ]
  },
  {
   "cell_type": "code",
   "execution_count": 43,
   "metadata": {
    "slideshow": {
     "slide_type": "skip"
    }
   },
   "outputs": [
    {
     "data": {
      "text/plain": [
       "Teacher    12095\n",
       "Admin        545\n",
       "Name: teacher_admin, dtype: int64"
      ]
     },
     "execution_count": 43,
     "metadata": {},
     "output_type": "execute_result"
    }
   ],
   "source": [
    "df_open_answered.teacher_admin.value_counts()"
   ]
  },
  {
   "cell_type": "code",
   "execution_count": 44,
   "metadata": {
    "slideshow": {
     "slide_type": "skip"
    }
   },
   "outputs": [],
   "source": [
    "teacher_answered_df = df_open_answered.loc[(df_open_answered['teacher_admin'] == 'Teacher'), :]\n",
    "admin_answered_df = df_open_answered.loc[(df_open_answered['teacher_admin'] == 'Admin'), :]"
   ]
  },
  {
   "cell_type": "code",
   "execution_count": 45,
   "metadata": {
    "slideshow": {
     "slide_type": "subslide"
    }
   },
   "outputs": [
    {
     "name": "stdout",
     "output_type": "stream",
     "text": [
      "Number of Teachers answering Q13: 12095\n"
     ]
    }
   ],
   "source": [
    "print('Number of Teachers answering Q13: ' + str(teacher_answered_df.shape[0]))"
   ]
  },
  {
   "cell_type": "code",
   "execution_count": 46,
   "metadata": {
    "slideshow": {
     "slide_type": "fragment"
    }
   },
   "outputs": [
    {
     "name": "stdout",
     "output_type": "stream",
     "text": [
      "Number of Admins answering Q13: 545\n"
     ]
    }
   ],
   "source": [
    "print('Number of Admins answering Q13: ' + str(admin_answered_df.shape[0]))"
   ]
  },
  {
   "cell_type": "code",
   "execution_count": 47,
   "metadata": {
    "slideshow": {
     "slide_type": "skip"
    }
   },
   "outputs": [],
   "source": [
    "teacher_comment_list = teacher_answered_df.Q13.tolist()\n",
    "admin_comment_list = admin_answered_df.Q13.tolist()"
   ]
  },
  {
   "cell_type": "markdown",
   "metadata": {
    "slideshow": {
     "slide_type": "subslide"
    }
   },
   "source": [
    "## Admin Topic Model"
   ]
  },
  {
   "cell_type": "code",
   "execution_count": 48,
   "metadata": {
    "slideshow": {
     "slide_type": "subslide"
    }
   },
   "outputs": [],
   "source": [
    "# total_lda_vis(admin_comment_list, \n",
    "#                   bigram_min_count = 3, bigram_threshold = 5, \n",
    "#                   trigram_min_count = 2, trigram_threshold = 4,\n",
    "#                   num_topics = 7, topic_chunksize = 75, passes = 8\n",
    "#                  )"
   ]
  },
  {
   "cell_type": "markdown",
   "metadata": {
    "slideshow": {
     "slide_type": "subslide"
    }
   },
   "source": [
    "## Teacher Topic Model"
   ]
  },
  {
   "cell_type": "code",
   "execution_count": 49,
   "metadata": {
    "slideshow": {
     "slide_type": "subslide"
    }
   },
   "outputs": [],
   "source": [
    "# total_lda_vis(teacher_comment_list, \n",
    "#                   bigram_min_count = 3, bigram_threshold = 5, \n",
    "#                   trigram_min_count = 2, trigram_threshold = 4,\n",
    "#                   num_topics = 7, topic_chunksize = 200, passes = 8\n",
    "#                  )"
   ]
  },
  {
   "cell_type": "markdown",
   "metadata": {
    "slideshow": {
     "slide_type": "slide"
    }
   },
   "source": [
    "## Textblob Sentiment Analysis\n"
   ]
  },
  {
   "cell_type": "code",
   "execution_count": 50,
   "metadata": {
    "slideshow": {
     "slide_type": "skip"
    }
   },
   "outputs": [],
   "source": [
    "from textblob import TextBlob\n",
    "from textblob.sentiments import NaiveBayesAnalyzer"
   ]
  },
  {
   "cell_type": "code",
   "execution_count": 51,
   "metadata": {
    "slideshow": {
     "slide_type": "skip"
    }
   },
   "outputs": [],
   "source": [
    "blob_list = [TextBlob(doc) for doc in open_ended_answers]"
   ]
  },
  {
   "cell_type": "code",
   "execution_count": 52,
   "metadata": {
    "slideshow": {
     "slide_type": "skip"
    }
   },
   "outputs": [],
   "source": [
    "answer_sentiments = [blob.sentiment.polarity for blob in blob_list]"
   ]
  },
  {
   "cell_type": "code",
   "execution_count": 53,
   "metadata": {
    "slideshow": {
     "slide_type": "fragment"
    }
   },
   "outputs": [
    {
     "name": "stdout",
     "output_type": "stream",
     "text": [
      "Average sentiment: 0.13952264002256343\n"
     ]
    }
   ],
   "source": [
    "print('Average sentiment: ' + str(np.mean(answer_sentiments)))"
   ]
  },
  {
   "cell_type": "markdown",
   "metadata": {
    "slideshow": {
     "slide_type": "fragment"
    }
   },
   "source": [
    "The average sentiment seems to indicate that the reviews are positive overall"
   ]
  },
  {
   "cell_type": "code",
   "execution_count": 54,
   "metadata": {
    "slideshow": {
     "slide_type": "skip"
    }
   },
   "outputs": [],
   "source": [
    "sent_category = ['positive' if sent > 0 else 'neutral' if sent == 0 else 'negative' for sent in answer_sentiments]"
   ]
  },
  {
   "cell_type": "code",
   "execution_count": 55,
   "metadata": {
    "slideshow": {
     "slide_type": "skip"
    }
   },
   "outputs": [],
   "source": [
    "textblob_sentiments_df = pd.DataFrame({'sentiment_polarity': answer_sentiments,\n",
    "                                      'sentiment_category': sent_category})"
   ]
  },
  {
   "cell_type": "code",
   "execution_count": 56,
   "metadata": {
    "slideshow": {
     "slide_type": "skip"
    }
   },
   "outputs": [],
   "source": [
    "textblob_total_df =  pd.concat([df_open_answered.reset_index(drop=True), textblob_sentiments_df], axis=1)"
   ]
  },
  {
   "cell_type": "code",
   "execution_count": 57,
   "metadata": {
    "slideshow": {
     "slide_type": "subslide"
    }
   },
   "outputs": [
    {
     "data": {
      "text/html": [
       "<div>\n",
       "<style scoped>\n",
       "    .dataframe tbody tr th:only-of-type {\n",
       "        vertical-align: middle;\n",
       "    }\n",
       "\n",
       "    .dataframe tbody tr th {\n",
       "        vertical-align: top;\n",
       "    }\n",
       "\n",
       "    .dataframe thead th {\n",
       "        text-align: right;\n",
       "    }\n",
       "</style>\n",
       "<table border=\"1\" class=\"dataframe\">\n",
       "  <thead>\n",
       "    <tr style=\"text-align: right;\">\n",
       "      <th></th>\n",
       "      <th></th>\n",
       "      <th>count</th>\n",
       "    </tr>\n",
       "    <tr>\n",
       "      <th>teacher_admin</th>\n",
       "      <th>sentiment_category</th>\n",
       "      <th></th>\n",
       "    </tr>\n",
       "  </thead>\n",
       "  <tbody>\n",
       "    <tr>\n",
       "      <th rowspan=\"3\" valign=\"top\">Admin</th>\n",
       "      <th>negative</th>\n",
       "      <td>72</td>\n",
       "    </tr>\n",
       "    <tr>\n",
       "      <th>neutral</th>\n",
       "      <td>56</td>\n",
       "    </tr>\n",
       "    <tr>\n",
       "      <th>positive</th>\n",
       "      <td>417</td>\n",
       "    </tr>\n",
       "    <tr>\n",
       "      <th rowspan=\"3\" valign=\"top\">Teacher</th>\n",
       "      <th>negative</th>\n",
       "      <td>2213</td>\n",
       "    </tr>\n",
       "    <tr>\n",
       "      <th>neutral</th>\n",
       "      <td>936</td>\n",
       "    </tr>\n",
       "    <tr>\n",
       "      <th>positive</th>\n",
       "      <td>8946</td>\n",
       "    </tr>\n",
       "  </tbody>\n",
       "</table>\n",
       "</div>"
      ],
      "text/plain": [
       "                                  count\n",
       "teacher_admin sentiment_category       \n",
       "Admin         negative               72\n",
       "              neutral                56\n",
       "              positive              417\n",
       "Teacher       negative             2213\n",
       "              neutral               936\n",
       "              positive             8946"
      ]
     },
     "execution_count": 57,
     "metadata": {},
     "output_type": "execute_result"
    }
   ],
   "source": [
    "textblob_total_df[['teacher_admin', 'sentiment_category', 'tchlic']].groupby(['teacher_admin', 'sentiment_category'])\\\n",
    ".count().rename(columns={\"tchlic\": \"count\"})"
   ]
  },
  {
   "cell_type": "code",
   "execution_count": 58,
   "metadata": {
    "slideshow": {
     "slide_type": "subslide"
    }
   },
   "outputs": [
    {
     "data": {
      "text/html": [
       "<div>\n",
       "<style scoped>\n",
       "    .dataframe tbody tr th:only-of-type {\n",
       "        vertical-align: middle;\n",
       "    }\n",
       "\n",
       "    .dataframe tbody tr th {\n",
       "        vertical-align: top;\n",
       "    }\n",
       "\n",
       "    .dataframe thead th {\n",
       "        text-align: right;\n",
       "    }\n",
       "</style>\n",
       "<table border=\"1\" class=\"dataframe\">\n",
       "  <thead>\n",
       "    <tr style=\"text-align: right;\">\n",
       "      <th></th>\n",
       "      <th></th>\n",
       "      <th>response_character_length</th>\n",
       "    </tr>\n",
       "    <tr>\n",
       "      <th>teacher_admin</th>\n",
       "      <th>sentiment_category</th>\n",
       "      <th></th>\n",
       "    </tr>\n",
       "  </thead>\n",
       "  <tbody>\n",
       "    <tr>\n",
       "      <th rowspan=\"3\" valign=\"top\">Admin</th>\n",
       "      <th>negative</th>\n",
       "      <td>403.85</td>\n",
       "    </tr>\n",
       "    <tr>\n",
       "      <th>neutral</th>\n",
       "      <td>106.20</td>\n",
       "    </tr>\n",
       "    <tr>\n",
       "      <th>positive</th>\n",
       "      <td>494.14</td>\n",
       "    </tr>\n",
       "    <tr>\n",
       "      <th rowspan=\"3\" valign=\"top\">Teacher</th>\n",
       "      <th>negative</th>\n",
       "      <td>433.24</td>\n",
       "    </tr>\n",
       "    <tr>\n",
       "      <th>neutral</th>\n",
       "      <td>125.95</td>\n",
       "    </tr>\n",
       "    <tr>\n",
       "      <th>positive</th>\n",
       "      <td>536.01</td>\n",
       "    </tr>\n",
       "  </tbody>\n",
       "</table>\n",
       "</div>"
      ],
      "text/plain": [
       "                                  response_character_length\n",
       "teacher_admin sentiment_category                           \n",
       "Admin         negative                               403.85\n",
       "              neutral                                106.20\n",
       "              positive                               494.14\n",
       "Teacher       negative                               433.24\n",
       "              neutral                                125.95\n",
       "              positive                               536.01"
      ]
     },
     "execution_count": 58,
     "metadata": {},
     "output_type": "execute_result"
    }
   ],
   "source": [
    "textblob_total_df[['teacher_admin', 'sentiment_category', 'response_character_length']]\\\n",
    "                .groupby(['teacher_admin', 'sentiment_category']).mean().round(2)\n"
   ]
  },
  {
   "cell_type": "code",
   "execution_count": 59,
   "metadata": {
    "slideshow": {
     "slide_type": "skip"
    }
   },
   "outputs": [],
   "source": [
    "district_grouping = textblob_total_df[['district_no', 'district_name', 'sentiment_category', 'tchlic']]\\\n",
    "                            .groupby(['district_no', 'district_name', 'sentiment_category']).count()\n",
    "district_grouping.columns = ['count']\n",
    "district_grouping_pct = district_grouping.groupby(level=0).apply(lambda x:\n",
    "                                                 100 * x / float(x.sum())).round(2)\n",
    "district_grouping_pct.columns = ['pct']"
   ]
  },
  {
   "cell_type": "code",
   "execution_count": 60,
   "metadata": {
    "slideshow": {
     "slide_type": "subslide"
    }
   },
   "outputs": [
    {
     "data": {
      "text/html": [
       "<div>\n",
       "<style scoped>\n",
       "    .dataframe tbody tr th:only-of-type {\n",
       "        vertical-align: middle;\n",
       "    }\n",
       "\n",
       "    .dataframe tbody tr th {\n",
       "        vertical-align: top;\n",
       "    }\n",
       "\n",
       "    .dataframe thead th {\n",
       "        text-align: right;\n",
       "    }\n",
       "</style>\n",
       "<table border=\"1\" class=\"dataframe\">\n",
       "  <thead>\n",
       "    <tr style=\"text-align: right;\">\n",
       "      <th></th>\n",
       "      <th></th>\n",
       "      <th></th>\n",
       "      <th>pct</th>\n",
       "    </tr>\n",
       "    <tr>\n",
       "      <th>district_no</th>\n",
       "      <th>district_name</th>\n",
       "      <th>sentiment_category</th>\n",
       "      <th></th>\n",
       "    </tr>\n",
       "  </thead>\n",
       "  <tbody>\n",
       "    <tr>\n",
       "      <th rowspan=\"3\" valign=\"top\">10</th>\n",
       "      <th rowspan=\"3\" valign=\"top\">Anderson County</th>\n",
       "      <th>negative</th>\n",
       "      <td>14.74</td>\n",
       "    </tr>\n",
       "    <tr>\n",
       "      <th>neutral</th>\n",
       "      <td>7.37</td>\n",
       "    </tr>\n",
       "    <tr>\n",
       "      <th>positive</th>\n",
       "      <td>77.89</td>\n",
       "    </tr>\n",
       "    <tr>\n",
       "      <th rowspan=\"2\" valign=\"top\">11</th>\n",
       "      <th rowspan=\"2\" valign=\"top\">Clinton City</th>\n",
       "      <th>negative</th>\n",
       "      <td>17.24</td>\n",
       "    </tr>\n",
       "    <tr>\n",
       "      <th>positive</th>\n",
       "      <td>82.76</td>\n",
       "    </tr>\n",
       "    <tr>\n",
       "      <th rowspan=\"3\" valign=\"top\">12</th>\n",
       "      <th rowspan=\"3\" valign=\"top\">Oak Ridge City</th>\n",
       "      <th>negative</th>\n",
       "      <td>11.94</td>\n",
       "    </tr>\n",
       "    <tr>\n",
       "      <th>neutral</th>\n",
       "      <td>7.46</td>\n",
       "    </tr>\n",
       "    <tr>\n",
       "      <th>positive</th>\n",
       "      <td>80.60</td>\n",
       "    </tr>\n",
       "    <tr>\n",
       "      <th rowspan=\"2\" valign=\"top\">20</th>\n",
       "      <th rowspan=\"2\" valign=\"top\">Bedford County</th>\n",
       "      <th>negative</th>\n",
       "      <td>19.23</td>\n",
       "    </tr>\n",
       "    <tr>\n",
       "      <th>neutral</th>\n",
       "      <td>8.46</td>\n",
       "    </tr>\n",
       "  </tbody>\n",
       "</table>\n",
       "</div>"
      ],
      "text/plain": [
       "                                                  pct\n",
       "district_no district_name   sentiment_category       \n",
       "10          Anderson County negative            14.74\n",
       "                            neutral              7.37\n",
       "                            positive            77.89\n",
       "11          Clinton City    negative            17.24\n",
       "                            positive            82.76\n",
       "12          Oak Ridge City  negative            11.94\n",
       "                            neutral              7.46\n",
       "                            positive            80.60\n",
       "20          Bedford County  negative            19.23\n",
       "                            neutral              8.46"
      ]
     },
     "execution_count": 60,
     "metadata": {},
     "output_type": "execute_result"
    }
   ],
   "source": [
    "district_grouping_pct.head(10)"
   ]
  },
  {
   "cell_type": "markdown",
   "metadata": {
    "slideshow": {
     "slide_type": "notes"
    }
   },
   "source": [
    "## Results\n",
    "- Similar topics between the categories\n",
    "- Portfolio occurs much more frequently in comments labeled as destructive\n",
    "- Professional Development and Curriculum show up more in constructive comments\n",
    "    - Request for state wide curriculum\n",
    "    - Desire additional PD opportunities\n",
    "- RTI appears in the constructive comments"
   ]
  },
  {
   "cell_type": "markdown",
   "metadata": {
    "slideshow": {
     "slide_type": "subslide"
    }
   },
   "source": [
    "## Topics for less than 5 years experience"
   ]
  },
  {
   "cell_type": "code",
   "execution_count": 61,
   "metadata": {
    "slideshow": {
     "slide_type": "fragment"
    }
   },
   "outputs": [],
   "source": [
    "# total_lda_vis(under_5_years, \n",
    "#                   bigram_min_count = 3, bigram_threshold = 5, \n",
    "#                   trigram_min_count = 2, trigram_threshold = 3,\n",
    "#                   num_topics = 7, topic_chunksize = 100, passes = 8\n",
    "#                  )"
   ]
  },
  {
   "cell_type": "code",
   "execution_count": 62,
   "metadata": {
    "slideshow": {
     "slide_type": "fragment"
    }
   },
   "outputs": [],
   "source": [
    "# len(under_5_years)"
   ]
  },
  {
   "cell_type": "markdown",
   "metadata": {
    "slideshow": {
     "slide_type": "slide"
    }
   },
   "source": [
    "## Sci Kit Learn TF-IDF\n",
    "- Identifying comments that fit within topics\n",
    "- Identifying similar comments"
   ]
  },
  {
   "cell_type": "code",
   "execution_count": 63,
   "metadata": {
    "slideshow": {
     "slide_type": "skip"
    }
   },
   "outputs": [],
   "source": [
    "from sklearn.feature_extraction.text import TfidfVectorizer\n",
    "from sklearn.decomposition import NMF\n",
    "from sklearn.preprocessing import normalize\n",
    "from sklearn.pipeline import make_pipeline"
   ]
  },
  {
   "cell_type": "code",
   "execution_count": 64,
   "metadata": {
    "slideshow": {
     "slide_type": "skip"
    }
   },
   "outputs": [],
   "source": [
    "tfidf = TfidfVectorizer(stop_words=stopwords.words('english'), max_df = 0.80)"
   ]
  },
  {
   "cell_type": "code",
   "execution_count": 65,
   "metadata": {
    "slideshow": {
     "slide_type": "skip"
    }
   },
   "outputs": [
    {
     "name": "stderr",
     "output_type": "stream",
     "text": [
      "C:\\Users\\ca20593\\AppData\\Local\\Continuum\\anaconda3\\lib\\site-packages\\numpy\\matrixlib\\defmatrix.py:71: PendingDeprecationWarning: the matrix subclass is not the recommended way to represent matrices or deal with linear algebra (see https://docs.scipy.org/doc/numpy/user/numpy-for-matlab-users.html). Please adjust your code to use regular ndarray.\n",
      "  return matrix(data, dtype=dtype, copy=False)\n"
     ]
    }
   ],
   "source": [
    "responses = tfidf.fit_transform(open_ended_answers)"
   ]
  },
  {
   "cell_type": "code",
   "execution_count": 66,
   "metadata": {
    "slideshow": {
     "slide_type": "skip"
    }
   },
   "outputs": [],
   "source": [
    "words = tfidf.get_feature_names()"
   ]
  },
  {
   "cell_type": "code",
   "execution_count": 67,
   "metadata": {
    "slideshow": {
     "slide_type": "skip"
    }
   },
   "outputs": [],
   "source": [
    "model = NMF(n_components=6)"
   ]
  },
  {
   "cell_type": "code",
   "execution_count": 68,
   "metadata": {
    "slideshow": {
     "slide_type": "skip"
    }
   },
   "outputs": [
    {
     "data": {
      "text/plain": [
       "NMF(alpha=0.0, beta_loss='frobenius', init=None, l1_ratio=0.0, max_iter=200,\n",
       "  n_components=6, random_state=None, shuffle=False, solver='cd',\n",
       "  tol=0.0001, verbose=0)"
      ]
     },
     "execution_count": 68,
     "metadata": {},
     "output_type": "execute_result"
    }
   ],
   "source": [
    "model.fit(responses)"
   ]
  },
  {
   "cell_type": "code",
   "execution_count": 69,
   "metadata": {
    "slideshow": {
     "slide_type": "skip"
    }
   },
   "outputs": [],
   "source": [
    "nmf_features = model.transform(responses)"
   ]
  },
  {
   "cell_type": "code",
   "execution_count": 70,
   "metadata": {
    "slideshow": {
     "slide_type": "skip"
    }
   },
   "outputs": [],
   "source": [
    "df_features = pd.DataFrame(nmf_features)"
   ]
  },
  {
   "cell_type": "code",
   "execution_count": 71,
   "metadata": {
    "slideshow": {
     "slide_type": "skip"
    }
   },
   "outputs": [],
   "source": [
    "components_df = pd.DataFrame(model.components_, columns = words)"
   ]
  },
  {
   "cell_type": "code",
   "execution_count": 72,
   "metadata": {
    "slideshow": {
     "slide_type": "skip"
    }
   },
   "outputs": [
    {
     "name": "stdout",
     "output_type": "stream",
     "text": [
      "time             2.327314\n",
      "planning         1.118919\n",
      "much             0.428145\n",
      "day              0.341180\n",
      "meetings         0.339767\n",
      "away             0.321933\n",
      "spent            0.301230\n",
      "instructional    0.298469\n",
      "plan             0.297347\n",
      "spend            0.290958\n",
      "Name: 2, dtype: float64\n"
     ]
    }
   ],
   "source": [
    "# View top words associated with Topic 2\n",
    "component = components_df.iloc[2,:]\n",
    "print(component.nlargest(10))"
   ]
  },
  {
   "cell_type": "code",
   "execution_count": 73,
   "metadata": {
    "slideshow": {
     "slide_type": "skip"
    }
   },
   "outputs": [],
   "source": [
    "norm_features = normalize(nmf_features)"
   ]
  },
  {
   "cell_type": "code",
   "execution_count": 74,
   "metadata": {
    "slideshow": {
     "slide_type": "skip"
    }
   },
   "outputs": [],
   "source": [
    "norm_df = pd.DataFrame(norm_features)"
   ]
  },
  {
   "cell_type": "code",
   "execution_count": 75,
   "metadata": {
    "slideshow": {
     "slide_type": "skip"
    }
   },
   "outputs": [],
   "source": [
    "rand_response = norm_df.iloc[8000]"
   ]
  },
  {
   "cell_type": "code",
   "execution_count": 76,
   "metadata": {
    "slideshow": {
     "slide_type": "skip"
    }
   },
   "outputs": [],
   "source": [
    "similarities = norm_df.dot(rand_response)"
   ]
  },
  {
   "cell_type": "code",
   "execution_count": 77,
   "metadata": {
    "slideshow": {
     "slide_type": "skip"
    }
   },
   "outputs": [],
   "source": [
    "def find_similar_responses(initial_ind,  answer_list, num_similar = 10, num_topics = 6):\n",
    "    tfidf = TfidfVectorizer(stop_words=stopwords.words('english'), max_df = 0.80)\n",
    "    responses = tfidf.fit_transform(answer_list)\n",
    "    model = NMF(n_components=num_topics)\n",
    "    nmf_features = model.fit_transform(responses)\n",
    "    norm_features = normalize(nmf_features)\n",
    "    normalized_df = pd.DataFrame(norm_features)\n",
    "    response = normalized_df.iloc[initial_ind]\n",
    "    similar = normalized_df.dot(response)\n",
    "    similar_ind_list = similar.sort_values(ascending = False).index.tolist()[0:num_similar+1]\n",
    "    return [answer_list[ind] for ind in similar_ind_list]"
   ]
  },
  {
   "cell_type": "code",
   "execution_count": 78,
   "metadata": {
    "slideshow": {
     "slide_type": "subslide"
    }
   },
   "outputs": [
    {
     "name": "stderr",
     "output_type": "stream",
     "text": [
      "C:\\Users\\ca20593\\AppData\\Local\\Continuum\\anaconda3\\lib\\site-packages\\numpy\\matrixlib\\defmatrix.py:71: PendingDeprecationWarning: the matrix subclass is not the recommended way to represent matrices or deal with linear algebra (see https://docs.scipy.org/doc/numpy/user/numpy-for-matlab-users.html). Please adjust your code to use regular ndarray.\n",
      "  return matrix(data, dtype=dtype, copy=False)\n"
     ]
    },
    {
     "data": {
      "text/plain": [
       "['Give TCAP test in all grades. Give pre- and post in k. Give post in every other grade. This would give a more accurate growth score for all teachers. If growth scores are important then give teachers their OWN SCORES. Giving teachers growth from other grade levels cannot be accurate. Growth scores count 35%of teacher evaluation.If teachers have their  own scores they will work harder and smarter. Portfolios cannot be accurate for growth scores.',\n",
       " 'I feel that my responses to teacher evaluation questions may be a mixed mess.  I could not always tell when the questions were asking about in class observations or overall evaluation that include test scores. The question about burden of evaluation, I marked a 5 until I read the next question.  I then thought it was in reference to classroom observation.  I encourage in class observations.  I want administrators to visit and see that I am teaching and students are learning.  I want visible proof that I am more than that test score at the end of the year.  If the question is about overall evaluation the numbers are too low.  Knowing that my worth is dependent on the score on 1 day of a child is almost more than most teachers can handle.',\n",
       " 'The portfolio system that is being forced on kindergarten teachers is very stressful and unnecessary.  I would rather give my students a test.',\n",
       " 'A teachers evaluation score should not be based on one test.',\n",
       " \"Evaluation process is inadequate. It is impossible to evaluate a teacher given two or three 'snapshots' during the year. Additionally, spending the money we do on testing for the sole reason to evaluate teachers is a waste of taxpayer dollars. And is also an inadequate way of evaluating teachers. I have known teachers who have scored 1, 3, and 5 the same year when they taught three different grade levels. I doubt very seriously they were teaching differently.\",\n",
       " \"I do not feel like the TNReady test should reflect in a teacher's evaluation score. Due to the many factors that are out of a teacher's control, such as, absenteeism, home life, and lack of prior knowledge of basic vocabulary.\"]"
      ]
     },
     "execution_count": 78,
     "metadata": {},
     "output_type": "execute_result"
    }
   ],
   "source": [
    "# Find 5 responses similar to the 2nd comment\n",
    "# 2nd comment displayed 1st and the similar comments follow\n",
    "find_similar_responses(1, open_ended_answers, num_similar = 5)"
   ]
  },
  {
   "cell_type": "code",
   "execution_count": 79,
   "metadata": {
    "slideshow": {
     "slide_type": "skip"
    }
   },
   "outputs": [],
   "source": [
    "def show_topic_words(text_list, num_topics, num_words = 10):\n",
    "    tfidf = TfidfVectorizer(stop_words=stopwords.words('english'), max_df = 0.80, ngram_range = (1,1))\n",
    "    responses = tfidf.fit_transform(text_list)\n",
    "    words = tfidf.get_feature_names()\n",
    "    model = NMF(n_components=num_topics)\n",
    "    nmf_features = model.fit_transform(responses)\n",
    "    norm_features = normalize(nmf_features)\n",
    "    components_df = pd.DataFrame(model.components_, columns = words)\n",
    "    for i in range(num_topics):\n",
    "        component = components_df.iloc[i,:]\n",
    "        print(component.nlargest(num_words))\n",
    "        print('\\n')\n",
    "    normalized_df = pd.DataFrame(norm_features)\n",
    "    return normalized_df"
   ]
  },
  {
   "cell_type": "code",
   "execution_count": 80,
   "metadata": {
    "slideshow": {
     "slide_type": "subslide"
    }
   },
   "outputs": [
    {
     "name": "stderr",
     "output_type": "stream",
     "text": [
      "C:\\Users\\ca20593\\AppData\\Local\\Continuum\\anaconda3\\lib\\site-packages\\numpy\\matrixlib\\defmatrix.py:71: PendingDeprecationWarning: the matrix subclass is not the recommended way to represent matrices or deal with linear algebra (see https://docs.scipy.org/doc/numpy/user/numpy-for-matlab-users.html). Please adjust your code to use regular ndarray.\n",
      "  return matrix(data, dtype=dtype, copy=False)\n"
     ]
    },
    {
     "name": "stdout",
     "output_type": "stream",
     "text": [
      "students     2.054755\n",
      "teachers     1.663331\n",
      "need         0.961915\n",
      "education    0.909158\n",
      "needs        0.625813\n",
      "classroom    0.529349\n",
      "special      0.506470\n",
      "student      0.436887\n",
      "parents      0.419681\n",
      "many         0.404854\n",
      "Name: 0, dtype: float64\n",
      "\n",
      "\n",
      "testing         1.861733\n",
      "test            1.160611\n",
      "much            0.804786\n",
      "state           0.672091\n",
      "tests           0.588009\n",
      "students        0.532840\n",
      "standardized    0.479881\n",
      "scores          0.378113\n",
      "emphasis        0.308756\n",
      "act             0.298715\n",
      "Name: 1, dtype: float64\n",
      "\n",
      "\n",
      "time             2.328304\n",
      "planning         1.119396\n",
      "much             0.428328\n",
      "day              0.341325\n",
      "meetings         0.339912\n",
      "away             0.322069\n",
      "spent            0.301357\n",
      "instructional    0.298595\n",
      "plan             0.297473\n",
      "spend            0.291081\n",
      "Name: 2, dtype: float64\n",
      "\n",
      "\n",
      "standards      1.787842\n",
      "grade          0.676096\n",
      "teach          0.600625\n",
      "social         0.432568\n",
      "studies        0.418735\n",
      "math           0.411218\n",
      "appropriate    0.381346\n",
      "level          0.364758\n",
      "curriculum     0.364341\n",
      "would          0.314656\n",
      "Name: 3, dtype: float64\n",
      "\n",
      "\n",
      "evaluation      1.056343\n",
      "portfolio       1.025094\n",
      "process         0.792274\n",
      "teacher         0.783904\n",
      "kindergarten    0.609602\n",
      "year            0.608958\n",
      "teachers        0.443521\n",
      "rubric          0.438268\n",
      "system          0.435240\n",
      "scores          0.364615\n",
      "Name: 4, dtype: float64\n",
      "\n",
      "\n",
      "school            2.158562\n",
      "district          0.638994\n",
      "love              0.624241\n",
      "administration    0.528234\n",
      "principal         0.477820\n",
      "would             0.477644\n",
      "work              0.441084\n",
      "feel              0.439899\n",
      "like              0.415815\n",
      "staff             0.414445\n",
      "Name: 5, dtype: float64\n",
      "\n",
      "\n"
     ]
    }
   ],
   "source": [
    "# Loop over 6 topics and display 10 words that fit in each topic\n",
    "norm_df = show_topic_words(open_ended_answers, 6, num_words = 10)"
   ]
  },
  {
   "cell_type": "markdown",
   "metadata": {
    "slideshow": {
     "slide_type": "skip"
    }
   },
   "source": [
    "## Select answers from specific topics"
   ]
  },
  {
   "cell_type": "code",
   "execution_count": 81,
   "metadata": {
    "slideshow": {
     "slide_type": "skip"
    }
   },
   "outputs": [],
   "source": [
    "def answers_from_topic(answer_list,normalized_df, topic_num, answer_count = 10, topic_prop = 1):\n",
    "    df_topics = normalized_df.loc[normalized_df.max(axis = 1) < topic_prop]\n",
    "    topic_list = df_topics.sort_values(by = topic_num, ascending = False).index.tolist()[:answer_count]\n",
    "    return [answer_list[i] for i in topic_list]"
   ]
  },
  {
   "cell_type": "code",
   "execution_count": 82,
   "metadata": {
    "slideshow": {
     "slide_type": "fragment"
    }
   },
   "outputs": [
    {
     "data": {
      "text/plain": [
       "['There are too many standards for the courses I teach, I cannot possibly meant them all.',\n",
       " 'Standards are not age/grade appropriate!  Developmentally, our students are not ready to perform the tasks they are being asked to perform.',\n",
       " 'The social studies standards are a bit crazy for 7th grade. Way too deep for 12 year olds.',\n",
       " 'I feel some standards and expectations are not age appropriate.',\n",
       " \"I believe that certain standards are not developmentally appropriate for the ages of the students based on brain research. Perhaps putting a psychologist on the board when choosing standards would be a good practice. For instance, 4th grade math standards focus heavily on fractions - which are abstract (especially in numerical form i.e.3/4)- however, the abstract thinking does not develop in children until they are around 11 years old. 4th graders are nine and ten years old. How do we expect them to master material that their brains are not truly capable of grasping yet?   I feel we are continuing to push standards down the grade levels and I'm not sure it is beneficial to them to try to learn certain concepts before they are ready.\",\n",
       " '3rd grade social studies standards are challenging--to learn the entire world--physical locations, culture, ecosystems...it is difficult to cover that in the depth that is required in the standards. Also, more practice with primary sources is needed, however, actually reading primary sources is difficult for my 3rd-5th grade readers since the sources are written by adults at a much higher level.',\n",
       " 'I believe that the Social Studies content in 7th grade is to complicated for 12 year old to understand.  Most adults have trouble understanding the in depth concepts related to the standards let alone young teenagers.',\n",
       " 'The changing of standards, the way the standards are written, and the lack of resources given to teachers to teach the standards are unacceptable. If you want teachers to do a great job, give them standards that are written clearly so they can understand them without dissecting them, examples of the standards, and resources to teach them with.',\n",
       " 'I think we should start calling our standards common core standards (because they are) and quit pretending that they are not.  This would allow us to so many more resources that are used nation wide.',\n",
       " 'More retention in the lower grades!! More parent/student accountability. Standards should be more age appropriate!!']"
      ]
     },
     "execution_count": 82,
     "metadata": {},
     "output_type": "execute_result"
    }
   ],
   "source": [
    "# Selecting top 10 scoring comments from the 3rd topic\n",
    "answers_from_topic(open_ended_answers, norm_df, topic_num = 3, answer_count = 10, topic_prop = 1)"
   ]
  },
  {
   "cell_type": "code",
   "execution_count": 83,
   "metadata": {
    "slideshow": {
     "slide_type": "skip"
    }
   },
   "outputs": [],
   "source": [
    "topic_list = norm_df.sort_values(by = 0, ascending = False).index.tolist()[:10]"
   ]
  },
  {
   "cell_type": "code",
   "execution_count": 84,
   "metadata": {
    "slideshow": {
     "slide_type": "skip"
    }
   },
   "outputs": [
    {
     "data": {
      "text/plain": [
       "['Refocus ... parents and their offspring are 90% of the problem in the educational setting of today.',\n",
       " 'If there is a shift in policy regarding the restraining of students by teachers this should be announced to faculties.',\n",
       " 'Special Education should be addressed in this survey separately.',\n",
       " 'Students need to be more responsible for their behavior.',\n",
       " 'I believe we need to revamp our Special Ed classes and our discipline issues.',\n",
       " \"I'm not sure current inclusion practices of including certain special education and ELL students benefit anyone, especially the students.  Vocational classes need to be increased since not everyone will be attending college.\",\n",
       " 'I think Tennessee is beginning to move in the right direction by raising the expectations for all students.  I am concerned about Special Education students only having two paths  1) regular ed diploma 2) special ed diploma.  Many of our sped students need a third option that falls in between.',\n",
       " 'Students need to be held more accountable for learning.  Teachers are being held more accountable so everyone else does too.',\n",
       " 'Teachers need to be trusted more for their professional judgements of what is best for the students in their classroom. Effective teachers know whats best for their students, and if they do not...EFFECTIVE teachers will reach out to other sources.',\n",
       " 'Disruptive behavior is a major problem.  Students are not held responsible for their behavior.']"
      ]
     },
     "execution_count": 84,
     "metadata": {},
     "output_type": "execute_result"
    }
   ],
   "source": [
    "# Displaying the top 10 comments that fit within Topic 0\n",
    "# The topic pertains to administrations\n",
    "[open_ended_answers[i] for i in topic_list]"
   ]
  },
  {
   "cell_type": "markdown",
   "metadata": {
    "slideshow": {
     "slide_type": "skip"
    }
   },
   "source": [
    "## Finding comments that don't really fit in any topic"
   ]
  },
  {
   "cell_type": "code",
   "execution_count": 85,
   "metadata": {
    "slideshow": {
     "slide_type": "skip"
    }
   },
   "outputs": [],
   "source": [
    "df_not_great_fit_topics = norm_df.loc[norm_df.max(axis = 1) < 0.52]"
   ]
  },
  {
   "cell_type": "code",
   "execution_count": 86,
   "metadata": {
    "slideshow": {
     "slide_type": "skip"
    }
   },
   "outputs": [
    {
     "data": {
      "text/plain": [
       "(14, 6)"
      ]
     },
     "execution_count": 86,
     "metadata": {},
     "output_type": "execute_result"
    }
   ],
   "source": [
    "df_not_great_fit_topics.shape"
   ]
  },
  {
   "cell_type": "code",
   "execution_count": 87,
   "metadata": {
    "slideshow": {
     "slide_type": "skip"
    }
   },
   "outputs": [],
   "source": [
    "topic_0_list_not_fit = df_not_great_fit_topics.index.tolist()"
   ]
  },
  {
   "cell_type": "code",
   "execution_count": 88,
   "metadata": {
    "slideshow": {
     "slide_type": "skip"
    }
   },
   "outputs": [],
   "source": [
    "# [open_ended_answers[i] for i in topic_0_list_not_fit]"
   ]
  },
  {
   "cell_type": "code",
   "execution_count": 89,
   "metadata": {},
   "outputs": [],
   "source": [
    "# df_open_answered.to_csv('answered_q13_df.csv', index = False)"
   ]
  },
  {
   "cell_type": "code",
   "execution_count": null,
   "metadata": {},
   "outputs": [],
   "source": []
  },
  {
   "cell_type": "markdown",
   "metadata": {},
   "source": [
    "# Sentences per comment"
   ]
  },
  {
   "cell_type": "code",
   "execution_count": 90,
   "metadata": {},
   "outputs": [],
   "source": [
    "from nltk import sent_tokenize\n",
    "from nltk import word_tokenize"
   ]
  },
  {
   "cell_type": "code",
   "execution_count": 91,
   "metadata": {},
   "outputs": [],
   "source": [
    "comment_list = df_selected_columns.loc[df_selected_columns['answered_q13'] == 1, 'Q13'].tolist()"
   ]
  },
  {
   "cell_type": "code",
   "execution_count": 92,
   "metadata": {},
   "outputs": [],
   "source": [
    "comment_sentences = [sent_tokenize(doc) for doc in comment_list]"
   ]
  },
  {
   "cell_type": "code",
   "execution_count": 93,
   "metadata": {},
   "outputs": [],
   "source": [
    "sentence_lengths = [len(sents) for sents in comment_sentences]"
   ]
  },
  {
   "cell_type": "code",
   "execution_count": 94,
   "metadata": {},
   "outputs": [
    {
     "name": "stdout",
     "output_type": "stream",
     "text": [
      "Average number of sentences is: 5.0\n"
     ]
    }
   ],
   "source": [
    "mean_num_sentences = np.mean(sentence_lengths)\n",
    "print('Average number of sentences is: ' + str(round(mean_num_sentences, 1)))"
   ]
  },
  {
   "cell_type": "markdown",
   "metadata": {},
   "source": [
    "# Words per comment"
   ]
  },
  {
   "cell_type": "code",
   "execution_count": 95,
   "metadata": {},
   "outputs": [
    {
     "name": "stdout",
     "output_type": "stream",
     "text": [
      "Average number of words is: 93.4\n"
     ]
    }
   ],
   "source": [
    "comment_words = [word_tokenize(doc) for doc in comment_list]\n",
    "word_lengths = [len(words) for words in comment_words]\n",
    "mean_num_words = np.mean(word_lengths)\n",
    "print('Average number of words is: ' + str(round(mean_num_words, 1)))"
   ]
  },
  {
   "cell_type": "markdown",
   "metadata": {},
   "source": [
    "# Doc2Vec"
   ]
  },
  {
   "cell_type": "code",
   "execution_count": 96,
   "metadata": {},
   "outputs": [],
   "source": [
    "# preprocess documents\n",
    "tokens = [[w for w in word_tokenize(doc.lower()) if w.isalpha()]for doc in open_ended_answers]\n",
    "# tokens = [w for w in word_tokenize(open_ended_answers.lower()) if w.isalpha()]"
   ]
  },
  {
   "cell_type": "code",
   "execution_count": 97,
   "metadata": {},
   "outputs": [],
   "source": [
    "joined_words = [' '.join(doc) for doc in tokens]"
   ]
  },
  {
   "cell_type": "code",
   "execution_count": 98,
   "metadata": {},
   "outputs": [
    {
     "data": {
      "text/plain": [
       "['each year there seems to be more added to the teachers plate making it more difficult to focus on teaching teachers seem to be more stressed than ever before the constant changing of testing and evaluations have certainly contributed to this stress the state testing seems to be unfair in many ways some teachers have never taught a tested subject and have not had the stress that the tested teachers have at the same time their evaluations are determined in part by the success or lack of success of other teachers which is unfair to them some tested subjects are scheduled for a full year allowing sufficient time to cover all of the state standards while other teachers of tested subjects have only a semester to teach a similar set of standards',\n",
       " 'give tcap test in all grades give and post in give post in every other grade this would give a more accurate growth score for all teachers if growth scores are important then give teachers their own scores giving teachers growth from other grade levels can not be accurate growth scores count of teacher teachers have their own scores they will work harder and smarter portfolios can not be accurate for growth scores',\n",
       " 'testing has replaced learning and teaching its stressful to parents students and teachers']"
      ]
     },
     "execution_count": 98,
     "metadata": {},
     "output_type": "execute_result"
    }
   ],
   "source": [
    "joined_words[:3]"
   ]
  },
  {
   "cell_type": "code",
   "execution_count": 99,
   "metadata": {},
   "outputs": [],
   "source": [
    "import multiprocessing\n",
    "from gensim.models.doc2vec import TaggedDocument\n",
    "from tqdm import tqdm\n",
    "tqdm.pandas(desc=\"progress-bar\")"
   ]
  },
  {
   "cell_type": "code",
   "execution_count": 100,
   "metadata": {},
   "outputs": [],
   "source": [
    "tagged_docs = []\n",
    "for ind, doc in enumerate(tokens):\n",
    "    tagged_docs.append(TaggedDocument(words=doc, tags=[ind])) # maybe tag with something other than index"
   ]
  },
  {
   "cell_type": "code",
   "execution_count": 101,
   "metadata": {},
   "outputs": [
    {
     "data": {
      "text/plain": [
       "TaggedDocument(words=['each', 'year', 'there', 'seems', 'to', 'be', 'more', 'added', 'to', 'the', 'teachers', 'plate', 'making', 'it', 'more', 'difficult', 'to', 'focus', 'on', 'teaching', 'teachers', 'seem', 'to', 'be', 'more', 'stressed', 'than', 'ever', 'before', 'the', 'constant', 'changing', 'of', 'testing', 'and', 'evaluations', 'have', 'certainly', 'contributed', 'to', 'this', 'stress', 'the', 'state', 'testing', 'seems', 'to', 'be', 'unfair', 'in', 'many', 'ways', 'some', 'teachers', 'have', 'never', 'taught', 'a', 'tested', 'subject', 'and', 'have', 'not', 'had', 'the', 'stress', 'that', 'the', 'tested', 'teachers', 'have', 'at', 'the', 'same', 'time', 'their', 'evaluations', 'are', 'determined', 'in', 'part', 'by', 'the', 'success', 'or', 'lack', 'of', 'success', 'of', 'other', 'teachers', 'which', 'is', 'unfair', 'to', 'them', 'some', 'tested', 'subjects', 'are', 'scheduled', 'for', 'a', 'full', 'year', 'allowing', 'sufficient', 'time', 'to', 'cover', 'all', 'of', 'the', 'state', 'standards', 'while', 'other', 'teachers', 'of', 'tested', 'subjects', 'have', 'only', 'a', 'semester', 'to', 'teach', 'a', 'similar', 'set', 'of', 'standards'], tags=[0])"
      ]
     },
     "execution_count": 101,
     "metadata": {},
     "output_type": "execute_result"
    }
   ],
   "source": [
    "tagged_docs[0]"
   ]
  },
  {
   "cell_type": "code",
   "execution_count": 102,
   "metadata": {},
   "outputs": [],
   "source": [
    "# MODEL PARAMETERS\n",
    "dm = 1 # 1 for distributed memory(default); 0 for dbow \n",
    "cores = multiprocessing.cpu_count()\n",
    "size = 300\n",
    "context_window = 5\n",
    "seed = 42\n",
    "min_count = 2\n",
    "alpha = 0.5\n",
    "max_iter = 300\n",
    "\n",
    "# BUILD MODEL\n",
    "model = gensim.models.doc2vec.Doc2Vec(documents = tagged_docs,\n",
    "            dm = dm,\n",
    "            alpha = alpha, # initial learning rate\n",
    "            seed = seed,\n",
    "            min_count = min_count, # ignore words with freq less than min_count\n",
    "            max_vocab_size = None, # \n",
    "            window = context_window, # the number of words before and after to be used as context\n",
    "            vector_size  = size, # is the dimensionality of the feature vector\n",
    "            sample = 1e-4, # ?\n",
    "            negative = 5, # ?\n",
    "            workers = cores, # number of cores\n",
    "            epochs = max_iter) # number of iterations (epochs) over the corpus)"
   ]
  },
  {
   "cell_type": "code",
   "execution_count": 103,
   "metadata": {},
   "outputs": [
    {
     "data": {
      "text/plain": [
       "<gensim.models.doc2vec.Doc2Vec at 0x1db1c76a320>"
      ]
     },
     "execution_count": 103,
     "metadata": {},
     "output_type": "execute_result"
    }
   ],
   "source": [
    "model"
   ]
  },
  {
   "cell_type": "code",
   "execution_count": 104,
   "metadata": {},
   "outputs": [],
   "source": [
    "tokens = \"We should get rid of testing\".split()\n",
    "\n",
    "new_vector = model.infer_vector(tokens)\n",
    "sims = model.docvecs.most_similar([new_vector])"
   ]
  },
  {
   "cell_type": "code",
   "execution_count": 105,
   "metadata": {},
   "outputs": [
    {
     "data": {
      "text/plain": [
       "[(929, 0.888460636138916),\n",
       " (228, 0.8727171421051025),\n",
       " (6211, 0.8725711107254028),\n",
       " (361, 0.8675591945648193),\n",
       " (985, 0.8620901703834534),\n",
       " (200, 0.8602924942970276),\n",
       " (181, 0.8596514463424683),\n",
       " (179, 0.8593857884407043),\n",
       " (995, 0.859262228012085),\n",
       " (739, 0.8583775162696838)]"
      ]
     },
     "execution_count": 105,
     "metadata": {},
     "output_type": "execute_result"
    }
   ],
   "source": [
    "sims"
   ]
  },
  {
   "cell_type": "code",
   "execution_count": 106,
   "metadata": {},
   "outputs": [
    {
     "data": {
      "text/plain": [
       "\"I can't understand why principals would want to evaluate teachers harshly, as it lowers morale. It is deliberate here. The scores given to my entire PLC team are ridiculously low.\""
      ]
     },
     "execution_count": 106,
     "metadata": {},
     "output_type": "execute_result"
    }
   ],
   "source": [
    "open_ended_answers[11222]"
   ]
  },
  {
   "cell_type": "code",
   "execution_count": 107,
   "metadata": {},
   "outputs": [],
   "source": [
    "from gensim.models.doc2vec import Doc2Vec, TaggedDocument"
   ]
  },
  {
   "cell_type": "code",
   "execution_count": 108,
   "metadata": {},
   "outputs": [
    {
     "name": "stdout",
     "output_type": "stream",
     "text": [
      "iteration 0\n",
      "iteration 1\n",
      "iteration 2\n",
      "iteration 3\n",
      "iteration 4\n",
      "iteration 5\n",
      "iteration 6\n",
      "iteration 7\n",
      "iteration 8\n",
      "iteration 9\n",
      "iteration 10\n",
      "iteration 11\n",
      "iteration 12\n",
      "iteration 13\n",
      "iteration 14\n",
      "iteration 15\n",
      "iteration 16\n",
      "iteration 17\n",
      "iteration 18\n",
      "iteration 19\n",
      "iteration 20\n",
      "iteration 21\n",
      "iteration 22\n",
      "iteration 23\n",
      "iteration 24\n",
      "iteration 25\n",
      "iteration 26\n",
      "iteration 27\n",
      "iteration 28\n",
      "iteration 29\n",
      "iteration 30\n",
      "iteration 31\n",
      "iteration 32\n",
      "iteration 33\n",
      "iteration 34\n",
      "iteration 35\n",
      "iteration 36\n",
      "iteration 37\n",
      "iteration 38\n",
      "iteration 39\n",
      "iteration 40\n",
      "iteration 41\n",
      "iteration 42\n",
      "iteration 43\n",
      "iteration 44\n",
      "iteration 45\n",
      "iteration 46\n",
      "iteration 47\n",
      "iteration 48\n",
      "iteration 49\n",
      "iteration 50\n",
      "iteration 51\n",
      "iteration 52\n",
      "iteration 53\n",
      "iteration 54\n",
      "iteration 55\n",
      "iteration 56\n",
      "iteration 57\n",
      "iteration 58\n",
      "iteration 59\n",
      "iteration 60\n",
      "iteration 61\n",
      "iteration 62\n",
      "iteration 63\n",
      "iteration 64\n",
      "iteration 65\n",
      "iteration 66\n",
      "iteration 67\n",
      "iteration 68\n",
      "iteration 69\n",
      "iteration 70\n",
      "iteration 71\n",
      "iteration 72\n",
      "iteration 73\n",
      "iteration 74\n",
      "iteration 75\n",
      "iteration 76\n",
      "iteration 77\n",
      "iteration 78\n",
      "iteration 79\n",
      "iteration 80\n",
      "iteration 81\n",
      "iteration 82\n",
      "iteration 83\n",
      "iteration 84\n",
      "iteration 85\n",
      "iteration 86\n",
      "iteration 87\n",
      "iteration 88\n",
      "iteration 89\n",
      "iteration 90\n",
      "iteration 91\n",
      "iteration 92\n",
      "iteration 93\n",
      "iteration 94\n",
      "iteration 95\n",
      "iteration 96\n",
      "iteration 97\n",
      "iteration 98\n",
      "iteration 99\n",
      "iteration 100\n",
      "iteration 101\n",
      "iteration 102\n",
      "iteration 103\n",
      "iteration 104\n",
      "iteration 105\n",
      "iteration 106\n",
      "iteration 107\n",
      "iteration 108\n",
      "iteration 109\n",
      "iteration 110\n",
      "iteration 111\n",
      "iteration 112\n",
      "iteration 113\n",
      "iteration 114\n",
      "iteration 115\n",
      "iteration 116\n",
      "iteration 117\n",
      "iteration 118\n",
      "iteration 119\n",
      "iteration 120\n",
      "iteration 121\n",
      "iteration 122\n",
      "iteration 123\n",
      "iteration 124\n",
      "iteration 125\n",
      "iteration 126\n",
      "iteration 127\n",
      "iteration 128\n",
      "iteration 129\n",
      "iteration 130\n",
      "iteration 131\n",
      "iteration 132\n",
      "iteration 133\n",
      "iteration 134\n",
      "iteration 135\n",
      "iteration 136\n",
      "iteration 137\n",
      "iteration 138\n",
      "iteration 139\n",
      "iteration 140\n",
      "iteration 141\n",
      "iteration 142\n",
      "iteration 143\n",
      "iteration 144\n",
      "iteration 145\n",
      "iteration 146\n",
      "iteration 147\n",
      "iteration 148\n",
      "iteration 149\n",
      "iteration 150\n",
      "iteration 151\n",
      "iteration 152\n",
      "iteration 153\n",
      "iteration 154\n",
      "iteration 155\n",
      "iteration 156\n",
      "iteration 157\n",
      "iteration 158\n",
      "iteration 159\n",
      "iteration 160\n",
      "iteration 161\n",
      "iteration 162\n",
      "iteration 163\n",
      "iteration 164\n",
      "iteration 165\n",
      "iteration 166\n",
      "iteration 167\n",
      "iteration 168\n",
      "iteration 169\n",
      "iteration 170\n",
      "iteration 171\n",
      "iteration 172\n",
      "iteration 173\n",
      "iteration 174\n",
      "iteration 175\n",
      "iteration 176\n",
      "iteration 177\n",
      "iteration 178\n",
      "iteration 179\n",
      "iteration 180\n",
      "iteration 181\n",
      "iteration 182\n",
      "iteration 183\n",
      "iteration 184\n",
      "iteration 185\n",
      "iteration 186\n",
      "iteration 187\n",
      "iteration 188\n",
      "iteration 189\n",
      "iteration 190\n",
      "iteration 191\n",
      "iteration 192\n",
      "iteration 193\n",
      "iteration 194\n",
      "iteration 195\n",
      "iteration 196\n",
      "iteration 197\n",
      "iteration 198\n",
      "iteration 199\n",
      "Model Saved\n"
     ]
    }
   ],
   "source": [
    "max_epochs = 200\n",
    "vec_size = 200\n",
    "alpha = 0.025\n",
    "context_window = 5\n",
    "\n",
    "model_second = Doc2Vec(vector_size=vec_size,\n",
    "                alpha=alpha, \n",
    "                min_alpha=0.00025,\n",
    "                min_count=1,\n",
    "                window = context_window,\n",
    "                dm =1)\n",
    "  \n",
    "model_second.build_vocab(tagged_docs)\n",
    "\n",
    "for epoch in range(max_epochs):\n",
    "    print('iteration {0}'.format(epoch))\n",
    "    model_second.train(tagged_docs,\n",
    "                total_examples=model_second.corpus_count,\n",
    "                epochs=model_second.epochs)\n",
    "    # decrease the learning rate\n",
    "    model_second.alpha -= 0.0002\n",
    "    # fix the learning rate, no decay\n",
    "    model_second.min_alpha = model_second.alpha\n",
    "\n",
    "model_second.save(\"d2v.model\")\n",
    "print(\"Model Saved\")"
   ]
  },
  {
   "cell_type": "code",
   "execution_count": 109,
   "metadata": {},
   "outputs": [
    {
     "name": "stdout",
     "output_type": "stream",
     "text": [
      "[(147, 0.2533511817455292), (8652, 0.24888917803764343), (474, 0.24177655577659607), (9264, 0.23708763718605042), (9846, 0.23597180843353271), (928, 0.22195492684841156), (9910, 0.2136824131011963), (6200, 0.21243619918823242), (1357, 0.21210244297981262), (6416, 0.212054044008255), (865, 0.21073436737060547), (602, 0.20984260737895966), (1800, 0.20848536491394043), (6317, 0.20803843438625336), (10408, 0.20052212476730347), (5750, 0.19988302886486053), (3322, 0.19982874393463135), (5488, 0.19917449355125427), (9391, 0.198654443025589), (2476, 0.1975233256816864)]\n"
     ]
    }
   ],
   "source": [
    "model= Doc2Vec.load(\"d2v.model\")\n",
    "#to find the vector of a document which is not in training data\n",
    "test_data = word_tokenize(\"We should get rid of testing\".lower())\n",
    "v1 = model.infer_vector(test_data)\n",
    "#print(\"V1_infer\", v1)\n",
    "\n",
    "# to find most similar doc using tags\n",
    "similar_doc = model.docvecs.most_similar([v1], topn=20)\n",
    "print(similar_doc)\n",
    "\n",
    "\n",
    "# to find vector of doc in training data using tags or in other words, printing the vector of document at index 1 in training data\n",
    "# print(model.docvecs['1'])"
   ]
  },
  {
   "cell_type": "code",
   "execution_count": 110,
   "metadata": {},
   "outputs": [
    {
     "data": {
      "text/plain": [
       "'I am in a 619 Preschool and the amount of SPED paperwork and the changes the state is constantly making on paperwork makes it very hard to teach children, plan and do all the required paperwork.'"
      ]
     },
     "execution_count": 110,
     "metadata": {},
     "output_type": "execute_result"
    }
   ],
   "source": [
    "open_ended_answers[6192]"
   ]
  },
  {
   "cell_type": "markdown",
   "metadata": {},
   "source": [
    "## Spacy NER"
   ]
  },
  {
   "cell_type": "code",
   "execution_count": 111,
   "metadata": {},
   "outputs": [
    {
     "name": "stderr",
     "output_type": "stream",
     "text": [
      "C:\\Users\\ca20593\\AppData\\Local\\Continuum\\anaconda3\\lib\\importlib\\_bootstrap.py:219: ImportWarning: can't resolve package from __spec__ or __package__, falling back on __name__ and __path__\n",
      "  return f(*args, **kwds)\n",
      "C:\\Users\\ca20593\\AppData\\Local\\Continuum\\anaconda3\\lib\\site-packages\\thinc\\neural\\train.py:3: DeprecationWarning: Using or importing the ABCs from 'collections' instead of from 'collections.abc' is deprecated, and in 3.8 it will stop working\n",
      "  from .optimizers import Adam, SGD, linear_decay\n",
      "C:\\Users\\ca20593\\AppData\\Local\\Continuum\\anaconda3\\lib\\site-packages\\thinc\\check.py:1: DeprecationWarning: Using or importing the ABCs from 'collections' instead of from 'collections.abc' is deprecated, and in 3.8 it will stop working\n",
      "  from collections import defaultdict, Sequence, Sized, Iterable, Callable\n"
     ]
    }
   ],
   "source": [
    "import spacy\n",
    "from spacy import displacy\n",
    "import en_core_web_sm\n",
    "import collections\n",
    "import en_core_web_lg\n",
    "nlp = en_core_web_lg.load()"
   ]
  },
  {
   "cell_type": "code",
   "execution_count": 112,
   "metadata": {},
   "outputs": [],
   "source": [
    "docs = [nlp(doc) for doc in open_ended_answers]"
   ]
  },
  {
   "cell_type": "code",
   "execution_count": 113,
   "metadata": {},
   "outputs": [
    {
     "data": {
      "text/plain": [
       "[58, Standard A]"
      ]
     },
     "execution_count": 113,
     "metadata": {},
     "output_type": "execute_result"
    }
   ],
   "source": [
    "list(docs[4].ents)"
   ]
  },
  {
   "cell_type": "code",
   "execution_count": 114,
   "metadata": {},
   "outputs": [],
   "source": [
    "entities = [str(ent).lower() for doc in docs for ent in list(doc.ents) ]\n",
    "ent_labels = [ent.label_ for doc in docs for ent in list(doc.ents) ]"
   ]
  },
  {
   "cell_type": "code",
   "execution_count": 115,
   "metadata": {},
   "outputs": [
    {
     "data": {
      "text/plain": [
       "[('one', 1180),\n",
       " ('  ', 774),\n",
       " ('this year', 728),\n",
       " ('rti', 714),\n",
       " ('tennessee', 539),\n",
       " ('act', 455),\n",
       " ('first', 421),\n",
       " ('tn', 399),\n",
       " ('eoc', 369),\n",
       " ('two', 364),\n",
       " ('5', 361),\n",
       " ('3', 332),\n",
       " ('daily', 327),\n",
       " ('1', 317),\n",
       " ('2', 313),\n",
       " ('ela', 272),\n",
       " ('pd', 255),\n",
       " ('4', 242),\n",
       " ('the year', 229),\n",
       " ('tnready', 224),\n",
       " ('the school year', 202),\n",
       " ('each year', 191),\n",
       " ('the day', 189),\n",
       " ('today', 181),\n",
       " ('english', 181),\n",
       " ('every year', 180),\n",
       " ('tcap', 177),\n",
       " ('hours', 170),\n",
       " ('kindergarten', 170),\n",
       " ('state', 158)]"
      ]
     },
     "execution_count": 115,
     "metadata": {},
     "output_type": "execute_result"
    }
   ],
   "source": [
    "collections.Counter(entities).most_common(30)"
   ]
  },
  {
   "cell_type": "code",
   "execution_count": 116,
   "metadata": {},
   "outputs": [
    {
     "data": {
      "text/plain": [
       "Counter({'DATE': 9912,\n",
       "         'ORG': 7827,\n",
       "         'PERSON': 906,\n",
       "         'CARDINAL': 4982,\n",
       "         'GPE': 1852,\n",
       "         'ORDINAL': 1546,\n",
       "         'NORP': 165,\n",
       "         'TIME': 1548,\n",
       "         'PERCENT': 408,\n",
       "         'WORK_OF_ART': 158,\n",
       "         'MONEY': 159,\n",
       "         'EVENT': 43,\n",
       "         'FAC': 90,\n",
       "         'PRODUCT': 154,\n",
       "         'LANGUAGE': 181,\n",
       "         'LAW': 147,\n",
       "         'LOC': 84,\n",
       "         'QUANTITY': 152})"
      ]
     },
     "execution_count": 116,
     "metadata": {},
     "output_type": "execute_result"
    }
   ],
   "source": [
    "collections.Counter(ent_labels)"
   ]
  },
  {
   "cell_type": "markdown",
   "metadata": {},
   "source": [
    "# Sci-kit Learn LDA"
   ]
  },
  {
   "cell_type": "code",
   "execution_count": 117,
   "metadata": {},
   "outputs": [],
   "source": [
    "\n",
    "from sklearn.feature_extraction.text import TfidfVectorizer, CountVectorizer\n",
    "from sklearn.decomposition import NMF, LatentDirichletAllocation"
   ]
  },
  {
   "cell_type": "code",
   "execution_count": 118,
   "metadata": {},
   "outputs": [],
   "source": [
    "from nltk import word_tokenize          \n",
    "from nltk.stem import WordNetLemmatizer \n",
    "class LemmaTokenizer(object):\n",
    "    def __init__(self):\n",
    "        self.wnl = WordNetLemmatizer()\n",
    "    def __call__(self, articles):\n",
    "        return [self.wnl.lemmatize(t) for t in word_tokenize(articles) if t.isalpha() and t not in stop_words]"
   ]
  },
  {
   "cell_type": "code",
   "execution_count": null,
   "metadata": {},
   "outputs": [],
   "source": []
  },
  {
   "cell_type": "code",
   "execution_count": 119,
   "metadata": {},
   "outputs": [
    {
     "name": "stderr",
     "output_type": "stream",
     "text": [
      "C:\\Users\\ca20593\\AppData\\Local\\Continuum\\anaconda3\\lib\\site-packages\\numpy\\matrixlib\\defmatrix.py:71: PendingDeprecationWarning: the matrix subclass is not the recommended way to represent matrices or deal with linear algebra (see https://docs.scipy.org/doc/numpy/user/numpy-for-matlab-users.html). Please adjust your code to use regular ndarray.\n",
      "  return matrix(data, dtype=dtype, copy=False)\n"
     ]
    }
   ],
   "source": [
    "no_features = 400\n",
    "# LDA can only use raw term counts for LDA because it is a probabilistic graphical model\n",
    "tf_vectorizer = CountVectorizer(tokenizer=LemmaTokenizer(), max_df=0.85, min_df=2, max_features=no_features, ngram_range=(1, 3))\n",
    "tf = tf_vectorizer.fit_transform(open_ended_answers)\n",
    "tf_feature_names = tf_vectorizer.get_feature_names()"
   ]
  },
  {
   "cell_type": "code",
   "execution_count": 133,
   "metadata": {},
   "outputs": [],
   "source": [
    "no_topics = 8\n",
    "# Run LDA\n",
    "lda = LatentDirichletAllocation(n_components=no_topics, max_iter=5, learning_method='online', \n",
    "                                learning_offset=50.,random_state=0).fit(tf)"
   ]
  },
  {
   "cell_type": "code",
   "execution_count": 134,
   "metadata": {},
   "outputs": [],
   "source": [
    "from pyLDAvis import sklearn as sklearn_lda\n",
    "import pickle \n",
    "import pyLDAvis\n"
   ]
  },
  {
   "cell_type": "code",
   "execution_count": 135,
   "metadata": {},
   "outputs": [
    {
     "name": "stderr",
     "output_type": "stream",
     "text": [
      "C:\\Users\\ca20593\\AppData\\Local\\Continuum\\anaconda3\\lib\\site-packages\\pyLDAvis\\_prepare.py:257: FutureWarning: Sorting because non-concatenation axis is not aligned. A future version\n",
      "of pandas will change to not sort by default.\n",
      "\n",
      "To accept the future behavior, pass 'sort=False'.\n",
      "\n",
      "To retain the current behavior and silence the warning, pass 'sort=True'.\n",
      "\n",
      "  return pd.concat([default_term_info] + list(topic_dfs))\n",
      "C:\\Users\\ca20593\\AppData\\Local\\Continuum\\anaconda3\\lib\\site-packages\\numpy\\matrixlib\\defmatrix.py:71: PendingDeprecationWarning: the matrix subclass is not the recommended way to represent matrices or deal with linear algebra (see https://docs.scipy.org/doc/numpy/user/numpy-for-matlab-users.html). Please adjust your code to use regular ndarray.\n",
      "  return matrix(data, dtype=dtype, copy=False)\n"
     ]
    },
    {
     "data": {
      "text/html": [
       "\n",
       "<link rel=\"stylesheet\" type=\"text/css\" href=\"https://cdn.rawgit.com/bmabey/pyLDAvis/files/ldavis.v1.0.0.css\">\n",
       "\n",
       "\n",
       "<div id=\"ldavis_el1489620461646446323733502186\"></div>\n",
       "<script type=\"text/javascript\">\n",
       "\n",
       "var ldavis_el1489620461646446323733502186_data = {\"mdsDat\": {\"x\": [-23.827280044555664, -29.342321395874023, -11.280609130859375, 66.64949035644531, 72.10250091552734, -90.89246368408203, 133.86363220214844, 54.392189025878906], \"y\": [75.02722930908203, -102.42548370361328, -21.3011474609375, -79.29329681396484, 98.36566925048828, 2.561729907989502, -6.978845119476318, 17.205108642578125], \"topics\": [1, 2, 3, 4, 5, 6, 7, 8], \"cluster\": [1, 1, 1, 1, 1, 1, 1, 1], \"Freq\": [16.567901834525017, 15.555563151486798, 14.01928032161304, 14.005560971025698, 10.71664350082503, 10.122352311495243, 9.973453573426074, 9.039244335603108]}, \"tinfo\": {\"Category\": [\"Default\", \"Default\", \"Default\", \"Default\", \"Default\", \"Default\", \"Default\", \"Default\", \"Default\", \"Default\", \"Default\", \"Default\", \"Default\", \"Default\", \"Default\", \"Default\", \"Default\", \"Default\", \"Default\", \"Default\", \"Default\", \"Default\", \"Default\", \"Default\", \"Default\", \"Default\", \"Default\", \"Default\", \"Default\", \"Default\", \"Topic1\", \"Topic1\", \"Topic1\", \"Topic1\", \"Topic1\", \"Topic1\", \"Topic1\", \"Topic1\", \"Topic1\", \"Topic1\", \"Topic1\", \"Topic1\", \"Topic1\", \"Topic1\", \"Topic1\", \"Topic1\", \"Topic1\", \"Topic1\", \"Topic1\", \"Topic1\", \"Topic1\", \"Topic1\", \"Topic1\", \"Topic1\", \"Topic1\", \"Topic1\", \"Topic1\", \"Topic1\", \"Topic1\", \"Topic1\", \"Topic1\", \"Topic1\", \"Topic1\", \"Topic1\", \"Topic1\", \"Topic1\", \"Topic1\", \"Topic1\", \"Topic1\", \"Topic1\", \"Topic1\", \"Topic1\", \"Topic1\", \"Topic1\", \"Topic1\", \"Topic1\", \"Topic1\", \"Topic1\", \"Topic1\", \"Topic1\", \"Topic1\", \"Topic1\", \"Topic1\", \"Topic1\", \"Topic1\", \"Topic1\", \"Topic1\", \"Topic1\", \"Topic2\", \"Topic2\", \"Topic2\", \"Topic2\", \"Topic2\", \"Topic2\", \"Topic2\", \"Topic2\", \"Topic2\", \"Topic2\", \"Topic2\", \"Topic2\", \"Topic2\", \"Topic2\", \"Topic2\", \"Topic2\", \"Topic2\", \"Topic2\", \"Topic2\", \"Topic2\", \"Topic2\", \"Topic2\", \"Topic2\", \"Topic2\", \"Topic2\", \"Topic2\", \"Topic2\", \"Topic2\", \"Topic2\", \"Topic2\", \"Topic2\", \"Topic2\", \"Topic2\", \"Topic2\", \"Topic2\", \"Topic2\", \"Topic2\", \"Topic2\", \"Topic2\", \"Topic2\", \"Topic2\", \"Topic2\", \"Topic2\", \"Topic2\", \"Topic2\", \"Topic2\", \"Topic2\", \"Topic2\", \"Topic2\", \"Topic2\", \"Topic2\", \"Topic2\", \"Topic2\", \"Topic2\", \"Topic3\", \"Topic3\", \"Topic3\", \"Topic3\", \"Topic3\", \"Topic3\", \"Topic3\", \"Topic3\", \"Topic3\", \"Topic3\", \"Topic3\", \"Topic3\", \"Topic3\", \"Topic3\", \"Topic3\", \"Topic3\", \"Topic3\", \"Topic3\", \"Topic3\", \"Topic3\", \"Topic3\", \"Topic3\", \"Topic3\", \"Topic3\", \"Topic3\", \"Topic3\", \"Topic3\", \"Topic3\", \"Topic3\", \"Topic3\", \"Topic3\", \"Topic3\", \"Topic3\", \"Topic3\", \"Topic3\", \"Topic3\", \"Topic3\", \"Topic3\", \"Topic3\", \"Topic3\", \"Topic3\", \"Topic3\", \"Topic3\", \"Topic3\", \"Topic3\", \"Topic3\", \"Topic3\", \"Topic3\", \"Topic3\", \"Topic3\", \"Topic3\", \"Topic3\", \"Topic4\", \"Topic4\", \"Topic4\", \"Topic4\", \"Topic4\", \"Topic4\", \"Topic4\", \"Topic4\", \"Topic4\", \"Topic4\", \"Topic4\", \"Topic4\", \"Topic4\", \"Topic4\", \"Topic4\", \"Topic4\", \"Topic4\", \"Topic4\", \"Topic4\", \"Topic4\", \"Topic4\", \"Topic4\", \"Topic4\", \"Topic4\", \"Topic4\", \"Topic4\", \"Topic4\", \"Topic4\", \"Topic4\", \"Topic4\", \"Topic4\", \"Topic4\", \"Topic4\", \"Topic4\", \"Topic4\", \"Topic4\", \"Topic4\", \"Topic4\", \"Topic4\", \"Topic4\", \"Topic4\", \"Topic4\", \"Topic4\", \"Topic4\", \"Topic4\", \"Topic4\", \"Topic4\", \"Topic4\", \"Topic4\", \"Topic4\", \"Topic4\", \"Topic4\", \"Topic4\", \"Topic4\", \"Topic4\", \"Topic4\", \"Topic5\", \"Topic5\", \"Topic5\", \"Topic5\", \"Topic5\", \"Topic5\", \"Topic5\", \"Topic5\", \"Topic5\", \"Topic5\", \"Topic5\", \"Topic5\", \"Topic5\", \"Topic5\", \"Topic5\", \"Topic5\", \"Topic5\", \"Topic5\", \"Topic5\", \"Topic5\", \"Topic5\", \"Topic5\", \"Topic5\", \"Topic5\", \"Topic5\", \"Topic5\", \"Topic5\", \"Topic5\", \"Topic5\", \"Topic5\", \"Topic5\", \"Topic5\", \"Topic5\", \"Topic5\", \"Topic5\", \"Topic5\", \"Topic5\", \"Topic5\", \"Topic5\", \"Topic5\", \"Topic5\", \"Topic5\", \"Topic5\", \"Topic5\", \"Topic5\", \"Topic5\", \"Topic5\", \"Topic5\", \"Topic5\", \"Topic6\", \"Topic6\", \"Topic6\", \"Topic6\", \"Topic6\", \"Topic6\", \"Topic6\", \"Topic6\", \"Topic6\", \"Topic6\", \"Topic6\", \"Topic6\", \"Topic6\", \"Topic6\", \"Topic6\", \"Topic6\", \"Topic6\", \"Topic6\", \"Topic6\", \"Topic6\", \"Topic6\", \"Topic6\", \"Topic6\", \"Topic6\", \"Topic6\", \"Topic6\", \"Topic6\", \"Topic6\", \"Topic6\", \"Topic6\", \"Topic6\", \"Topic6\", \"Topic6\", \"Topic6\", \"Topic6\", \"Topic6\", \"Topic6\", \"Topic6\", \"Topic6\", \"Topic6\", \"Topic6\", \"Topic6\", \"Topic6\", \"Topic6\", \"Topic6\", \"Topic6\", \"Topic6\", \"Topic6\", \"Topic6\", \"Topic6\", \"Topic6\", \"Topic6\", \"Topic6\", \"Topic6\", \"Topic6\", \"Topic6\", \"Topic6\", \"Topic7\", \"Topic7\", \"Topic7\", \"Topic7\", \"Topic7\", \"Topic7\", \"Topic7\", \"Topic7\", \"Topic7\", \"Topic7\", \"Topic7\", \"Topic7\", \"Topic7\", \"Topic7\", \"Topic7\", \"Topic7\", \"Topic7\", \"Topic7\", \"Topic7\", \"Topic7\", \"Topic7\", \"Topic7\", \"Topic7\", \"Topic7\", \"Topic7\", \"Topic7\", \"Topic7\", \"Topic7\", \"Topic7\", \"Topic7\", \"Topic7\", \"Topic7\", \"Topic7\", \"Topic7\", \"Topic7\", \"Topic7\", \"Topic7\", \"Topic7\", \"Topic7\", \"Topic7\", \"Topic7\", \"Topic7\", \"Topic7\", \"Topic7\", \"Topic7\", \"Topic7\", \"Topic7\", \"Topic7\", \"Topic7\", \"Topic7\", \"Topic7\", \"Topic7\", \"Topic8\", \"Topic8\", \"Topic8\", \"Topic8\", \"Topic8\", \"Topic8\", \"Topic8\", \"Topic8\", \"Topic8\", \"Topic8\", \"Topic8\", \"Topic8\", \"Topic8\", \"Topic8\", \"Topic8\", \"Topic8\", \"Topic8\", \"Topic8\", \"Topic8\", \"Topic8\", \"Topic8\", \"Topic8\", \"Topic8\", \"Topic8\", \"Topic8\", \"Topic8\", \"Topic8\", \"Topic8\", \"Topic8\", \"Topic8\", \"Topic8\", \"Topic8\", \"Topic8\", \"Topic8\", \"Topic8\", \"Topic8\", \"Topic8\", \"Topic8\", \"Topic8\", \"Topic8\", \"Topic8\", \"Topic8\", \"Topic8\", \"Topic8\", \"Topic8\", \"Topic8\", \"Topic8\", \"Topic8\", \"Topic8\", \"Topic8\", \"Topic8\"], \"Freq\": [5319.0, 7911.0, 5791.0, 10428.0, 4122.0, 16319.0, 1651.0, 2126.0, 14962.0, 1323.0, 2543.0, 4511.0, 3322.0, 6571.0, 2267.0, 1205.0, 1108.0, 2441.0, 2486.0, 2298.0, 873.0, 794.0, 742.0, 1204.0, 715.0, 1000.0, 779.0, 1389.0, 628.0, 823.0, 527.8969608211643, 533.5083706875378, 340.34135335534074, 338.574734540453, 326.37916895653296, 408.36241579289543, 161.51914306279144, 298.61500016714626, 2072.7822091490534, 166.47309825105063, 448.85177005688547, 212.83677997335099, 378.1820045338994, 126.33676727405226, 241.87643397562235, 133.475113180864, 126.28221572751312, 116.32850013917606, 165.299317423771, 111.80017494221337, 158.35590486792216, 94.29980071142218, 361.4502611851468, 259.25162533562735, 1069.1908903689475, 90.09240947430584, 387.62698485567813, 99.09808388600653, 233.53689714216677, 122.01174294964942, 293.0455624790327, 514.3866034067884, 249.72148982834253, 1239.7517302443282, 6107.996725967622, 516.6176383479559, 971.0252210949809, 1127.0460470195333, 709.7429784957967, 532.6886982440866, 366.7519251763963, 499.6649550026947, 479.95752376397525, 719.1428206745196, 695.2555084546974, 1628.5596621957352, 774.6119007889913, 502.6047060731537, 548.2819906675993, 613.4706330245067, 777.3485885388736, 555.8796385536737, 475.8151854870892, 478.9319146441815, 537.4211874922835, 470.75646384066533, 420.54504448200817, 425.9796778485242, 757.8671418328815, 520.1156471768797, 382.1742898005815, 372.2572953667432, 357.6505854924481, 343.42513118758404, 309.85727501127604, 262.3865893809862, 224.2384034409365, 216.67092787391292, 211.43343665721355, 211.52146288732234, 5293.288285407046, 150.56388384721123, 152.55652084138956, 134.17008135498745, 137.5272475555418, 129.9661519310974, 4023.2104072420307, 169.1512608859116, 556.334532338784, 151.5989666979974, 155.77110924886637, 194.5662445303317, 342.7716387001585, 261.541836529393, 170.36546201026363, 141.39592530968028, 403.7920854820389, 162.2798938148156, 863.9866848595914, 286.15643829713775, 2206.671118001729, 398.6384812277677, 4656.473201072697, 1039.2399901951806, 1107.9982193375301, 519.6789580179417, 393.72498877513544, 702.4023490977054, 387.1185190623431, 450.59932387164827, 348.81813878662285, 333.26689178656073, 772.0002717554452, 551.6028639353628, 660.9279191733974, 476.06234319352706, 730.7397968820524, 495.8090264612478, 379.1905088007897, 383.65308919515553, 361.32748983836626, 356.80286836464785, 522.997406930644, 607.1210116904399, 871.24209997461, 378.3505733736616, 307.9423343816241, 240.81832180915458, 184.39611693240985, 155.28351282146852, 155.34848266211586, 144.79933109639146, 127.94020764528915, 456.1517988471787, 159.22144158095992, 288.2432613857192, 155.6933527638893, 187.38914591821182, 128.90978959872396, 327.4219249139135, 220.29587471260697, 161.10671595841424, 269.1611912618919, 829.1830660027867, 593.5563912938736, 116.15886749350456, 197.73760983258592, 166.4780859662294, 419.52193683249783, 256.7515634958484, 458.790633745496, 90.90632712879005, 463.3940860931534, 1967.912904560068, 842.5885609235592, 5373.3086973852105, 1223.7531089305235, 562.2043925794618, 1127.461378710826, 2270.3839902432273, 625.9238605277136, 842.0930106679699, 842.7095560592616, 1113.7965959663377, 798.4489161045925, 397.68181662311844, 796.0453108145034, 653.7596758918257, 995.3068032017402, 366.67224092365586, 531.863049574005, 544.5948968616348, 390.0907284301117, 436.60945935855193, 778.2152363072084, 276.42391726062334, 243.33584412939132, 196.6568807604026, 141.66367604417184, 143.9916042069742, 124.83068353854243, 101.14879599945556, 145.73088079710743, 243.47937454288783, 258.15268102828, 195.13808265863906, 430.5918189517083, 266.64622893341516, 546.9090877984693, 207.28006847636155, 125.37503534424476, 325.63341602085177, 155.5076502088375, 594.8827189688667, 203.46349497062002, 194.86590781550686, 113.43700486004465, 502.22732005382795, 87.3192252703401, 92.15781133719172, 820.3717678983179, 157.56028932342036, 79.41894778174246, 103.38587633432576, 710.2257777477894, 4968.546647179739, 379.33839666832426, 221.76052109866544, 1734.0860963221292, 256.70230341583795, 2641.6315158838165, 669.4235028640262, 342.72093415861326, 344.7127777501718, 664.5728090921199, 548.5852285021452, 454.2069970043542, 428.67941003224024, 379.457913863178, 543.7732914631277, 643.8544250216602, 481.2153766169683, 339.18485835826016, 436.32860452696053, 693.4456808745289, 388.2369689810377, 372.5710961897176, 396.0733445398068, 405.81663706590774, 362.9689158612245, 741.5687974288571, 328.84900408732113, 179.28155616479114, 326.2340417089178, 153.70558046172403, 145.47675909267048, 145.28232344363965, 140.78341237197267, 194.44405255671833, 125.26657712349186, 491.957905933927, 383.56040626797835, 1163.0657248666907, 157.33002684011103, 249.55770271558893, 248.09175403068798, 1027.5583795877183, 405.84034803720044, 128.94659673540463, 242.47823484844275, 138.46982209030432, 668.863322484034, 522.9844260846994, 437.184203108257, 213.81522898219768, 132.31549131867777, 193.8708594811479, 121.96988452075215, 131.008650036548, 147.08732695802485, 301.1983296905569, 776.3747904128078, 492.6200599317165, 634.2734297732518, 3306.8565603152406, 892.9403886326922, 1132.040001505804, 2273.893512688544, 342.1668161555688, 318.6067667529255, 384.0851910362507, 344.0355016504706, 611.6156790172429, 578.7148533141391, 377.008834177358, 983.2988275447215, 535.1980920675068, 278.8345783752213, 279.19544782675774, 361.51111987885145, 1646.618539976539, 239.70173831691415, 172.83552361776623, 155.00416646060552, 147.84951753079474, 128.70726711772411, 149.54279940841866, 595.0774303851475, 749.4064902378473, 119.2849879253066, 123.67082262169562, 116.75256350705028, 150.86905537914592, 101.60476387545974, 547.5150185941336, 102.04672930092018, 135.97319278462902, 90.26092106297887, 90.00855509941763, 79.51698234529826, 94.42360609284017, 171.55062264959997, 75.90715731290518, 83.186017944814, 94.50304980528763, 71.49610458832353, 81.49357922841718, 70.76865021233779, 237.82960465065568, 922.9090434417975, 573.5135219218299, 395.13279501968697, 261.56932928012714, 258.96551397438003, 297.08275610446685, 316.41224064405026, 944.686962413784, 557.7152666689253, 166.96397186139137, 1053.1552372222297, 1575.3984541266857, 448.1055576589841, 505.5890279203424, 793.7452894634906, 334.35729806603825, 349.86812565005397, 265.39918144884723, 761.4678480906229, 254.76898990826675, 226.073941176861, 256.3039037139532, 329.3122544179833, 308.5145035282939, 284.57707826173714, 285.60615114375724, 281.3517849093413, 608.3197378594665, 158.44118465445766, 152.57986147059088, 177.0767676506224, 139.96779474441118, 175.55648628641754, 1313.3726216645657, 136.88215443956807, 283.80998347531647, 219.8136916997939, 646.5507266382847, 136.62780846487192, 136.4835248091751, 111.18364220610528, 192.29289136992395, 248.88791587018576, 183.56348805664567, 602.647701547453, 224.65316483218282, 148.26168798191063, 331.83294616770803, 725.6733902507837, 105.89573942139234, 91.97179542418428, 410.765736700593, 236.8693191499048, 155.7223964845479, 5336.107141873188, 80.9841574585643, 506.9112775246549, 1435.0827204945326, 494.37265553589316, 569.6812863308311, 498.0587255456828, 353.98440636598673, 349.3504461684998, 740.4184363658228, 389.63447357042014, 666.7389059164211, 1568.470575876646, 421.45372797753754, 536.8304412533338, 402.3835037317729, 463.4294838591948, 443.0514128051028, 285.1650135853123, 380.4511751285839, 369.09121611015047, 349.1424549078353, 276.4352253318616, 345.07903797634987, 284.46299580133814, 245.6383024971308, 149.99916504212086, 134.76613034892065, 131.21178192265572, 623.6095171372707, 196.256815401516, 555.2923538745096, 674.6873445432738, 115.66828124683649, 116.28438084703676, 458.47115888843217, 149.88912185120148, 437.7773723585017, 185.29451002426958, 123.53691754672887, 142.98367111640584, 183.08974900707338, 141.40218087210133, 170.44603052077207, 3907.1641609800736, 87.53216469461928, 119.13053938657723, 180.1938073853124, 89.52209647882961, 827.4896038559017, 160.4735171112942, 143.32586924945613, 351.9889044786872, 99.71886524805426, 98.25983225828179, 350.6045334149725, 938.9953437248779, 323.65063096464723, 372.0827794733485, 598.2091685111577, 344.09479047842905, 523.9931307875906, 573.1124110851167, 921.5378815409787, 236.89260908035237, 1017.4219652583351, 260.35390880378526, 313.3035462769334, 415.3041069662442, 228.4359138169373, 415.02516499442754, 218.12330015004588, 235.09274761995272, 264.68291804234894, 218.7867021953107, 221.84029546520333], \"Term\": [\"test\", \"time\", \"year\", \"school\", \"testing\", \"student\", \"portfolio\", \"evaluation\", \"teacher\", \"planning\", \"grade\", \"state\", \"standard\", \"need\", \"day\", \"principal\", \"administration\", \"score\", \"education\", \"district\", \"special\", \"kindergarten\", \"staff\", \"administrator\", \"rti\", \"hour\", \"counselor\", \"new\", \"coach\", \"professional\", \"accountable\", \"held\", \"evaluation system\", \"teacher evaluation\", \"held accountable\", \"evaluated\", \"evaluator\", \"evaluation process\", \"evaluation\", \"good teacher\", \"profession\", \"department education\", \"observation\", \"subjective\", \"evaluate\", \"love teaching\", \"single\", \"music\", \"hold\", \"state department\", \"bad\", \"fine\", \"fair\", \"unfair\", \"system\", \"constant\", \"department\", \"subject area\", \"performance\", \"anyone\", \"art\", \"educator\", \"low\", \"score\", \"teacher\", \"good\", \"education\", \"teaching\", \"job\", \"process\", \"rubric\", \"parent\", \"love\", \"classroom\", \"one\", \"student\", \"feel\", \"think\", \"make\", \"many\", \"year\", \"like\", \"know\", \"child\", \"state\", \"teach\", \"want\", \"way\", \"standardized\", \"state testing\", \"state test\", \"eoc\", \"standardized testing\", \"standardized test\", \"tnready\", \"tn ready\", \"test student\", \"testing student\", \"state assessment\", \"exam\", \"test\", \"prepare student\", \"take test\", \"one test\", \"much emphasis\", \"much testing\", \"testing\", \"student test\", \"act\", \"benchmark\", \"timely\", \"student take\", \"tested\", \"emphasis\", \"tcap\", \"semester\", \"test score\", \"online\", \"assessment\", \"prepare\", \"state\", \"result\", \"student\", \"score\", \"much\", \"data\", \"end\", \"take\", \"tn\", \"question\", \"ready\", \"practice\", \"time\", \"standard\", \"year\", \"way\", \"teacher\", \"need\", \"know\", \"get\", \"learning\", \"grade\", \"special education\", \"social\", \"special\", \"social study\", \"education teacher\", \"developmentally appropriate\", \"special education teacher\", \"inclusion\", \"adult\", \"education student\", \"student learn\", \"study\", \"disability\", \"age\", \"concept\", \"sped\", \"many standard\", \"developmentally\", \"ed\", \"language\", \"basic\", \"skill\", \"learn\", \"develop\", \"need student\", \"size\", \"student need\", \"science\", \"appropriate\", \"gap\", \"reading\", \"standard\", \"learning\", \"student\", \"grade\", \"math\", \"education\", \"need\", \"curriculum\", \"class\", \"child\", \"teach\", \"level\", \"grade level\", \"classroom\", \"many\", \"teacher\", \"focus\", \"teaching\", \"feel\", \"way\", \"time\", \"counselor\", \"school counselor\", \"counseling\", \"health\", \"elementary school\", \"mental\", \"public school\", \"pay teacher\", \"school level\", \"middle school\", \"school student\", \"salary\", \"elementary\", \"funding\", \"high school\", \"increase\", \"student school\", \"middle\", \"school need\", \"county\", \"school system\", \"public\", \"fund\", \"pay\", \"safety\", \"big\", \"high\", \"world\", \"employee\", \"today\", \"kid\", \"school\", \"money\", \"survey\", \"need\", \"home\", \"student\", \"district\", \"program\", \"problem\", \"work\", \"make\", \"help\", \"see\", \"support\", \"many\", \"state\", \"get\", \"issue\", \"one\", \"teacher\", \"know\", \"job\", \"level\", \"like\", \"education\", \"staff\", \"professional development\", \"amazing\", \"office\", \"central\", \"supportive\", \"central office\", \"rule\", \"faculty\", \"assistant principal\", \"leadership\", \"pd\", \"principal\", \"supported\", \"communication\", \"admin\", \"administration\", \"development\", \"love school\", \"leader\", \"relationship\", \"professional\", \"discipline\", \"building\", \"assistant\", \"culture\", \"consequence\", \"student behavior\", \"member\", \"wonderful\", \"environment\", \"administrator\", \"behavior\", \"support\", \"school\", \"district\", \"feel\", \"teacher\", \"often\", \"lack\", \"issue\", \"great\", \"work\", \"like\", \"best\", \"student\", \"need\", \"thing\", \"job\", \"though\", \"portfolio\", \"kindergarten portfolio\", \"portfolio process\", \"kindergarten teacher\", \"even though\", \"initiative\", \"unit\", \"decision\", \"kindergarten\", \"let u\", \"k\", \"line\", \"adequate\", \"input\", \"training\", \"make sure\", \"implement\", \"tdoe\", \"time away\", \"taken away\", \"scoring\", \"book\", \"mandate\", \"match\", \"student growth\", \"inappropriate\", \"took\", \"state level\", \"teacher need\", \"u\", \"process\", \"away\", \"read\", \"information\", \"rubric\", \"please\", \"state\", \"district\", \"sure\", \"need\", \"teacher\", \"make\", \"classroom\", \"time\", \"assessment\", \"thing\", \"growth\", \"student\", \"required\", \"made\", \"even\", \"standard\", \"work\", \"way\", \"many\", \"much\", \"planning time\", \"consuming\", \"time consuming\", \"school day\", \"spend time\", \"block\", \"planning\", \"lesson plan\", \"amount time\", \"enough time\", \"spend\", \"lunch\", \"time teacher\", \"many time\", \"time spent\", \"period\", \"paperwork\", \"plan\", \"schedule\", \"time student\", \"much time\", \"hour\", \"instruction time\", \"plc\", \"minute\", \"instructional time\", \"activity\", \"time\", \"teaching time\", \"lesson\", \"day\", \"meeting\", \"amount\", \"week\", \"spent\", \"instructional\", \"work\", \"enough\", \"much\", \"teacher\", \"take\", \"feel\", \"class\", \"teaching\", \"teach\", \"away\", \"like\", \"many\", \"get\", \"le\", \"school\", \"given\", \"last year\", \"ago\", \"instructional coach\", \"year ago\", \"coach\", \"next year\", \"school year\", \"rti\", \"started\", \"year year\", \"last\", \"year teaching\", \"next\", \"new teacher\", \"tier\", \"year teacher\", \"beginning\", \"literacy\", \"model\", \"year\", \"summer\", \"coaching\", \"three\", \"felt\", \"new\", \"every year\", \"received\", \"first\", \"waste time\", \"previous\", \"grade level\", \"grade\", \"growth\", \"change\", \"level\", \"curriculum\", \"one\", \"teaching\", \"school\", \"two\", \"teacher\", \"instructional\", \"every\", \"standard\", \"end\", \"time\", \"taught\", \"math\", \"classroom\", \"see\", \"like\"], \"Total\": [5319.0, 7911.0, 5791.0, 10428.0, 4122.0, 16319.0, 1651.0, 2126.0, 14962.0, 1323.0, 2543.0, 4511.0, 3322.0, 6571.0, 2267.0, 1205.0, 1108.0, 2441.0, 2486.0, 2298.0, 873.0, 794.0, 742.0, 1204.0, 715.0, 1000.0, 779.0, 1389.0, 628.0, 823.0, 528.7730930203119, 534.5241502568142, 341.22214427551563, 339.4713728067732, 327.2545152420649, 410.8004840602382, 162.50152942177388, 302.71685036265137, 2126.4026162976065, 174.89773810471848, 479.8081090157547, 233.59458855046833, 428.4486155686361, 146.7182274494071, 290.6248328552818, 168.32344833853895, 163.01896179929383, 151.83153647420102, 229.45119214607618, 155.2057863345834, 220.1667033076758, 131.4720178760419, 510.900219281643, 374.22495591444084, 1561.683306809156, 132.43727696341753, 570.744426995458, 146.22076595860193, 353.01454645456016, 185.48668818958492, 473.5785155090964, 871.4685796105925, 402.6712410377791, 2441.0730363050716, 14962.673514876155, 1033.2009169301969, 2486.5086138023935, 3065.1040350709272, 1665.7757739388837, 1211.3649984934984, 738.1906275187091, 1266.8253063982763, 1272.6476227166443, 2625.7430599843547, 2527.5095156258703, 16319.05792314534, 3660.208595722206, 1534.1233646792327, 2075.7858642071697, 2870.979938788087, 5791.861179603337, 2831.527708794596, 1812.6226304125878, 1903.5812101000258, 4511.404374800956, 2919.7709926806156, 1171.3187175824098, 2237.5333819439165, 758.7436320127197, 521.1634040659843, 383.0497727393782, 373.1628386183973, 358.52584784418485, 344.3062359167571, 310.8175599440364, 263.37098267222274, 225.1145946752425, 217.5586920778576, 212.31050454406122, 212.40316710192255, 5319.972489527625, 151.44052970271767, 153.47906650318947, 135.04542214086058, 138.80051022768183, 131.87984245393778, 4122.004683425045, 174.50290657909892, 578.4276352321891, 159.0450576047579, 166.20509412173928, 217.3321755294411, 418.54387282108144, 321.5250622723311, 211.48983247948502, 184.8508617320589, 553.0310188236757, 225.62001698142018, 1340.0024538393982, 413.751729810191, 4511.404374800956, 622.2299603147324, 16319.05792314534, 2441.0730363050716, 2843.8414310531716, 1012.4502519920704, 710.4851493594655, 1920.403634591366, 743.9836557963599, 1035.065013151354, 680.3539972746653, 713.3961839378582, 7911.709102763116, 3322.6326631024276, 5791.861179603337, 2237.5333819439165, 14962.673514876155, 6571.443600038123, 1812.6226304125878, 2295.5804737682047, 1545.8603073361458, 2543.2837971296067, 523.876918198678, 608.2636027918321, 873.2481734425573, 379.2555985165995, 308.83379162377673, 241.69753387473457, 185.27429433728756, 156.16218243421673, 156.27489864715054, 145.6796877096747, 128.82252470047192, 459.35158946182133, 160.64463296334748, 301.9058820705408, 163.5721762755929, 197.99281127221803, 137.7160447622394, 355.52080541402216, 248.61658689345288, 184.90816807267245, 313.96585735392614, 986.7352914824748, 725.2848718737723, 147.7756755696691, 252.14396469137628, 214.33326931664686, 559.6900797409809, 350.9179823828361, 633.9075488618172, 129.46919790050427, 700.9913169637002, 3322.6326631024276, 1545.8603073361458, 16319.05792314534, 2543.2837971296067, 948.5909938228453, 2486.5086138023935, 6571.443600038123, 1152.2381018706417, 1844.143049258371, 1903.5812101000258, 2919.7709926806156, 2442.8812185913926, 757.7982843047329, 2625.7430599843547, 2870.979938788087, 14962.673514876155, 811.140292324733, 3065.1040350709272, 3660.208595722206, 2237.5333819439165, 7911.709102763116, 779.1116558557335, 277.3023295745508, 244.23087674699246, 197.69901216123156, 142.5415954306108, 144.960211283463, 125.75024551855137, 102.02789249065634, 148.29606750519494, 252.40603391462633, 274.15213064435244, 212.208596765611, 474.68949768978695, 294.691328226365, 606.3289107664835, 246.76339900385784, 150.96810661114557, 393.257162295841, 198.8001478100549, 826.497835648559, 285.34962853777904, 273.42924406587395, 164.6666349120444, 742.0331433388002, 131.00796976617403, 140.9205724784033, 1303.3952957095125, 263.7906636012567, 134.7706891900737, 177.98864112326737, 1242.465990644315, 10428.043592509863, 823.5878687997478, 428.0852271953265, 6571.443600038123, 525.1687063310579, 16319.05792314534, 2298.6275812102895, 843.226120583885, 862.6735268003653, 2755.916942322977, 2075.7858642071697, 1518.293936747284, 1429.756430023533, 1251.0883187933814, 2870.979938788087, 4511.404374800956, 2295.5804737682047, 996.6543988041651, 2527.5095156258703, 14962.673514876155, 1812.6226304125878, 1665.7757739388837, 2442.8812185913926, 2831.527708794596, 2486.5086138023935, 742.4803901469126, 329.743218433217, 180.16657537695505, 327.8624144108203, 154.5923141977754, 146.35789246934252, 146.16770128175762, 141.66529230581673, 195.73180913133993, 126.14897177488112, 495.9575385244189, 393.45903373390763, 1205.021485285435, 164.9765767478555, 265.8942531489357, 267.6586343472052, 1108.8959727332633, 462.2257168246348, 147.0780448811718, 286.66743554711525, 165.91038458198005, 823.6889934835779, 650.07650691424, 553.2485933567992, 273.0536760674338, 170.15456336648185, 250.56290989076186, 158.24110544748703, 170.95280772957872, 192.92716610547237, 422.41296570581954, 1204.5056677851228, 876.0070227169858, 1251.0883187933814, 10428.043592509863, 2298.6275812102895, 3660.208595722206, 14962.673514876155, 714.9482798903398, 678.7066529683236, 996.6543988041651, 812.2642797370603, 2755.916942322977, 2831.527708794596, 1110.3918855846694, 16319.05792314534, 6571.443600038123, 1522.768348553276, 1665.7757739388837, 362.5455844774621, 1651.9091593364972, 240.58342637145128, 173.72425258477503, 155.88587746263966, 148.73731021881895, 129.60580379201315, 150.72642917092006, 625.719780023188, 794.2465506825164, 126.78669161969857, 139.2321135334781, 134.07925735409177, 187.65908438635097, 142.7599080305251, 802.7857099958247, 158.81499242760913, 213.43784034074838, 144.622040531842, 146.49686816633172, 131.11538881823168, 157.11440528198648, 297.2441487130616, 133.13705289736873, 150.41548140723748, 181.5268795340671, 138.53922683981156, 158.96201185453424, 142.23616775801946, 486.1919551724082, 1975.100293078526, 1211.3649984934984, 862.0699870656688, 563.3196869405238, 576.0848602226315, 738.1906275187091, 884.0560902226141, 4511.404374800956, 2298.6275812102895, 370.16655012018686, 6571.443600038123, 14962.673514876155, 2075.7858642071697, 2625.7430599843547, 7911.709102763116, 1340.0024538393982, 1522.768348553276, 842.3379306899204, 16319.05792314534, 827.9666659095822, 645.701479018217, 1144.923140044299, 3322.6326631024276, 2755.916942322977, 2237.5333819439165, 2870.979938788087, 2843.8414310531716, 609.313565382228, 159.33412368081156, 153.4707040398427, 178.4111616168843, 141.02277694566388, 176.8827595767397, 1323.7987296901615, 138.29245509862693, 321.4723567822999, 250.04360016344157, 737.7532413346775, 155.98288266647268, 156.45849058453408, 135.89789238470058, 240.98447145168393, 312.42122147008286, 231.57745063439873, 812.5611410557824, 304.5290595539523, 201.551292877097, 451.3724227964755, 1000.7728046156351, 146.67990240446872, 130.6761058514316, 592.4876967165246, 343.995221667303, 230.0696606343778, 7911.709102763116, 121.75454550233967, 768.6335391167512, 2267.220905007592, 765.166936186084, 963.0323562271346, 887.5746673173603, 642.1655870988998, 803.4811856740043, 2755.916942322977, 999.4556121827513, 2843.8414310531716, 14962.673514876155, 1920.403634591366, 3660.208595722206, 1844.143049258371, 3065.1040350709272, 2919.7709926806156, 862.0699870656688, 2831.527708794596, 2870.979938788087, 2295.5804737682047, 795.4379673845393, 10428.043592509863, 1164.4543469489063, 246.5260844149738, 150.9758363919564, 135.64374914396922, 132.11730122015985, 628.7950379391027, 200.1543241074715, 571.3537879738082, 715.1107422290348, 133.40097601687626, 135.67155520538086, 535.0257321246064, 175.73940560105004, 524.0468468519814, 223.10500662030267, 148.78368186391887, 172.57974240567864, 235.05823685498885, 184.9081990261466, 246.86380196526446, 5791.861179603337, 131.83522039196114, 183.34318655345015, 298.7613865753495, 150.12346722910542, 1389.9661972711258, 274.9338847395071, 253.35787868423736, 636.2835965174854, 182.52019006356508, 193.61922627028227, 757.7982843047329, 2543.2837971296067, 842.3379306899204, 1134.6287495201593, 2442.8812185913926, 1152.2381018706417, 2527.5095156258703, 3065.1040350709272, 10428.043592509863, 611.4911453665163, 14962.673514876155, 803.4811856740043, 1365.6905687858775, 3322.6326631024276, 710.4851493594655, 7911.709102763116, 679.6603213199126, 948.5909938228453, 2625.7430599843547, 1429.756430023533, 2831.527708794596], \"loglift\": [30.0, 29.0, 28.0, 27.0, 26.0, 25.0, 24.0, 23.0, 22.0, 21.0, 20.0, 19.0, 18.0, 17.0, 16.0, 15.0, 14.0, 13.0, 12.0, 11.0, 10.0, 9.0, 8.0, 7.0, 6.0, 5.0, 4.0, 3.0, 2.0, 1.0, 1.796, 1.7958, 1.7951, 1.7951, 1.795, 1.7918, 1.7916, 1.7841, 1.7722, 1.7483, 1.731, 1.7046, 1.6729, 1.6481, 1.6141, 1.5657, 1.5424, 1.5313, 1.4698, 1.4697, 1.4682, 1.4654, 1.4517, 1.4306, 1.4188, 1.4124, 1.4108, 1.4087, 1.3845, 1.3788, 1.3177, 1.2705, 1.3199, 1.1202, 0.9017, 1.1046, 0.8574, 0.7972, 0.9446, 0.9761, 1.0982, 0.8674, 0.8225, 0.5026, 0.507, -0.5069, 0.2448, 0.6818, 0.4664, 0.2544, -0.2106, 0.1697, 0.4602, 0.4178, -0.3299, -0.0272, 0.7734, 0.139, 1.8596, 1.8587, 1.8585, 1.8583, 1.8583, 1.8582, 1.8577, 1.857, 1.8569, 1.8567, 1.8566, 1.8566, 1.8557, 1.8549, 1.8547, 1.8542, 1.8515, 1.8461, 1.8365, 1.8296, 1.8218, 1.8128, 1.7959, 1.7501, 1.661, 1.6543, 1.6445, 1.5928, 1.5462, 1.5312, 1.4219, 1.492, 1.1456, 1.4155, 0.6067, 1.0068, 0.9182, 1.1938, 1.2705, 0.855, 1.2075, 1.0291, 1.1927, 1.0997, -0.4664, 0.0651, -0.3098, 0.3132, -1.1585, -0.7235, 0.2963, 0.0717, 0.4072, -0.1033, 1.9631, 1.9629, 1.9624, 1.9623, 1.9618, 1.9611, 1.96, 1.9591, 1.9588, 1.9587, 1.9579, 1.9577, 1.9558, 1.9184, 1.9154, 1.9097, 1.8987, 1.8824, 1.8438, 1.8269, 1.8108, 1.7908, 1.7643, 1.724, 1.7217, 1.7121, 1.6765, 1.6523, 1.6414, 1.6111, 1.5508, 1.441, 1.3579, 0.8538, 1.2332, 1.4416, 1.1738, 0.902, 1.3545, 1.1809, 1.1499, 1.001, 0.8465, 1.32, 0.7713, 0.4851, -0.7455, 1.1708, 0.2133, 0.0595, 0.218, -0.9323, 1.9646, 1.9625, 1.962, 1.9604, 1.9595, 1.959, 1.9584, 1.9571, 1.9483, 1.9297, 1.9056, 1.8819, 1.8682, 1.8657, 1.8626, 1.7914, 1.78, 1.777, 1.7201, 1.6369, 1.6275, 1.627, 1.593, 1.5754, 1.56, 1.541, 1.5027, 1.4504, 1.4369, 1.4225, 1.4064, 1.2243, 1.1905, 1.308, 0.6335, 1.2499, 0.1448, 0.7321, 1.0654, 1.0484, 0.5434, 0.635, 0.7589, 0.7612, 0.7727, 0.3018, 0.0188, 0.4033, 0.8879, 0.2091, -1.1059, 0.4248, 0.4681, 0.1464, 0.023, 0.0414, 2.2321, 2.2307, 2.2284, 2.2284, 2.2276, 2.2273, 2.2273, 2.2271, 2.2268, 2.2264, 2.2253, 2.2079, 2.1979, 2.1859, 2.17, 2.1575, 2.1572, 2.1033, 2.1018, 2.066, 2.0526, 2.0252, 2.0158, 1.9979, 1.9888, 1.9819, 1.9769, 1.973, 1.9672, 1.9621, 1.8952, 1.7942, 1.6577, 1.5541, 1.0849, 1.2878, 1.0599, 0.3493, 1.4965, 1.4771, 1.2798, 1.3743, 0.728, 0.6456, 1.1532, -0.5758, -0.2745, 0.5357, 0.4472, 2.2876, 2.2872, 2.2868, 2.2853, 2.2848, 2.2844, 2.2835, 2.2825, 2.2402, 2.2323, 2.2294, 2.1719, 2.152, 2.0722, 1.9504, 1.9077, 1.8481, 1.8395, 1.819, 1.8033, 1.7903, 1.7812, 1.7407, 1.7286, 1.6981, 1.6377, 1.6289, 1.6223, 1.5924, 1.5754, 1.5296, 1.5427, 1.5103, 1.5233, 1.4909, 1.3802, 1.2629, 0.7269, 0.8742, 1.4942, 0.4595, 0.0394, 0.7574, 0.643, -0.0089, 0.9022, 0.8197, 1.1355, -0.7744, 1.1118, 1.2409, 0.7937, -0.0211, 0.1007, 0.2283, -0.0174, -0.0229, 2.3036, 2.2996, 2.2994, 2.2977, 2.2977, 2.2977, 2.2973, 2.295, 2.1806, 2.1764, 2.1733, 2.1728, 2.1687, 2.1045, 2.0795, 2.0779, 2.0729, 2.0064, 2.001, 1.9982, 1.9976, 1.9838, 1.9794, 1.954, 1.9389, 1.9321, 1.9149, 1.9114, 1.8975, 1.889, 1.8479, 1.8684, 1.7802, 1.7275, 1.7096, 1.4724, 0.991, 1.3632, 0.8547, 0.0498, 0.7887, 0.3857, 0.7829, 0.4161, 0.4197, 1.199, 0.298, 0.2539, 0.422, 1.2483, -1.1032, 0.8958, 2.4, 2.3971, 2.3971, 2.3967, 2.3953, 2.3839, 2.3751, 2.3454, 2.261, 2.2494, 2.2492, 2.2445, 2.2237, 2.2179, 2.2176, 2.2155, 2.1537, 2.1353, 2.0332, 2.01, 1.994, 1.9725, 1.898, 1.8866, 1.885, 1.8652, 1.8339, 1.8115, 1.7991, 1.7253, 1.6328, 1.4072, 1.4471, 1.2887, 0.9966, 1.1951, 0.8301, 0.7268, -0.0226, 1.4553, -0.2847, 1.2767, 0.9314, 0.3241, 1.2689, -0.5442, 1.2671, 1.0086, 0.109, 0.5264, -0.143], \"logprob\": [30.0, 29.0, 28.0, 27.0, 26.0, 25.0, 24.0, 23.0, 22.0, 21.0, 20.0, 19.0, 18.0, 17.0, 16.0, 15.0, 14.0, 13.0, 12.0, 11.0, 10.0, 9.0, 8.0, 7.0, 6.0, 5.0, 4.0, 3.0, 2.0, 1.0, -4.8821, -4.8715, -5.321, -5.3262, -5.3629, -5.1388, -6.0664, -5.4518, -3.5143, -6.0361, -5.0443, -5.7905, -5.2156, -6.312, -5.6626, -6.2571, -6.3125, -6.3946, -6.0432, -6.4343, -6.0861, -6.6045, -5.2609, -5.5932, -4.1763, -6.6501, -5.1909, -6.5549, -5.6976, -6.3469, -5.4707, -4.908, -5.6306, -4.0283, -2.4336, -4.9037, -4.2726, -4.1236, -4.5861, -4.873, -5.2463, -4.937, -4.9773, -4.5729, -4.6067, -3.7555, -4.4986, -4.9312, -4.8442, -4.7319, -4.4951, -4.8304, -4.986, -4.9794, -4.8642, -4.9966, -5.1094, -5.0966, -4.4574, -4.8339, -5.1421, -5.1683, -5.2084, -5.249, -5.3518, -5.5181, -5.6752, -5.7096, -5.734, -5.7336, -2.5137, -6.0735, -6.0604, -6.1888, -6.1641, -6.2207, -2.7881, -5.9571, -4.7666, -6.0667, -6.0395, -5.8172, -5.2509, -5.5213, -5.95, -6.1364, -5.087, -5.9986, -4.3264, -5.4314, -3.3887, -5.0999, -2.6419, -4.1417, -4.0776, -4.8347, -5.1123, -4.5334, -5.1292, -4.9774, -5.2334, -5.279, -4.4389, -4.7751, -4.5943, -4.9224, -4.4939, -4.8817, -5.1499, -5.1382, -5.1981, -5.2108, -4.7244, -4.5752, -4.214, -5.0481, -5.254, -5.4999, -5.7669, -5.9387, -5.9383, -6.0086, -6.1324, -4.8611, -5.9137, -5.3201, -5.9361, -5.7508, -6.1248, -5.1927, -5.589, -5.9019, -5.3886, -4.2635, -4.5978, -6.229, -5.697, -5.8691, -4.9448, -5.4358, -4.8554, -6.4741, -4.8454, -3.3992, -4.2475, -2.3948, -3.8743, -4.6521, -3.9562, -3.2562, -4.5447, -4.2481, -4.2473, -3.9684, -4.3013, -4.9983, -4.3043, -4.5012, -4.0809, -5.0795, -4.7076, -4.6839, -5.0176, -4.9049, -4.326, -5.361, -5.4885, -5.7015, -6.0295, -6.0132, -6.156, -6.3664, -6.0012, -5.4879, -5.4294, -5.7093, -4.9178, -5.397, -4.6787, -5.6489, -6.1517, -5.1972, -5.9363, -4.5946, -5.6675, -5.7107, -6.2517, -4.7639, -6.5134, -6.4595, -4.2732, -5.9232, -6.6082, -6.3445, -4.4174, -2.4721, -5.0445, -5.5814, -3.5247, -5.4351, -3.1038, -4.4766, -5.1461, -5.1403, -4.4838, -4.6756, -4.8644, -4.9223, -5.0442, -4.6844, -4.5155, -4.8067, -5.1564, -4.9046, -4.4413, -5.0214, -5.0625, -5.0014, -4.9771, -5.0887, -4.1065, -4.9197, -5.5264, -4.9277, -5.6803, -5.7353, -5.7366, -5.7681, -5.4452, -5.8849, -4.5169, -4.7658, -3.6565, -5.657, -5.1956, -5.2015, -3.7804, -4.7094, -5.8559, -5.2244, -5.7847, -4.2097, -4.4558, -4.635, -5.3502, -5.8301, -5.4481, -5.9115, -5.8401, -5.7243, -5.0075, -4.0607, -4.5156, -4.2628, -2.6116, -3.9208, -3.6835, -2.9861, -4.88, -4.9514, -4.7644, -4.8746, -4.2992, -4.3545, -4.783, -3.8244, -4.4327, -5.0847, -5.0834, -4.768, -3.2518, -5.1789, -5.5059, -5.6148, -5.6621, -5.8007, -5.6507, -4.2696, -4.039, -5.8767, -5.8406, -5.8982, -5.6418, -6.0372, -4.3529, -6.0328, -5.7458, -6.1556, -6.1584, -6.2823, -6.1105, -5.5134, -6.3288, -6.2372, -6.1096, -6.3886, -6.2577, -6.3988, -5.1867, -3.8307, -4.3065, -4.679, -5.0916, -5.1016, -4.9643, -4.9012, -3.8074, -4.3344, -5.5405, -3.6987, -3.296, -4.5532, -4.4325, -3.9815, -4.8461, -4.8007, -5.077, -4.023, -5.1179, -5.2374, -5.1119, -4.8613, -4.9265, -5.0073, -5.0036, -5.0187, -4.2327, -5.5781, -5.6158, -5.4669, -5.702, -5.4755, -3.4631, -5.7243, -4.9951, -5.2507, -4.1718, -5.7262, -5.7272, -5.9323, -5.3844, -5.1264, -5.4309, -4.2421, -5.2289, -5.6445, -4.8388, -4.0563, -5.981, -6.122, -4.6254, -5.1759, -5.5954, -2.0612, -6.2492, -4.4151, -3.3745, -4.4402, -4.2984, -4.4327, -4.7742, -4.7874, -4.0362, -4.6782, -4.141, -3.2856, -4.5997, -4.3578, -4.646, -4.5048, -4.5498, -4.9904, -4.7021, -4.7324, -4.788, -5.0215, -4.7997, -4.9928, -5.0412, -5.5345, -5.6416, -5.6683, -4.1096, -5.2657, -4.2256, -4.0308, -5.7944, -5.7891, -4.4172, -5.5352, -4.4634, -5.3231, -5.7286, -5.5824, -5.3351, -5.5935, -5.4067, -2.2745, -6.0731, -5.7649, -5.3511, -6.0506, -3.8267, -5.467, -5.58, -4.6815, -5.9427, -5.9575, -4.6854, -3.7003, -4.7654, -4.626, -4.1512, -4.7042, -4.2836, -4.194, -3.719, -5.0775, -3.6201, -4.983, -4.7979, -4.5161, -5.1138, -4.5168, -5.16, -5.0851, -4.9666, -5.157, -5.1431]}, \"token.table\": {\"Topic\": [1, 1, 2, 1, 2, 3, 5, 6, 7, 2, 6, 1, 5, 8, 1, 4, 5, 6, 8, 1, 4, 5, 6, 8, 3, 1, 2, 3, 4, 8, 8, 5, 1, 2, 3, 4, 6, 7, 2, 6, 7, 1, 4, 5, 2, 3, 4, 6, 8, 1, 3, 4, 5, 7, 8, 1, 2, 3, 6, 7, 8, 3, 5, 8, 5, 1, 2, 3, 4, 6, 7, 8, 1, 3, 4, 7, 2, 3, 4, 8, 2, 3, 6, 8, 1, 3, 4, 5, 7, 2, 3, 1, 2, 3, 4, 5, 6, 7, 1, 2, 4, 6, 7, 6, 7, 2, 3, 4, 6, 7, 8, 1, 4, 5, 6, 8, 5, 5, 1, 2, 3, 4, 5, 6, 7, 8, 1, 2, 3, 4, 5, 6, 7, 8, 1, 2, 3, 4, 5, 6, 7, 8, 1, 2, 3, 4, 5, 6, 7, 8, 5, 8, 5, 8, 5, 7, 2, 3, 1, 3, 4, 5, 1, 3, 4, 5, 7, 7, 4, 4, 1, 2, 4, 5, 6, 8, 1, 4, 5, 7, 1, 2, 3, 4, 5, 6, 7, 8, 1, 2, 3, 4, 6, 7, 8, 1, 2, 4, 5, 6, 7, 8, 1, 4, 5, 6, 1, 3, 4, 5, 6, 8, 1, 3, 4, 1, 2, 3, 4, 5, 7, 3, 5, 3, 6, 3, 2, 3, 1, 3, 4, 5, 7, 1, 2, 3, 4, 5, 6, 8, 3, 4, 1, 2, 3, 4, 6, 3, 3, 1, 2, 3, 4, 5, 6, 8, 3, 4, 7, 8, 4, 1, 2, 3, 4, 1, 4, 5, 1, 2, 4, 6, 7, 8, 1, 2, 3, 4, 5, 6, 7, 8, 2, 3, 7, 1, 3, 4, 5, 6, 7, 2, 1, 2, 3, 4, 1, 7, 1, 2, 6, 7, 8, 1, 6, 1, 1, 1, 2, 3, 4, 5, 6, 7, 8, 6, 1, 2, 3, 4, 5, 6, 7, 8, 1, 2, 7, 8, 2, 5, 1, 2, 3, 6, 7, 8, 1, 2, 3, 4, 5, 6, 7, 8, 5, 6, 7, 8, 1, 3, 4, 6, 7, 8, 1, 2, 3, 4, 5, 6, 7, 8, 1, 2, 3, 5, 6, 8, 2, 4, 5, 6, 7, 8, 4, 6, 8, 2, 3, 4, 8, 1, 2, 3, 4, 5, 6, 7, 8, 1, 2, 3, 4, 5, 6, 7, 8, 1, 2, 3, 4, 5, 6, 7, 8, 1, 2, 5, 6, 7, 2, 3, 4, 6, 8, 2, 3, 6, 8, 1, 3, 4, 5, 6, 7, 8, 1, 2, 6, 8, 4, 1, 1, 1, 2, 3, 4, 5, 6, 7, 8, 1, 2, 3, 4, 6, 7, 8, 2, 4, 1, 2, 3, 4, 7, 1, 3, 4, 6, 7, 8, 1, 4, 6, 7, 8, 3, 6, 8, 1, 3, 4, 5, 6, 3, 3, 4, 8, 2, 3, 4, 5, 6, 8, 6, 1, 5, 6, 7, 2, 3, 6, 7, 2, 6, 7, 8, 8, 2, 6, 7, 8, 1, 2, 3, 4, 5, 6, 7, 1, 3, 4, 5, 6, 7, 8, 3, 6, 8, 1, 2, 3, 4, 6, 8, 3, 6, 6, 6, 1, 2, 3, 4, 5, 6, 8, 1, 2, 3, 4, 5, 6, 7, 1, 3, 4, 1, 2, 4, 8, 8, 1, 2, 3, 4, 5, 6, 7, 4, 5, 8, 1, 4, 5, 1, 2, 3, 5, 8, 1, 2, 3, 4, 5, 6, 1, 3, 7, 8, 1, 7, 2, 6, 1, 2, 3, 4, 6, 8, 1, 2, 3, 4, 5, 6, 7, 8, 2, 6, 3, 4, 6, 7, 8, 1, 3, 4, 5, 6, 7, 8, 5, 8, 1, 3, 7, 8, 1, 3, 4, 6, 7, 8, 3, 4, 7, 8, 1, 2, 3, 4, 5, 6, 7, 8, 1, 2, 3, 4, 5, 6, 7, 8, 1, 4, 6, 1, 2, 3, 4, 6, 8, 1, 2, 3, 4, 5, 6, 7, 8, 2, 3, 3, 7, 8, 2, 3, 6, 8, 2, 3, 4, 8, 1, 3, 4, 5, 7, 8, 1, 4, 5, 4, 2, 3, 4, 8, 4, 8, 2, 3, 4, 6, 7, 8, 4, 8, 1, 2, 3, 4, 6, 7, 8, 1, 2, 3, 4, 5, 6, 7, 8, 2, 2, 3, 2, 3, 6, 7, 1, 4, 7, 8, 1, 2, 3, 4, 5, 6, 7, 8, 3, 4, 1, 2, 3, 4, 5, 6, 7, 8, 1, 5, 7, 8, 1, 2, 6, 8, 6, 8, 1, 6, 8, 4, 5, 1, 2, 3, 4, 5, 6, 7, 8, 1, 2, 3, 4, 5, 6, 7, 8, 2, 2, 4, 5, 6, 8, 1, 3, 4, 6, 7, 1, 2, 3, 4, 5, 6, 7, 8, 1, 2, 4, 6, 7, 4, 5, 6, 1, 2, 3, 2, 3, 7, 1, 4, 5, 6, 7, 8, 6, 7, 8, 7, 7, 8, 1, 2, 3, 4, 6, 8, 3, 6, 8, 6, 1, 2, 3, 4, 5, 6, 7, 8, 1, 2, 6, 7, 2, 1, 2, 3, 4, 5, 8, 1, 4, 5, 8, 1, 2, 3, 4, 5, 7, 1, 2, 3, 6, 8, 1, 7, 1, 5, 7, 5, 1, 2, 3, 4, 5, 6, 8, 1, 2, 3, 4, 6, 4, 1, 2, 3, 4, 6, 7, 8, 2, 3, 4, 6, 7, 8, 3, 4, 6, 8, 1, 2, 3, 4, 6, 7, 1, 2, 6, 8, 5, 7, 1, 2, 3, 4, 5, 6, 7, 8, 1, 2, 3, 4, 6, 8, 3, 6, 8, 1, 3, 6, 8, 5, 4, 5, 1, 4, 8, 2, 4, 6, 7, 8, 1, 2, 3, 4, 5, 6, 7, 8, 4, 7, 2, 4, 4, 5, 2, 4, 1, 4, 2, 8, 1, 2, 3, 8, 1, 2, 3, 6, 8, 1, 2, 6, 8, 1, 2, 3, 4, 5, 6, 8, 1, 2, 7, 1, 2, 3, 4, 5, 6, 2, 3, 4, 6, 8, 3, 3, 3, 5, 3, 3, 2, 3, 7, 8, 2, 6, 7, 8, 7, 2, 4, 5, 6, 7, 5, 1, 2, 3, 4, 6, 7, 8, 2, 2, 2, 4, 8, 1, 2, 3, 4, 5, 6, 8, 2, 1, 2, 4, 6, 8, 2, 4, 6, 2, 2, 1, 2, 3, 4, 5, 6, 7, 8, 3, 5, 1, 2, 6, 8, 3, 2, 3, 4, 5, 6, 2, 3, 4, 5, 2, 3, 1, 2, 2, 3, 8, 1, 5, 1, 6, 7, 5, 7, 8, 1, 3, 4, 5, 6, 7, 8, 1, 5, 5, 1, 2, 4, 6, 8, 1, 2, 4, 5, 6, 7, 8, 1, 2, 3, 4, 6, 7, 8, 1, 2, 3, 4, 5, 6, 7, 8, 2, 6, 7, 1, 2, 3, 4, 8, 1, 2, 4, 8, 2, 6, 8, 1, 2, 3, 4, 5, 6, 7, 8, 1, 2, 3, 4, 5, 6, 7, 8, 1, 1, 3, 4, 6, 7, 8, 1, 2, 3, 4, 5, 6, 7, 8, 3, 6, 7, 1, 2, 3, 1, 2, 2, 1, 2, 3, 1, 2, 3, 4, 6, 2, 1, 2, 3, 4, 5, 6, 7, 8, 1, 2, 3, 4, 5, 6, 7, 8, 6, 1, 2, 6, 7, 8, 3, 8, 1, 2, 3, 4, 5, 6, 7, 8, 3, 6, 7, 7, 2, 6, 7, 2, 3, 6, 7, 6, 7, 8, 2, 7, 8, 1, 2, 3, 4, 6, 8, 2, 2, 1, 2, 3, 4, 7, 8, 1, 2, 4, 5, 6, 7, 8, 1, 5, 6, 7, 8, 1, 2, 4, 5, 6, 7, 8, 1, 2, 3, 4, 5, 6, 7, 8, 1, 2, 3, 6, 7, 8, 6, 1, 2, 3, 4, 5, 6, 7, 8, 2, 8, 1, 2, 3, 4, 5, 6, 7, 8, 2, 4, 7, 8, 1, 5, 7, 1, 2, 3, 4, 5, 6, 7, 8, 1, 2, 3, 4, 6, 1, 2, 3, 4, 5, 6, 7, 8, 8, 1, 8, 1, 8, 1, 2, 8], \"Freq\": [0.9985379493954656, 0.036305319318933126, 0.9612265495869914, 0.0478116061442842, 0.017386038597921528, 0.16082085703077414, 0.08258368334012726, 0.013039528948441147, 0.6780555053189397, 0.19183723568576888, 0.8046506274597528, 0.04483322583359546, 0.9265533338943062, 0.026152715069597352, 0.06853663632006105, 0.0009017978463165927, 0.9270481860134573, 0.0027053935389497784, 0.0009017978463165927, 0.29970801271845937, 0.020755402542829596, 0.6442476949294307, 0.009962593220558208, 0.02407626694968233, 0.9918419486546646, 0.026498324395451116, 0.0033122905494313896, 0.9539396782362403, 0.006624581098862779, 0.009936871648294168, 0.9935364730192786, 0.9935250177536301, 0.034266761429786095, 0.17652574069889806, 0.018690960779883324, 0.029074827879818504, 0.1505660729490601, 0.5918804246963053, 0.04043893580810608, 0.07465649687650353, 0.883435213038625, 0.6577291405154879, 0.2641699006988435, 0.07547711448538386, 0.007887585514603059, 0.7240803502405608, 0.004732551308761835, 0.24924770226145665, 0.014197653926285506, 0.6186936070886268, 0.06334746830258976, 0.06757063285609576, 0.023227405044282914, 0.20482348084504023, 0.02111582276752992, 0.00149253458026854, 0.6447749386760093, 0.03358202805604215, 0.2492532749048462, 0.00597013832107416, 0.06417898695154722, 0.08057023921760659, 0.783728690571264, 0.13550449322961108, 0.990891944986032, 0.02551996975893343, 0.0695999175243639, 0.09395988865789126, 0.017399979381090974, 0.45819945703539566, 0.33059960824072854, 0.00463999450162426, 0.7176380334822934, 0.01816805148056439, 0.23164265637719597, 0.027252077220846587, 0.02548047761442351, 0.8567810597849905, 0.11147708956310286, 0.0031850597018029387, 0.19569618412639642, 0.008508529744625931, 0.012762794616938897, 0.7785304716332727, 0.009132346879123803, 0.22031786845886175, 0.19292082782149034, 0.5627808764260044, 0.013698520318685705, 0.9557040142532092, 0.044012684866924105, 0.2098358273550562, 0.12608161300303805, 0.07474838485180113, 0.041426815700998224, 0.3395197721581811, 0.1792160070543184, 0.029719237350716115, 0.17740489951409585, 0.07096195980563834, 0.6528500302118727, 0.007096195980563835, 0.08515435176676601, 0.005653462227708829, 0.9950093520767539, 0.02018542678124162, 0.17157612764055377, 0.01682118898436802, 0.5786489010622597, 0.12111256068744972, 0.0941986583124609, 0.010845034351728573, 0.13194791794603097, 0.7898800019508977, 0.003615011450576191, 0.06326270038508335, 0.9961685404552671, 0.9920112222363905, 0.26087828298479127, 0.02115229321498308, 0.009694801056867245, 0.2247431154091952, 0.0519993874868334, 0.051118041936209106, 0.052880733037457696, 0.3278605448322377, 0.2516309771595352, 0.023639653386595166, 0.44284950677554946, 0.16915485312185874, 0.006829233200571937, 0.056209842497015175, 0.038874096680178716, 0.011031838247077744, 0.04663412636811728, 0.08296536435258074, 0.4565806325808691, 0.15562784032150764, 0.017894490350556628, 0.014640946650455424, 0.21798742790678075, 0.007591601966902812, 0.27382724949648507, 0.003046756600795383, 0.3031522817791406, 0.04265459241113536, 0.0011425337252982685, 0.19270735500030797, 0.08264327279657477, 0.10092381240134707, 0.0063613733548377495, 0.9923742433546889, 0.3436178959485553, 0.6490560256806045, 0.940223404753194, 0.056413404285191635, 0.04279456420636063, 0.9537074308846084, 0.007982027351422212, 0.12372142394704427, 0.09179331454135543, 0.7742566530879544, 0.6795669773915711, 0.15856562805803326, 0.06795669773915711, 0.05285520935267775, 0.030202976772958714, 0.9916268803568772, 0.9949601919159977, 0.998573175170236, 0.012099245235352524, 0.004839698094141009, 0.7199050915034751, 0.04113743380019858, 0.03387788665898706, 0.1875383011479641, 0.005877009585962044, 0.18806430675078542, 0.7757652653469899, 0.017631028757886132, 0.015621771204039568, 0.038186551832096724, 0.543290487429376, 0.038186551832096724, 0.0017357523560043964, 0.021696904450054955, 0.041658056544105516, 0.2985494052327562, 0.06617609099130803, 0.5136054823205997, 0.014815542759248066, 0.002963108551849613, 0.11951204492460107, 0.08790555370487187, 0.19358975872084142, 0.0882137243698934, 0.09262441058838806, 0.10100471440352794, 0.02381770557987122, 0.014996333142881879, 0.6329334723539851, 0.04587113667234457, 0.009588956896612173, 0.0031963189655373906, 0.0335613491381426, 0.9509048922473737, 0.6798139090775349, 0.08410068978278783, 0.09986956911706053, 0.03153775866854543, 0.0946132760056363, 0.010512586222848478, 0.911836191590462, 0.02568552652367499, 0.059932895221908304, 0.027068054228682536, 0.013534027114341268, 0.7849735726317936, 0.013534027114341268, 0.08797117624321825, 0.07443714912887697, 0.1189894850027711, 0.8783587438386375, 0.9197773942348937, 0.07594492245976187, 0.9971140215477081, 0.00622492007080099, 0.9897622912573574, 0.003076560956638056, 0.026150768131423478, 0.15536632831022182, 0.8045206901608516, 0.010767963348233196, 0.022622194402026882, 0.04828968420432661, 0.000870084400077957, 0.2910432318260766, 0.3884926846348078, 0.24275354762175, 0.0056555486005067206, 0.8848967108308151, 0.11262321774210375, 0.3905073944285024, 0.0016086813364716884, 0.45324596655089827, 0.14598783128480575, 0.008043406682358444, 0.9953343687073982, 0.9973001930281241, 0.5898089868365375, 0.05048948525448959, 0.07229176297801919, 0.15950087387213757, 0.003442464903715199, 0.12392873653374718, 0.0011474883012383998, 0.06741248785940537, 0.9079619458563661, 0.002106640245606418, 0.02106640245606418, 0.9962004393947277, 0.055983194195773245, 0.8148664932940328, 0.09330532365962207, 0.0342119520085281, 0.03710005513846008, 0.5861808711876692, 0.37100055138460075, 0.00844493372649558, 0.5545506480398764, 0.07600440353846022, 0.01688986745299116, 0.02111233431623895, 0.3209074816068321, 0.0410223320578074, 0.16809150696857666, 0.1200653621204119, 0.12406754085775897, 0.030016340530102974, 0.1260686302264325, 0.39021242689133867, 0.0020010893686735315, 0.06798814282344323, 0.051990932747338944, 0.879846554185736, 0.10179611775919405, 0.05444908624328983, 0.1136328756381701, 0.7125728243143583, 0.009469406303180841, 0.004734703151590421, 0.9968838306014002, 0.8326886509402491, 0.1445162121466548, 0.017204310969839858, 0.0034408621939679717, 0.993182860856056, 0.004868543435568902, 0.9748859336946318, 0.00047027782619133226, 0.02069222435241862, 0.0009405556523826645, 0.003291944783339326, 0.9877216931987809, 0.009910251102328906, 0.9964183324675177, 0.9969136941445508, 0.23582369030427075, 0.13101316128015042, 0.026202632256030083, 0.18778553116821559, 0.007860789676809025, 0.2235957952514567, 0.05065842236165816, 0.13538026665615543, 0.9950428697565242, 0.29874995795183606, 0.07175856833156846, 0.014644605781952749, 0.17939642082892118, 0.02269913896202676, 0.008786763469171649, 0.17500303909433534, 0.2291880804875605, 0.39282171458177034, 0.018186190489896774, 0.0036372380979793548, 0.5819580956766968, 0.9981018781055695, 0.9911521324049182, 0.7065958995037976, 0.20160492423515555, 0.02153062297657001, 0.06263453956820367, 0.0019573293615063646, 0.0019573293615063646, 0.21173656630000962, 0.07431270455948724, 0.14889861759161965, 0.02513517948335598, 0.3092719910343366, 0.049997150494066785, 0.14671294981045827, 0.03415105908064671, 0.21981906366203402, 0.1665295936833591, 0.013322367494668728, 0.5995065372600927, 0.7149810394530317, 0.10648653779087706, 0.0456370876246616, 0.12169890033243093, 0.007606181270776933, 0.007606181270776933, 0.09272594849673867, 0.02514601993131896, 0.029860898668441264, 0.12887335214800968, 0.011001383719952046, 0.15873425081645093, 0.001571626245707435, 0.5532124384890171, 0.07643560625290556, 0.30204392793486873, 0.45244947572284416, 0.07643560625290556, 0.0665729473815629, 0.024656647178356632, 0.024291502660126463, 0.6862349501485726, 0.030364378325158082, 0.1518218916257904, 0.006072875665031616, 0.09716601064050585, 0.9060327686157968, 0.08144114774074579, 0.010180143467593224, 0.03861922434896405, 0.7028698831511457, 0.2317153460937843, 0.01544768973958562, 0.17424786652911295, 0.16727795186794844, 0.084074595600297, 0.20953305950125833, 0.061422372951512316, 0.06055113361886675, 0.15203126354665106, 0.09104451026146151, 0.07643064773917249, 0.1837770631031788, 0.06870170583296403, 0.023186825718625362, 0.10992272933274246, 0.1296744697597196, 0.24389105570702233, 0.1648840939991137, 0.5003867026522669, 0.06968634930553814, 0.04548970024111518, 0.11517604954665332, 0.11614391550923024, 0.10065806010799955, 0.04258610235338442, 0.009678659625769187, 0.9491260538807481, 0.005717626830606916, 0.011435253661213831, 0.011435253661213831, 0.01715288049182075, 0.14036970644130092, 0.4812675649416031, 0.005111501915229445, 0.003931924550176496, 0.369207715261573, 0.010556899066273112, 0.5252057285470872, 0.001319612383284139, 0.46318394653273276, 0.16497093783734698, 0.03324041284782365, 0.13788615699837958, 0.42350748220930867, 0.13049939858775209, 0.027084780838967416, 0.08371659532044474, 0.01305889192356612, 0.2872956223184546, 0.31460057815863834, 0.3846437257486748, 0.9964642607285185, 0.9990194077170089, 0.9961665456590051, 0.061252961464917974, 0.052032085545467954, 0.23249779996898973, 0.29901983338787913, 0.14753401471120028, 0.10538143907942878, 0.0019759019827392896, 0.10077100111970376, 0.13579917050694032, 0.16418656773155496, 0.04756807102502995, 0.6291261006536218, 0.003068907808066448, 0.018413446848398688, 0.001534453904033224, 0.09565765209295395, 0.902150615428376, 0.719107181168863, 0.043582253404173515, 0.08716450680834703, 0.1438214362337726, 0.004358225340417352, 0.09330335073147178, 0.1237697509703197, 0.4893665538364948, 0.0019041500149279953, 0.2894308022690553, 0.0019041500149279953, 0.0089930501293514, 0.018985328050852953, 0.2218285698573345, 0.7254393771010129, 0.02398146701160373, 0.0890188917282285, 0.637187856581004, 0.271741880012487, 0.014436344460854653, 0.4403085060560669, 0.007218172230427327, 0.02165451669128198, 0.5124902283603402, 0.9925578496912574, 0.04457711331747391, 0.8388602233379182, 0.10941655087016323, 0.2603783059704634, 0.013886842985091383, 0.001735855373136423, 0.13366086373150457, 0.4495865416423335, 0.13886842985091383, 0.9953257973463494, 0.014009535503289603, 0.06304290976480321, 0.7144863106677697, 0.21014303254934405, 0.03408783287987565, 0.006817566575975129, 0.23861483015912954, 0.7226620570533637, 0.09956673712638534, 0.1406380161910193, 0.43435989071385606, 0.32359189566075236, 0.9952541186156248, 0.15407190757800485, 0.15116489045389156, 0.688963058414852, 0.005814034248226598, 0.07023497822714618, 0.029097348122674845, 0.09331218535892277, 0.3401379659857508, 0.3852890234174876, 0.015050352477245609, 0.06722490773169705, 0.4262278339665957, 0.010805776072392567, 0.22391969305569043, 0.16748952912208478, 0.0660352982201768, 0.08044299965003356, 0.025213477502249323, 0.043093506574956295, 0.8905991358824301, 0.06464025986243445, 0.07404629236756079, 0.14970228674311203, 0.12475190561926003, 0.5714442128366104, 0.0772656963835417, 0.002414553011985678, 0.05539841496596954, 0.9430321093070724, 0.9975749519397463, 0.9943171409940457, 0.26260292242498, 0.20908930167871306, 0.14068013701338214, 0.21405448298506774, 0.02041241203723584, 0.11199242279888853, 0.04137651088628887, 0.12523820066924715, 0.04125493669104612, 0.04125493669104612, 0.21806180822410093, 0.470011600158704, 0.04272832728715491, 0.06188240503656918, 0.06489707904782102, 0.8707024772249321, 0.059488989127169274, 0.02990510369746783, 0.10840600090332088, 0.0037381379621834786, 0.8560335933400166, 0.9978660091234474, 0.08045881969958875, 0.2728056855439181, 0.12320256766499527, 0.10434503179790415, 0.016343197751478963, 0.05531543854346726, 0.34697865995447646, 0.14651123494317195, 0.8441837822916097, 0.003488362736742189, 0.0020163016434334613, 0.004032603286866923, 0.9920204085692629, 0.08686242115768884, 0.019302760257264188, 0.8189885423439234, 0.027575371796091694, 0.046878132053355885, 0.1416686869833567, 0.23352692237895784, 0.5453274115386744, 0.02005355843143405, 0.009703334724887444, 0.049810451587755544, 0.30573737423693764, 0.0013010101031359048, 0.6596121222899037, 0.03382626268153353, 0.0072310524770626385, 0.9906541893575815, 0.05521084201011225, 0.9385843141719081, 0.11339069533627304, 0.09824464577872032, 0.32666344721424506, 0.16210366553488853, 0.054443907869040846, 0.24479290906531145, 0.19636043054535166, 0.09111689043291497, 0.10277137641852038, 0.14338549424714528, 0.20448325411107665, 0.049443273878325956, 0.13420317195545617, 0.07840290572134545, 0.1267906784052694, 0.8726181984362658, 0.10275369129150048, 0.03785662310739492, 0.0703051571994477, 0.021632356061368523, 0.7625405511632405, 0.37716646103135204, 0.07700481912723438, 0.1367228421238651, 0.21529918817206345, 0.00235729038144595, 0.05578920569422082, 0.13593707866338312, 0.8770853603895978, 0.11558489245444312, 0.7901454094054977, 0.005940942927860885, 0.0772322580621915, 0.12475980148507858, 0.6208538741323836, 0.1092702818472995, 0.2036400707154218, 0.03228440145488395, 0.002483415496529534, 0.03228440145488395, 0.00641095986242433, 0.08334247821151629, 0.8783015011521331, 0.02564383944969732, 0.1672599544981885, 0.08827608709626615, 0.0015487032823906343, 0.08672738381387553, 0.1719060643453604, 0.35000694182028336, 0.030974065647812687, 0.10221441663778187, 0.2639964022538059, 0.09490381613868569, 0.0048174525958723695, 0.2644781475133931, 0.08045145835106858, 0.21582187629508218, 0.06503561004427699, 0.01108014097050645, 0.11963606023317074, 0.23297548571722723, 0.6422567444096534, 0.045066342309869334, 0.045066342309869334, 0.045066342309869334, 0.29293122501415064, 0.5708403359250116, 0.007511057051644889, 0.21351594684383712, 0.07941539295333583, 0.22779678505035805, 0.18948234108164339, 0.0013932525079532602, 0.09961755431865811, 0.12852754385868825, 0.06025817096897851, 0.05809054430666843, 0.9367100269450284, 0.044150795091178925, 0.81678970918681, 0.13245238527353675, 0.17950279949508477, 0.25928182149290024, 0.5518049021515569, 0.0066482518331512875, 0.13915375631813318, 0.5924576594756883, 0.01897551222519998, 0.24773585405122195, 0.003920713060281029, 0.04182093930966431, 0.010455234827416077, 0.17120447029893826, 0.6456107505929428, 0.12676972228241995, 0.01169913513888403, 0.2222835676387966, 0.766293351596904, 0.9933760355689235, 0.005085730640794871, 0.04831444108755127, 0.8289740944495639, 0.11697180473828203, 0.9627345124490652, 0.03169496337280873, 0.006751195041124707, 0.025316981404217648, 0.0016877987602811767, 0.0033755975205623534, 0.6936852904755636, 0.27173560040526945, 0.30786206562067675, 0.6886388309936191, 0.002428399052203976, 0.25862449905972346, 0.002428399052203976, 0.4601816203926535, 0.1833441284414002, 0.07770876967052723, 0.015784593839325844, 0.07454705374395265, 0.3896138469259412, 0.1016231062830298, 0.03973498619371061, 0.03446043050428, 0.09881000991533347, 0.2345419096566812, 0.02637277844715306, 0.9942326564479576, 0.9857457939063404, 0.007582659953125696, 0.23262387043823599, 0.0022154654327451047, 0.028801050625686362, 0.7355345236713747, 0.7640046507710244, 0.013172493978810765, 0.21075990366097225, 0.006586246989405383, 0.056304219060459335, 0.07547808825402116, 0.34543399261416946, 0.26386896175901753, 0.08141285729012364, 0.16023876397476672, 0.0010652149551978794, 0.01613039789299646, 0.7852656724992471, 0.21019737698212168, 0.06259145018836011, 0.01079162934282071, 0.03741098172177846, 0.05683591453885574, 0.10719685147201904, 0.08705247669875373, 0.04244707541509479, 0.5949784977675151, 0.03137536044591389, 0.07619730394007658, 0.0582685265424115, 0.8292059546420099, 0.017174037119131978, 0.1431169759927665, 0.0038164526931404397, 0.8358031397977563, 0.014988434616027434, 0.9792443949137923, 0.8822528216092359, 0.002334002173569407, 0.11436610650490095, 0.003050059891119369, 0.9943195245049143, 0.029372754072813523, 0.04475848239666822, 0.15945209353813056, 0.02797405149791764, 0.47835628061439167, 0.002797405149791764, 0.21540019653396583, 0.04196107724687646, 0.2749742367746939, 0.12383731814457438, 0.05618178650648423, 0.17250182335793748, 0.0383776992333026, 0.06251212864805991, 0.06409471418345383, 0.20731870513660375, 0.9922587369176413, 0.7180213979566392, 0.01772892340633677, 0.008864461703168385, 0.19945038832128867, 0.048754539367426124, 0.034545677820030686, 0.038863887547534524, 0.07772777509506905, 0.05181851673004603, 0.7945505898607058, 0.3946874107066546, 0.004736248928479855, 0.09788247785525034, 0.2494424435666057, 0.14050871821156902, 0.003946874107066545, 0.10893372535503666, 0.0007893748214133091, 0.273572685832597, 0.001347648698682744, 0.6765196467387374, 0.020214730480241156, 0.02830062267233762, 0.9899253776044578, 0.97595929201538, 0.02287404590661047, 0.6628622031305453, 0.3144346348183356, 0.022661955662582747, 0.12163066203119254, 0.08002017238894246, 0.7970009169938669, 0.04799638824633708, 0.0024613532434019014, 0.03445894540762662, 0.007384059730205704, 0.7420980028856733, 0.1649106673079274, 0.002266205528616996, 0.9918426196913719, 0.005287812900106324, 0.9978441881867441, 0.7040307744140825, 0.2907953198666862, 0.13686914364170152, 0.1798528416448805, 0.08144279621654966, 0.19116434111940128, 0.3574433833948568, 0.05316404753024769, 0.0006053601642366692, 0.9970281904977941, 0.0024214406569466767, 0.9958310220133392, 0.07148902832432653, 0.4667813025882497, 0.07008728267090836, 0.03083840437519968, 0.033641895682036016, 0.1878339175580344, 0.0028034913068363345, 0.13456758272814406, 0.004833816648736434, 0.69123578076931, 0.07734106637978294, 0.22477247416624418, 0.9970910713031549, 0.12911940865367014, 0.14977851403825734, 0.015494329038440415, 0.01032955269229361, 0.18076717211513818, 0.5061480819223869, 0.01078818938810927, 0.0008298607221622515, 0.9651280198746985, 0.023236100220543045, 0.1414208228372267, 0.10896358480901074, 0.16460456428595238, 0.39991953999051816, 0.15533106770646213, 0.030138863883343397, 0.4399995052381899, 0.053658476248559746, 0.023114420537841122, 0.473845621025743, 0.009906180230503337, 0.935790770441641, 0.06252499579788247, 0.17967946782203872, 0.8121997565739454, 0.007284302749542111, 0.9977460690874904, 0.021346587303932248, 0.007115529101310749, 0.07945674163130337, 0.4067710802915978, 0.03557764550655374, 0.24548575399522082, 0.20397850090424147, 0.2450359698315902, 0.03291527952961659, 0.0036572532810685105, 0.7131643898083595, 0.0036572532810685105, 0.994033844502986, 0.015457966211500548, 0.43572142258667174, 0.00676286021753149, 0.24925970516044635, 0.1429861874563801, 0.0009661228882187843, 0.14878292478569277, 0.033728627705507566, 0.4207202508529102, 0.04970534609232694, 0.4651000241496307, 0.005325572795606458, 0.02840305490990111, 0.6604932026910909, 0.021398267905758883, 0.06990100849214569, 0.2467933565130858, 0.007349115342937352, 0.5129682509370271, 0.20136576039648343, 0.04115504592044917, 0.2043054065336584, 0.03233610750892435, 0.1578794399753103, 0.11446259398209996, 0.1578794399753103, 0.5644189979117343, 0.8317743361737017, 0.16273845707746337, 0.015701115196127546, 0.13406336821308906, 0.172712267157403, 0.024155561840196224, 0.022947783748186415, 0.30798341346250185, 0.3140223039225509, 0.007246668552058868, 0.15428379557847374, 0.6412420253730315, 0.0032142457412182033, 0.08357038927167328, 0.0064284914824364065, 0.11410572381324621, 0.0013983848108377614, 0.0545370076226727, 0.9439097473154889, 0.4971615546428738, 0.0921171272907777, 0.40233510007883794, 0.006773318183145419, 0.9953037734579296, 0.6640817360598714, 0.3282243063284422, 0.03298641104409004, 0.9189071647996511, 0.047123444348700055, 0.10836404265765484, 0.14448539021020645, 0.006567517736827566, 0.7388457453931012, 0.003283758868413783, 0.04027601114955761, 0.026658883570421465, 0.003931705850313957, 0.4765035700051232, 0.31712564017044526, 0.014096603902345163, 0.03308386630142232, 0.08841543399974312, 0.9953035750671518, 0.9920903961159415, 0.013486534293499983, 0.9845170034254987, 0.7847076660579315, 0.2112674485540585, 0.054714147085943875, 0.9410833298782346, 0.28386229347859815, 0.7114079700759929, 0.02625343581460184, 0.971377125140268, 0.019947681086241138, 0.05129403707890578, 0.7323648627377103, 0.19662714213580548, 0.5079733303993743, 0.4256324921652822, 0.0008193118232247973, 0.008602774143860372, 0.05694217171412341, 0.2164028176727483, 0.09547183132621248, 0.5982901429775982, 0.07637746506096998, 0.17695321712652534, 0.21961782678944253, 0.02727737339104541, 0.30005110730149953, 0.09651993661446838, 0.02727737339104541, 0.15317294288817807, 0.05409766503818082, 0.7627770770383496, 0.17852229462599672, 0.772916221581199, 0.22083320616605684, 0.7744947880898446, 0.19595651264923777, 0.009331262507106561, 0.013996893760659842, 0.0891829863182338, 0.8401442688388162, 0.056752809475239696, 0.002026886052687132, 0.012161316316122791, 0.9979226066033996, 0.9966893078928549, 0.9974255045576625, 0.0011451498330168342, 0.998326098806389, 0.9931221201416763, 0.010101376848729235, 0.9444787353561835, 0.015152065273093852, 0.025253442121823087, 0.06235147122739969, 0.058285070929960575, 0.8769869974810347, 0.0013554667658130367, 0.9927474343661665, 0.1385935369132341, 0.0031144615036681816, 0.0015572307518340908, 0.3036599966076477, 0.5512596861492681, 0.9993529928153153, 0.00632028939978931, 0.16613332136589043, 0.5923014066088268, 0.004514492428420936, 0.09901786726336587, 0.006621255561684039, 0.12490095718631256, 0.9990199166340981, 0.996206179904703, 0.9985333056253913, 0.12743534948237087, 0.8695588552914718, 0.11903167071422023, 0.48920465040276356, 0.030367483962473317, 0.14274934067031253, 0.001551623268155571, 0.20946914120100207, 0.0077581163407778545, 0.9938274154315844, 0.7216225802210561, 0.012886117503947431, 0.03865835251184229, 0.21906399756710632, 0.006443058751973716, 0.21091681864656087, 0.2882529854836332, 0.4991698041301941, 0.9972594351593769, 0.9977676788951263, 0.09982193872169468, 0.28531058728558034, 0.3292469470544294, 0.16189660043137957, 0.06023632029676235, 0.046632593841135446, 0.01041726800656114, 0.00637291689813152, 0.22118146799483082, 0.7709754027248388, 0.005508826034837063, 0.30849425795087554, 0.523338473309521, 0.1597559550102748, 0.9936150552678238, 0.08397504565696634, 0.7504153016154439, 0.13578943553041364, 0.0017867030990843902, 0.030373952684434633, 0.026495662493157948, 0.013247831246578974, 0.8279894529111859, 0.11923048121921076, 0.8972440437084943, 0.10122753313634295, 0.028652817870019793, 0.968465244006669, 0.002176981691021479, 0.9927036511057944, 0.004353963382042958, 0.6770584147263249, 0.31459279876172674, 0.8587890011379031, 0.12949992874301713, 0.006815785723316692, 0.15928975532914957, 0.16687498177339477, 0.6674999270935791, 0.0007993040818768535, 0.03117285919319729, 0.3029362470313275, 0.5067587879099251, 0.12309282860903545, 0.0023979122456305605, 0.03197216327507414, 0.04243026578675201, 0.951650246931438, 0.990722109710435, 0.24043231343054416, 0.013507433338794615, 0.2242233934239906, 0.45114827351574016, 0.070238653361732, 0.08175942026616634, 0.014015900617057086, 0.5185883228311122, 0.014015900617057086, 0.24060629392614666, 0.02803180123411417, 0.10511925462792815, 0.6845177862496267, 0.03970075093309341, 0.0006403346924692485, 0.20106509343534404, 0.05698978762976312, 0.0006403346924692485, 0.016008367311731213, 0.049989490891807965, 0.36554815214634573, 0.13955399540629723, 0.0458236999841573, 0.032805603397748975, 0.11507997382384959, 0.21922474651511617, 0.03176415567083631, 0.9968786199049529, 0.6101495844313581, 0.3889703600749908, 0.2515962674824314, 0.03089778723468456, 0.3899006484376861, 0.005885292806606583, 0.32074845796005874, 0.03309851787167601, 0.8038211483121316, 0.004728359695953715, 0.15603586996647262, 0.041487452244037146, 0.6223117836605573, 0.324985042578291, 0.16131402126424277, 0.12055740018049564, 0.3815367721621368, 0.06130617793269523, 0.01780961593575504, 0.0619911631609935, 0.15172422806806696, 0.04383905461108933, 0.4082158174424723, 0.048854905460125615, 0.06649881112561558, 0.046315252371911156, 0.151978187436834, 0.10526193720888899, 0.10479410637684948, 0.06796913659773975, 0.9986114504947033, 0.07404482862583373, 0.13574885248069518, 0.03085201192743072, 0.48951858924856745, 0.22213448587750118, 0.04730641828872711, 0.3676873564828024, 0.02349023040528995, 0.17356670243908684, 0.01990144520448176, 0.007177570401616372, 0.07014443801579637, 0.1510552316340173, 0.18694308364209916, 0.05749272005508399, 0.27103710883111026, 0.6652729034945433, 0.0043233306272307875, 0.9949299569535894, 0.0005639126905083636, 0.2676160919776314, 0.7305196024254262, 0.9950487675983405, 0.0812340168088765, 0.8195078754542542, 0.09795866732835108, 0.0036390060545822183, 0.975981423838951, 0.0072780121091644365, 0.009946616549191397, 0.002911204843665775, 0.9974319937644337, 0.24297852024014216, 0.001970096110055207, 0.07486365218209785, 0.15892108621112, 0.18321893823513422, 0.22984454617310746, 0.10375839512957422, 0.005253589626813884, 0.32787454489044393, 0.1753444385199392, 0.19294406617807436, 0.04432498817604411, 0.07822056736948961, 0.11993820329988407, 0.04171763593039446, 0.019555141842372403, 0.9984951286105209, 0.11715034664016992, 0.20417631843001044, 0.003347152761147712, 0.07363736074524967, 0.6024874970065881, 0.16130801240656872, 0.8334247307672717, 0.002148713985713005, 0.09757689393943765, 0.05523458892685784, 0.011375544630245323, 0.0065725368974750755, 0.10035758262683095, 0.6744434016332116, 0.05245390023946454, 0.0204782534777045, 0.614347604331135, 0.3617824781061128, 0.9969329388120843, 0.07884325444517032, 0.1203397041531547, 0.7967318343933001, 0.188537614706207, 0.05953819411774958, 0.009923032352958263, 0.7343043941189115, 0.03834882963259969, 0.8692401383389263, 0.08308913087063266, 0.9385993902553648, 0.00601666275804721, 0.054149964822424894, 0.1142498216698269, 0.5201727174849766, 0.0416675820207604, 0.24462902992833524, 0.03897935092264682, 0.0416675820207604, 0.9947944809321345, 0.9973696468623471, 0.219115106188098, 0.05618336056105078, 0.08989337689768125, 0.578688613778823, 0.03932835239273554, 0.005618336056105078, 0.006290811171382868, 0.1383978457704231, 0.07548973405659443, 0.04403567819968008, 0.5095557048820124, 0.006290811171382868, 0.2201783909984004, 0.0024913248642784163, 0.24041284940286717, 0.682623012812286, 0.0012456624321392081, 0.07349408349621328, 0.16026397232826756, 0.12592169254363877, 0.18152347886160916, 0.04415435972309412, 0.011447426594876253, 0.08830871944618825, 0.3875771575693817, 0.1210065133591157, 0.03189711440010163, 0.017214315707991357, 0.17113055027356114, 0.06075640838114596, 0.4673180411316477, 0.03493493481915893, 0.0956913432003049, 0.6920970820000985, 0.1950698339228077, 0.010688758023167544, 0.05077160061004583, 0.010688758023167544, 0.04008284258687829, 0.9951804791308609, 0.3594239498442745, 0.022197203553328118, 0.054639270285115366, 0.2518528864704536, 0.11013227916843565, 0.10927854057023073, 0.02817337374076261, 0.06403039486536957, 0.4492653660476817, 0.5478845927410753, 0.19038822099266345, 0.21273425632044085, 0.1742990755566637, 0.10323868321433159, 0.09832255544222056, 0.12737240136833117, 0.04424514994899925, 0.04916127772111028, 0.25349979926764765, 0.041686633657346504, 0.5610795557123935, 0.14308655336440557, 0.15549909639785586, 0.7619455723494938, 0.07774954819892793, 0.07619968395092121, 0.006894257119369062, 0.021408482633830245, 0.24129899917791717, 0.22206765037125611, 0.11212239209921264, 0.2685131720175319, 0.05188835621419873, 0.15921715888886337, 0.18196246730155816, 0.04549061682538954, 0.5989597882009623, 0.015163538941796513, 0.13415376783136465, 0.11412566349618024, 0.005870306443071298, 0.01709295111364878, 0.0022445289341154963, 0.03660308723326809, 0.01519373432324336, 0.6745672727376342, 0.9915431119933492, 0.16803826217233808, 0.8286024651946327, 0.14225608601836892, 0.8535365161102135, 0.11793186844345561, 0.014741483555431952, 0.8550060462150532], \"Term\": [\"accountable\", \"act\", \"act\", \"activity\", \"activity\", \"activity\", \"activity\", \"activity\", \"activity\", \"adequate\", \"adequate\", \"admin\", \"admin\", \"admin\", \"administration\", \"administration\", \"administration\", \"administration\", \"administration\", \"administrator\", \"administrator\", \"administrator\", \"administrator\", \"administrator\", \"adult\", \"age\", \"age\", \"age\", \"age\", \"age\", \"ago\", \"amazing\", \"amount\", \"amount\", \"amount\", \"amount\", \"amount\", \"amount\", \"amount time\", \"amount time\", \"amount time\", \"anyone\", \"anyone\", \"anyone\", \"appropriate\", \"appropriate\", \"appropriate\", \"appropriate\", \"appropriate\", \"art\", \"art\", \"art\", \"art\", \"art\", \"art\", \"assessment\", \"assessment\", \"assessment\", \"assessment\", \"assessment\", \"assessment\", \"assistant\", \"assistant\", \"assistant\", \"assistant principal\", \"away\", \"away\", \"away\", \"away\", \"away\", \"away\", \"away\", \"bad\", \"bad\", \"bad\", \"bad\", \"basic\", \"basic\", \"basic\", \"basic\", \"beginning\", \"beginning\", \"beginning\", \"beginning\", \"behavior\", \"behavior\", \"behavior\", \"behavior\", \"behavior\", \"benchmark\", \"benchmark\", \"best\", \"best\", \"best\", \"best\", \"best\", \"best\", \"best\", \"big\", \"big\", \"big\", \"big\", \"big\", \"block\", \"block\", \"book\", \"book\", \"book\", \"book\", \"book\", \"book\", \"building\", \"building\", \"building\", \"building\", \"building\", \"central\", \"central office\", \"change\", \"change\", \"change\", \"change\", \"change\", \"change\", \"change\", \"change\", \"child\", \"child\", \"child\", \"child\", \"child\", \"child\", \"child\", \"child\", \"class\", \"class\", \"class\", \"class\", \"class\", \"class\", \"class\", \"class\", \"classroom\", \"classroom\", \"classroom\", \"classroom\", \"classroom\", \"classroom\", \"classroom\", \"classroom\", \"coach\", \"coach\", \"coaching\", \"coaching\", \"communication\", \"communication\", \"concept\", \"concept\", \"consequence\", \"consequence\", \"consequence\", \"consequence\", \"constant\", \"constant\", \"constant\", \"constant\", \"constant\", \"consuming\", \"counseling\", \"counselor\", \"county\", \"county\", \"county\", \"county\", \"county\", \"county\", \"culture\", \"culture\", \"culture\", \"culture\", \"curriculum\", \"curriculum\", \"curriculum\", \"curriculum\", \"curriculum\", \"curriculum\", \"curriculum\", \"curriculum\", \"data\", \"data\", \"data\", \"data\", \"data\", \"data\", \"data\", \"day\", \"day\", \"day\", \"day\", \"day\", \"day\", \"day\", \"decision\", \"decision\", \"decision\", \"decision\", \"department\", \"department\", \"department\", \"department\", \"department\", \"department\", \"department education\", \"department education\", \"department education\", \"develop\", \"develop\", \"develop\", \"develop\", \"develop\", \"develop\", \"development\", \"development\", \"developmentally\", \"developmentally\", \"developmentally appropriate\", \"disability\", \"disability\", \"discipline\", \"discipline\", \"discipline\", \"discipline\", \"discipline\", \"district\", \"district\", \"district\", \"district\", \"district\", \"district\", \"district\", \"ed\", \"ed\", \"education\", \"education\", \"education\", \"education\", \"education\", \"education student\", \"education teacher\", \"educator\", \"educator\", \"educator\", \"educator\", \"educator\", \"educator\", \"educator\", \"elementary\", \"elementary\", \"elementary\", \"elementary\", \"elementary school\", \"emphasis\", \"emphasis\", \"emphasis\", \"emphasis\", \"employee\", \"employee\", \"employee\", \"end\", \"end\", \"end\", \"end\", \"end\", \"end\", \"enough\", \"enough\", \"enough\", \"enough\", \"enough\", \"enough\", \"enough\", \"enough\", \"enough time\", \"enough time\", \"enough time\", \"environment\", \"environment\", \"environment\", \"environment\", \"environment\", \"environment\", \"eoc\", \"evaluate\", \"evaluate\", \"evaluate\", \"evaluate\", \"evaluated\", \"evaluated\", \"evaluation\", \"evaluation\", \"evaluation\", \"evaluation\", \"evaluation\", \"evaluation process\", \"evaluation process\", \"evaluation system\", \"evaluator\", \"even\", \"even\", \"even\", \"even\", \"even\", \"even\", \"even\", \"even\", \"even though\", \"every\", \"every\", \"every\", \"every\", \"every\", \"every\", \"every\", \"every\", \"every year\", \"every year\", \"every year\", \"every year\", \"exam\", \"faculty\", \"fair\", \"fair\", \"fair\", \"fair\", \"fair\", \"fair\", \"feel\", \"feel\", \"feel\", \"feel\", \"feel\", \"feel\", \"feel\", \"feel\", \"felt\", \"felt\", \"felt\", \"felt\", \"fine\", \"fine\", \"fine\", \"fine\", \"fine\", \"fine\", \"first\", \"first\", \"first\", \"first\", \"first\", \"first\", \"first\", \"first\", \"focus\", \"focus\", \"focus\", \"focus\", \"focus\", \"focus\", \"fund\", \"fund\", \"fund\", \"fund\", \"fund\", \"fund\", \"funding\", \"funding\", \"funding\", \"gap\", \"gap\", \"gap\", \"gap\", \"get\", \"get\", \"get\", \"get\", \"get\", \"get\", \"get\", \"get\", \"given\", \"given\", \"given\", \"given\", \"given\", \"given\", \"given\", \"given\", \"good\", \"good\", \"good\", \"good\", \"good\", \"good\", \"good\", \"good\", \"good teacher\", \"good teacher\", \"good teacher\", \"good teacher\", \"good teacher\", \"grade\", \"grade\", \"grade\", \"grade\", \"grade\", \"grade level\", \"grade level\", \"grade level\", \"grade level\", \"great\", \"great\", \"great\", \"great\", \"great\", \"great\", \"great\", \"growth\", \"growth\", \"growth\", \"growth\", \"health\", \"held\", \"held accountable\", \"help\", \"help\", \"help\", \"help\", \"help\", \"help\", \"help\", \"help\", \"high\", \"high\", \"high\", \"high\", \"high\", \"high\", \"high\", \"high school\", \"high school\", \"hold\", \"hold\", \"hold\", \"hold\", \"hold\", \"home\", \"home\", \"home\", \"home\", \"home\", \"home\", \"hour\", \"hour\", \"hour\", \"hour\", \"hour\", \"implement\", \"implement\", \"implement\", \"inappropriate\", \"inappropriate\", \"inappropriate\", \"inappropriate\", \"inappropriate\", \"inclusion\", \"increase\", \"increase\", \"increase\", \"information\", \"information\", \"information\", \"information\", \"information\", \"information\", \"initiative\", \"input\", \"input\", \"input\", \"input\", \"instruction time\", \"instruction time\", \"instruction time\", \"instruction time\", \"instructional\", \"instructional\", \"instructional\", \"instructional\", \"instructional coach\", \"instructional time\", \"instructional time\", \"instructional time\", \"instructional time\", \"issue\", \"issue\", \"issue\", \"issue\", \"issue\", \"issue\", \"issue\", \"job\", \"job\", \"job\", \"job\", \"job\", \"job\", \"job\", \"k\", \"k\", \"k\", \"kid\", \"kid\", \"kid\", \"kid\", \"kid\", \"kid\", \"kindergarten\", \"kindergarten\", \"kindergarten portfolio\", \"kindergarten teacher\", \"know\", \"know\", \"know\", \"know\", \"know\", \"know\", \"know\", \"lack\", \"lack\", \"lack\", \"lack\", \"lack\", \"lack\", \"lack\", \"language\", \"language\", \"language\", \"last\", \"last\", \"last\", \"last\", \"last year\", \"le\", \"le\", \"le\", \"le\", \"le\", \"le\", \"le\", \"leader\", \"leader\", \"leader\", \"leadership\", \"leadership\", \"leadership\", \"learn\", \"learn\", \"learn\", \"learn\", \"learn\", \"learning\", \"learning\", \"learning\", \"learning\", \"learning\", \"learning\", \"lesson\", \"lesson\", \"lesson\", \"lesson\", \"lesson plan\", \"lesson plan\", \"let u\", \"let u\", \"level\", \"level\", \"level\", \"level\", \"level\", \"level\", \"like\", \"like\", \"like\", \"like\", \"like\", \"like\", \"like\", \"like\", \"line\", \"line\", \"literacy\", \"literacy\", \"literacy\", \"literacy\", \"literacy\", \"love\", \"love\", \"love\", \"love\", \"love\", \"love\", \"love\", \"love school\", \"love school\", \"love teaching\", \"love teaching\", \"love teaching\", \"love teaching\", \"low\", \"low\", \"low\", \"low\", \"low\", \"low\", \"lunch\", \"lunch\", \"lunch\", \"lunch\", \"made\", \"made\", \"made\", \"made\", \"made\", \"made\", \"made\", \"made\", \"make\", \"make\", \"make\", \"make\", \"make\", \"make\", \"make\", \"make\", \"make sure\", \"make sure\", \"make sure\", \"mandate\", \"mandate\", \"mandate\", \"mandate\", \"mandate\", \"mandate\", \"many\", \"many\", \"many\", \"many\", \"many\", \"many\", \"many\", \"many\", \"many standard\", \"many standard\", \"many time\", \"many time\", \"many time\", \"match\", \"match\", \"match\", \"match\", \"math\", \"math\", \"math\", \"math\", \"meeting\", \"meeting\", \"meeting\", \"meeting\", \"meeting\", \"meeting\", \"member\", \"member\", \"member\", \"mental\", \"middle\", \"middle\", \"middle\", \"middle\", \"middle school\", \"middle school\", \"minute\", \"minute\", \"minute\", \"minute\", \"minute\", \"minute\", \"model\", \"model\", \"money\", \"money\", \"money\", \"money\", \"money\", \"money\", \"money\", \"much\", \"much\", \"much\", \"much\", \"much\", \"much\", \"much\", \"much\", \"much emphasis\", \"much testing\", \"much testing\", \"much time\", \"much time\", \"much time\", \"much time\", \"music\", \"music\", \"music\", \"music\", \"need\", \"need\", \"need\", \"need\", \"need\", \"need\", \"need\", \"need\", \"need student\", \"need student\", \"new\", \"new\", \"new\", \"new\", \"new\", \"new\", \"new\", \"new\", \"new teacher\", \"new teacher\", \"new teacher\", \"new teacher\", \"next\", \"next\", \"next\", \"next\", \"next year\", \"next year\", \"observation\", \"observation\", \"observation\", \"office\", \"office\", \"often\", \"often\", \"often\", \"often\", \"often\", \"often\", \"often\", \"often\", \"one\", \"one\", \"one\", \"one\", \"one\", \"one\", \"one\", \"one\", \"one test\", \"online\", \"online\", \"online\", \"online\", \"online\", \"paperwork\", \"paperwork\", \"paperwork\", \"paperwork\", \"paperwork\", \"parent\", \"parent\", \"parent\", \"parent\", \"parent\", \"parent\", \"parent\", \"parent\", \"pay\", \"pay\", \"pay\", \"pay\", \"pay\", \"pay teacher\", \"pd\", \"pd\", \"performance\", \"performance\", \"performance\", \"period\", \"period\", \"period\", \"plan\", \"plan\", \"plan\", \"plan\", \"plan\", \"plan\", \"planning\", \"planning\", \"planning\", \"planning time\", \"plc\", \"plc\", \"please\", \"please\", \"please\", \"please\", \"please\", \"please\", \"portfolio\", \"portfolio\", \"portfolio\", \"portfolio process\", \"practice\", \"practice\", \"practice\", \"practice\", \"practice\", \"practice\", \"practice\", \"practice\", \"prepare\", \"prepare\", \"prepare\", \"prepare\", \"prepare student\", \"previous\", \"previous\", \"previous\", \"previous\", \"previous\", \"previous\", \"principal\", \"principal\", \"principal\", \"principal\", \"problem\", \"problem\", \"problem\", \"problem\", \"problem\", \"problem\", \"process\", \"process\", \"process\", \"process\", \"process\", \"profession\", \"profession\", \"professional\", \"professional\", \"professional\", \"professional development\", \"program\", \"program\", \"program\", \"program\", \"program\", \"program\", \"program\", \"public\", \"public\", \"public\", \"public\", \"public\", \"public school\", \"question\", \"question\", \"question\", \"question\", \"question\", \"question\", \"question\", \"read\", \"read\", \"read\", \"read\", \"read\", \"read\", \"reading\", \"reading\", \"reading\", \"reading\", \"ready\", \"ready\", \"ready\", \"ready\", \"ready\", \"ready\", \"received\", \"received\", \"received\", \"received\", \"relationship\", \"relationship\", \"required\", \"required\", \"required\", \"required\", \"required\", \"required\", \"required\", \"required\", \"result\", \"result\", \"result\", \"result\", \"result\", \"result\", \"rti\", \"rti\", \"rti\", \"rubric\", \"rubric\", \"rubric\", \"rubric\", \"rule\", \"safety\", \"safety\", \"salary\", \"salary\", \"salary\", \"schedule\", \"schedule\", \"schedule\", \"schedule\", \"schedule\", \"school\", \"school\", \"school\", \"school\", \"school\", \"school\", \"school\", \"school\", \"school counselor\", \"school day\", \"school level\", \"school level\", \"school need\", \"school need\", \"school student\", \"school student\", \"school system\", \"school system\", \"school year\", \"school year\", \"science\", \"science\", \"science\", \"science\", \"score\", \"score\", \"score\", \"score\", \"score\", \"scoring\", \"scoring\", \"scoring\", \"scoring\", \"see\", \"see\", \"see\", \"see\", \"see\", \"see\", \"see\", \"semester\", \"semester\", \"semester\", \"single\", \"single\", \"size\", \"size\", \"size\", \"size\", \"skill\", \"skill\", \"skill\", \"skill\", \"skill\", \"social\", \"social study\", \"special\", \"special\", \"special education\", \"special education teacher\", \"sped\", \"sped\", \"sped\", \"sped\", \"spend\", \"spend\", \"spend\", \"spend\", \"spend time\", \"spent\", \"spent\", \"spent\", \"spent\", \"spent\", \"staff\", \"standard\", \"standard\", \"standard\", \"standard\", \"standard\", \"standard\", \"standard\", \"standardized\", \"standardized test\", \"standardized testing\", \"started\", \"started\", \"state\", \"state\", \"state\", \"state\", \"state\", \"state\", \"state\", \"state assessment\", \"state department\", \"state department\", \"state department\", \"state department\", \"state department\", \"state level\", \"state level\", \"state level\", \"state test\", \"state testing\", \"student\", \"student\", \"student\", \"student\", \"student\", \"student\", \"student\", \"student\", \"student behavior\", \"student behavior\", \"student growth\", \"student growth\", \"student growth\", \"student growth\", \"student learn\", \"student need\", \"student need\", \"student need\", \"student need\", \"student need\", \"student school\", \"student school\", \"student school\", \"student school\", \"student take\", \"student take\", \"student test\", \"student test\", \"study\", \"study\", \"study\", \"subject area\", \"subject area\", \"subjective\", \"subjective\", \"subjective\", \"summer\", \"summer\", \"summer\", \"support\", \"support\", \"support\", \"support\", \"support\", \"support\", \"support\", \"supported\", \"supported\", \"supportive\", \"sure\", \"sure\", \"sure\", \"sure\", \"sure\", \"survey\", \"survey\", \"survey\", \"survey\", \"survey\", \"survey\", \"survey\", \"system\", \"system\", \"system\", \"system\", \"system\", \"system\", \"system\", \"take\", \"take\", \"take\", \"take\", \"take\", \"take\", \"take\", \"take\", \"take test\", \"taken away\", \"taken away\", \"taught\", \"taught\", \"taught\", \"taught\", \"taught\", \"tcap\", \"tcap\", \"tcap\", \"tcap\", \"tdoe\", \"tdoe\", \"tdoe\", \"teach\", \"teach\", \"teach\", \"teach\", \"teach\", \"teach\", \"teach\", \"teach\", \"teacher\", \"teacher\", \"teacher\", \"teacher\", \"teacher\", \"teacher\", \"teacher\", \"teacher\", \"teacher evaluation\", \"teacher need\", \"teacher need\", \"teacher need\", \"teacher need\", \"teacher need\", \"teacher need\", \"teaching\", \"teaching\", \"teaching\", \"teaching\", \"teaching\", \"teaching\", \"teaching\", \"teaching\", \"teaching time\", \"teaching time\", \"teaching time\", \"test\", \"test\", \"test\", \"test score\", \"test score\", \"test student\", \"tested\", \"tested\", \"tested\", \"testing\", \"testing\", \"testing\", \"testing\", \"testing\", \"testing student\", \"thing\", \"thing\", \"thing\", \"thing\", \"thing\", \"thing\", \"thing\", \"thing\", \"think\", \"think\", \"think\", \"think\", \"think\", \"think\", \"think\", \"think\", \"though\", \"three\", \"three\", \"three\", \"three\", \"three\", \"tier\", \"tier\", \"time\", \"time\", \"time\", \"time\", \"time\", \"time\", \"time\", \"time\", \"time away\", \"time away\", \"time away\", \"time consuming\", \"time spent\", \"time spent\", \"time spent\", \"time student\", \"time student\", \"time student\", \"time student\", \"time teacher\", \"time teacher\", \"time teacher\", \"timely\", \"timely\", \"timely\", \"tn\", \"tn\", \"tn\", \"tn\", \"tn\", \"tn\", \"tn ready\", \"tnready\", \"today\", \"today\", \"today\", \"today\", \"today\", \"today\", \"took\", \"took\", \"took\", \"took\", \"took\", \"took\", \"took\", \"training\", \"training\", \"training\", \"training\", \"training\", \"two\", \"two\", \"two\", \"two\", \"two\", \"two\", \"two\", \"u\", \"u\", \"u\", \"u\", \"u\", \"u\", \"u\", \"u\", \"unfair\", \"unfair\", \"unfair\", \"unfair\", \"unfair\", \"unfair\", \"unit\", \"want\", \"want\", \"want\", \"want\", \"want\", \"want\", \"want\", \"want\", \"waste time\", \"waste time\", \"way\", \"way\", \"way\", \"way\", \"way\", \"way\", \"way\", \"way\", \"week\", \"week\", \"week\", \"week\", \"wonderful\", \"wonderful\", \"wonderful\", \"work\", \"work\", \"work\", \"work\", \"work\", \"work\", \"work\", \"work\", \"world\", \"world\", \"world\", \"world\", \"world\", \"year\", \"year\", \"year\", \"year\", \"year\", \"year\", \"year\", \"year\", \"year ago\", \"year teacher\", \"year teacher\", \"year teaching\", \"year teaching\", \"year year\", \"year year\", \"year year\"]}, \"R\": 30, \"lambda.step\": 0.01, \"plot.opts\": {\"xlab\": \"PC1\", \"ylab\": \"PC2\"}, \"topic.order\": [2, 8, 3, 5, 6, 7, 1, 4]};\n",
       "\n",
       "function LDAvis_load_lib(url, callback){\n",
       "  var s = document.createElement('script');\n",
       "  s.src = url;\n",
       "  s.async = true;\n",
       "  s.onreadystatechange = s.onload = callback;\n",
       "  s.onerror = function(){console.warn(\"failed to load library \" + url);};\n",
       "  document.getElementsByTagName(\"head\")[0].appendChild(s);\n",
       "}\n",
       "\n",
       "if(typeof(LDAvis) !== \"undefined\"){\n",
       "   // already loaded: just create the visualization\n",
       "   !function(LDAvis){\n",
       "       new LDAvis(\"#\" + \"ldavis_el1489620461646446323733502186\", ldavis_el1489620461646446323733502186_data);\n",
       "   }(LDAvis);\n",
       "}else if(typeof define === \"function\" && define.amd){\n",
       "   // require.js is available: use it to load d3/LDAvis\n",
       "   require.config({paths: {d3: \"https://cdnjs.cloudflare.com/ajax/libs/d3/3.5.5/d3.min\"}});\n",
       "   require([\"d3\"], function(d3){\n",
       "      window.d3 = d3;\n",
       "      LDAvis_load_lib(\"https://cdn.rawgit.com/bmabey/pyLDAvis/files/ldavis.v1.0.0.js\", function(){\n",
       "        new LDAvis(\"#\" + \"ldavis_el1489620461646446323733502186\", ldavis_el1489620461646446323733502186_data);\n",
       "      });\n",
       "    });\n",
       "}else{\n",
       "    // require.js not available: dynamically load d3 & LDAvis\n",
       "    LDAvis_load_lib(\"https://cdnjs.cloudflare.com/ajax/libs/d3/3.5.5/d3.min.js\", function(){\n",
       "         LDAvis_load_lib(\"https://cdn.rawgit.com/bmabey/pyLDAvis/files/ldavis.v1.0.0.js\", function(){\n",
       "                 new LDAvis(\"#\" + \"ldavis_el1489620461646446323733502186\", ldavis_el1489620461646446323733502186_data);\n",
       "            })\n",
       "         });\n",
       "}\n",
       "</script>"
      ],
      "text/plain": [
       "PreparedData(topic_coordinates=                x           y  topics  cluster       Freq\n",
       "topic                                                    \n",
       "1      -23.827280   75.027229       1        1  16.567902\n",
       "7      -29.342321 -102.425484       2        1  15.555563\n",
       "2      -11.280609  -21.301147       3        1  14.019280\n",
       "4       66.649490  -79.293297       4        1  14.005561\n",
       "5       72.102501   98.365669       5        1  10.716644\n",
       "6      -90.892464    2.561730       6        1  10.122352\n",
       "0      133.863632   -6.978845       7        1   9.973454\n",
       "3       54.392189   17.205109       8        1   9.039244, topic_info=     Category          Freq            Term         Total  loglift  logprob\n",
       "term                                                                       \n",
       "706   Default   5319.000000            test   5319.000000  30.0000  30.0000\n",
       "725   Default   7911.000000            time   7911.000000  29.0000  29.0000\n",
       "791   Default   5791.000000            year   5791.000000  28.0000  28.0000\n",
       "572   Default  10428.000000          school  10428.000000  27.0000  27.0000\n",
       "710   Default   4122.000000         testing   4122.000000  26.0000  26.0000\n",
       "651   Default  16319.000000         student  16319.000000  25.0000  25.0000\n",
       "498   Default   1651.000000       portfolio   1651.000000  24.0000  24.0000\n",
       "205   Default   2126.000000      evaluation   2126.000000  23.0000  23.0000\n",
       "692   Default  14962.000000         teacher  14962.000000  22.0000  22.0000\n",
       "489   Default   1323.000000        planning   1323.000000  21.0000  21.0000\n",
       "273   Default   2543.000000           grade   2543.000000  20.0000  20.0000\n",
       "631   Default   4511.000000           state   4511.000000  19.0000  19.0000\n",
       "625   Default   3322.000000        standard   3322.000000  18.0000  18.0000\n",
       "440   Default   6571.000000            need   6571.000000  17.0000  17.0000\n",
       "149   Default   2267.000000             day   2267.000000  16.0000  16.0000\n",
       "510   Default   1205.000000       principal   1205.000000  15.0000  15.0000\n",
       "23    Default   1108.000000  administration   1108.000000  14.0000  14.0000\n",
       "583   Default   2441.000000           score   2441.000000  13.0000  13.0000\n",
       "174   Default   2486.000000       education   2486.000000  12.0000  12.0000\n",
       "168   Default   2298.000000        district   2298.000000  11.0000  11.0000\n",
       "615   Default    873.000000         special    873.000000  10.0000  10.0000\n",
       "343   Default    794.000000    kindergarten    794.000000   9.0000   9.0000\n",
       "624   Default    742.000000           staff    742.000000   8.0000   8.0000\n",
       "24    Default   1204.000000   administrator   1204.000000   7.0000   7.0000\n",
       "562   Default    715.000000             rti    715.000000   6.0000   6.0000\n",
       "307   Default   1000.000000            hour   1000.000000   5.0000   5.0000\n",
       "134   Default    779.000000       counselor    779.000000   4.0000   4.0000\n",
       "446   Default   1389.000000             new   1389.000000   3.0000   3.0000\n",
       "108   Default    628.000000           coach    628.000000   2.0000   2.0000\n",
       "514   Default    823.000000    professional    823.000000   1.0000   1.0000\n",
       "...       ...           ...             ...           ...      ...      ...\n",
       "109    Topic8    119.130539        coaching    183.343187   1.9725  -5.7649\n",
       "722    Topic8    180.193807           three    298.761387   1.8980  -5.3511\n",
       "241    Topic8     89.522096            felt    150.123467   1.8866  -6.0506\n",
       "446    Topic8    827.489604             new   1389.966197   1.8850  -3.8267\n",
       "214    Topic8    160.473517      every year    274.933885   1.8652  -5.4670\n",
       "541    Topic8    143.325869        received    253.357879   1.8339  -5.5800\n",
       "245    Topic8    351.988904           first    636.283597   1.8115  -4.6815\n",
       "771    Topic8     99.718865      waste time    182.520190   1.7991  -5.9427\n",
       "509    Topic8     98.259832        previous    193.619226   1.7253  -5.9575\n",
       "274    Topic8    350.604533     grade level    757.798284   1.6328  -4.6854\n",
       "273    Topic8    938.995344           grade   2543.283797   1.4072  -3.7003\n",
       "282    Topic8    323.650631          growth    842.337931   1.4471  -4.7654\n",
       "97     Topic8    372.082779          change   1134.628750   1.2887  -4.6260\n",
       "369    Topic8    598.209169           level   2442.881219   0.9966  -4.1512\n",
       "145    Topic8    344.094790      curriculum   1152.238102   1.1951  -4.7042\n",
       "458    Topic8    523.993131             one   2527.509516   0.8301  -4.2836\n",
       "699    Topic8    573.112411        teaching   3065.104035   0.7268  -4.1940\n",
       "572    Topic8    921.537882          school  10428.043593  -0.0226  -3.7190\n",
       "754    Topic8    236.892609             two    611.491145   1.4553  -5.0775\n",
       "692    Topic8   1017.421965         teacher  14962.673515  -0.2847  -3.6201\n",
       "330    Topic8    260.353909   instructional    803.481186   1.2767  -4.9830\n",
       "212    Topic8    313.303546           every   1365.690569   0.9314  -4.7979\n",
       "625    Topic8    415.304107        standard   3322.632663   0.3241  -4.5161\n",
       "193    Topic8    228.435914             end    710.485149   1.2689  -5.1138\n",
       "725    Topic8    415.025165            time   7911.709103  -0.5442  -4.5168\n",
       "687    Topic8    218.123300          taught    679.660321   1.2671  -5.1600\n",
       "411    Topic8    235.092748            math    948.590994   1.0086  -5.0851\n",
       "105    Topic8    264.682918       classroom   2625.743060   0.1090  -4.9666\n",
       "586    Topic8    218.786702             see   1429.756430   0.5264  -5.1570\n",
       "372    Topic8    221.840295            like   2831.527709  -0.1430  -5.1431\n",
       "\n",
       "[459 rows x 6 columns], token_table=      Topic      Freq            Term\n",
       "term                                 \n",
       "6         1  0.998538     accountable\n",
       "10        1  0.036305             act\n",
       "10        2  0.961227             act\n",
       "12        1  0.047812        activity\n",
       "12        2  0.017386        activity\n",
       "12        3  0.160821        activity\n",
       "12        5  0.082584        activity\n",
       "12        6  0.013040        activity\n",
       "12        7  0.678056        activity\n",
       "21        2  0.191837        adequate\n",
       "21        6  0.804651        adequate\n",
       "22        1  0.044833           admin\n",
       "22        5  0.926553           admin\n",
       "22        8  0.026153           admin\n",
       "23        1  0.068537  administration\n",
       "23        4  0.000902  administration\n",
       "23        5  0.927048  administration\n",
       "23        6  0.002705  administration\n",
       "23        8  0.000902  administration\n",
       "24        1  0.299708   administrator\n",
       "24        4  0.020755   administrator\n",
       "24        5  0.644248   administrator\n",
       "24        6  0.009963   administrator\n",
       "24        8  0.024076   administrator\n",
       "25        3  0.991842           adult\n",
       "27        1  0.026498             age\n",
       "27        2  0.003312             age\n",
       "27        3  0.953940             age\n",
       "27        4  0.006625             age\n",
       "27        8  0.009937             age\n",
       "...     ...       ...             ...\n",
       "781       7  0.077750       wonderful\n",
       "783       1  0.076200            work\n",
       "783       2  0.006894            work\n",
       "783       3  0.021408            work\n",
       "783       4  0.241299            work\n",
       "783       5  0.222068            work\n",
       "783       6  0.112122            work\n",
       "783       7  0.268513            work\n",
       "783       8  0.051888            work\n",
       "786       1  0.159217           world\n",
       "786       2  0.181962           world\n",
       "786       3  0.045491           world\n",
       "786       4  0.598960           world\n",
       "786       6  0.015164           world\n",
       "791       1  0.134154            year\n",
       "791       2  0.114126            year\n",
       "791       3  0.005870            year\n",
       "791       4  0.017093            year\n",
       "791       5  0.002245            year\n",
       "791       6  0.036603            year\n",
       "791       7  0.015194            year\n",
       "791       8  0.674567            year\n",
       "792       8  0.991543        year ago\n",
       "794       1  0.168038    year teacher\n",
       "794       8  0.828602    year teacher\n",
       "795       1  0.142256   year teaching\n",
       "795       8  0.853537   year teaching\n",
       "796       1  0.117932       year year\n",
       "796       2  0.014741       year year\n",
       "796       8  0.855006       year year\n",
       "\n",
       "[1337 rows x 3 columns], R=30, lambda_step=0.01, plot_opts={'xlab': 'PC1', 'ylab': 'PC2'}, topic_order=[2, 8, 3, 5, 6, 7, 1, 4])"
      ]
     },
     "execution_count": 135,
     "metadata": {},
     "output_type": "execute_result"
    }
   ],
   "source": [
    "pyLDAvis.enable_notebook()\n",
    "panel = pyLDAvis.sklearn.prepare(lda, tf, tf_vectorizer, mds='tsne')\n",
    "panel"
   ]
  },
  {
   "cell_type": "code",
   "execution_count": 123,
   "metadata": {},
   "outputs": [],
   "source": [
    "doc_topic = lda.transform(tf)"
   ]
  },
  {
   "cell_type": "code",
   "execution_count": 124,
   "metadata": {},
   "outputs": [
    {
     "data": {
      "text/html": [
       "<div>\n",
       "<style scoped>\n",
       "    .dataframe tbody tr th:only-of-type {\n",
       "        vertical-align: middle;\n",
       "    }\n",
       "\n",
       "    .dataframe tbody tr th {\n",
       "        vertical-align: top;\n",
       "    }\n",
       "\n",
       "    .dataframe thead th {\n",
       "        text-align: right;\n",
       "    }\n",
       "</style>\n",
       "<table border=\"1\" class=\"dataframe\">\n",
       "  <thead>\n",
       "    <tr style=\"text-align: right;\">\n",
       "      <th></th>\n",
       "      <th>0</th>\n",
       "      <th>1</th>\n",
       "      <th>2</th>\n",
       "      <th>3</th>\n",
       "      <th>4</th>\n",
       "      <th>5</th>\n",
       "      <th>6</th>\n",
       "      <th>7</th>\n",
       "    </tr>\n",
       "  </thead>\n",
       "  <tbody>\n",
       "    <tr>\n",
       "      <th>0</th>\n",
       "      <td>0.002198</td>\n",
       "      <td>0.543873</td>\n",
       "      <td>0.002198</td>\n",
       "      <td>0.002198</td>\n",
       "      <td>0.002195</td>\n",
       "      <td>0.002195</td>\n",
       "      <td>0.002197</td>\n",
       "      <td>0.442946</td>\n",
       "    </tr>\n",
       "    <tr>\n",
       "      <th>1</th>\n",
       "      <td>0.003293</td>\n",
       "      <td>0.003297</td>\n",
       "      <td>0.003292</td>\n",
       "      <td>0.523550</td>\n",
       "      <td>0.003292</td>\n",
       "      <td>0.003293</td>\n",
       "      <td>0.070234</td>\n",
       "      <td>0.389750</td>\n",
       "    </tr>\n",
       "    <tr>\n",
       "      <th>2</th>\n",
       "      <td>0.013900</td>\n",
       "      <td>0.634575</td>\n",
       "      <td>0.013918</td>\n",
       "      <td>0.013895</td>\n",
       "      <td>0.013898</td>\n",
       "      <td>0.013899</td>\n",
       "      <td>0.013902</td>\n",
       "      <td>0.282012</td>\n",
       "    </tr>\n",
       "    <tr>\n",
       "      <th>3</th>\n",
       "      <td>0.008334</td>\n",
       "      <td>0.451833</td>\n",
       "      <td>0.228834</td>\n",
       "      <td>0.122220</td>\n",
       "      <td>0.008352</td>\n",
       "      <td>0.008339</td>\n",
       "      <td>0.008348</td>\n",
       "      <td>0.163741</td>\n",
       "    </tr>\n",
       "    <tr>\n",
       "      <th>4</th>\n",
       "      <td>0.355646</td>\n",
       "      <td>0.058524</td>\n",
       "      <td>0.008346</td>\n",
       "      <td>0.008339</td>\n",
       "      <td>0.008337</td>\n",
       "      <td>0.083563</td>\n",
       "      <td>0.468901</td>\n",
       "      <td>0.008343</td>\n",
       "    </tr>\n",
       "  </tbody>\n",
       "</table>\n",
       "</div>"
      ],
      "text/plain": [
       "          0         1         2         3         4         5         6  \\\n",
       "0  0.002198  0.543873  0.002198  0.002198  0.002195  0.002195  0.002197   \n",
       "1  0.003293  0.003297  0.003292  0.523550  0.003292  0.003293  0.070234   \n",
       "2  0.013900  0.634575  0.013918  0.013895  0.013898  0.013899  0.013902   \n",
       "3  0.008334  0.451833  0.228834  0.122220  0.008352  0.008339  0.008348   \n",
       "4  0.355646  0.058524  0.008346  0.008339  0.008337  0.083563  0.468901   \n",
       "\n",
       "          7  \n",
       "0  0.442946  \n",
       "1  0.389750  \n",
       "2  0.282012  \n",
       "3  0.163741  \n",
       "4  0.008343  "
      ]
     },
     "execution_count": 124,
     "metadata": {},
     "output_type": "execute_result"
    }
   ],
   "source": [
    "topic_df = pd.DataFrame(data=doc_topic,    # values\n",
    "             index=range(len(doc_topic))  )  # 1st column as index)\n",
    "topic_df.head()"
   ]
  },
  {
   "cell_type": "code",
   "execution_count": 125,
   "metadata": {},
   "outputs": [
    {
     "data": {
      "text/plain": [
       "'The instructional coach and RTI Corrdinator should be 2 different positions. There is not way to be an effective coach and also be responsible for RTI.'"
      ]
     },
     "execution_count": 125,
     "metadata": {},
     "output_type": "execute_result"
    }
   ],
   "source": [
    "open_ended_answers[int(topic_df.sort_values(by=3,ascending = False).iloc[7,:].name)]\n"
   ]
  },
  {
   "cell_type": "code",
   "execution_count": null,
   "metadata": {},
   "outputs": [],
   "source": []
  },
  {
   "cell_type": "code",
   "execution_count": 126,
   "metadata": {},
   "outputs": [
    {
     "data": {
      "text/plain": [
       "'I think that our Reading Instructional Coach needs to be in our building more. She is constantly being pulled out of the building for meetings, etc. and it is hard to get coached when our reading coach is not here. She is very beneficial to our classroom and the good reading instruction that is going on so not having her available when we need her can be hard in the classroom.  RTI/ PLT time does not seem to be working. We are pulling students out of the general education/ whole classroom instruction time for an hour a day and have not seen growth in an entire school year. Many of these students who have been in an RTI group for many of years, and still are not growing. We are not using this hour of our day as beneficial as we can. We have other students who need help TOO, not just the ones who \"meet the guidelines\" for RTI. Different students need help every single day based on certain skills and material that has been taught. We should be allowed to meet with those students, not just the ones who qualify due to how they tested on MAP, FAST, etc. Some students do not test well, so I do not think it is an accurate way to identify who needs small group help.  I also do not agree with not having science and social studies time being allotted into our days. We have reading and math time, but no science and social studies. Yet, at the end of the school year our students have to take tests over these two subjects, that obviously are not important enough to implement time into the day to teach them regularly. We have way too many standards and skills to cover in reading class to integrate science and social studies every single day. There is not enough time for all of these subjects, skills/standards to be taught. Yet, at the end of the year our students are required to take a test on something that they may not even have learned yet because there is simply not enough time.'"
      ]
     },
     "execution_count": 126,
     "metadata": {},
     "output_type": "execute_result"
    }
   ],
   "source": [
    "open_ended_answers[int(topic_df.sort_values(by=6).iloc[2,:].name)]"
   ]
  },
  {
   "cell_type": "code",
   "execution_count": 127,
   "metadata": {},
   "outputs": [
    {
     "data": {
      "text/plain": [
       "numpy.ndarray"
      ]
     },
     "execution_count": 127,
     "metadata": {},
     "output_type": "execute_result"
    }
   ],
   "source": [
    "type(doc_topic)"
   ]
  }
 ],
 "metadata": {
  "hide_input": false,
  "kernelspec": {
   "display_name": "Python 3",
   "language": "python",
   "name": "python3"
  },
  "language_info": {
   "codemirror_mode": {
    "name": "ipython",
    "version": 3
   },
   "file_extension": ".py",
   "mimetype": "text/x-python",
   "name": "python",
   "nbconvert_exporter": "python",
   "pygments_lexer": "ipython3",
   "version": "3.7.1"
  }
 },
 "nbformat": 4,
 "nbformat_minor": 2
}
