{
 "cells": [
  {
   "cell_type": "code",
   "execution_count": 2,
   "metadata": {},
   "outputs": [],
   "source": [
    "import pandas as pd\n",
    "import numpy as np\n",
    "import matplotlib.pyplot as plt\n",
    "\n",
    "%matplotlib inline \n",
    "# Increasing default figure size of the notebook\n",
    "plt.rcParams['figure.figsize'] = [12, 8]\n",
    "plt.rcParams['font.size'] = 16"
   ]
  },
  {
   "cell_type": "code",
   "execution_count": 3,
   "metadata": {},
   "outputs": [],
   "source": [
    "import warnings\n",
    "warnings.filterwarnings(\"ignore\",category=DeprecationWarning)\n",
    "warnings.filterwarnings(action='once')"
   ]
  },
  {
   "cell_type": "code",
   "execution_count": 4,
   "metadata": {},
   "outputs": [
    {
     "name": "stderr",
     "output_type": "stream",
     "text": [
      "C:\\Users\\ca20593\\AppData\\Local\\Continuum\\anaconda3\\lib\\importlib\\_bootstrap.py:219: RuntimeWarning: numpy.ufunc size changed, may indicate binary incompatibility. Expected 192 from C header, got 216 from PyObject\n",
      "  return f(*args, **kwds)\n",
      "C:\\Users\\ca20593\\AppData\\Local\\Continuum\\anaconda3\\lib\\site-packages\\nltk\\decorators.py:68: DeprecationWarning: `formatargspec` is deprecated since Python 3.5. Use `signature` and the `Signature` object directly\n",
      "  regargs, varargs, varkwargs, defaults, formatvalue=lambda value: \"\"\n",
      "C:\\Users\\ca20593\\AppData\\Local\\Continuum\\anaconda3\\lib\\importlib\\_bootstrap.py:219: RuntimeWarning: numpy.ufunc size changed, may indicate binary incompatibility. Expected 192 from C header, got 216 from PyObject\n",
      "  return f(*args, **kwds)\n",
      "C:\\Users\\ca20593\\AppData\\Local\\Continuum\\anaconda3\\lib\\importlib\\_bootstrap.py:219: RuntimeWarning: numpy.ufunc size changed, may indicate binary incompatibility. Expected 192 from C header, got 216 from PyObject\n",
      "  return f(*args, **kwds)\n",
      "C:\\Users\\ca20593\\AppData\\Local\\Continuum\\anaconda3\\lib\\importlib\\_bootstrap.py:219: RuntimeWarning: numpy.ufunc size changed, may indicate binary incompatibility. Expected 192 from C header, got 216 from PyObject\n",
      "  return f(*args, **kwds)\n"
     ]
    }
   ],
   "source": [
    "from nltk.tokenize import word_tokenize, sent_tokenize"
   ]
  },
  {
   "cell_type": "code",
   "execution_count": 5,
   "metadata": {},
   "outputs": [
    {
     "ename": "FileNotFoundError",
     "evalue": "[Errno 2] No such file or directory: 'N:\\\\Research and Policy\\\\ORP_Data\\\\Surveys\\\\TES\\\\Raw_Files\\\\2019\\\\2019TNEdSurveyResultsFile_4.26.19_TDOE.dta'",
     "output_type": "error",
     "traceback": [
      "\u001b[1;31m---------------------------------------------------------------------------\u001b[0m",
      "\u001b[1;31mFileNotFoundError\u001b[0m                         Traceback (most recent call last)",
      "\u001b[1;32m<ipython-input-5-bae3f0f7df8f>\u001b[0m in \u001b[0;36m<module>\u001b[1;34m\u001b[0m\n\u001b[1;32m----> 1\u001b[1;33m \u001b[0msurvey_data\u001b[0m \u001b[1;33m=\u001b[0m \u001b[0mpd\u001b[0m\u001b[1;33m.\u001b[0m\u001b[0mread_stata\u001b[0m\u001b[1;33m(\u001b[0m\u001b[1;34m'N:\\\\Research and Policy\\\\ORP_Data\\\\Surveys\\\\TES\\\\Raw_Files\\\\2019\\\\2019TNEdSurveyResultsFile_4.26.19_TDOE.dta'\u001b[0m\u001b[1;33m)\u001b[0m\u001b[1;33m\u001b[0m\u001b[1;33m\u001b[0m\u001b[0m\n\u001b[0m",
      "\u001b[1;32m~\\AppData\\Local\\Continuum\\anaconda3\\lib\\site-packages\\pandas\\util\\_decorators.py\u001b[0m in \u001b[0;36mwrapper\u001b[1;34m(*args, **kwargs)\u001b[0m\n\u001b[0;32m    176\u001b[0m                 \u001b[1;32melse\u001b[0m\u001b[1;33m:\u001b[0m\u001b[1;33m\u001b[0m\u001b[1;33m\u001b[0m\u001b[0m\n\u001b[0;32m    177\u001b[0m                     \u001b[0mkwargs\u001b[0m\u001b[1;33m[\u001b[0m\u001b[0mnew_arg_name\u001b[0m\u001b[1;33m]\u001b[0m \u001b[1;33m=\u001b[0m \u001b[0mnew_arg_value\u001b[0m\u001b[1;33m\u001b[0m\u001b[1;33m\u001b[0m\u001b[0m\n\u001b[1;32m--> 178\u001b[1;33m             \u001b[1;32mreturn\u001b[0m \u001b[0mfunc\u001b[0m\u001b[1;33m(\u001b[0m\u001b[1;33m*\u001b[0m\u001b[0margs\u001b[0m\u001b[1;33m,\u001b[0m \u001b[1;33m**\u001b[0m\u001b[0mkwargs\u001b[0m\u001b[1;33m)\u001b[0m\u001b[1;33m\u001b[0m\u001b[1;33m\u001b[0m\u001b[0m\n\u001b[0m\u001b[0;32m    179\u001b[0m         \u001b[1;32mreturn\u001b[0m \u001b[0mwrapper\u001b[0m\u001b[1;33m\u001b[0m\u001b[1;33m\u001b[0m\u001b[0m\n\u001b[0;32m    180\u001b[0m     \u001b[1;32mreturn\u001b[0m \u001b[0m_deprecate_kwarg\u001b[0m\u001b[1;33m\u001b[0m\u001b[1;33m\u001b[0m\u001b[0m\n",
      "\u001b[1;32m~\\AppData\\Local\\Continuum\\anaconda3\\lib\\site-packages\\pandas\\io\\stata.py\u001b[0m in \u001b[0;36mread_stata\u001b[1;34m(filepath_or_buffer, convert_dates, convert_categoricals, encoding, index_col, convert_missing, preserve_dtypes, columns, order_categoricals, chunksize, iterator)\u001b[0m\n\u001b[0;32m    183\u001b[0m                          \u001b[0mcolumns\u001b[0m\u001b[1;33m=\u001b[0m\u001b[0mcolumns\u001b[0m\u001b[1;33m,\u001b[0m\u001b[1;33m\u001b[0m\u001b[1;33m\u001b[0m\u001b[0m\n\u001b[0;32m    184\u001b[0m                          \u001b[0morder_categoricals\u001b[0m\u001b[1;33m=\u001b[0m\u001b[0morder_categoricals\u001b[0m\u001b[1;33m,\u001b[0m\u001b[1;33m\u001b[0m\u001b[1;33m\u001b[0m\u001b[0m\n\u001b[1;32m--> 185\u001b[1;33m                          chunksize=chunksize, encoding=encoding)\n\u001b[0m\u001b[0;32m    186\u001b[0m \u001b[1;33m\u001b[0m\u001b[0m\n\u001b[0;32m    187\u001b[0m     \u001b[1;32mif\u001b[0m \u001b[0miterator\u001b[0m \u001b[1;32mor\u001b[0m \u001b[0mchunksize\u001b[0m\u001b[1;33m:\u001b[0m\u001b[1;33m\u001b[0m\u001b[1;33m\u001b[0m\u001b[0m\n",
      "\u001b[1;32m~\\AppData\\Local\\Continuum\\anaconda3\\lib\\site-packages\\pandas\\util\\_decorators.py\u001b[0m in \u001b[0;36mwrapper\u001b[1;34m(*args, **kwargs)\u001b[0m\n\u001b[0;32m    176\u001b[0m                 \u001b[1;32melse\u001b[0m\u001b[1;33m:\u001b[0m\u001b[1;33m\u001b[0m\u001b[1;33m\u001b[0m\u001b[0m\n\u001b[0;32m    177\u001b[0m                     \u001b[0mkwargs\u001b[0m\u001b[1;33m[\u001b[0m\u001b[0mnew_arg_name\u001b[0m\u001b[1;33m]\u001b[0m \u001b[1;33m=\u001b[0m \u001b[0mnew_arg_value\u001b[0m\u001b[1;33m\u001b[0m\u001b[1;33m\u001b[0m\u001b[0m\n\u001b[1;32m--> 178\u001b[1;33m             \u001b[1;32mreturn\u001b[0m \u001b[0mfunc\u001b[0m\u001b[1;33m(\u001b[0m\u001b[1;33m*\u001b[0m\u001b[0margs\u001b[0m\u001b[1;33m,\u001b[0m \u001b[1;33m**\u001b[0m\u001b[0mkwargs\u001b[0m\u001b[1;33m)\u001b[0m\u001b[1;33m\u001b[0m\u001b[1;33m\u001b[0m\u001b[0m\n\u001b[0m\u001b[0;32m    179\u001b[0m         \u001b[1;32mreturn\u001b[0m \u001b[0mwrapper\u001b[0m\u001b[1;33m\u001b[0m\u001b[1;33m\u001b[0m\u001b[0m\n\u001b[0;32m    180\u001b[0m     \u001b[1;32mreturn\u001b[0m \u001b[0m_deprecate_kwarg\u001b[0m\u001b[1;33m\u001b[0m\u001b[1;33m\u001b[0m\u001b[0m\n",
      "\u001b[1;32m~\\AppData\\Local\\Continuum\\anaconda3\\lib\\site-packages\\pandas\\io\\stata.py\u001b[0m in \u001b[0;36m__init__\u001b[1;34m(self, path_or_buf, convert_dates, convert_categoricals, index_col, convert_missing, preserve_dtypes, columns, order_categoricals, encoding, chunksize)\u001b[0m\n\u001b[0;32m   1003\u001b[0m \u001b[1;33m\u001b[0m\u001b[0m\n\u001b[0;32m   1004\u001b[0m         \u001b[1;32mif\u001b[0m \u001b[0misinstance\u001b[0m\u001b[1;33m(\u001b[0m\u001b[0mpath_or_buf\u001b[0m\u001b[1;33m,\u001b[0m \u001b[1;33m(\u001b[0m\u001b[0mstr\u001b[0m\u001b[1;33m,\u001b[0m \u001b[0mtext_type\u001b[0m\u001b[1;33m,\u001b[0m \u001b[0mbytes\u001b[0m\u001b[1;33m)\u001b[0m\u001b[1;33m)\u001b[0m\u001b[1;33m:\u001b[0m\u001b[1;33m\u001b[0m\u001b[1;33m\u001b[0m\u001b[0m\n\u001b[1;32m-> 1005\u001b[1;33m             \u001b[0mself\u001b[0m\u001b[1;33m.\u001b[0m\u001b[0mpath_or_buf\u001b[0m \u001b[1;33m=\u001b[0m \u001b[0mopen\u001b[0m\u001b[1;33m(\u001b[0m\u001b[0mpath_or_buf\u001b[0m\u001b[1;33m,\u001b[0m \u001b[1;34m'rb'\u001b[0m\u001b[1;33m)\u001b[0m\u001b[1;33m\u001b[0m\u001b[1;33m\u001b[0m\u001b[0m\n\u001b[0m\u001b[0;32m   1006\u001b[0m         \u001b[1;32melse\u001b[0m\u001b[1;33m:\u001b[0m\u001b[1;33m\u001b[0m\u001b[1;33m\u001b[0m\u001b[0m\n\u001b[0;32m   1007\u001b[0m             \u001b[1;31m# Copy to BytesIO, and ensure no encoding\u001b[0m\u001b[1;33m\u001b[0m\u001b[1;33m\u001b[0m\u001b[1;33m\u001b[0m\u001b[0m\n",
      "\u001b[1;31mFileNotFoundError\u001b[0m: [Errno 2] No such file or directory: 'N:\\\\Research and Policy\\\\ORP_Data\\\\Surveys\\\\TES\\\\Raw_Files\\\\2019\\\\2019TNEdSurveyResultsFile_4.26.19_TDOE.dta'"
     ]
    }
   ],
   "source": [
    "survey_data = pd.read_stata('N:\\\\Research and Policy\\\\ORP_Data\\\\Surveys\\\\TES\\\\Raw_Files\\\\2019\\\\2019TNEdSurveyResultsFile_4.26.19_TDOE.dta')\n"
   ]
  },
  {
   "cell_type": "markdown",
   "metadata": {},
   "source": [
    "Q12 or Q10?"
   ]
  },
  {
   "cell_type": "code",
   "execution_count": 5,
   "metadata": {
    "scrolled": false
   },
   "outputs": [
    {
     "data": {
      "text/plain": [
       "['tchlic',\n",
       " 'Email',\n",
       " 'sch_id',\n",
       " 'district_no',\n",
       " 'school_no',\n",
       " 'district_name',\n",
       " 'school_name',\n",
       " 'Fname',\n",
       " 'Lname',\n",
       " 'Gender',\n",
       " 'EthnicOrigin19',\n",
       " 'YrsExpr19',\n",
       " 'E_YrsExpCat19',\n",
       " 'EdLevel19',\n",
       " 'In_EIS',\n",
       " 'In_Compass',\n",
       " 'Role_Compass',\n",
       " 'Actual_Tch',\n",
       " 'Actual_Admin',\n",
       " 'bestguess_tch',\n",
       " 'bestguess_admin',\n",
       " 'tch_in_Compass',\n",
       " 'princ_in_Compass',\n",
       " 'ap_in_Compass',\n",
       " 'Flag_ManualAdd',\n",
       " 'Flag_R2BRCoach',\n",
       " 'Flag_MNPS_Extra_FromCompass',\n",
       " 'Tier_Sch',\n",
       " 'FARM_Quart19',\n",
       " 'Region']"
      ]
     },
     "execution_count": 5,
     "metadata": {},
     "output_type": "execute_result"
    }
   ],
   "source": [
    "list(survey_data.columns)[:30]"
   ]
  },
  {
   "cell_type": "code",
   "execution_count": 6,
   "metadata": {},
   "outputs": [],
   "source": [
    "cols_to_keep = ['tchlic', 'district_no', 'district_name', 'school_no', 'school_name','Gender', 'YrsExpr19', 'EdLevel19', \n",
    "                'Role_Compass', 'bestguess_tch', 'bestguess_admin', 'Tier_Sch', 'StartTime', 'Region',\n",
    "                'EndTime', 'Responded', 'Q10']"
   ]
  },
  {
   "cell_type": "code",
   "execution_count": 7,
   "metadata": {},
   "outputs": [],
   "source": [
    "df_selected_columns = survey_data.loc[:,cols_to_keep]"
   ]
  },
  {
   "cell_type": "code",
   "execution_count": 1,
   "metadata": {},
   "outputs": [],
   "source": [
    "# df_selected_columns.head(10)"
   ]
  },
  {
   "cell_type": "code",
   "execution_count": 9,
   "metadata": {},
   "outputs": [
    {
     "data": {
      "text/plain": [
       "(75593, 17)"
      ]
     },
     "execution_count": 9,
     "metadata": {},
     "output_type": "execute_result"
    }
   ],
   "source": [
    "df_selected_columns.shape"
   ]
  },
  {
   "cell_type": "code",
   "execution_count": 10,
   "metadata": {},
   "outputs": [
    {
     "data": {
      "text/plain": [
       "                49563\n",
       "N/A               120\n",
       "n/a                96\n",
       ".                  61\n",
       "NA                 61\n",
       "na                 40\n",
       "None               17\n",
       "none               16\n",
       "Less testing       13\n",
       "No comment         11\n",
       "N/a                11\n",
       "...                 9\n",
       "Testing             8\n",
       "Teacher pay         8\n",
       "Salary              8\n",
       "Name: Q10, dtype: int64"
      ]
     },
     "execution_count": 10,
     "metadata": {},
     "output_type": "execute_result"
    }
   ],
   "source": [
    "# Many ways in which people say no\n",
    "df_selected_columns.Q10.value_counts().head(15)"
   ]
  },
  {
   "cell_type": "code",
   "execution_count": 11,
   "metadata": {},
   "outputs": [],
   "source": [
    "# Remove blank or answers which signify no answer\n",
    "def label_q10 (row):\n",
    "    ans_str = row['Q10']\n",
    "#     if 'at this time' in ans_str:\n",
    "#         print(ans_str)\n",
    "#         return 0\n",
    "    if len(row['Q10']) > 23 : # Only keep over 23 characters\n",
    "          return 1\n",
    "    return 0\n",
    "\n",
    "def label_q10_20_words (row):\n",
    "    ans_str = row['Q10']\n",
    "    words_list = [comment for comment in word_tokenize(ans_str) if comment.isalpha()]\n",
    "#     if 'at this time' in ans_str:\n",
    "#         print(ans_str)\n",
    "#         return 0\n",
    "    if len(words_list) > 20 : # Only keep over 20 words\n",
    "          return 1\n",
    "    return 0\n",
    "\n",
    "def length_response (row):\n",
    "    return len(row['Q10'])\n",
    "\n",
    "df_selected_columns['answered_q10'] = df_selected_columns.apply(label_q10, axis=1)\n",
    "df_selected_columns['answered_q10_over_20_words'] = df_selected_columns.apply(label_q10_20_words, axis=1)\n",
    "df_selected_columns['total_surveys_sent'] = df_selected_columns.shape[0]\n",
    "df_selected_columns['total_number_responses'] = df_selected_columns.Responded.sum()\n",
    "df_selected_columns['total_answered_q10'] = df_selected_columns.answered_q10.sum()\n",
    "df_selected_columns['total_answered_q10_20_words'] = df_selected_columns.answered_q10_over_20_words.sum()\n",
    "df_selected_columns['response_character_length'] = df_selected_columns.apply(length_response, axis = 1)"
   ]
  },
  {
   "cell_type": "code",
   "execution_count": 2,
   "metadata": {},
   "outputs": [],
   "source": [
    "# df_selected_columns.head()"
   ]
  },
  {
   "cell_type": "code",
   "execution_count": 13,
   "metadata": {},
   "outputs": [
    {
     "name": "stdout",
     "output_type": "stream",
     "text": [
      "Number of teachers surveyed: 68620\n",
      "Number of teachers responded: 42558\n",
      "Number of teachers answered Question 10: 23294\n"
     ]
    }
   ],
   "source": [
    "print('Number of teachers surveyed: ' + str(sum(df_selected_columns['bestguess_tch'])))\n",
    "print('Number of teachers responded: ' + str(sum(df_selected_columns.loc[(df_selected_columns.loc[:,'Responded'] == 1) & (df_selected_columns.loc[:,'bestguess_tch'] == 1), 'Responded'])))\n",
    "print('Number of teachers answered Question 10: ' + str(sum(df_selected_columns.loc[(df_selected_columns.loc[:,'answered_q10'] == 1) & (df_selected_columns.loc[:,'bestguess_tch'] == 1), 'answered_q10'])))\n"
   ]
  },
  {
   "cell_type": "code",
   "execution_count": 14,
   "metadata": {},
   "outputs": [
    {
     "name": "stdout",
     "output_type": "stream",
     "text": [
      "Number of admins surveyed: 3573\n",
      "Number of admins responded: 2063\n",
      "Number of admins answered Question 10: 1159\n"
     ]
    }
   ],
   "source": [
    "print('Number of admins surveyed: ' + str(sum(df_selected_columns['bestguess_admin'])))\n",
    "print('Number of admins responded: ' + str(sum(df_selected_columns.loc[(df_selected_columns.loc[:,'Responded'] == 1) & (df_selected_columns.loc[:,'bestguess_admin'] == 1), 'Responded'])))\n",
    "print('Number of admins answered Question 10: ' + str(sum(df_selected_columns.loc[(df_selected_columns.loc[:,'answered_q10'] == 1) & (df_selected_columns.loc[:,'bestguess_admin'] == 1), 'answered_q10'])))\n"
   ]
  },
  {
   "cell_type": "code",
   "execution_count": 15,
   "metadata": {},
   "outputs": [
    {
     "data": {
      "text/plain": [
       "Teacher pay and benefits                                                                                                                                                                                                                                                                                                                                                                                                                                                                                                             3\n",
       "Less standardized testing                                                                                                                                                                                                                                                                                                                                                                                                                                                                                                            3\n",
       "Pay increase and less testing                                                                                                                                                                                                                                                                                                                                                                                                                                                                                                        2\n",
       "GET RID OF THE PORTFOLIO!!!!                                                                                                                                                                                                                                                                                                                                                                                                                                                                                                         2\n",
       "\"Returning kindergarten back to learning developmentally appropriate skills, such as turn-taking, sharing, raising their hand, etc. rather than benchmark tests, identifying the main idea/character/theme and advanced math skills.\"                                                                                                                                                                                                                                                                                                2\n",
       "\"Reduce the amount of tests required to be given to students and condensing TNReady testing to 1 week because as of right now, the stress is just drawn out over an extended period of time for students.  Also, testing should NOT happen until the final 2-3 weeks of the school year.  This will assure that teachers have adequate time to get all of the standards taught.\"                                                                                                                                                     2\n",
       "Teacher Pay and Teacher Pay                                                                                                                                                                                                                                                                                                                                                                                                                                                                                                          2\n",
       "\"We are hearing many disturbing things from Betsy Devos.  For example, she has stated that she feels that larger classes and less teachers would be better.  This is not so.  My suggestion that you keep our students in mind and take necessary stands.\"                                                                                                                                                                                                                                                                           2\n",
       "Getting testing resulta back to schools in a timely manner                                                                                                                                                                                                                                                                                                                                                                                                                                                                           2\n",
       "Student and parent accountability.                                                                                                                                                                                                                                                                                                                                                                                                                                                                                                   2\n",
       "Teacher pay School funding                                                                                                                                                                                                                                                                                                                                                                                                                                                                                                           2\n",
       "1. Teacher pay 2. Student discipline                                                                                                                                                                                                                                                                                                                                                                                                                                                                                                 2\n",
       "Schools need to be more focused on academics and not sports.                                                                                                                                                                                                                                                                                                                                                                                                                                                                         2\n",
       "\"First, make the goals for students realistic when testing.  A student who enters a classroom two grade levels behind can make gains but if they are not at grade level, it looks as if the teacher is a failure.  Secondly, make the content that we are having to teach applicable to their grade level and cognitive understanding.  The Social Studies curriculum is a JOKE!!  Students are having to know rivers in Africa and Europe but do not understand their relationships with towns, cities, states, countries, etc.\"    2\n",
       "\"I would hope the changes we've made in early literacy will continue.  I would like to see a balance in the curriculum for students to truly build a love of reading.  We've integrated content standards to the point I think we're teaching above the heads of those children from high poverty areas.  We need accountability in the primary grades, but the amount of testing needs to be streamlined and realistic.  What can be done about this?\"                                                                              2\n",
       "Get rid of standardized testing.                                                                                                                                                                                                                                                                                                                                                                                                                                                                                                     2\n",
       "Standardized testing and teacher salaries                                                                                                                                                                                                                                                                                                                                                                                                                                                                                            2\n",
       "\"1. Focus less on graduation rates, more on practical planning for after school. 2. Less standardized testing, there is still far too much.\"                                                                                                                                                                                                                                                                                                                                                                                         2\n",
       "The continued work in early literacy is extremely important and valuable. We need to continue to grow and develop teachers to meet the demands of all students in their classrooms by providing them support with the best instructional materials and techniques.                                                                                                                                                                                                                                                                   2\n",
       "\"The resources we are given are not sufficient to cover all of the TN standards.  I spent a great deal of my own money purchasing resources, supplies and other items for my classroom.  Our public schools are not fully funded.  Standards set forth by the state are unrealistic in some cases.  All students sadly, are not college bound.  Courses such as home economics, business and trade studies should be implemented.  Social skills and guidance are greatly under allocated.\"                                          2\n",
       "Name: Q10, dtype: int64"
      ]
     },
     "execution_count": 15,
     "metadata": {},
     "output_type": "execute_result"
    }
   ],
   "source": [
    "df_selected_columns.loc[df_selected_columns['answered_q10'] == 1,:].Q10.value_counts().head(20)"
   ]
  },
  {
   "cell_type": "code",
   "execution_count": 16,
   "metadata": {},
   "outputs": [],
   "source": [
    "# Converting the column of the DF with answers into a list of answers\n",
    "open_ended_answers = df_selected_columns.loc[df_selected_columns['answered_q10'] == 1,:].Q10.tolist()"
   ]
  },
  {
   "cell_type": "code",
   "execution_count": 17,
   "metadata": {},
   "outputs": [
    {
     "data": {
      "text/plain": [
       "['Reduce time testing and improve efficiency of  testing.',\n",
       " 'Developmentally appropriate standards that have rigor. Help with students that have ACES (Adverse Childhood Experiences)situations so they can be ready to learn. These students cannot concentrate on school.',\n",
       " '\"Eliminate the TN Ready exam and replace it with something else that is more statistically reliable and fair to everyone.  The current testing only requires that a select number of teachers are evaluated based on the TN Ready exam.  This in itself is unfair because the teachers in the tested subjects are under a lot more stress than those who do not test.  Likewise, it seems unfair for the teachers who do not test to receive a score based upon the scores of those who do test.  At our school, some tested subjects have the entire year for instruction while others must complete the course in one semester.  In Algebra 2 (a full year course), teachers are allowed to drop the failing students at the half-way point.  Consequently, these low performing students do not take the TN Ready test in the spring.  This seems statistically unfair for those on the semester course because they must test everyone in the class.\"',\n",
       " 'Engage as many teachers at all grade level decision making meetings. Get to know the caliber of teachers that are working in the state of TN. They are an amazingly gifted group of people.',\n",
       " 'Reexamine the evaluation process Teacher raises']"
      ]
     },
     "execution_count": 17,
     "metadata": {},
     "output_type": "execute_result"
    }
   ],
   "source": [
    "open_ended_answers[:5]"
   ]
  },
  {
   "cell_type": "code",
   "execution_count": 18,
   "metadata": {},
   "outputs": [],
   "source": [
    "# Selecting columns from the base DF where the open ended question was answered\n",
    "df_open_answered = df_selected_columns.loc[df_selected_columns.loc[:,'answered_q10'] == 1, :]"
   ]
  },
  {
   "cell_type": "code",
   "execution_count": 19,
   "metadata": {},
   "outputs": [],
   "source": [
    "# df_open_answered.to_csv('answered_q10_2019.csv', index = False)"
   ]
  },
  {
   "cell_type": "code",
   "execution_count": 20,
   "metadata": {},
   "outputs": [
    {
     "name": "stdout",
     "output_type": "stream",
     "text": [
      "The number of people who left a comment is: 24761\n"
     ]
    }
   ],
   "source": [
    "print('The number of people who left a comment is: ' + str(len(open_ended_answers)))"
   ]
  },
  {
   "cell_type": "code",
   "execution_count": null,
   "metadata": {},
   "outputs": [],
   "source": [
    "df_selected_columns.loc[(df_selected_columns['answered_q10'] == 1) & (df_selected_columns['Q10'].str.contains(\"Focus less on graduation rates, more on practical planning for after school.\") ),:]"
   ]
  },
  {
   "cell_type": "code",
   "execution_count": null,
   "metadata": {},
   "outputs": [],
   "source": [
    "df_selected_columns.loc[(df_selected_columns['answered_q10'] == 1) & (df_selected_columns['Q10'].str.contains(\"The continued work in early literacy is extremely important and valuable.\") ),:]"
   ]
  },
  {
   "cell_type": "code",
   "execution_count": null,
   "metadata": {},
   "outputs": [],
   "source": [
    "df_selected_columns.loc[(df_selected_columns['answered_q10'] == 1) & (df_selected_columns['Q10'].str.contains(\"I would like the Commissioner to look at classrooms and the % of students that have learning disabilities\") ),:]"
   ]
  },
  {
   "cell_type": "code",
   "execution_count": 24,
   "metadata": {},
   "outputs": [
    {
     "data": {
      "text/plain": [
       "75593"
      ]
     },
     "execution_count": 24,
     "metadata": {},
     "output_type": "execute_result"
    }
   ],
   "source": [
    "len(df_selected_columns.tchlic.unique())"
   ]
  },
  {
   "cell_type": "code",
   "execution_count": 25,
   "metadata": {},
   "outputs": [
    {
     "data": {
      "text/plain": [
       "24732"
      ]
     },
     "execution_count": 25,
     "metadata": {},
     "output_type": "execute_result"
    }
   ],
   "source": [
    "len(df_selected_columns.loc[df_selected_columns.loc[:,'answered_q10'] == 1, 'Q10'].unique())"
   ]
  },
  {
   "cell_type": "markdown",
   "metadata": {},
   "source": [
    "# No nans in yrs expr"
   ]
  },
  {
   "cell_type": "code",
   "execution_count": 26,
   "metadata": {},
   "outputs": [],
   "source": [
    "no_null_df = df_selected_columns[pd.notnull(df_selected_columns['YrsExpr19'])]\n",
    "no_null_df = no_null_df.loc[no_null_df.school_no != 0]"
   ]
  },
  {
   "cell_type": "code",
   "execution_count": 27,
   "metadata": {},
   "outputs": [
    {
     "data": {
      "text/plain": [
       "44261"
      ]
     },
     "execution_count": 27,
     "metadata": {},
     "output_type": "execute_result"
    }
   ],
   "source": [
    "no_null_df.Responded.sum()"
   ]
  },
  {
   "cell_type": "markdown",
   "metadata": {},
   "source": [
    "# Max years experience"
   ]
  },
  {
   "cell_type": "code",
   "execution_count": 28,
   "metadata": {},
   "outputs": [
    {
     "data": {
      "text/plain": [
       "59.0"
      ]
     },
     "execution_count": 28,
     "metadata": {},
     "output_type": "execute_result"
    }
   ],
   "source": [
    "df_selected_columns.YrsExpr19.max()"
   ]
  },
  {
   "cell_type": "markdown",
   "metadata": {},
   "source": [
    "# Distribution of words per comment"
   ]
  },
  {
   "cell_type": "code",
   "execution_count": 29,
   "metadata": {},
   "outputs": [],
   "source": [
    "open_ended_answers_any_length = df_selected_columns.loc[df_selected_columns['response_character_length'] >= 1,:].Q10.tolist()"
   ]
  },
  {
   "cell_type": "code",
   "execution_count": 30,
   "metadata": {},
   "outputs": [],
   "source": [
    "words_list = [word_tokenize(comment) for comment in open_ended_answers_any_length]"
   ]
  },
  {
   "cell_type": "code",
   "execution_count": 31,
   "metadata": {},
   "outputs": [],
   "source": [
    "words_list_no_punct = [[token for token in token_list if token.isalpha()] for token_list in words_list]"
   ]
  },
  {
   "cell_type": "code",
   "execution_count": 32,
   "metadata": {},
   "outputs": [],
   "source": [
    "comment_word_counts = [len(word_list) for word_list in words_list_no_punct]"
   ]
  },
  {
   "cell_type": "code",
   "execution_count": 33,
   "metadata": {},
   "outputs": [
    {
     "data": {
      "text/plain": [
       "53.0"
      ]
     },
     "execution_count": 33,
     "metadata": {},
     "output_type": "execute_result"
    }
   ],
   "source": [
    "round(np.mean(comment_word_counts), 0)"
   ]
  },
  {
   "cell_type": "code",
   "execution_count": 34,
   "metadata": {},
   "outputs": [
    {
     "data": {
      "image/png": "[encoded data removed]",
      "text/plain": [
       "<Figure size 432x288 with 1 Axes>"
      ]
     },
     "metadata": {
      "needs_background": "light"
     },
     "output_type": "display_data"
    }
   ],
   "source": [
    "f, ax = plt.subplots()\n",
    "ax.hist(comment_word_counts, bins = 100, density = True,cumulative=True)\n",
    "ax.axvline(20, color='yellow', linestyle='dashed', linewidth=2)\n",
    "ax.axvline(round(np.mean(comment_word_counts), 0), color='red', linestyle='dashed', linewidth=2)\n",
    "# ax.axhline(0.5, color='red', linestyle='dashed', linewidth=2)\n",
    "ax.grid()\n",
    "# plt.xticks([0,20,40,60,80,100,120,140,160,180,200,220,240,260,280,300,320,34,360,380])\n",
    "ax.set_xlabel('Word Count')\n",
    "ax.set_ylabel('Proportion of Comments')\n",
    "ax.set_title('Cumulative Distribution of Word Counts in Open Ended Comments');"
   ]
  },
  {
   "cell_type": "code",
   "execution_count": 44,
   "metadata": {},
   "outputs": [
    {
     "data": {
      "image/png": "[encoded data removed]",
      "text/plain": [
       "<Figure size 864x576 with 1 Axes>"
      ]
     },
     "metadata": {
      "needs_background": "light"
     },
     "output_type": "display_data"
    }
   ],
   "source": [
    "f, ax = plt.subplots()\n",
    "ax.hist(comment_word_counts, bins = 100)\n",
    "ax.axvline(20, color='yellow', linestyle='dashed', linewidth=2)\n",
    "ax.axvline(round(np.mean(comment_word_counts), 0), color='red', linestyle='dashed', linewidth=2)\n",
    "# ax.axhline(0.5, color='red', linestyle='dashed', linewidth=2)\n",
    "ax.grid()\n",
    "# plt.xticks([0,20,40,60,80,100,120,140,160,180,200,220,240,260,280,300,320,34,360,380])\n",
    "ax.set_xlabel('Word Count')\n",
    "ax.set_ylabel('Number of Comments')\n",
    "ax.set_title('Distribution of Word Counts in Open Ended Comments');"
   ]
  },
  {
   "cell_type": "markdown",
   "metadata": {},
   "source": [
    "# Sentences per comment"
   ]
  },
  {
   "cell_type": "code",
   "execution_count": 36,
   "metadata": {},
   "outputs": [],
   "source": [
    "sent_list = [sent_tokenize(comment) for comment in open_ended_answers_any_length]"
   ]
  },
  {
   "cell_type": "code",
   "execution_count": 37,
   "metadata": {},
   "outputs": [
    {
     "data": {
      "text/plain": [
       "['Reduce time testing and improve efficiency of  testing.']"
      ]
     },
     "execution_count": 37,
     "metadata": {},
     "output_type": "execute_result"
    }
   ],
   "source": [
    "sent_list[0]"
   ]
  },
  {
   "cell_type": "code",
   "execution_count": 38,
   "metadata": {},
   "outputs": [],
   "source": [
    "comment_sent_counts = [len(sents) for sents in sent_list if len(sents) != 126]"
   ]
  },
  {
   "cell_type": "code",
   "execution_count": 39,
   "metadata": {},
   "outputs": [
    {
     "data": {
      "text/plain": [
       "37"
      ]
     },
     "execution_count": 39,
     "metadata": {},
     "output_type": "execute_result"
    }
   ],
   "source": [
    "max(comment_sent_counts)"
   ]
  },
  {
   "cell_type": "code",
   "execution_count": 40,
   "metadata": {},
   "outputs": [
    {
     "data": {
      "text/plain": [
       "[['>CT.E.',\n",
       "  'FUNDING >C.T.E.',\n",
       "  'FUNDING >C.T.E.',\n",
       "  'FUNDING >C.T.E.',\n",
       "  'FUNDING >C.T.E.',\n",
       "  'FUNDING >C.T.E.',\n",
       "  'FUNDING >C.T.E.',\n",
       "  'FUNDING >C.T.E.',\n",
       "  'FUNDING >C.T.E.',\n",
       "  'FUNDING >C.T.E.',\n",
       "  'FUNDING >CT.E.',\n",
       "  'FUNDING >C.T.E.',\n",
       "  'FUNDING >C.T.E.',\n",
       "  'FUNDING >C.T.E.',\n",
       "  'FUNDING >C.T.E.',\n",
       "  'FUNDING >C.T.E.',\n",
       "  'FUNDING >C.T.E.',\n",
       "  'FUNDING >C.T.E.',\n",
       "  'FUNDING >C.T.E.',\n",
       "  'FUNDING >C.T.E.',\n",
       "  'FUNDING >CT.E.',\n",
       "  'FUNDING >C.T.E.',\n",
       "  'FUNDING >C.T.E.',\n",
       "  'FUNDING >C.T.E.',\n",
       "  'FUNDING >C.T.E.',\n",
       "  'FUNDING >C.T.E.',\n",
       "  'FUNDING >C.T.E.',\n",
       "  'FUNDING >C.T.E.',\n",
       "  'FUNDING >C.T.E.',\n",
       "  'FUNDING >C.T.E.',\n",
       "  'FUNDING >CT.E.',\n",
       "  'FUNDING >C.T.E.',\n",
       "  'FUNDING >C.T.E.',\n",
       "  'FUNDING >C.T.E.',\n",
       "  'FUNDING >C.T.E.',\n",
       "  'FUNDING >C.T.E.',\n",
       "  'FUNDING >C.T.E.',\n",
       "  'FUNDING >C.T.E.',\n",
       "  'FUNDING >C.T.E.',\n",
       "  'FUNDING >C.T.E.',\n",
       "  'FUNDING >CT.E.',\n",
       "  'FUNDING >C.T.E.',\n",
       "  'FUNDING >C.T.E.',\n",
       "  'FUNDING >C.T.E.',\n",
       "  'FUNDING >C.T.E.',\n",
       "  'FUNDING >C.T.E.',\n",
       "  'FUNDING >C.T.E.',\n",
       "  'FUNDING >C.T.E.',\n",
       "  'FUNDING >C.T.E.',\n",
       "  'FUNDING >C.T.E.',\n",
       "  'FUNDING >CT.E.',\n",
       "  'FUNDING >C.T.E.',\n",
       "  'FUNDING >C.T.E.',\n",
       "  'FUNDING >C.T.E.',\n",
       "  'FUNDING >C.T.E.',\n",
       "  'FUNDING >C.T.E.',\n",
       "  'FUNDING >C.T.E.',\n",
       "  'FUNDING >C.T.E.',\n",
       "  'FUNDING >C.T.E.',\n",
       "  'FUNDING >C.T.E.',\n",
       "  'FUNDING >CT.E.',\n",
       "  'FUNDING >C.T.E.',\n",
       "  'FUNDING >C.T.E.',\n",
       "  'FUNDING >C.T.E.',\n",
       "  'FUNDING >C.T.E.',\n",
       "  'FUNDING >C.T.E.',\n",
       "  'FUNDING >C.T.E.',\n",
       "  'FUNDING >C.T.E.',\n",
       "  'FUNDING >C.T.E.',\n",
       "  'FUNDING >C.T.E.',\n",
       "  'FUNDING >CT.E.',\n",
       "  'FUNDING >C.T.E.',\n",
       "  'FUNDING >C.T.E.',\n",
       "  'FUNDING >C.T.E.',\n",
       "  'FUNDING >C.T.E.',\n",
       "  'FUNDING >C.T.E.',\n",
       "  'FUNDING >C.T.E.',\n",
       "  'FUNDING >C.T.E.',\n",
       "  'FUNDING >C.T.E.',\n",
       "  'FUNDING >C.T.E.',\n",
       "  'FUNDING >CT.E.',\n",
       "  'FUNDING >C.T.E.',\n",
       "  'FUNDING >C.T.E.',\n",
       "  'FUNDING >C.T.E.',\n",
       "  'FUNDING >C.T.E.',\n",
       "  'FUNDING >C.T.E.',\n",
       "  'FUNDING >C.T.E.',\n",
       "  'FUNDING >C.T.E.',\n",
       "  'FUNDING >C.T.E.',\n",
       "  'FUNDING >C.T.E.',\n",
       "  'FUNDING >CT.E.',\n",
       "  'FUNDING >C.T.E.',\n",
       "  'FUNDING >C.T.E.',\n",
       "  'FUNDING >C.T.E.',\n",
       "  'FUNDING >C.T.E.',\n",
       "  'FUNDING >C.T.E.',\n",
       "  'FUNDING >C.T.E.',\n",
       "  'FUNDING >C.T.E.',\n",
       "  'FUNDING >C.T.E.',\n",
       "  'FUNDING >C.T.E.',\n",
       "  'FUNDING >CT.E.',\n",
       "  'FUNDING >C.T.E.',\n",
       "  'FUNDING >C.T.E.',\n",
       "  'FUNDING >C.T.E.',\n",
       "  'FUNDING >C.T.E.',\n",
       "  'FUNDING >C.T.E.',\n",
       "  'FUNDING >C.T.E.',\n",
       "  'FUNDING >C.T.E.',\n",
       "  'FUNDING >C.T.E.',\n",
       "  'FUNDING >C.T.E.',\n",
       "  'FUNDING >CT.E.',\n",
       "  'FUNDING >C.T.E.',\n",
       "  'FUNDING >C.T.E.',\n",
       "  'FUNDING >C.T.E.',\n",
       "  'FUNDING >C.T.E.',\n",
       "  'FUNDING >C.T.E.',\n",
       "  'FUNDING >C.T.E.',\n",
       "  'FUNDING >C.T.E.',\n",
       "  'FUNDING >C.T.E.',\n",
       "  'FUNDING >C.T.E.',\n",
       "  'FUNDING >CT.E.',\n",
       "  'FUNDING >C.T.E.',\n",
       "  'FUNDING >C.T.E.',\n",
       "  'FUNDING >C.T.E.',\n",
       "  'FUNDING >C.T.E.',\n",
       "  'FUNDING']]"
      ]
     },
     "execution_count": 40,
     "metadata": {},
     "output_type": "execute_result"
    }
   ],
   "source": [
    "[sent for sent in sent_list if len(sent) == 126]"
   ]
  },
  {
   "cell_type": "code",
   "execution_count": 41,
   "metadata": {},
   "outputs": [
    {
     "data": {
      "text/plain": [
       "3.67"
      ]
     },
     "execution_count": 41,
     "metadata": {},
     "output_type": "execute_result"
    }
   ],
   "source": [
    "round(np.mean(comment_sent_counts), 2)"
   ]
  },
  {
   "cell_type": "code",
   "execution_count": 45,
   "metadata": {},
   "outputs": [
    {
     "data": {
      "image/png": "[encoded data removed]",
      "text/plain": [
       "<Figure size 864x576 with 1 Axes>"
      ]
     },
     "metadata": {
      "needs_background": "light"
     },
     "output_type": "display_data"
    }
   ],
   "source": [
    "f, ax = plt.subplots()\n",
    "ax.hist(comment_sent_counts, bins = 37, density = True,cumulative=True)\n",
    "# ax.axvline(20, color='red', linestyle='dashed', linewidth=2)\n",
    "ax.axvline(round(np.mean(comment_sent_counts), 0), color='red', linestyle='dashed', linewidth=2)\n",
    "# ax.axhline(0.5, color='red', linestyle='dashed', linewidth=2)\n",
    "ax.grid()\n",
    "# plt.xticks([0,20,40,60,80,100,120,140,160,180,200,220,240,260,280,300,320,34,360,380])\n",
    "ax.set_xlabel('Sentence Count')\n",
    "ax.set_ylabel('Proportion of Comments')\n",
    "ax.set_title('Cumulative Distribution of Sentence Counts in Open Ended Comments');"
   ]
  },
  {
   "cell_type": "code",
   "execution_count": null,
   "metadata": {},
   "outputs": [],
   "source": []
  }
 ],
 "metadata": {
  "hide_input": false,
  "kernelspec": {
   "display_name": "Python 3",
   "language": "python",
   "name": "python3"
  },
  "language_info": {
   "codemirror_mode": {
    "name": "ipython",
    "version": 3
   },
   "file_extension": ".py",
   "mimetype": "text/x-python",
   "name": "python",
   "nbconvert_exporter": "python",
   "pygments_lexer": "ipython3",
   "version": "3.6.8"
  }
 },
 "nbformat": 4,
 "nbformat_minor": 2
}
