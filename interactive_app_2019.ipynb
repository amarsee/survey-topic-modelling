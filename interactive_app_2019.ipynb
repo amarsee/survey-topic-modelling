{
 "cells": [
  {
   "cell_type": "code",
   "execution_count": 2,
   "metadata": {},
   "outputs": [],
   "source": [
    "import appmode\n",
    "import pandas as pd\n",
    "import numpy as np\n",
    "import matplotlib.pyplot as plt\n",
    "from nltk.tokenize import word_tokenize\n",
    "import nltk\n",
    "from sklearn.feature_extraction.text import TfidfVectorizer, CountVectorizer\n",
    "from sklearn.decomposition import NMF, LatentDirichletAllocation\n",
    "from sklearn.preprocessing import normalize\n",
    "from sklearn.pipeline import make_pipeline\n",
    "# Loading relevant libraries\n",
    "\n",
    "import re\n",
    "# import logging\n",
    "# logging.basicConfig(format='%(asctime)s : %(levelname)s : %(message)s')\n",
    "# logging.root.setLevel(level=logging.INFO)\n",
    "# stop_words = stopwords.words('english')\n",
    "# stop_words = stop_words + ['com', 'edu', 'would', 'could', 'also', 'le', 'thank_you', 'u', 'etc']\n",
    "\n",
    "%matplotlib inline \n",
    "# Increasing default figure size of the notebook\n",
    "plt.rcParams['figure.figsize'] = [12, 8]\n",
    "plt.rcParams['font.size'] = 18"
   ]
  },
  {
   "cell_type": "code",
   "execution_count": 3,
   "metadata": {},
   "outputs": [],
   "source": [
    "from ipywidgets import Button, Layout, Box, interactive, fixed, HBox, Label\n",
    "import ipywidgets as widgets"
   ]
  },
  {
   "cell_type": "code",
   "execution_count": 4,
   "metadata": {},
   "outputs": [],
   "source": [
    "from nltk.corpus import stopwords\n",
    "from nltk.tokenize import word_tokenize\n",
    "# from collections import Counter\n",
    "import nltk"
   ]
  },
  {
   "cell_type": "code",
   "execution_count": 5,
   "metadata": {},
   "outputs": [],
   "source": [
    "from nltk import word_tokenize          \n",
    "from nltk.stem import WordNetLemmatizer \n",
    "stop_words = stopwords.words('english')\n",
    "stop_words = stop_words + ['would', 'like']\n",
    "class LemmaTokenizer(object):\n",
    "    def __init__(self):\n",
    "        self.wnl = WordNetLemmatizer()\n",
    "    def __call__(self, articles):\n",
    "        return [self.wnl.lemmatize(t) for t in word_tokenize(articles) if t.isalpha() and t not in stop_words]"
   ]
  },
  {
   "cell_type": "code",
   "execution_count": 6,
   "metadata": {},
   "outputs": [],
   "source": [
    "import warnings\n",
    "warnings.filterwarnings(\"ignore\",category=PendingDeprecationWarning)\n",
    "warnings.filterwarnings(\"ignore\",category=DeprecationWarning)\n",
    "warnings.filterwarnings(action='once')"
   ]
  },
  {
   "cell_type": "code",
   "execution_count": 7,
   "metadata": {},
   "outputs": [],
   "source": [
    "answer_df = pd.read_csv('N:\\\\ORP_accountability\\\\projects\\\\Andrew\\\\NLP with TES\\\\answered_q10_2019.csv')\n",
    "answer_df = answer_df.loc[answer_df['answered_q10_over_20_words'] == 1]\n",
    "# answer_df.head()"
   ]
  },
  {
   "cell_type": "code",
   "execution_count": 8,
   "metadata": {},
   "outputs": [],
   "source": [
    "# answer_df.head()"
   ]
  },
  {
   "cell_type": "code",
   "execution_count": 9,
   "metadata": {},
   "outputs": [],
   "source": [
    "def label_yrs_exp (row):\n",
    "    yrs_exp = row['YrsExpr19']\n",
    "    if yrs_exp > 25:\n",
    "          return '25+'\n",
    "    elif yrs_exp > 15:\n",
    "        return '15-25'\n",
    "    elif yrs_exp > 5:\n",
    "        return '5-15'\n",
    "    return '<5'\n",
    "\n",
    "answer_df['yrs_exp_cat'] = answer_df.apply(label_yrs_exp, axis=1)"
   ]
  },
  {
   "cell_type": "code",
   "execution_count": 10,
   "metadata": {},
   "outputs": [],
   "source": [
    "# answer_df.head()"
   ]
  },
  {
   "cell_type": "code",
   "execution_count": 11,
   "metadata": {},
   "outputs": [
    {
     "name": "stderr",
     "output_type": "stream",
     "text": [
      "C:\\Users\\ca20593\\AppData\\Local\\Continuum\\anaconda3\\lib\\importlib\\_bootstrap.py:219: RuntimeWarning: numpy.ufunc size changed, may indicate binary incompatibility. Expected 192 from C header, got 216 from PyObject\n",
      "  return f(*args, **kwds)\n"
     ]
    }
   ],
   "source": [
    "from pyLDAvis import sklearn as sklearn_lda\n",
    "import pickle \n",
    "import pyLDAvis\n"
   ]
  },
  {
   "cell_type": "code",
   "execution_count": 12,
   "metadata": {},
   "outputs": [],
   "source": [
    "def make_topic_visual(model, tf, tf_vectorizer):\n",
    "    panel = pyLDAvis.sklearn.prepare(model, tf, tf_vectorizer, sort_topics = False)\n",
    "    return pyLDAvis.display(panel)"
   ]
  },
  {
   "cell_type": "code",
   "execution_count": 13,
   "metadata": {},
   "outputs": [],
   "source": [
    "def subset_df_list(df, district, gender, yrs_exp_cat, role_compass, topics):\n",
    "    n_df = df\n",
    "    if district != 'Any':\n",
    "        n_df = n_df.loc[n_df['district_name'] == district]\n",
    "    if gender != 'Any':\n",
    "        n_df = n_df.loc[n_df['Gender'] == gender]\n",
    "    if yrs_exp_cat!= 'Any':\n",
    "        n_df = n_df.loc[n_df['yrs_exp_cat'] == yrs_exp_cat]\n",
    "    if role_compass != 'Any':\n",
    "        n_df = n_df.loc[n_df['Role_Compass'] == role_compass]\n",
    "    answer_list = n_df.Q10.tolist()\n",
    "    print('First 5 Comments: ')\n",
    "    display(answer_list[:5])\n",
    "    display(total_lda_vis(answer_list, num_topics = topics))\n",
    "    return answer_list"
   ]
  },
  {
   "cell_type": "code",
   "execution_count": 14,
   "metadata": {},
   "outputs": [],
   "source": [
    "# Converting the column of the DF with answers into a list of answers\n",
    "open_ended_answers = answer_df.loc[answer_df['answered_q10'] == 1,:].Q10.tolist()"
   ]
  },
  {
   "cell_type": "code",
   "execution_count": 15,
   "metadata": {},
   "outputs": [],
   "source": [
    "role_list = ['Any'] + answer_df.Role_Compass.sort_values().unique().tolist()"
   ]
  },
  {
   "cell_type": "code",
   "execution_count": 16,
   "metadata": {},
   "outputs": [],
   "source": [
    "dist_list = ['Any'] + answer_df.district_name.sort_values().unique().tolist()"
   ]
  },
  {
   "cell_type": "code",
   "execution_count": 17,
   "metadata": {},
   "outputs": [],
   "source": [
    "# # LDA setup\n",
    "# no_features = 500\n",
    "# tf_vectorizer = CountVectorizer(tokenizer=LemmaTokenizer(), max_df=0.85, min_df=2, max_features=no_features, \n",
    "#                             ngram_range=(1, 3))\n",
    "# tf = tf_vectorizer.fit_transform(open_ended_answers)\n",
    "# tf_feature_names = tf_vectorizer.get_feature_names()\n",
    "# # Run LDA\n",
    "# lda_model = LatentDirichletAllocation(n_components=12, max_iter=5, learning_method='online', \n",
    "#                     learning_offset=50.,random_state=42).fit(tf)"
   ]
  },
  {
   "cell_type": "markdown",
   "metadata": {},
   "source": [
    "## Topics Based on Desired Characteristics"
   ]
  },
  {
   "cell_type": "code",
   "execution_count": 18,
   "metadata": {},
   "outputs": [],
   "source": [
    "def update_range(*args):\n",
    "    n_range = years_exp_range.value\n",
    "    #print(n_range[0])"
   ]
  },
  {
   "cell_type": "code",
   "execution_count": 19,
   "metadata": {},
   "outputs": [],
   "source": [
    "# sub_answers = interactive(subset_df_list, df = fixed(answer_df), district = dist_list, gender = ['Any', 'M', 'F'],\n",
    "#                 yrs_exp_cat = ['Any', '25+', '15-25', '5-15', '<5'], role_compass = role_list, topics = range(3,24))\n",
    "\n",
    "# Widgets\n",
    "years_exp_range = widgets.IntRangeSlider(\n",
    "    value=[1, 59],\n",
    "    min=1,\n",
    "    max=59,\n",
    "    step=1,\n",
    ")\n",
    "years_range_display = HBox([Label('Years Experience: '), years_exp_range])\n",
    "\n",
    "dist_dropdown = widgets.Dropdown(\n",
    "    options= dist_list,\n",
    "    value='Any',\n",
    "    description='District:'\n",
    ")\n",
    "\n",
    "gender_radio = widgets.RadioButtons(\n",
    "    options= ['Any', 'Female', 'Male'],\n",
    "    value='Any',\n",
    "    description='Gender:'\n",
    ")\n",
    "\n",
    "topics_slider = widgets.IntSlider(\n",
    "    value=12,\n",
    "    min=2,\n",
    "    max=40,\n",
    "    step=1\n",
    ")\n",
    "topics_display = HBox([Label('Number of Topics: '), topics_slider])\n",
    "\n",
    "# role_radio = widgets.RadioButtons(\n",
    "#     options= role_list[:len(role_list)-1],\n",
    "#     value='Any',\n",
    "#     description='Role:'\n",
    "# )\n",
    "\n",
    "\n"
   ]
  },
  {
   "cell_type": "code",
   "execution_count": 20,
   "metadata": {},
   "outputs": [],
   "source": [
    "def topic_model_vis(df, district, gender, yrs_exp, topics):\n",
    "    min_yr = yrs_exp[0]\n",
    "    max_yr = yrs_exp[1]\n",
    "    if gender == 'Male':\n",
    "        gender = 'M'\n",
    "    elif gender == 'Female':\n",
    "        gender = 'F'\n",
    "    n_df = df\n",
    "    if district != 'Any':\n",
    "        n_df = n_df.loc[n_df['district_name'] == district]\n",
    "    if gender != 'Any':\n",
    "        n_df = n_df.loc[n_df['Gender'] == gender]\n",
    "    n_df = n_df.loc[(n_df['YrsExpr19'] >= min_yr) & (n_df['YrsExpr19'] <= max_yr)]\n",
    "    answer_list = n_df.Q10.tolist()\n",
    "    print('First 5 Comments: ')\n",
    "    display(answer_list[:5])\n",
    "    # LDA setup\n",
    "    no_features = 500\n",
    "    tf_vectorizer = CountVectorizer(tokenizer=LemmaTokenizer(), max_df=0.85, min_df=2, max_features=no_features, \n",
    "                                ngram_range=(1, 3))\n",
    "    tf = tf_vectorizer.fit_transform(answer_list)\n",
    "    tf_feature_names = tf_vectorizer.get_feature_names()\n",
    "    # Run LDA\n",
    "    lda_model = LatentDirichletAllocation(n_components=topics, max_iter=5, learning_method='online', \n",
    "                        learning_offset=50.,random_state=42).fit(tf)\n",
    "    \n",
    "    display(make_topic_visual(lda_model, tf, tf_vectorizer))\n",
    "    return lda_model, tf, answer_list"
   ]
  },
  {
   "cell_type": "code",
   "execution_count": 21,
   "metadata": {},
   "outputs": [],
   "source": [
    "topic_model = interactive(topic_model_vis, df = fixed(answer_df), district = dist_dropdown, gender = gender_radio,\n",
    "                 yrs_exp = years_exp_range, topics = topics_slider)"
   ]
  },
  {
   "cell_type": "code",
   "execution_count": 22,
   "metadata": {
    "scrolled": false
   },
   "outputs": [
    {
     "data": {
      "application/vnd.jupyter.widget-view+json": {
       "model_id": "d907ecfa1e4843c396366e2e5372ee47",
       "version_major": 2,
       "version_minor": 0
      },
      "text/plain": [
       "interactive(children=(Dropdown(description='District:', options=('Any', 'Achievement School District', 'Alamo'…"
      ]
     },
     "metadata": {},
     "output_type": "display_data"
    }
   ],
   "source": [
    "display(topic_model)"
   ]
  },
  {
   "cell_type": "code",
   "execution_count": 23,
   "metadata": {},
   "outputs": [],
   "source": [
    "# topic_model.result[1]"
   ]
  },
  {
   "cell_type": "code",
   "execution_count": 24,
   "metadata": {},
   "outputs": [],
   "source": [
    "# similar_display = interactive(find_similar_responses, base_text = 'Enter Comment Here', answer_list = fixed(sub_answers.result), \n",
    "#             num_similar = range(1,31), num_topics = fixed(sub_answers.children[4].value))\n",
    "\n",
    "# Widgets for finding similar comments\n",
    "\n",
    "# text_area = widgets.Textarea(\n",
    "#     placeholder='Enter Text',\n",
    "#     description='Base Comment:',\n",
    "#     disabled=False\n",
    "# )\n",
    "\n",
    "dist_dropdown_similar = widgets.RadioButtons(\n",
    "    options= [dist_dropdown.value],\n",
    "    description='District:'\n",
    ")\n",
    "\n",
    "gender_dropdown_similar = widgets.RadioButtons(\n",
    "    options= [gender_radio.value],\n",
    "    description='Gender:'\n",
    ")\n",
    "\n",
    "yrs_min_dropdown_similar = widgets.RadioButtons(\n",
    "    options= [years_exp_range.value[0]],\n",
    "    description='Minimum Years Experience:'\n",
    ")\n",
    "\n",
    "yrs_max_dropdown_similar = widgets.RadioButtons(\n",
    "    options= [years_exp_range.value[1]],\n",
    "    description='Maximum Years Experience:'\n",
    ")\n",
    "\n",
    "# role_dropdown_similar = widgets.RadioButtons(\n",
    "#     options= [role_radio.value],\n",
    "#     description='Role:'\n",
    "# )\n",
    "\n",
    "# num_topics_dropdown_similar = widgets.RadioButtons(\n",
    "#     options= [topics_slider.value],\n",
    "#     description='Number of Topics:'\n",
    "# )\n",
    "\n",
    "top_n_within_topic_slider = widgets.IntSlider(\n",
    "    min=1,\n",
    "    max=25,\n",
    "    step=1,\n",
    "    value =1,\n",
    "    description = 'Fit Within Topic:'\n",
    ")\n",
    "\n",
    "topic_question = widgets.IntSlider(\n",
    "    min=1,\n",
    "    max=topics_slider.value,\n",
    "    step=1,\n",
    "    value =1,\n",
    "    description = 'Select Topic Number from Above:'\n",
    ")\n"
   ]
  },
  {
   "cell_type": "code",
   "execution_count": 25,
   "metadata": {},
   "outputs": [],
   "source": [
    "# topic_question.max"
   ]
  },
  {
   "cell_type": "code",
   "execution_count": 26,
   "metadata": {},
   "outputs": [],
   "source": [
    "# dist_dropdown.value"
   ]
  },
  {
   "cell_type": "code",
   "execution_count": 27,
   "metadata": {},
   "outputs": [],
   "source": [
    "def update_similar_args(*args):\n",
    "    dist_dropdown_similar.options = [dist_dropdown.value]\n",
    "    gender_dropdown_similar.options = [gender_radio.value]\n",
    "    yrs_min_dropdown_similar.options = [years_exp_range.value[0]]\n",
    "    yrs_max_dropdown_similar.options = [years_exp_range.value[1]]\n",
    "    topic_question.max = topics_slider.value\n",
    "#     role_dropdown_similar.options = [role_radio.value]\n",
    "#     num_topics_dropdown_similar.options = [topics_slider.value]"
   ]
  },
  {
   "cell_type": "code",
   "execution_count": 28,
   "metadata": {},
   "outputs": [],
   "source": [
    "# Observe variables to update from first widget\n",
    "dist_dropdown.observe(update_similar_args, 'value')\n",
    "gender_radio.observe(update_similar_args, 'value')\n",
    "years_exp_range.observe(update_similar_args, 'value')\n",
    "topic_question.observe(update_similar_args, 'value')\n",
    "# role_radio.observe(update_similar_args, 'value')\n",
    "# topics_slider.observe(update_similar_args, 'value')\n"
   ]
  },
  {
   "cell_type": "code",
   "execution_count": 29,
   "metadata": {},
   "outputs": [],
   "source": [
    "def show_previous_widget(district, gender, yrs_exp_min, yrs_exp_max, topic_in_question,\n",
    "                         top_n_within_topic):\n",
    "    lda_model = topic_model.result[0]\n",
    "    tf = topic_model.result[1]\n",
    "    answer_list = topic_model.result[2]\n",
    "    \n",
    "    doc_topic = lda_model.transform(tf)\n",
    "    topic_df = pd.DataFrame(data=doc_topic,    # values\n",
    "             index=range(len(doc_topic))  )  # 1st column as index\n",
    "\n",
    "    \n",
    "    print('\\nBest Fit Within Topic: \\n')\n",
    "    print(answer_list[int(topic_df.sort_values(by=topic_in_question-1,ascending = False).iloc[top_n_within_topic-1,:].name)])\n",
    "    \n",
    "    print('\\n\\n Worst Fit Within Topic: \\n')\n",
    "    print(answer_list[int(topic_df.sort_values(by=topic_in_question-1).iloc[top_n_within_topic-1,:].name)])\n",
    "    # print(answer_list[:3])\n",
    "    \n",
    "    return topic_df\n",
    "    "
   ]
  },
  {
   "cell_type": "markdown",
   "metadata": {},
   "source": [
    "## Find comments that fit best or worst within the topics shown above\n",
    "- Use the tool below to aid in topic interpretation\n",
    "- Select the topic you would like to inspect\n",
    "- Select the position for the best and worst fit within the topic\n",
    "    - For example, 2 displays the 2nd highest scoring comment in the topic and the 2nd lowest scoring comment in the topic"
   ]
  },
  {
   "cell_type": "code",
   "execution_count": 30,
   "metadata": {},
   "outputs": [],
   "source": [
    "# similar_comments = interactive(show_similar_responses, base_text = text_area, answer_list = fixed(update_list()), \n",
    "#             num_similar = num_similar_slider, num_topics = fixed(7))\n",
    "\n",
    "topic_interpretation = interactive(show_previous_widget, district = dist_dropdown_similar, \n",
    "                               gender = gender_dropdown_similar, yrs_exp_min = yrs_min_dropdown_similar, \n",
    "                               yrs_exp_max = yrs_max_dropdown_similar, topic_in_question = topic_question,\n",
    "                               top_n_within_topic = top_n_within_topic_slider)"
   ]
  },
  {
   "cell_type": "code",
   "execution_count": 31,
   "metadata": {},
   "outputs": [
    {
     "data": {
      "application/vnd.jupyter.widget-view+json": {
       "model_id": "6b42d5d32c754069899557d2ebfbde5d",
       "version_major": 2,
       "version_minor": 0
      },
      "text/plain": [
       "interactive(children=(RadioButtons(description='District:', options=('Any',), value='Any'), RadioButtons(descr…"
      ]
     },
     "metadata": {},
     "output_type": "display_data"
    }
   ],
   "source": [
    "display(topic_interpretation)"
   ]
  },
  {
   "cell_type": "markdown",
   "metadata": {},
   "source": [
    "# Similar Comments "
   ]
  },
  {
   "cell_type": "code",
   "execution_count": 39,
   "metadata": {},
   "outputs": [],
   "source": [
    "class tfidfTokenizer(object):\n",
    "    def __init__(self):\n",
    "        self.wnl = WordNetLemmatizer()\n",
    "    def __call__(self, articles):\n",
    "        return [self.wnl.lemmatize(t) for t in word_tokenize(articles) if t.isalpha()]"
   ]
  },
  {
   "cell_type": "code",
   "execution_count": 40,
   "metadata": {},
   "outputs": [],
   "source": [
    "from sklearn.metrics.pairwise import cosine_similarity"
   ]
  },
  {
   "cell_type": "code",
   "execution_count": 41,
   "metadata": {},
   "outputs": [],
   "source": [
    "def get_tf_idf_query_similarity(district, gender, yrs_exp_min, yrs_exp_max, \n",
    "                                query, num_similar):\n",
    "    \"\"\"\n",
    "    vectorizer: TfIdfVectorizer model\n",
    "    docs_tfidf: tfidf vectors for all docs\n",
    "    query: query doc\n",
    "\n",
    "    return: cosine similarity between query and all docs\n",
    "    \"\"\"\n",
    "    # display(query)\n",
    "    answer_list = topic_model.result[2]\n",
    "    vectorizer = TfidfVectorizer(tokenizer=tfidfTokenizer(), ngram_range=(1,2))\n",
    "    docs_tfidf = vectorizer.fit_transform(answer_list)\n",
    "    \n",
    "    query_tfidf = vectorizer.transform([query])\n",
    "    cosineSimilarities = cosine_similarity(query_tfidf, docs_tfidf).flatten()\n",
    "    \n",
    "    sim_df = pd.DataFrame(data=cosineSimilarities,    # values\n",
    "                        columns = ['similarity_score'],\n",
    "                         index=range(len(cosineSimilarities))  )\n",
    "    \n",
    "    sim_list = [answer_list[ind] for ind in sim_df.sort_values(by = 'similarity_score', ascending = False).head(num_similar).index.values.tolist()]\n",
    "    for comment in sim_list:\n",
    "        print(comment)\n",
    "        print('\\n')\n",
    "    return cosineSimilarities, sim_list"
   ]
  },
  {
   "cell_type": "code",
   "execution_count": 42,
   "metadata": {},
   "outputs": [],
   "source": [
    "# sim_array = get_tf_idf_query_similarity(vectorizer, docs_tfidf, 'Smaller class sizes  Eliminate the preK and kindergarten portfolio.')"
   ]
  },
  {
   "cell_type": "code",
   "execution_count": 43,
   "metadata": {},
   "outputs": [],
   "source": [
    "# topic_df = pd.DataFrame(data=sim_array,    # values\n",
    "#                         columns = ['similarity_score'],\n",
    "#                          index=range(len(sim_array))  )"
   ]
  },
  {
   "cell_type": "code",
   "execution_count": 44,
   "metadata": {},
   "outputs": [],
   "source": [
    "# topic_df.sort_values(by = 'similarity_score', ascending = False).head(10).index.values.tolist()"
   ]
  },
  {
   "cell_type": "code",
   "execution_count": 45,
   "metadata": {},
   "outputs": [],
   "source": [
    "# [answer_list[ind] for ind in topic_df.sort_values(by = 'similarity_score', ascending = False).head(10).index.values.tolist()]"
   ]
  },
  {
   "cell_type": "code",
   "execution_count": 46,
   "metadata": {},
   "outputs": [],
   "source": [
    "text_area = widgets.Textarea(\n",
    "    placeholder='Enter Text',\n",
    "    description='Base Comment:',\n",
    "    rows = 8,\n",
    "    disabled=False\n",
    ")\n",
    "\n",
    "num_similar_slider = widgets.IntSlider(\n",
    "    min=1,\n",
    "    max=25,\n",
    "    value = 5,\n",
    "    step=1,\n",
    "    description = 'Number Similar:'\n",
    ")"
   ]
  },
  {
   "cell_type": "code",
   "execution_count": 47,
   "metadata": {},
   "outputs": [],
   "source": [
    "# similar_comments = interactive(show_similar_responses, base_text = text_area, answer_list = fixed(update_list()), \n",
    "#             num_similar = num_similar_slider, num_topics = fixed(7))\n",
    "\n",
    "similar_display = interactive(get_tf_idf_query_similarity, district = dist_dropdown_similar, \n",
    "                               gender = gender_dropdown_similar, yrs_exp_min = yrs_min_dropdown_similar, \n",
    "                               yrs_exp_max = yrs_max_dropdown_similar, query = text_area, num_similar = num_similar_slider)"
   ]
  },
  {
   "cell_type": "code",
   "execution_count": 48,
   "metadata": {
    "scrolled": false
   },
   "outputs": [
    {
     "data": {
      "application/vnd.jupyter.widget-view+json": {
       "model_id": "1000b49d919e421aaba2ebaf951ae49e",
       "version_major": 2,
       "version_minor": 0
      },
      "text/plain": [
       "interactive(children=(RadioButtons(description='District:', options=('Any',), value='Any'), RadioButtons(descr…"
      ]
     },
     "metadata": {},
     "output_type": "display_data"
    }
   ],
   "source": [
    "display(similar_display)"
   ]
  },
  {
   "cell_type": "code",
   "execution_count": 49,
   "metadata": {},
   "outputs": [],
   "source": [
    "import heapq"
   ]
  },
  {
   "cell_type": "code",
   "execution_count": 50,
   "metadata": {},
   "outputs": [],
   "source": [
    "#topic_interpretation.result.head()"
   ]
  },
  {
   "cell_type": "code",
   "execution_count": 51,
   "metadata": {},
   "outputs": [],
   "source": [
    "def label_second_dominant (row):\n",
    "    score_list = [row[topic_num] for topic_num in range(len(row))]\n",
    "    two_largest = heapq.nlargest(2, range(len(score_list)), key=score_list.__getitem__)\n",
    "    second_ind = two_largest[1]\n",
    "    return second_ind\n",
    "    \n",
    "int_topic_df = pd.DataFrame(topic_interpretation.result)\n",
    "\n"
   ]
  },
  {
   "cell_type": "code",
   "execution_count": 52,
   "metadata": {},
   "outputs": [],
   "source": [
    "#int_topic_df.head()"
   ]
  },
  {
   "cell_type": "code",
   "execution_count": 53,
   "metadata": {},
   "outputs": [],
   "source": [
    "# Extract integer index of dominant topic\n",
    "dominant_topic = int_topic_df.idxmax(axis = 1).rename('dominant_topic')\n",
    "\n",
    "int_topic_df['second_dominant'] = int_topic_df.apply(label_second_dominant, axis=1)\n",
    "    \n",
    "topic_df_w_dominants = pd.concat([int_topic_df, dominant_topic], axis=1)\n",
    "#topic_df_w_dominants.head(10)"
   ]
  },
  {
   "cell_type": "code",
   "execution_count": 54,
   "metadata": {},
   "outputs": [],
   "source": [
    "dom_df = topic_df_w_dominants\n",
    "dom_df['second_dominant'] = dom_df['second_dominant'] + 1\n",
    "dom_df['dominant_topic'] = dom_df['dominant_topic'] + 1\n",
    "#dom_df.head()"
   ]
  },
  {
   "cell_type": "markdown",
   "metadata": {},
   "source": [
    "# Topic Key"
   ]
  },
  {
   "cell_type": "code",
   "execution_count": 84,
   "metadata": {},
   "outputs": [
    {
     "data": {
      "text/html": [
       "<div>\n",
       "<style scoped>\n",
       "    .dataframe tbody tr th:only-of-type {\n",
       "        vertical-align: middle;\n",
       "    }\n",
       "\n",
       "    .dataframe tbody tr th {\n",
       "        vertical-align: top;\n",
       "    }\n",
       "\n",
       "    .dataframe thead th {\n",
       "        text-align: right;\n",
       "    }\n",
       "</style>\n",
       "<table border=\"1\" class=\"dataframe\">\n",
       "  <thead>\n",
       "    <tr style=\"text-align: right;\">\n",
       "      <th></th>\n",
       "      <th>Topic Number</th>\n",
       "      <th>Topic Label</th>\n",
       "    </tr>\n",
       "  </thead>\n",
       "  <tbody>\n",
       "    <tr>\n",
       "      <th>0</th>\n",
       "      <td>1</td>\n",
       "      <td>Testing</td>\n",
       "    </tr>\n",
       "    <tr>\n",
       "      <th>1</th>\n",
       "      <td>2</td>\n",
       "      <td>Special Education</td>\n",
       "    </tr>\n",
       "    <tr>\n",
       "      <th>2</th>\n",
       "      <td>3</td>\n",
       "      <td>Teacher Evaluation</td>\n",
       "    </tr>\n",
       "    <tr>\n",
       "      <th>3</th>\n",
       "      <td>4</td>\n",
       "      <td>School Climate</td>\n",
       "    </tr>\n",
       "    <tr>\n",
       "      <th>4</th>\n",
       "      <td>5</td>\n",
       "      <td>Planning Time</td>\n",
       "    </tr>\n",
       "    <tr>\n",
       "      <th>5</th>\n",
       "      <td>6</td>\n",
       "      <td>Technology</td>\n",
       "    </tr>\n",
       "    <tr>\n",
       "      <th>6</th>\n",
       "      <td>7</td>\n",
       "      <td>Salary</td>\n",
       "    </tr>\n",
       "    <tr>\n",
       "      <th>7</th>\n",
       "      <td>8</td>\n",
       "      <td>Standards</td>\n",
       "    </tr>\n",
       "    <tr>\n",
       "      <th>8</th>\n",
       "      <td>9</td>\n",
       "      <td>Charter Schools</td>\n",
       "    </tr>\n",
       "    <tr>\n",
       "      <th>9</th>\n",
       "      <td>10</td>\n",
       "      <td>Test Prep</td>\n",
       "    </tr>\n",
       "    <tr>\n",
       "      <th>10</th>\n",
       "      <td>11</td>\n",
       "      <td>Instructional Materials</td>\n",
       "    </tr>\n",
       "    <tr>\n",
       "      <th>11</th>\n",
       "      <td>12</td>\n",
       "      <td>Behavior and Discipline</td>\n",
       "    </tr>\n",
       "  </tbody>\n",
       "</table>\n",
       "</div>"
      ],
      "text/plain": [
       "    Topic Number              Topic Label\n",
       "0              1                  Testing\n",
       "1              2        Special Education\n",
       "2              3       Teacher Evaluation\n",
       "3              4           School Climate\n",
       "4              5            Planning Time\n",
       "5              6               Technology\n",
       "6              7                   Salary\n",
       "7              8                Standards\n",
       "8              9          Charter Schools\n",
       "9             10                Test Prep\n",
       "10            11  Instructional Materials\n",
       "11            12  Behavior and Discipline"
      ]
     },
     "execution_count": 84,
     "metadata": {},
     "output_type": "execute_result"
    }
   ],
   "source": [
    "topic_labels = ['Testing', 'Special Education', 'Teacher Evaluation', 'School Climate', 'Planning Time',\n",
    "               'Technology', 'Salary', 'Standards', 'Charter Schools', 'Test Prep', 'Instructional Materials', 'Behavior and Discipline']\n",
    "\n",
    "label_df = pd.DataFrame({'topic_label': topic_labels})\n",
    "\n",
    "label_df_reset = label_df.reset_index().rename(columns = {'index': 'dominant_topic', 'topic_label': 'dominant_topic_label'})\n",
    "label_df_reset['dominant_topic'] = label_df_reset['dominant_topic'] + 1 \n",
    "\n",
    "label_df_reset_second = label_df.reset_index().rename(columns = {'index': 'second_dominant', 'topic_label': 'second_dominant_topic_label'})\n",
    "label_df_reset_second['second_dominant'] = label_df_reset_second['second_dominant'] + 1\n",
    "\n",
    "label_df_reset.rename(columns = {'dominant_topic': 'Topic Number', 'dominant_topic_label':'Topic Label'})"
   ]
  },
  {
   "cell_type": "markdown",
   "metadata": {},
   "source": [
    "# Breakdown of Comments By First and Second Most Dominant Topics"
   ]
  },
  {
   "cell_type": "code",
   "execution_count": 85,
   "metadata": {},
   "outputs": [],
   "source": [
    "#first_with_labels"
   ]
  },
  {
   "cell_type": "code",
   "execution_count": 103,
   "metadata": {},
   "outputs": [
    {
     "data": {
      "image/png": "[encoded data removed]",
      "text/plain": [
       "<Figure size 864x576 with 1 Axes>"
      ]
     },
     "metadata": {
      "needs_background": "light"
     },
     "output_type": "display_data"
    }
   ],
   "source": [
    "first_dom = dom_df[['dominant_topic']].reset_index().groupby(by = 'dominant_topic').agg('count').reset_index()\\\n",
    "                            .rename(columns = {'index': 'count'})\n",
    "\n",
    "first_with_labels = pd.concat([first_dom, label_df], axis=1).sort_values(by= 'count', ascending = False)\n",
    "\n",
    "first_with_labels.plot(x = 'topic_label', y='count', kind='bar', rot = 50, legend = None)\n",
    "plt.grid(axis = 'y')\n",
    "plt.xticks(ticks = range(12), labels = ['Testing',  'School\\n Climate', 'Behavior and\\n Discipline', 'Planning\\n Time',  \n",
    "                                        'Teacher\\n Evaluation', 'Standards', 'Salary', 'Test Prep','Charter\\n Schools', 'Special\\n Education', \n",
    "                                        'Instructional\\n Materials', 'Technology'],\n",
    "          fontsize = 14)\n",
    "plt.xlabel('Dominant Topic')\n",
    "plt.ylabel('Number of Comments')\n",
    "plt.title('Number of Comments by First Dominant Topic');"
   ]
  },
  {
   "cell_type": "code",
   "execution_count": 102,
   "metadata": {},
   "outputs": [
    {
     "data": {
      "image/png": "[encoded data removed]",
      "text/plain": [
       "<Figure size 864x576 with 1 Axes>"
      ]
     },
     "metadata": {
      "needs_background": "light"
     },
     "output_type": "display_data"
    }
   ],
   "source": [
    "second_dom = dom_df[['second_dominant']].reset_index().groupby(by = 'second_dominant').agg('count').reset_index()\\\n",
    "                            .rename(columns = {'index': 'count'})\n",
    "\n",
    "second_with_labels = pd.concat([second_dom, label_df], axis=1).sort_values(by= 'count', ascending = False)\n",
    "second_with_labels.plot(x = 'topic_label', y='count', kind='bar', rot = 55, legend = None)\n",
    "plt.grid(axis = 'y')\n",
    "plt.xticks(ticks = range(12), labels = ['Testing', 'Planning\\n Time',  'School\\n Climate', 'Behavior and\\n Discipline', \n",
    "                                        'Test Prep', 'Standards',  'Salary', 'Teacher\\n Evaluation','Special\\n Education', 'Charter\\n Schools',\n",
    "                                        'Instructional\\n Materials', 'Technology'],\n",
    "          fontsize = 14)\n",
    "plt.xlabel('Second Dominant Topic')\n",
    "plt.ylabel('Number of Comments')\n",
    "plt.title('Number of Comments by Second Dominant Topic');"
   ]
  },
  {
   "cell_type": "markdown",
   "metadata": {},
   "source": [
    "# Most Common Combinations of Top Two Topics"
   ]
  },
  {
   "cell_type": "code",
   "execution_count": 105,
   "metadata": {},
   "outputs": [
    {
     "data": {
      "text/html": [
       "<div>\n",
       "<style scoped>\n",
       "    .dataframe tbody tr th:only-of-type {\n",
       "        vertical-align: middle;\n",
       "    }\n",
       "\n",
       "    .dataframe tbody tr th {\n",
       "        vertical-align: top;\n",
       "    }\n",
       "\n",
       "    .dataframe thead th {\n",
       "        text-align: right;\n",
       "    }\n",
       "</style>\n",
       "<table border=\"1\" class=\"dataframe\">\n",
       "  <thead>\n",
       "    <tr style=\"text-align: right;\">\n",
       "      <th></th>\n",
       "      <th>Dominant Topic</th>\n",
       "      <th>Second Dominant Topic</th>\n",
       "      <th>Number of Comments</th>\n",
       "      <th>Percent of Comments</th>\n",
       "    </tr>\n",
       "  </thead>\n",
       "  <tbody>\n",
       "    <tr>\n",
       "      <th>8</th>\n",
       "      <td>Testing</td>\n",
       "      <td>Test Prep</td>\n",
       "      <td>513</td>\n",
       "      <td>3.3</td>\n",
       "    </tr>\n",
       "    <tr>\n",
       "      <th>43</th>\n",
       "      <td>School Climate</td>\n",
       "      <td>Behavior and Discipline</td>\n",
       "      <td>389</td>\n",
       "      <td>2.5</td>\n",
       "    </tr>\n",
       "    <tr>\n",
       "      <th>7</th>\n",
       "      <td>Testing</td>\n",
       "      <td>Charter Schools</td>\n",
       "      <td>342</td>\n",
       "      <td>2.2</td>\n",
       "    </tr>\n",
       "    <tr>\n",
       "      <th>3</th>\n",
       "      <td>Testing</td>\n",
       "      <td>Planning Time</td>\n",
       "      <td>295</td>\n",
       "      <td>1.9</td>\n",
       "    </tr>\n",
       "    <tr>\n",
       "      <th>10</th>\n",
       "      <td>Testing</td>\n",
       "      <td>Behavior and Discipline</td>\n",
       "      <td>292</td>\n",
       "      <td>1.9</td>\n",
       "    </tr>\n",
       "    <tr>\n",
       "      <th>36</th>\n",
       "      <td>School Climate</td>\n",
       "      <td>Planning Time</td>\n",
       "      <td>291</td>\n",
       "      <td>1.9</td>\n",
       "    </tr>\n",
       "    <tr>\n",
       "      <th>38</th>\n",
       "      <td>School Climate</td>\n",
       "      <td>Salary</td>\n",
       "      <td>276</td>\n",
       "      <td>1.8</td>\n",
       "    </tr>\n",
       "    <tr>\n",
       "      <th>6</th>\n",
       "      <td>Testing</td>\n",
       "      <td>Standards</td>\n",
       "      <td>275</td>\n",
       "      <td>1.8</td>\n",
       "    </tr>\n",
       "    <tr>\n",
       "      <th>124</th>\n",
       "      <td>Behavior and Discipline</td>\n",
       "      <td>School Climate</td>\n",
       "      <td>271</td>\n",
       "      <td>1.8</td>\n",
       "    </tr>\n",
       "    <tr>\n",
       "      <th>99</th>\n",
       "      <td>Test Prep</td>\n",
       "      <td>Testing</td>\n",
       "      <td>265</td>\n",
       "      <td>1.7</td>\n",
       "    </tr>\n",
       "    <tr>\n",
       "      <th>1</th>\n",
       "      <td>Testing</td>\n",
       "      <td>Teacher Evaluation</td>\n",
       "      <td>253</td>\n",
       "      <td>1.7</td>\n",
       "    </tr>\n",
       "    <tr>\n",
       "      <th>40</th>\n",
       "      <td>School Climate</td>\n",
       "      <td>Charter Schools</td>\n",
       "      <td>245</td>\n",
       "      <td>1.6</td>\n",
       "    </tr>\n",
       "    <tr>\n",
       "      <th>5</th>\n",
       "      <td>Testing</td>\n",
       "      <td>Salary</td>\n",
       "      <td>238</td>\n",
       "      <td>1.6</td>\n",
       "    </tr>\n",
       "    <tr>\n",
       "      <th>69</th>\n",
       "      <td>Salary</td>\n",
       "      <td>School Climate</td>\n",
       "      <td>221</td>\n",
       "      <td>1.4</td>\n",
       "    </tr>\n",
       "    <tr>\n",
       "      <th>33</th>\n",
       "      <td>School Climate</td>\n",
       "      <td>Testing</td>\n",
       "      <td>221</td>\n",
       "      <td>1.4</td>\n",
       "    </tr>\n",
       "  </tbody>\n",
       "</table>\n",
       "</div>"
      ],
      "text/plain": [
       "              Dominant Topic    Second Dominant Topic  Number of Comments  \\\n",
       "8                    Testing                Test Prep                 513   \n",
       "43            School Climate  Behavior and Discipline                 389   \n",
       "7                    Testing          Charter Schools                 342   \n",
       "3                    Testing            Planning Time                 295   \n",
       "10                   Testing  Behavior and Discipline                 292   \n",
       "36            School Climate            Planning Time                 291   \n",
       "38            School Climate                   Salary                 276   \n",
       "6                    Testing                Standards                 275   \n",
       "124  Behavior and Discipline           School Climate                 271   \n",
       "99                 Test Prep                  Testing                 265   \n",
       "1                    Testing       Teacher Evaluation                 253   \n",
       "40            School Climate          Charter Schools                 245   \n",
       "5                    Testing                   Salary                 238   \n",
       "69                    Salary           School Climate                 221   \n",
       "33            School Climate                  Testing                 221   \n",
       "\n",
       "     Percent of Comments  \n",
       "8                    3.3  \n",
       "43                   2.5  \n",
       "7                    2.2  \n",
       "3                    1.9  \n",
       "10                   1.9  \n",
       "36                   1.9  \n",
       "38                   1.8  \n",
       "6                    1.8  \n",
       "124                  1.8  \n",
       "99                   1.7  \n",
       "1                    1.7  \n",
       "40                   1.6  \n",
       "5                    1.6  \n",
       "69                   1.4  \n",
       "33                   1.4  "
      ]
     },
     "execution_count": 105,
     "metadata": {},
     "output_type": "execute_result"
    }
   ],
   "source": [
    "combo_df = dom_df[['dominant_topic', 'second_dominant']].reset_index().groupby(by = ['dominant_topic', 'second_dominant']).agg('count').reset_index()\\\n",
    "                            .rename(columns = {'index': 'count'})\n",
    "combo_df_labeled = combo_df.merge(label_df_reset, how='left', on = 'dominant_topic')\\\n",
    "                            .merge(label_df_reset_second, how='left', on = 'second_dominant')\\\n",
    "                            .sort_values(by= 'count', ascending = False)\n",
    "combo_df_labeled = combo_df_labeled[['dominant_topic_label', 'second_dominant_topic_label', 'count']]\\\n",
    "                                    .rename(columns={'dominant_topic_label': 'Dominant Topic', 'second_dominant_topic_label':'Second Dominant Topic',\n",
    "                                                    'count': 'Number of Comments'})\n",
    "combo_df_labeled['Percent of Comments'] = round(combo_df_labeled['Number of Comments']/ len(dom_df) * 100, 1)\n",
    "combo_df_labeled.head(15)"
   ]
  },
  {
   "cell_type": "code",
   "execution_count": null,
   "metadata": {},
   "outputs": [],
   "source": []
  },
  {
   "cell_type": "code",
   "execution_count": 89,
   "metadata": {},
   "outputs": [
    {
     "data": {
      "text/html": [
       "<div>\n",
       "<style scoped>\n",
       "    .dataframe tbody tr th:only-of-type {\n",
       "        vertical-align: middle;\n",
       "    }\n",
       "\n",
       "    .dataframe tbody tr th {\n",
       "        vertical-align: top;\n",
       "    }\n",
       "\n",
       "    .dataframe thead th {\n",
       "        text-align: right;\n",
       "    }\n",
       "</style>\n",
       "<table border=\"1\" class=\"dataframe\">\n",
       "  <thead>\n",
       "    <tr style=\"text-align: right;\">\n",
       "      <th></th>\n",
       "      <th>0</th>\n",
       "      <th>1</th>\n",
       "      <th>2</th>\n",
       "      <th>3</th>\n",
       "      <th>4</th>\n",
       "      <th>5</th>\n",
       "      <th>6</th>\n",
       "      <th>7</th>\n",
       "      <th>8</th>\n",
       "      <th>9</th>\n",
       "      <th>...</th>\n",
       "      <th>topic_2</th>\n",
       "      <th>topic_3</th>\n",
       "      <th>topic_4</th>\n",
       "      <th>topic_5</th>\n",
       "      <th>topic_6</th>\n",
       "      <th>topic_7</th>\n",
       "      <th>topic_8</th>\n",
       "      <th>topic_9</th>\n",
       "      <th>topic_10</th>\n",
       "      <th>topic_11</th>\n",
       "    </tr>\n",
       "  </thead>\n",
       "  <tbody>\n",
       "    <tr>\n",
       "      <th>0</th>\n",
       "      <td>0.703399</td>\n",
       "      <td>0.001282</td>\n",
       "      <td>0.106990</td>\n",
       "      <td>0.087981</td>\n",
       "      <td>0.001282</td>\n",
       "      <td>0.001282</td>\n",
       "      <td>0.001282</td>\n",
       "      <td>0.001282</td>\n",
       "      <td>0.001282</td>\n",
       "      <td>0.091374</td>\n",
       "      <td>...</td>\n",
       "      <td>0</td>\n",
       "      <td>0</td>\n",
       "      <td>0</td>\n",
       "      <td>0</td>\n",
       "      <td>0</td>\n",
       "      <td>0</td>\n",
       "      <td>0</td>\n",
       "      <td>0</td>\n",
       "      <td>0</td>\n",
       "      <td>0</td>\n",
       "    </tr>\n",
       "    <tr>\n",
       "      <th>1</th>\n",
       "      <td>0.004902</td>\n",
       "      <td>0.134701</td>\n",
       "      <td>0.004902</td>\n",
       "      <td>0.455626</td>\n",
       "      <td>0.004902</td>\n",
       "      <td>0.004902</td>\n",
       "      <td>0.146351</td>\n",
       "      <td>0.224105</td>\n",
       "      <td>0.004902</td>\n",
       "      <td>0.004902</td>\n",
       "      <td>...</td>\n",
       "      <td>0</td>\n",
       "      <td>1</td>\n",
       "      <td>0</td>\n",
       "      <td>0</td>\n",
       "      <td>0</td>\n",
       "      <td>1</td>\n",
       "      <td>0</td>\n",
       "      <td>0</td>\n",
       "      <td>0</td>\n",
       "      <td>0</td>\n",
       "    </tr>\n",
       "    <tr>\n",
       "      <th>2</th>\n",
       "      <td>0.654176</td>\n",
       "      <td>0.003205</td>\n",
       "      <td>0.003205</td>\n",
       "      <td>0.003205</td>\n",
       "      <td>0.281878</td>\n",
       "      <td>0.035099</td>\n",
       "      <td>0.003205</td>\n",
       "      <td>0.003205</td>\n",
       "      <td>0.003205</td>\n",
       "      <td>0.003205</td>\n",
       "      <td>...</td>\n",
       "      <td>0</td>\n",
       "      <td>0</td>\n",
       "      <td>1</td>\n",
       "      <td>0</td>\n",
       "      <td>0</td>\n",
       "      <td>0</td>\n",
       "      <td>0</td>\n",
       "      <td>0</td>\n",
       "      <td>0</td>\n",
       "      <td>0</td>\n",
       "    </tr>\n",
       "    <tr>\n",
       "      <th>3</th>\n",
       "      <td>0.476785</td>\n",
       "      <td>0.006945</td>\n",
       "      <td>0.453768</td>\n",
       "      <td>0.006945</td>\n",
       "      <td>0.006945</td>\n",
       "      <td>0.006944</td>\n",
       "      <td>0.006945</td>\n",
       "      <td>0.006945</td>\n",
       "      <td>0.006944</td>\n",
       "      <td>0.006945</td>\n",
       "      <td>...</td>\n",
       "      <td>1</td>\n",
       "      <td>0</td>\n",
       "      <td>0</td>\n",
       "      <td>0</td>\n",
       "      <td>0</td>\n",
       "      <td>0</td>\n",
       "      <td>0</td>\n",
       "      <td>0</td>\n",
       "      <td>0</td>\n",
       "      <td>0</td>\n",
       "    </tr>\n",
       "    <tr>\n",
       "      <th>4</th>\n",
       "      <td>0.910792</td>\n",
       "      <td>0.002604</td>\n",
       "      <td>0.063165</td>\n",
       "      <td>0.002604</td>\n",
       "      <td>0.002604</td>\n",
       "      <td>0.002604</td>\n",
       "      <td>0.002604</td>\n",
       "      <td>0.002604</td>\n",
       "      <td>0.002604</td>\n",
       "      <td>0.002604</td>\n",
       "      <td>...</td>\n",
       "      <td>0</td>\n",
       "      <td>0</td>\n",
       "      <td>0</td>\n",
       "      <td>0</td>\n",
       "      <td>0</td>\n",
       "      <td>0</td>\n",
       "      <td>0</td>\n",
       "      <td>0</td>\n",
       "      <td>0</td>\n",
       "      <td>0</td>\n",
       "    </tr>\n",
       "  </tbody>\n",
       "</table>\n",
       "<p>5 rows × 26 columns</p>\n",
       "</div>"
      ],
      "text/plain": [
       "          0         1         2         3         4         5         6  \\\n",
       "0  0.703399  0.001282  0.106990  0.087981  0.001282  0.001282  0.001282   \n",
       "1  0.004902  0.134701  0.004902  0.455626  0.004902  0.004902  0.146351   \n",
       "2  0.654176  0.003205  0.003205  0.003205  0.281878  0.035099  0.003205   \n",
       "3  0.476785  0.006945  0.453768  0.006945  0.006945  0.006944  0.006945   \n",
       "4  0.910792  0.002604  0.063165  0.002604  0.002604  0.002604  0.002604   \n",
       "\n",
       "          7         8         9    ...     topic_2  topic_3  topic_4  topic_5  \\\n",
       "0  0.001282  0.001282  0.091374    ...           0        0        0        0   \n",
       "1  0.224105  0.004902  0.004902    ...           0        1        0        0   \n",
       "2  0.003205  0.003205  0.003205    ...           0        0        1        0   \n",
       "3  0.006945  0.006944  0.006945    ...           1        0        0        0   \n",
       "4  0.002604  0.002604  0.002604    ...           0        0        0        0   \n",
       "\n",
       "   topic_6  topic_7  topic_8  topic_9  topic_10  topic_11  \n",
       "0        0        0        0        0         0         0  \n",
       "1        0        1        0        0         0         0  \n",
       "2        0        0        0        0         0         0  \n",
       "3        0        0        0        0         0         0  \n",
       "4        0        0        0        0         0         0  \n",
       "\n",
       "[5 rows x 26 columns]"
      ]
     },
     "execution_count": 89,
     "metadata": {},
     "output_type": "execute_result"
    }
   ],
   "source": [
    "#dom_df.head()"
   ]
  },
  {
   "cell_type": "markdown",
   "metadata": {},
   "source": [
    "# Classifying into topics based on minimum threshold"
   ]
  },
  {
   "cell_type": "code",
   "execution_count": 90,
   "metadata": {},
   "outputs": [],
   "source": [
    "min_threshold = 0.2\n",
    "\n",
    "base_text = 'topic_'\n",
    "for i in range(12):\n",
    "    col_text = base_text + str(i)\n",
    "    dom_df[col_text] = np.where(dom_df[i]>=min_threshold, 1, 0)"
   ]
  },
  {
   "cell_type": "code",
   "execution_count": 120,
   "metadata": {},
   "outputs": [
    {
     "name": "stdout",
     "output_type": "stream",
     "text": [
      "Minimum Threshold: 0.2\n"
     ]
    }
   ],
   "source": [
    "print('Minimum Threshold: ' + str(min_threshold))"
   ]
  },
  {
   "cell_type": "code",
   "execution_count": 91,
   "metadata": {},
   "outputs": [
    {
     "data": {
      "text/html": [
       "<div>\n",
       "<style scoped>\n",
       "    .dataframe tbody tr th:only-of-type {\n",
       "        vertical-align: middle;\n",
       "    }\n",
       "\n",
       "    .dataframe tbody tr th {\n",
       "        vertical-align: top;\n",
       "    }\n",
       "\n",
       "    .dataframe thead th {\n",
       "        text-align: right;\n",
       "    }\n",
       "</style>\n",
       "<table border=\"1\" class=\"dataframe\">\n",
       "  <thead>\n",
       "    <tr style=\"text-align: right;\">\n",
       "      <th></th>\n",
       "      <th>topic_0</th>\n",
       "      <th>topic_1</th>\n",
       "      <th>topic_2</th>\n",
       "      <th>topic_3</th>\n",
       "      <th>topic_4</th>\n",
       "      <th>topic_5</th>\n",
       "      <th>topic_6</th>\n",
       "      <th>topic_7</th>\n",
       "      <th>topic_8</th>\n",
       "      <th>topic_9</th>\n",
       "      <th>topic_10</th>\n",
       "      <th>topic_11</th>\n",
       "    </tr>\n",
       "  </thead>\n",
       "  <tbody>\n",
       "    <tr>\n",
       "      <th>0</th>\n",
       "      <td>1</td>\n",
       "      <td>0</td>\n",
       "      <td>0</td>\n",
       "      <td>0</td>\n",
       "      <td>0</td>\n",
       "      <td>0</td>\n",
       "      <td>0</td>\n",
       "      <td>0</td>\n",
       "      <td>0</td>\n",
       "      <td>0</td>\n",
       "      <td>0</td>\n",
       "      <td>0</td>\n",
       "    </tr>\n",
       "    <tr>\n",
       "      <th>1</th>\n",
       "      <td>0</td>\n",
       "      <td>0</td>\n",
       "      <td>0</td>\n",
       "      <td>1</td>\n",
       "      <td>0</td>\n",
       "      <td>0</td>\n",
       "      <td>0</td>\n",
       "      <td>1</td>\n",
       "      <td>0</td>\n",
       "      <td>0</td>\n",
       "      <td>0</td>\n",
       "      <td>0</td>\n",
       "    </tr>\n",
       "    <tr>\n",
       "      <th>2</th>\n",
       "      <td>1</td>\n",
       "      <td>0</td>\n",
       "      <td>0</td>\n",
       "      <td>0</td>\n",
       "      <td>1</td>\n",
       "      <td>0</td>\n",
       "      <td>0</td>\n",
       "      <td>0</td>\n",
       "      <td>0</td>\n",
       "      <td>0</td>\n",
       "      <td>0</td>\n",
       "      <td>0</td>\n",
       "    </tr>\n",
       "    <tr>\n",
       "      <th>3</th>\n",
       "      <td>1</td>\n",
       "      <td>0</td>\n",
       "      <td>1</td>\n",
       "      <td>0</td>\n",
       "      <td>0</td>\n",
       "      <td>0</td>\n",
       "      <td>0</td>\n",
       "      <td>0</td>\n",
       "      <td>0</td>\n",
       "      <td>0</td>\n",
       "      <td>0</td>\n",
       "      <td>0</td>\n",
       "    </tr>\n",
       "    <tr>\n",
       "      <th>4</th>\n",
       "      <td>1</td>\n",
       "      <td>0</td>\n",
       "      <td>0</td>\n",
       "      <td>0</td>\n",
       "      <td>0</td>\n",
       "      <td>0</td>\n",
       "      <td>0</td>\n",
       "      <td>0</td>\n",
       "      <td>0</td>\n",
       "      <td>0</td>\n",
       "      <td>0</td>\n",
       "      <td>0</td>\n",
       "    </tr>\n",
       "  </tbody>\n",
       "</table>\n",
       "</div>"
      ],
      "text/plain": [
       "   topic_0  topic_1  topic_2  topic_3  topic_4  topic_5  topic_6  topic_7  \\\n",
       "0        1        0        0        0        0        0        0        0   \n",
       "1        0        0        0        1        0        0        0        1   \n",
       "2        1        0        0        0        1        0        0        0   \n",
       "3        1        0        1        0        0        0        0        0   \n",
       "4        1        0        0        0        0        0        0        0   \n",
       "\n",
       "   topic_8  topic_9  topic_10  topic_11  \n",
       "0        0        0         0         0  \n",
       "1        0        0         0         0  \n",
       "2        0        0         0         0  \n",
       "3        0        0         0         0  \n",
       "4        0        0         0         0  "
      ]
     },
     "execution_count": 91,
     "metadata": {},
     "output_type": "execute_result"
    }
   ],
   "source": [
    "#dom_df.loc[:,'topic_0':'topic_11'].head()"
   ]
  },
  {
   "cell_type": "code",
   "execution_count": 98,
   "metadata": {},
   "outputs": [
    {
     "data": {
      "text/html": [
       "<div>\n",
       "<style scoped>\n",
       "    .dataframe tbody tr th:only-of-type {\n",
       "        vertical-align: middle;\n",
       "    }\n",
       "\n",
       "    .dataframe tbody tr th {\n",
       "        vertical-align: top;\n",
       "    }\n",
       "\n",
       "    .dataframe thead th {\n",
       "        text-align: right;\n",
       "    }\n",
       "</style>\n",
       "<table border=\"1\" class=\"dataframe\">\n",
       "  <thead>\n",
       "    <tr style=\"text-align: right;\">\n",
       "      <th></th>\n",
       "      <th>Topic</th>\n",
       "      <th>Number of Comments</th>\n",
       "      <th>Percentage of Comments</th>\n",
       "    </tr>\n",
       "  </thead>\n",
       "  <tbody>\n",
       "    <tr>\n",
       "      <th>0</th>\n",
       "      <td>Testing</td>\n",
       "      <td>4419</td>\n",
       "      <td>28.8</td>\n",
       "    </tr>\n",
       "    <tr>\n",
       "      <th>3</th>\n",
       "      <td>School Climate</td>\n",
       "      <td>4005</td>\n",
       "      <td>26.1</td>\n",
       "    </tr>\n",
       "    <tr>\n",
       "      <th>4</th>\n",
       "      <td>Planning Time</td>\n",
       "      <td>3055</td>\n",
       "      <td>19.9</td>\n",
       "    </tr>\n",
       "    <tr>\n",
       "      <th>11</th>\n",
       "      <td>Behavior and Discipline</td>\n",
       "      <td>2911</td>\n",
       "      <td>19.0</td>\n",
       "    </tr>\n",
       "    <tr>\n",
       "      <th>7</th>\n",
       "      <td>Standards</td>\n",
       "      <td>2634</td>\n",
       "      <td>17.2</td>\n",
       "    </tr>\n",
       "    <tr>\n",
       "      <th>9</th>\n",
       "      <td>Test Prep</td>\n",
       "      <td>2626</td>\n",
       "      <td>17.1</td>\n",
       "    </tr>\n",
       "    <tr>\n",
       "      <th>2</th>\n",
       "      <td>Teacher Evaluation</td>\n",
       "      <td>2582</td>\n",
       "      <td>16.8</td>\n",
       "    </tr>\n",
       "    <tr>\n",
       "      <th>6</th>\n",
       "      <td>Salary</td>\n",
       "      <td>2457</td>\n",
       "      <td>16.0</td>\n",
       "    </tr>\n",
       "    <tr>\n",
       "      <th>8</th>\n",
       "      <td>Charter Schools</td>\n",
       "      <td>2114</td>\n",
       "      <td>13.8</td>\n",
       "    </tr>\n",
       "    <tr>\n",
       "      <th>10</th>\n",
       "      <td>Instructional Materials</td>\n",
       "      <td>1433</td>\n",
       "      <td>9.3</td>\n",
       "    </tr>\n",
       "    <tr>\n",
       "      <th>1</th>\n",
       "      <td>Special Education</td>\n",
       "      <td>1359</td>\n",
       "      <td>8.9</td>\n",
       "    </tr>\n",
       "    <tr>\n",
       "      <th>5</th>\n",
       "      <td>Technology</td>\n",
       "      <td>363</td>\n",
       "      <td>2.4</td>\n",
       "    </tr>\n",
       "  </tbody>\n",
       "</table>\n",
       "</div>"
      ],
      "text/plain": [
       "                      Topic  Number of Comments  Percentage of Comments\n",
       "0                   Testing                4419                    28.8\n",
       "3            School Climate                4005                    26.1\n",
       "4             Planning Time                3055                    19.9\n",
       "11  Behavior and Discipline                2911                    19.0\n",
       "7                 Standards                2634                    17.2\n",
       "9                 Test Prep                2626                    17.1\n",
       "2        Teacher Evaluation                2582                    16.8\n",
       "6                    Salary                2457                    16.0\n",
       "8           Charter Schools                2114                    13.8\n",
       "10  Instructional Materials                1433                     9.3\n",
       "1         Special Education                1359                     8.9\n",
       "5                Technology                 363                     2.4"
      ]
     },
     "execution_count": 98,
     "metadata": {},
     "output_type": "execute_result"
    }
   ],
   "source": [
    "topic_count = pd.DataFrame(dom_df.loc[:,'topic_0':'topic_11'].sum(axis = 0, skipna = True)).reset_index().rename(columns={0:'count'})\n",
    "topic_count_labeled = pd.concat([topic_count, label_df], axis=1).sort_values(by='count', ascending=False)\n",
    "topic_count_labeled['pct_comments'] = round(topic_count_labeled['count']/len(dom_df) * 100,1)\n",
    "topic_count_labeled = topic_count_labeled.rename(columns = {'topic_label':'Topic', 'count':'Number of Comments', 'pct_comments':'Percentage of Comments'})\n",
    "topic_count_labeled[['Topic', 'Number of Comments', 'Percentage of Comments']]"
   ]
  },
  {
   "cell_type": "code",
   "execution_count": 106,
   "metadata": {},
   "outputs": [
    {
     "name": "stdout",
     "output_type": "stream",
     "text": [
      "Number of comments assigned into topic: 29958\n"
     ]
    }
   ],
   "source": [
    "print('Number of comments assigned into topic: ' + str(topic_count_labeled['Number of Comments'].sum()))"
   ]
  },
  {
   "cell_type": "code",
   "execution_count": 108,
   "metadata": {},
   "outputs": [
    {
     "name": "stdout",
     "output_type": "stream",
     "text": [
      "Number of comments sort into no topics: 14\n"
     ]
    }
   ],
   "source": [
    "row_tally = pd.DataFrame(dom_df.loc[:,'topic_0':'topic_11'].sum(axis = 1, skipna = True))\n",
    "print('Number of comments sort into no topics: ' + str(len(row_tally.loc[row_tally[0] == 0])))"
   ]
  },
  {
   "cell_type": "code",
   "execution_count": 118,
   "metadata": {},
   "outputs": [
    {
     "name": "stdout",
     "output_type": "stream",
     "text": [
      "Number of comments sort into at least 2 topics: 11781\n"
     ]
    }
   ],
   "source": [
    "print('Number of comments sort into at least 2 topics: ' + str(len(row_tally.loc[row_tally[0] >= 2])))\n"
   ]
  },
  {
   "cell_type": "code",
   "execution_count": 119,
   "metadata": {},
   "outputs": [
    {
     "data": {
      "text/html": [
       "<div>\n",
       "<style scoped>\n",
       "    .dataframe tbody tr th:only-of-type {\n",
       "        vertical-align: middle;\n",
       "    }\n",
       "\n",
       "    .dataframe tbody tr th {\n",
       "        vertical-align: top;\n",
       "    }\n",
       "\n",
       "    .dataframe thead th {\n",
       "        text-align: right;\n",
       "    }\n",
       "</style>\n",
       "<table border=\"1\" class=\"dataframe\">\n",
       "  <thead>\n",
       "    <tr style=\"text-align: right;\">\n",
       "      <th></th>\n",
       "      <th>Number Topics Assigned</th>\n",
       "      <th>Count</th>\n",
       "    </tr>\n",
       "  </thead>\n",
       "  <tbody>\n",
       "    <tr>\n",
       "      <th>0</th>\n",
       "      <td>0</td>\n",
       "      <td>14</td>\n",
       "    </tr>\n",
       "    <tr>\n",
       "      <th>1</th>\n",
       "      <td>1</td>\n",
       "      <td>3534</td>\n",
       "    </tr>\n",
       "    <tr>\n",
       "      <th>2</th>\n",
       "      <td>2</td>\n",
       "      <td>8994</td>\n",
       "    </tr>\n",
       "    <tr>\n",
       "      <th>3</th>\n",
       "      <td>3</td>\n",
       "      <td>2712</td>\n",
       "    </tr>\n",
       "    <tr>\n",
       "      <th>4</th>\n",
       "      <td>4</td>\n",
       "      <td>75</td>\n",
       "    </tr>\n",
       "  </tbody>\n",
       "</table>\n",
       "</div>"
      ],
      "text/plain": [
       "   Number Topics Assigned  Count\n",
       "0                       0     14\n",
       "1                       1   3534\n",
       "2                       2   8994\n",
       "3                       3   2712\n",
       "4                       4     75"
      ]
     },
     "execution_count": 119,
     "metadata": {},
     "output_type": "execute_result"
    }
   ],
   "source": [
    "dom_df.loc[:,'topic_0':'topic_11'].sum(axis = 1, skipna = True).reset_index().rename(columns={0:'count'})\\\n",
    "                                .groupby(by = 'count').agg('count')\\\n",
    "                                .reset_index().rename(columns = {'count':'Number Topics Assigned', 'index':'Count'})"
   ]
  },
  {
   "cell_type": "code",
   "execution_count": null,
   "metadata": {},
   "outputs": [],
   "source": []
  }
 ],
 "metadata": {
  "hide_input": false,
  "kernelspec": {
   "display_name": "Python 3",
   "language": "python",
   "name": "python3"
  },
  "language_info": {
   "codemirror_mode": {
    "name": "ipython",
    "version": 3
   },
   "file_extension": ".py",
   "mimetype": "text/x-python",
   "name": "python",
   "nbconvert_exporter": "python",
   "pygments_lexer": "ipython3",
   "version": "3.7.1"
  }
 },
 "nbformat": 4,
 "nbformat_minor": 2
}
