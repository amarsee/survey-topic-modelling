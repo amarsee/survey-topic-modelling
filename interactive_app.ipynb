{
 "cells": [
  {
   "cell_type": "code",
   "execution_count": 1,
   "metadata": {},
   "outputs": [],
   "source": [
    "import appmode\n",
    "import pandas as pd\n",
    "import numpy as np\n",
    "import matplotlib.pyplot as plt\n",
    "from nltk.corpus import stopwords\n",
    "from nltk.tokenize import word_tokenize\n",
    "from collections import Counter\n",
    "import nltk\n",
    "from sklearn.feature_extraction.text import TfidfVectorizer\n",
    "from sklearn.decomposition import NMF\n",
    "from sklearn.preprocessing import normalize\n",
    "from sklearn.pipeline import make_pipeline\n",
    "# Loading relevant libraries\n",
    "from gensim.models import LdaModel, LdaMulticore\n",
    "from gensim.models.phrases import Phrases, Phraser\n",
    "from gensim import corpora\n",
    "import re\n",
    "import pyLDAvis.gensim\n",
    "# import logging\n",
    "import gensim\n",
    "# logging.basicConfig(format='%(asctime)s : %(levelname)s : %(message)s')\n",
    "# logging.root.setLevel(level=logging.INFO)\n",
    "# stop_words = stopwords.words('english')\n",
    "# stop_words = stop_words + ['com', 'edu', 'would', 'could', 'also', 'le', 'thank_you', 'u', 'etc']\n",
    "\n",
    "%matplotlib inline "
   ]
  },
  {
   "cell_type": "code",
   "execution_count": 2,
   "metadata": {},
   "outputs": [],
   "source": [
    "from ipywidgets import Button, Layout, Box, interactive, fixed, HBox, Label\n",
    "import ipywidgets as widgets"
   ]
  },
  {
   "cell_type": "code",
   "execution_count": 3,
   "metadata": {},
   "outputs": [],
   "source": [
    "from nltk.corpus import stopwords\n",
    "from nltk.tokenize import word_tokenize\n",
    "from collections import Counter\n",
    "import nltk"
   ]
  },
  {
   "cell_type": "code",
   "execution_count": 4,
   "metadata": {},
   "outputs": [],
   "source": [
    "import warnings\n",
    "warnings.filterwarnings(\"ignore\",category=PendingDeprecationWarning)\n",
    "warnings.filterwarnings(\"ignore\",category=DeprecationWarning)\n",
    "warnings.filterwarnings(action='once')"
   ]
  },
  {
   "cell_type": "code",
   "execution_count": 5,
   "metadata": {},
   "outputs": [],
   "source": [
    "answer_df = pd.read_csv('N:\\\\ORP_accountability\\\\projects\\\\Andrew\\\\NLP with TES\\\\answered_q13_df.csv')\n",
    "# answer_df.head()"
   ]
  },
  {
   "cell_type": "code",
   "execution_count": 6,
   "metadata": {},
   "outputs": [],
   "source": [
    "# answer_df.YrsExpr18.sort_values().unique()"
   ]
  },
  {
   "cell_type": "code",
   "execution_count": 7,
   "metadata": {},
   "outputs": [],
   "source": [
    "def label_yrs_exp (row):\n",
    "    yrs_exp = row['YrsExpr18']\n",
    "    if yrs_exp > 25:\n",
    "          return '25+'\n",
    "    elif yrs_exp > 15:\n",
    "        return '15-25'\n",
    "    elif yrs_exp > 5:\n",
    "        return '5-15'\n",
    "    return '<5'\n",
    "\n",
    "answer_df['yrs_exp_cat'] = answer_df.apply(label_yrs_exp, axis=1)"
   ]
  },
  {
   "cell_type": "code",
   "execution_count": 8,
   "metadata": {},
   "outputs": [],
   "source": [
    "# answer_df.head()"
   ]
  },
  {
   "cell_type": "code",
   "execution_count": 9,
   "metadata": {},
   "outputs": [],
   "source": [
    "def make_trigrams_mod(texts, t_mod, b_mod):\n",
    "    return [t_mod[b_mod[doc]] for doc in texts]"
   ]
  },
  {
   "cell_type": "code",
   "execution_count": 10,
   "metadata": {},
   "outputs": [],
   "source": [
    "# Outputs list of lists with trigrams for each answer in a list\n",
    "def preprocess_responses(text_list, bigram_min_count = 3, bigram_threshold = 8, trigram_min_count = 2, trigram_threshold = 8):\n",
    "    # Make all words lowercase and remove punctuation\n",
    "    wnl = nltk.WordNetLemmatizer()\n",
    "    lower_no_punctuation = [[text for text in word_tokenize(doc.lower()) if text.isalpha()] for doc in text_list]\n",
    "    # Establish stop words\n",
    "    # Needs stopwords from nltk.corpus\n",
    "    stop_words = stopwords.words('english')\n",
    "    stop_words = stop_words + ['would', 'could', 'also', 'le', 'thank_you', 'u', 'etc', 't',\n",
    "                              'the', 'and', 'are', 'of', 'for', 'that']\n",
    "    # remove stop words\n",
    "    text_no_stops = [[text for text in doc if text not in stop_words] for doc in lower_no_punctuation]\n",
    "    # Lemmatize\n",
    "    text_lemmatized = [[wnl.lemmatize(text) for text in doc] for doc in text_no_stops]\n",
    "    # models for trigrams and bigrams\n",
    "    bigram_topics = Phrases(text_lemmatized, min_count = bigram_min_count, threshold = bigram_threshold)\n",
    "    trigram_topics = Phrases(bigram_topics[text_lemmatized], min_count = trigram_min_count, threshold = trigram_threshold)\n",
    "    # Phraser for better performance\n",
    "    bigram_mod = Phraser(bigram_topics)\n",
    "    trigram_mod = Phraser(trigram_topics)\n",
    "    # Make trigrams (also forms bigrams in the process)\n",
    "    topic_trigrams = make_trigrams_mod(text_lemmatized, trigram_mod, bigram_mod)\n",
    "    return topic_trigrams\n",
    "    "
   ]
  },
  {
   "cell_type": "code",
   "execution_count": 11,
   "metadata": {},
   "outputs": [],
   "source": [
    "def make_lda_topic_model(preprocessed_list, num_topics = 10, chunksize = 200, passes = 10):\n",
    "    # create dictionary\n",
    "    id2word = corpora.Dictionary(preprocessed_list)\n",
    "    # Create Corpus\n",
    "    texts = preprocessed_list\n",
    "    corpus = [id2word.doc2bow(text) for text in texts] # Term Document Frequency\n",
    "    # Created model with gensim LDA model\n",
    "    lda_model = gensim.models.ldamodel.LdaModel(corpus=corpus,\n",
    "                                           id2word=id2word,\n",
    "                                           num_topics=num_topics, \n",
    "                                           random_state=100,\n",
    "                                           update_every=1,\n",
    "                                           chunksize=chunksize,\n",
    "                                           passes=passes,\n",
    "                                           alpha='auto',\n",
    "                                           per_word_topics=True)\n",
    "    return id2word, corpus, lda_model"
   ]
  },
  {
   "cell_type": "code",
   "execution_count": 12,
   "metadata": {},
   "outputs": [],
   "source": [
    "def make_topic_visual(model, corpus, dictionary):\n",
    "    lda_display = pyLDAvis.gensim.prepare(model, corpus, dictionary, sort_topics=False)\n",
    "    return pyLDAvis.display(lda_display)"
   ]
  },
  {
   "cell_type": "code",
   "execution_count": 13,
   "metadata": {},
   "outputs": [],
   "source": [
    "def total_lda_vis(response_list, \n",
    "                  bigram_min_count = 3, bigram_threshold = 8, \n",
    "                  trigram_min_count = 2, trigram_threshold = 3,\n",
    "                  num_topics = 7, topic_chunksize = 200, passes = 10\n",
    "                 ):\n",
    "    trigram_list = preprocess_responses(response_list, \n",
    "                                        bigram_min_count = bigram_min_count, bigram_threshold = bigram_threshold, \n",
    "                                        trigram_min_count = trigram_min_count, trigram_threshold = trigram_threshold)\n",
    "    dictionary, corpus, lda_model = make_lda_topic_model(trigram_list, \n",
    "                                                         num_topics = num_topics, chunksize = topic_chunksize, passes = passes)\n",
    "    return make_topic_visual(lda_model, corpus, dictionary)"
   ]
  },
  {
   "cell_type": "code",
   "execution_count": 14,
   "metadata": {},
   "outputs": [],
   "source": [
    "def subset_df_list(df, district, gender, yrs_exp_cat, role_compass, topics):\n",
    "    n_df = df\n",
    "    if district != 'Any':\n",
    "        n_df = n_df.loc[n_df['district_name'] == district]\n",
    "    if gender != 'Any':\n",
    "        n_df = n_df.loc[n_df['Gender'] == gender]\n",
    "    if yrs_exp_cat!= 'Any':\n",
    "        n_df = n_df.loc[n_df['yrs_exp_cat'] == yrs_exp_cat]\n",
    "    if role_compass != 'Any':\n",
    "        n_df = n_df.loc[n_df['Role_Compass'] == role_compass]\n",
    "    answer_list = n_df.Q13.tolist()\n",
    "    print('First 5 Comments: ')\n",
    "    display(answer_list[:5])\n",
    "    display(total_lda_vis(answer_list, num_topics = topics))\n",
    "    return answer_list"
   ]
  },
  {
   "cell_type": "code",
   "execution_count": 15,
   "metadata": {},
   "outputs": [],
   "source": [
    "# subset_df_list(answer_df, 'Montgomery County', 'F', '25+', 'Any')"
   ]
  },
  {
   "cell_type": "code",
   "execution_count": 16,
   "metadata": {},
   "outputs": [],
   "source": [
    "# Converting the column of the DF with answers into a list of answers\n",
    "open_ended_answers = answer_df.loc[answer_df['answered_q13'] == 1,:].Q13.tolist()"
   ]
  },
  {
   "cell_type": "code",
   "execution_count": null,
   "metadata": {},
   "outputs": [],
   "source": []
  },
  {
   "cell_type": "code",
   "execution_count": null,
   "metadata": {},
   "outputs": [],
   "source": []
  },
  {
   "cell_type": "code",
   "execution_count": 17,
   "metadata": {},
   "outputs": [],
   "source": [
    "def find_similar_responses(base_text,  answer_list, num_similar = 10, num_topics = 6):\n",
    "    if base_text in answer_list:\n",
    "        answer_list = answer_list\n",
    "    else:\n",
    "        answer_list = [base_text] + answer_list\n",
    "    tfidf = TfidfVectorizer(stop_words=stopwords.words('english'), max_df = 0.80)\n",
    "    responses = tfidf.fit_transform(answer_list)\n",
    "    model = NMF(n_components=num_topics)\n",
    "    nmf_features = model.fit_transform(responses)\n",
    "    norm_features = normalize(nmf_features)\n",
    "    normalized_df = pd.DataFrame(norm_features)\n",
    "    response = normalized_df.iloc[0]\n",
    "    similar = normalized_df.dot(response)\n",
    "    similar_ind_list = similar.sort_values(ascending = False).index.tolist()[1:num_similar+1]\n",
    "    display(base_text)\n",
    "    out = [answer_list[ind] for ind in similar_ind_list]\n",
    "    print('Results: ')\n",
    "    display(out)\n",
    "    # print(response)\n",
    "    return out"
   ]
  },
  {
   "cell_type": "code",
   "execution_count": 18,
   "metadata": {},
   "outputs": [],
   "source": [
    "# Find 5 responses similar to the 2nd comment\n",
    "# 2nd comment displayed 1st and the similar comments follow\n",
    "# find_similar_responses(1, open_ended_answers, num_similar = 5)"
   ]
  },
  {
   "cell_type": "code",
   "execution_count": 19,
   "metadata": {},
   "outputs": [],
   "source": [
    "# answer_df.Role_Compass.sort_values().unique().tolist()"
   ]
  },
  {
   "cell_type": "code",
   "execution_count": 20,
   "metadata": {},
   "outputs": [],
   "source": [
    "role_list = ['Any'] + answer_df.Role_Compass.sort_values().unique().tolist()"
   ]
  },
  {
   "cell_type": "code",
   "execution_count": 21,
   "metadata": {},
   "outputs": [],
   "source": [
    "dist_list = ['Any'] + answer_df.district_name.sort_values().unique().tolist()"
   ]
  },
  {
   "cell_type": "code",
   "execution_count": 22,
   "metadata": {},
   "outputs": [],
   "source": [
    "# dist_list[:5]"
   ]
  },
  {
   "cell_type": "code",
   "execution_count": 23,
   "metadata": {},
   "outputs": [],
   "source": [
    "# sub_answers = interactive(subset_df_list, df = fixed(answer_df), district = dist_list, gender = ['Any', 'M', 'F'],\n",
    "#                 yrs_exp_cat = ['Any', '25+', '15-25', '5-15', '<5'], role_compass = role_list, topics = range(3,24))"
   ]
  },
  {
   "cell_type": "markdown",
   "metadata": {},
   "source": [
    "## Topics Based on Desired Characteristics"
   ]
  },
  {
   "cell_type": "code",
   "execution_count": 24,
   "metadata": {},
   "outputs": [],
   "source": [
    "# display(sub_answers)"
   ]
  },
  {
   "cell_type": "code",
   "execution_count": 25,
   "metadata": {},
   "outputs": [],
   "source": [
    "# .result returns the output of the function called in interactive\n",
    "# sub_answers.result"
   ]
  },
  {
   "cell_type": "code",
   "execution_count": 26,
   "metadata": {},
   "outputs": [],
   "source": [
    "# similar_display = interactive(find_similar_responses, comment_index = range(0,len(sub_answers.result)), answer_list = fixed(sub_answers.result), \n",
    "#             num_similar = range(1,31), num_topics = fixed(10))\n",
    "\n",
    "# similar_display = interactive(find_similar_responses, base_text = 'Enter Comment Here', answer_list = fixed(sub_answers.result), \n",
    "           #  num_similar = range(1,31), num_topics = fixed(sub_answers.children[4].value))"
   ]
  },
  {
   "cell_type": "code",
   "execution_count": 27,
   "metadata": {},
   "outputs": [],
   "source": [
    "# display(similar_display)"
   ]
  },
  {
   "cell_type": "code",
   "execution_count": 28,
   "metadata": {},
   "outputs": [],
   "source": [
    "years_exp_range = widgets.IntRangeSlider(\n",
    "    value=[1, 30],\n",
    "    min=1,\n",
    "    max=58,\n",
    "    step=1,\n",
    ")\n",
    "years_range_display = HBox([Label('Years Experience: '), years_exp_range])"
   ]
  },
  {
   "cell_type": "code",
   "execution_count": 29,
   "metadata": {},
   "outputs": [],
   "source": [
    "# years_exp_range\n"
   ]
  },
  {
   "cell_type": "code",
   "execution_count": 30,
   "metadata": {},
   "outputs": [],
   "source": [
    "# n_widg = HBox([Label('Years Experience: '), years_exp_range])"
   ]
  },
  {
   "cell_type": "code",
   "execution_count": 31,
   "metadata": {},
   "outputs": [],
   "source": [
    "# years_exp_range.value[0]"
   ]
  },
  {
   "cell_type": "code",
   "execution_count": 32,
   "metadata": {},
   "outputs": [],
   "source": [
    "# n_widg"
   ]
  },
  {
   "cell_type": "code",
   "execution_count": 33,
   "metadata": {},
   "outputs": [],
   "source": [
    "#years_exp_range.observe(update_range, 'value')"
   ]
  },
  {
   "cell_type": "code",
   "execution_count": 34,
   "metadata": {},
   "outputs": [],
   "source": [
    "def update_range(*args):\n",
    "    n_range = years_exp_range.value\n",
    "    #print(n_range[0])"
   ]
  },
  {
   "cell_type": "code",
   "execution_count": 35,
   "metadata": {},
   "outputs": [],
   "source": [
    "# sub_answers = interactive(subset_df_list, df = fixed(answer_df), district = dist_list, gender = ['Any', 'M', 'F'],\n",
    "#                 yrs_exp_cat = ['Any', '25+', '15-25', '5-15', '<5'], role_compass = role_list, topics = range(3,24))\n",
    "\n",
    "# Widgets\n",
    "years_exp_range = widgets.IntRangeSlider(\n",
    "    value=[1, 30],\n",
    "    min=1,\n",
    "    max=58,\n",
    "    step=1,\n",
    ")\n",
    "years_range_display = HBox([Label('Years Experience: '), years_exp_range])\n",
    "\n",
    "dist_dropdown = widgets.Dropdown(\n",
    "    options= dist_list,\n",
    "    value='Any',\n",
    "    description='District:'\n",
    ")\n",
    "\n",
    "gender_radio = widgets.RadioButtons(\n",
    "    options= ['Any', 'Female', 'Male'],\n",
    "    value='Any',\n",
    "    description='Gender:'\n",
    ")\n",
    "\n",
    "topics_slider = widgets.IntSlider(\n",
    "    value=7,\n",
    "    min=2,\n",
    "    max=25,\n",
    "    step=1\n",
    ")\n",
    "topics_display = HBox([Label('Number of Topics: '), topics_slider])\n",
    "\n",
    "role_radio = widgets.RadioButtons(\n",
    "    options= role_list[:len(role_list)-1],\n",
    "    value='Any',\n",
    "    description='Role:'\n",
    ")\n",
    "\n",
    "\n"
   ]
  },
  {
   "cell_type": "code",
   "execution_count": 36,
   "metadata": {},
   "outputs": [],
   "source": [
    "def topic_model_vis(df, district, gender, yrs_exp, role_compass, topics):\n",
    "    min_yr = yrs_exp[0]\n",
    "    max_yr = yrs_exp[1]\n",
    "    if gender == 'Male':\n",
    "        gender = 'M'\n",
    "    elif gender == 'Female':\n",
    "        gender = 'F'\n",
    "    n_df = df\n",
    "    if district != 'Any':\n",
    "        n_df = n_df.loc[n_df['district_name'] == district]\n",
    "    if gender != 'Any':\n",
    "        n_df = n_df.loc[n_df['Gender'] == gender]\n",
    "    n_df = n_df.loc[(n_df['YrsExpr18'] >= min_yr) & (n_df['YrsExpr18'] <= max_yr)]\n",
    "    if role_compass != 'Any':\n",
    "        n_df = n_df.loc[n_df['Role_Compass'] == role_compass]\n",
    "    answer_list = n_df.Q13.tolist()\n",
    "    print('First 5 Comments: ')\n",
    "    display(answer_list[:5])\n",
    "    display(total_lda_vis(answer_list, num_topics = topics))\n",
    "    return answer_list"
   ]
  },
  {
   "cell_type": "code",
   "execution_count": 37,
   "metadata": {},
   "outputs": [],
   "source": [
    "topic_model = interactive(topic_model_vis, df = fixed(answer_df), district = dist_dropdown, gender = gender_radio,\n",
    "                 yrs_exp = years_exp_range, role_compass = role_radio, topics = topics_slider)"
   ]
  },
  {
   "cell_type": "code",
   "execution_count": 38,
   "metadata": {
    "scrolled": false
   },
   "outputs": [
    {
     "data": {
      "application/vnd.jupyter.widget-view+json": {
       "model_id": "613d8d6ffeb641b38154f023bfabdcd5",
       "version_major": 2,
       "version_minor": 0
      },
      "text/plain": [
       "interactive(children=(Dropdown(description='District:', options=('Any', 'Achievement School District', 'Alamo'…"
      ]
     },
     "metadata": {},
     "output_type": "display_data"
    }
   ],
   "source": [
    "display(topic_model)"
   ]
  },
  {
   "cell_type": "code",
   "execution_count": 39,
   "metadata": {},
   "outputs": [],
   "source": [
    "# similar_display = interactive(find_similar_responses, base_text = 'Enter Comment Here', answer_list = fixed(sub_answers.result), \n",
    "#             num_similar = range(1,31), num_topics = fixed(sub_answers.children[4].value))\n",
    "\n",
    "# Widgets for finding similar comments\n",
    "\n",
    "text_area = widgets.Textarea(\n",
    "    placeholder='Enter Text',\n",
    "    description='Base Comment:',\n",
    "    disabled=False\n",
    ")\n",
    "\n",
    "dist_dropdown_similar = widgets.RadioButtons(\n",
    "    options= [dist_dropdown.value],\n",
    "    description='District:'\n",
    ")\n",
    "\n",
    "gender_dropdown_similar = widgets.RadioButtons(\n",
    "    options= [gender_radio.value],\n",
    "    description='Gender:'\n",
    ")\n",
    "\n",
    "yrs_min_dropdown_similar = widgets.RadioButtons(\n",
    "    options= [years_exp_range.value[0]],\n",
    "    description='Minimum Years Experience:'\n",
    ")\n",
    "\n",
    "yrs_max_dropdown_similar = widgets.RadioButtons(\n",
    "    options= [years_exp_range.value[1]],\n",
    "    description='Maximum Years Experience:'\n",
    ")\n",
    "\n",
    "role_dropdown_similar = widgets.RadioButtons(\n",
    "    options= [role_radio.value],\n",
    "    description='Role:'\n",
    ")\n",
    "\n",
    "num_topics_dropdown_similar = widgets.RadioButtons(\n",
    "    options= [topics_slider.value],\n",
    "    description='Number of Topics:'\n",
    ")\n",
    "\n",
    "num_similar_slider = widgets.IntSlider(\n",
    "    min=2,\n",
    "    max=25,\n",
    "    step=1,\n",
    "    description = 'Number Similar:'\n",
    ")\n"
   ]
  },
  {
   "cell_type": "code",
   "execution_count": null,
   "metadata": {},
   "outputs": [],
   "source": []
  },
  {
   "cell_type": "code",
   "execution_count": 40,
   "metadata": {},
   "outputs": [],
   "source": [
    "# dist_dropdown.value"
   ]
  },
  {
   "cell_type": "code",
   "execution_count": 41,
   "metadata": {},
   "outputs": [],
   "source": [
    "def update_similar_args(*args):\n",
    "    dist_dropdown_similar.options = [dist_dropdown.value]\n",
    "    gender_dropdown_similar.options = [gender_radio.value]\n",
    "    yrs_min_dropdown_similar.options = [years_exp_range.value[0]]\n",
    "    yrs_max_dropdown_similar.options = [years_exp_range.value[1]]\n",
    "    role_dropdown_similar.options = [role_radio.value]\n",
    "    num_topics_dropdown_similar.options = [topics_slider.value]"
   ]
  },
  {
   "cell_type": "code",
   "execution_count": 42,
   "metadata": {},
   "outputs": [],
   "source": [
    "# Observe variables to update from first widget\n",
    "dist_dropdown.observe(update_similar_args, 'value')\n",
    "gender_radio.observe(update_similar_args, 'value')\n",
    "years_exp_range.observe(update_similar_args, 'value')\n",
    "role_radio.observe(update_similar_args, 'value')\n",
    "topics_slider.observe(update_similar_args, 'value')\n"
   ]
  },
  {
   "cell_type": "code",
   "execution_count": 43,
   "metadata": {},
   "outputs": [],
   "source": [
    "def show_similar_responses(df, base_text, district, gender, yrs_exp_min, yrs_exp_max, role_compass, num_similar = 10, num_topics = 6):\n",
    "    n_df = df\n",
    "    if district != 'Any':\n",
    "        n_df = n_df.loc[n_df['district_name'] == district]\n",
    "    if gender != 'Any':\n",
    "        n_df = n_df.loc[n_df['Gender'] == gender]\n",
    "    n_df = n_df.loc[(n_df['YrsExpr18'] >= yrs_exp_min) & (n_df['YrsExpr18'] <= yrs_exp_max)]\n",
    "    if role_compass != 'Any':\n",
    "        n_df = n_df.loc[n_df['Role_Compass'] == role_compass]\n",
    "        \n",
    "    answer_list = n_df.Q13.tolist()\n",
    "    \n",
    "    if base_text in answer_list:\n",
    "        answer_list = answer_list\n",
    "    else:\n",
    "        answer_list = [base_text] + answer_list\n",
    "    tfidf = TfidfVectorizer(stop_words=stopwords.words('english'), max_df = 0.80)\n",
    "    responses = tfidf.fit_transform(answer_list)\n",
    "    model = NMF(n_components=num_topics)\n",
    "    nmf_features = model.fit_transform(responses)\n",
    "    norm_features = normalize(nmf_features)\n",
    "    normalized_df = pd.DataFrame(norm_features)\n",
    "    response = normalized_df.iloc[0]\n",
    "    similar = normalized_df.dot(response)\n",
    "    similar_ind_list = similar.sort_values(ascending = False).index.tolist()[1:num_similar+1]\n",
    "    display(base_text)\n",
    "    out = [answer_list[ind] for ind in similar_ind_list]\n",
    "    print('Results: ')\n",
    "    display(out)\n",
    "    # print(response)\n",
    "    return out"
   ]
  },
  {
   "cell_type": "markdown",
   "metadata": {},
   "source": [
    "## Find Similar Comments\n",
    "- Input comment text and the most similar comments from the preceding list will be returned"
   ]
  },
  {
   "cell_type": "code",
   "execution_count": 44,
   "metadata": {},
   "outputs": [],
   "source": [
    "# similar_comments = interactive(show_similar_responses, base_text = text_area, answer_list = fixed(update_list()), \n",
    "#             num_similar = num_similar_slider, num_topics = fixed(7))\n",
    "\n",
    "similar_comments = interactive(show_similar_responses, df = fixed(answer_df), district = dist_dropdown_similar, \n",
    "                               gender = gender_dropdown_similar, yrs_exp_min = yrs_min_dropdown_similar, yrs_exp_max = yrs_max_dropdown_similar,\n",
    "                               role_compass = role_dropdown_similar, num_similar = num_similar_slider, base_text = text_area, \n",
    "                               num_topics = num_topics_dropdown_similar)"
   ]
  },
  {
   "cell_type": "code",
   "execution_count": 45,
   "metadata": {},
   "outputs": [
    {
     "data": {
      "application/vnd.jupyter.widget-view+json": {
       "model_id": "d3c9b465abd54b45ac98b49c266368b7",
       "version_major": 2,
       "version_minor": 0
      },
      "text/plain": [
       "interactive(children=(Textarea(value='', description='Base Comment:', placeholder='Enter Text'), RadioButtons(…"
      ]
     },
     "metadata": {},
     "output_type": "display_data"
    }
   ],
   "source": [
    "display(similar_comments)"
   ]
  },
  {
   "cell_type": "code",
   "execution_count": null,
   "metadata": {},
   "outputs": [],
   "source": []
  }
 ],
 "metadata": {
  "hide_input": false,
  "kernelspec": {
   "display_name": "Python 3",
   "language": "python",
   "name": "python3"
  },
  "language_info": {
   "codemirror_mode": {
    "name": "ipython",
    "version": 3
   },
   "file_extension": ".py",
   "mimetype": "text/x-python",
   "name": "python",
   "nbconvert_exporter": "python",
   "pygments_lexer": "ipython3",
   "version": "3.7.1"
  }
 },
 "nbformat": 4,
 "nbformat_minor": 2
}
